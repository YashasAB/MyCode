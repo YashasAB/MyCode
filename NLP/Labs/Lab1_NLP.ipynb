{
 "cells": [
  {
   "cell_type": "markdown",
   "metadata": {},
   "source": [
    "# Lab 1: Exploring languages through word frequencies"
   ]
  },
  {
   "cell_type": "markdown",
   "metadata": {},
   "source": [
    "## Learning Objectives:\n",
    "In this lab you will learn the following linguistic concepts and programming skills:\n",
    "* What do word frequencies tell us about a language?\n",
    "* How do different languages compare?\n",
    "* How to manipulate corpora and plot insightful graphs?"
   ]
  },
  {
   "cell_type": "markdown",
   "metadata": {},
   "source": [
    "## Pre-requisites:\n",
    "For this lab, you need to make sure you have the following installed:\n",
    "* python3.6 (python2.7 should also work)\n",
    "* nltk (python package)\n",
    "* matplotlib\n",
    "\n",
    "To make sure your installation is successful, execute the block below."
   ]
  },
  {
   "cell_type": "code",
   "execution_count": 1,
   "metadata": {},
   "outputs": [
    {
     "name": "stderr",
     "output_type": "stream",
     "text": [
      "[nltk_data] Downloading package reuters to /Users/ab/nltk_data...\n",
      "[nltk_data]   Package reuters is already up-to-date!\n"
     ]
    }
   ],
   "source": [
    "import nltk\n",
    "import matplotlib\n",
    "import numpy as np\n",
    "nltk.download('reuters')\n",
    "from nltk.probability import FreqDist\n",
    "import matplotlib.pyplot as plt"
   ]
  },
  {
   "cell_type": "markdown",
   "metadata": {},
   "source": [
    "As a packaged solution, I would recommend installing [conda](https://docs.conda.io/en/latest/miniconda.html), and creating a conda [environment](https://docs.conda.io/projects/conda/en/latest/user-guide/tasks/manage-environments.html) 'ece365_nlp' to use for the rest of this module."
   ]
  },
  {
   "cell_type": "markdown",
   "metadata": {},
   "source": [
    "## Word Frequencies:"
   ]
  },
  {
   "cell_type": "markdown",
   "metadata": {},
   "source": [
    "We live in a multi-lingual world. The languages we use are like English in some ways and distinct from English in many ways. In this exercise, we will explore some aspects of languages that make them different from English by the use of quantitative indices. \n",
    "\n",
    "Before we begin comparing languages, let us begin with English. How many words are there in English? Well, that depends on who we ask. The Second Edition of the 20-volume Oxford English Dictionary contains full entries for 171,476 words in current use (and 47,156 obsolete words). Looking elsewhere, Webster's Third New International Dictionary, Unabridged, together with its 1993 Addenda Section, includes some 470,000 entries. But, the number of words in the Oxford and Webster Dictionaries are not the same as the number of words in English. Why is that? First, it takes a while for dictionary publishers like Oxford University and Merriam-Webster to include new words in their dictionaries. While it may seem surprising new words are being coined at a rapid rate, a recent article in The Guardian reports that English speakers are adding new words at the rate of around 1,000 a year. Recent dictionary debutants include blog, grok, crowdfunding, hackathon, airball, e-marketing, sudoku, twerk and Brexit, many of which are words we find in use in our everyday lives. Slang and jargon could also be considered in this list. You have probably observed how some of these terms depend on where you live (e.g., 'prepone' in India means the opposite of postpone), whereas others are common in many places (e.g. the portmanteau, brunch = breakfast + lunch).\n",
    "\n",
    "A natural question that arises in this setting is, are all words equally likely, or do they occur with different frequencies? As you can expect, words occur with different frequencies, but what you would would not have expected is how skewed the word frequencies can be. That is what you will see in your first exercise. \n",
    "\n",
    "First, you will count the frequency of words from a word list derived from a large collection of words -- a 'corpus' (meaning 'a body of text'). For this part of the exercise, you will use the corpus of Reuters from which you will count the number of times each word occurs.\n",
    "                                                                                                                     For this, you will need to do some tokenization. Towards that, you will lowercase all words, remove the punctuation marks and numbers. Then you will use NLTK to get the frequency distribution of the tokenized text.\n",
    "                                                                                                                     \n",
    "Based on the frequency distribution of word that you will collect, you will answer the following questions.\n",
    "\n",
    "1. What are the 10 most frequent words?\n",
    "2. What are the 10 least frequent words?\n",
    "3. What proportion of words have a frequency of 1? These singleton words are termed 'hapax legomena' (a sophisticated Greek name) and the numebr of singletons in a corpus is a measure of the richness of the vocabulary of that collection, giving you the rate at which new words appear in that text. If you take a very large text in a language and call it representative of that language, then the rate of singletons is a measure of its richness."
   ]
  },
  {
   "cell_type": "markdown",
   "metadata": {},
   "source": [
    "### Exercise 1:\n",
    "a. In the code cell below, complete the function \"get_freqs\" that takes as an input the \"Reuters\" corpus (type str) from nltk and returns as an output a dictionary with the key being a word, and the value being the frequency of the word in the corpus.\n",
    "Make sure to lowercase all words in the corpus and to replace all punctuations and digits with empty spaces. This will take care of tokenization for you. To avoid confusion, the list of punctuation marks are given to you."
   ]
  },
  {
   "cell_type": "code",
   "execution_count": 2,
   "metadata": {},
   "outputs": [],
   "source": [
    "puncts = ['.','!','?',',',';',':','[', ']', '{', '}', '(', ')', '\\'', '\\\"']\n",
    "digits=['0','1','2','3','4','5','6','7','8','9']\n",
    "def get_freqs(corpus):\n",
    "    \n",
    "    ## your code goes in here\n",
    "    corpus=corpus.lower()\n",
    "    for i in digits:\n",
    "            corpus=corpus.replace(i,\"\")\n",
    "    for i in puncts:\n",
    "            corpus=corpus.replace(i,\"\")\n",
    "            \n",
    "    tokens=corpus.split()\n",
    "    words=set(tokens)\n",
    "    words=list(words)\n",
    "    freqs=[]\n",
    "    lol=FreqDist(tokens)\n",
    "    for w in words:\n",
    "        freqs.append(lol.freq(w)*len(tokens))\n",
    "        \n",
    "    freqs = [round(x) for x in freqs]\n",
    "    \n",
    "    outp={k: v for k, v in zip(words, freqs)}\n",
    "    \n",
    "    \n",
    "    \n",
    "    return outp"
   ]
  },
  {
   "cell_type": "code",
   "execution_count": 3,
   "metadata": {},
   "outputs": [],
   "source": [
    "raw_corpus = nltk.corpus.reuters.raw()\n",
    "freqs = get_freqs(raw_corpus)\n"
   ]
  },
  {
   "cell_type": "markdown",
   "metadata": {},
   "source": [
    "b. Next, complete the function below called \"get_top_10\" that takes in the \"freqs\" dictionary, and returns the top 10 most frequent words as a list."
   ]
  },
  {
   "cell_type": "code",
   "execution_count": 4,
   "metadata": {},
   "outputs": [],
   "source": [
    "def get_top_10(freqs):\n",
    "    top_10 = []\n",
    "    words=list(freqs.keys())\n",
    "    f=list(freqs.values())\n",
    "    \n",
    "    indices=np.argsort(f)\n",
    "    x=np.zeros(10)\n",
    "    \n",
    "    for i in range(1,11):\n",
    "        top_10.append(words[indices[-i]])\n",
    "        x[i-1]=f[int(indices[-i])]\n",
    "    \n",
    "    top={k: v for k, v in zip(top_10, x)}\n",
    "    ## your code goes in here\n",
    "    return top_10"
   ]
  },
  {
   "cell_type": "code",
   "execution_count": 5,
   "metadata": {},
   "outputs": [
    {
     "name": "stdout",
     "output_type": "stream",
     "text": [
      "['the', 'of', 'to', 'in', 'and', 'said', 'a', 'mln', 'vs', 'for']\n"
     ]
    }
   ],
   "source": [
    "print(get_top_10(freqs))\n"
   ]
  },
  {
   "cell_type": "markdown",
   "metadata": {},
   "source": [
    "c. Next, complete the function below called \"get_bottom_10\" that takes in the \"freqs\" dictionary, and returns the top 10 least frequent words as a list."
   ]
  },
  {
   "cell_type": "code",
   "execution_count": 6,
   "metadata": {},
   "outputs": [],
   "source": [
    "def get_bottom_10(freqs):\n",
    "    bottom_10 = []\n",
    "    ## your code goes in here\n",
    "    words=list(freqs.keys())\n",
    "    f=list(freqs.values())\n",
    "    \n",
    "    indices=np.argsort(f)\n",
    "    x=np.zeros(10)\n",
    "    \n",
    "    for i in range(10):\n",
    "        bottom_10.append(words[indices[i]])\n",
    "        x[i]=f[int(indices[i])]\n",
    "       \n",
    "    bottom={k: v for k, v in zip(bottom_10, x)}\n",
    "    return bottom_10"
   ]
  },
  {
   "cell_type": "code",
   "execution_count": 7,
   "metadata": {},
   "outputs": [
    {
     "name": "stdout",
     "output_type": "stream",
     "text": [
      "['brasileira', '&ltmcfe>', 'bypass', 'coating', 'respecting', 'elisra', 'okayasu', 'backer', 'witching', 'dissipating']\n"
     ]
    }
   ],
   "source": [
    "print(get_bottom_10(freqs))"
   ]
  },
  {
   "cell_type": "markdown",
   "metadata": {},
   "source": [
    "d. Finally, complete the function below called \"get_percentage_singletons\" which takes in the \"freqs\" dictionary and returns a float value of the percentage of words that appear once in the corpus."
   ]
  },
  {
   "cell_type": "code",
   "execution_count": 8,
   "metadata": {},
   "outputs": [],
   "source": [
    "def get_percentage_singletons(freqs):\n",
    "    ## your code goes in here\n",
    "    words=list(freqs.keys())\n",
    "    f=list(freqs.values())\n",
    "    \n",
    "    x=0\n",
    "    \n",
    "    for i in range(len(words)):\n",
    "        if f[i]==1:\n",
    "            x=x+1\n",
    "      \n",
    "    percentage_singletons=(x/len(words))*100\n",
    "    return percentage_singletons"
   ]
  },
  {
   "cell_type": "code",
   "execution_count": 9,
   "metadata": {},
   "outputs": [
    {
     "name": "stdout",
     "output_type": "stream",
     "text": [
      "The percentage of singletons is  42.30834082733813 %\n"
     ]
    }
   ],
   "source": [
    "print('The percentage of singletons is ', get_percentage_singletons(freqs),'%')"
   ]
  },
  {
   "cell_type": "code",
   "execution_count": null,
   "metadata": {},
   "outputs": [],
   "source": []
  },
  {
   "cell_type": "markdown",
   "metadata": {},
   "source": [
    "### Exercise 2:"
   ]
  },
  {
   "cell_type": "markdown",
   "metadata": {},
   "source": [
    "Next, we observe the Pareto principle in words. The popular Pareto principle (also known as the 80/20 rule), states that for many events, roughly 80% of the effects come from 20% of the causes. This includes observations that found that the distribution of global income is very uneven, with the richest 20% of the world's population controlling 82.7% of the world's income. This seems to be the case with words as well, which you will see by calculating what fraction of the sorted word list accounts for 80% of the total words in the corpus.\n",
    "\n",
    "a. Complete the function below called \"frac_80_perc\" which takes in \"freqs\" as an input, and returns a float representing the fraction of words that account for 80% of the tokens in the corpus. Note: you should be considering the words in decreasing order of frequency until reaching 80% of word (frequency) count."
   ]
  },
  {
   "cell_type": "code",
   "execution_count": 10,
   "metadata": {},
   "outputs": [],
   "source": [
    "def frac_80_perc(freqs):\n",
    "    ## your code goes in here\n",
    "    words=list(freqs.keys())\n",
    "    f=list(freqs.values())\n",
    "    indices=np.argsort(f)\n",
    "    x=0\n",
    "    tlen=0\n",
    "    for i in range(len(words)):\n",
    "        tlen=tlen+f[i]\n",
    "    lim=0.8*tlen\n",
    "    n=0\n",
    "    \n",
    "    for i in range(1,len(words)+1):\n",
    "        x=x+f[indices[-i]]\n",
    "        if x<lim:\n",
    "            n=n+1\n",
    "\n",
    "        \n",
    "    frac_val=n/len(words)\n",
    "    \n",
    "    return frac_val"
   ]
  },
  {
   "cell_type": "code",
   "execution_count": 11,
   "metadata": {},
   "outputs": [
    {
     "name": "stdout",
     "output_type": "stream",
     "text": [
      "0.032936151079136694  of the unique words account for 80% of the tokens\n"
     ]
    }
   ],
   "source": [
    "print(frac_80_perc(freqs), ' of the unique words account for 80% of the tokens')"
   ]
  },
  {
   "cell_type": "markdown",
   "metadata": {},
   "source": [
    "This relation between the frequency and rank for words is called Zipf's law. It states that given a large sample of words used, the frequency of any word is inversely proportional to its rank in the frequency table. So word number n has a frequency proportional to 1/n. In order to see this, sort the words in a decreasing order of their frequencies and do a rank-frequency plot, with the words (indicated by their ranks) indicated along the x-axis and their log frequencies in the y-axis.\n",
    "\n",
    "b. Accordingly, we will plot the frequency of words when ranked in decreasing order. Complete the function \"plot_zipf\" below that takes in \"freqs\" as an input, and generates a plot using matplotlib. In this plot, the x-axis represents the rank of words in decreasing order of frequency, and the y-axis represents the log of the frequency of the corresponding word."
   ]
  },
  {
   "cell_type": "code",
   "execution_count": 12,
   "metadata": {},
   "outputs": [],
   "source": [
    "def plot_zipf(freqs):\n",
    "    ## your code goes in here\n",
    "    words=list(freqs.keys())\n",
    "    f=list(freqs.values())\n",
    "    indices=np.argsort(f)\n",
    "    indices=list(indices)\n",
    "    indices.reverse()\n",
    "    ff=[]\n",
    "    for i in indices:\n",
    "        ff.append(f[i])\n",
    "    ff=np.log(ff)\n",
    "\n",
    "    plt.figure()\n",
    "    plt.title('Zipf Plot')\n",
    "    plt.plot(ff)"
   ]
  },
  {
   "cell_type": "code",
   "execution_count": 13,
   "metadata": {},
   "outputs": [
    {
     "data": {
      "image/png": "[encoded data removed]",
      "text/plain": [
       "<Figure size 432x288 with 1 Axes>"
      ]
     },
     "metadata": {
      "needs_background": "light"
     },
     "output_type": "display_data"
    }
   ],
   "source": [
    "plot_zipf(freqs)"
   ]
  },
  {
   "cell_type": "markdown",
   "metadata": {},
   "source": [
    "## Exercise 3:"
   ]
  },
  {
   "cell_type": "markdown",
   "metadata": {},
   "source": [
    "Another way of measuring the richenss of vocabulary is by looking at the type-token distribution of words in a language. Word types are unique words in a corpus, whereas the tokens are the words in a corpus with repetition. And so, a sentence such as \"I am taking this class because I love taking on challenges\" has 11 tokens, but 9 types since the words \"I\" and \"taking\" are repeated twice. Accordingly, Type-to-Token Ratio (TTR) is the ratio of types to tokens, and the higher it is, the less words are repeated, and the richer is the language.\n",
    "\n",
    "a. In this exercise we will be exploring, for every language, the amount of \"types\" explored as we explore larger portions of the corpus, or tokens. We will be considering the Universal Declaration of Human Rights in 4 languages. Particularly, we will be plotting the amount of types explored per language as we explore 100 more tokens. For this exercise, complete the following function \"get_TTRs\" which takes in as an input a predefined set of languages, and returns as an output the dictionary TTR, which has a language as the key, and the value as a list showing the count of types as we explore 100 tokens, 200 tokens, 300 tokens, up until 1300 tokens of the respective corpus. Accordingly, each list in the dictionary should be made of 13 data points. Do not forget to lowercase, but you do not need to perform tokenization as the corpora now are actually a list of words instead of one string. "
   ]
  },
  {
   "cell_type": "code",
   "execution_count": 14,
   "metadata": {},
   "outputs": [],
   "source": [
    "from nltk.corpus import udhr\n",
    "languages = ['Italian-Latin1', 'English-Latin1', 'German_Deutsch-Latin1', 'Finnish_Suomi-Latin1']\n",
    "\n",
    "def get_TTRs(languages):\n",
    "    TTRs = {}\n",
    "    Ratios=[]\n",
    "    for lang in languages:\n",
    "        words = udhr.words(lang)\n",
    "        words=list(words)\n",
    "        ## your code goes in here\n",
    "        for i in range(len(words)):\n",
    "            words[i]=words[i].lower()\n",
    "            for j in digits:\n",
    "                words[i]=words[i].replace(j,\"\")\n",
    "            for j in puncts:\n",
    "                words[i]=words[i].replace(j,\"\")\n",
    "        toksize=[100,200,300,400,500,600,700,800,900,1000,1100,1200,1300]\n",
    "        \n",
    "        x=[]\n",
    "        \n",
    "        for t in toksize:\n",
    "            \n",
    "            tokens=random.sample(words,t)\n",
    "    \n",
    "            un=set(tokens)\n",
    "            typ=len(list(un))\n",
    "            x.append(typ)\n",
    "        Ratios.append(x)\n",
    "        TTRs={k: v for k, v in zip(languages, Ratios)}\n",
    "    return TTRs"
   ]
  },
  {
   "cell_type": "code",
   "execution_count": 15,
   "metadata": {},
   "outputs": [
    {
     "name": "stderr",
     "output_type": "stream",
     "text": [
      "[nltk_data] Downloading package udhr to /Users/ab/nltk_data...\n",
      "[nltk_data]   Package udhr is already up-to-date!\n"
     ]
    },
    {
     "data": {
      "text/plain": [
       "True"
      ]
     },
     "execution_count": 15,
     "metadata": {},
     "output_type": "execute_result"
    }
   ],
   "source": [
    "import random\n",
    "nltk.download('udhr')"
   ]
  },
  {
   "cell_type": "code",
   "execution_count": 16,
   "metadata": {},
   "outputs": [
    {
     "data": {
      "text/plain": [
       "{'Italian-Latin1': [59,\n",
       "  122,\n",
       "  161,\n",
       "  196,\n",
       "  236,\n",
       "  266,\n",
       "  291,\n",
       "  304,\n",
       "  345,\n",
       "  364,\n",
       "  395,\n",
       "  426,\n",
       "  438],\n",
       " 'English-Latin1': [63,\n",
       "  99,\n",
       "  142,\n",
       "  190,\n",
       "  204,\n",
       "  244,\n",
       "  252,\n",
       "  285,\n",
       "  312,\n",
       "  328,\n",
       "  364,\n",
       "  376,\n",
       "  391],\n",
       " 'German_Deutsch-Latin1': [62,\n",
       "  109,\n",
       "  154,\n",
       "  205,\n",
       "  241,\n",
       "  293,\n",
       "  303,\n",
       "  349,\n",
       "  377,\n",
       "  395,\n",
       "  422,\n",
       "  453,\n",
       "  484],\n",
       " 'Finnish_Suomi-Latin1': [73,\n",
       "  134,\n",
       "  168,\n",
       "  238,\n",
       "  300,\n",
       "  328,\n",
       "  385,\n",
       "  443,\n",
       "  482,\n",
       "  524,\n",
       "  570,\n",
       "  604,\n",
       "  646]}"
      ]
     },
     "execution_count": 16,
     "metadata": {},
     "output_type": "execute_result"
    }
   ],
   "source": [
    "get_TTRs(languages)"
   ]
  },
  {
   "cell_type": "markdown",
   "metadata": {},
   "source": [
    "b. Next, plot a line graph (one line for every language) that shows the count of types discovered on the y-axis and the amount of tokens in the corpus discovered on the x-axis, in increments of 100 tokens, up to 1300."
   ]
  },
  {
   "cell_type": "code",
   "execution_count": 17,
   "metadata": {},
   "outputs": [],
   "source": [
    "def plot_TTRs(TTRs):\n",
    "    ## your code goes in here\n",
    "    toksize=[100,200,300,400,500,600,700,800,900,1000,1100,1200,1300]\n",
    "    fig,ax = plt.subplots()\n",
    "    for i in TTRs:\n",
    "        ax.plot(toksize,TTRs[i],label=i)\n",
    "    ax.legend()\n",
    "        \n",
    "    "
   ]
  },
  {
   "cell_type": "code",
   "execution_count": 18,
   "metadata": {},
   "outputs": [
    {
     "data": {
      "image/png": "[encoded data removed]",
      "text/plain": [
       "<Figure size 432x288 with 1 Axes>"
      ]
     },
     "metadata": {
      "needs_background": "light"
     },
     "output_type": "display_data"
    }
   ],
   "source": [
    "TTRs=get_TTRs(languages)\n",
    "plot_TTRs(TTRs)"
   ]
  },
  {
   "cell_type": "markdown",
   "metadata": {},
   "source": [
    "c. Which language has the highest number of types? What could be driving the TTR? Share your thoughts in the textbox below:"
   ]
  },
  {
   "cell_type": "markdown",
   "metadata": {},
   "source": [
    "## Share your thoughts here\n",
    "\n",
    "### Finnish is the language that consistently has a higher number of types than other languages for a number of tokens chosen. The TTR could be driven by factors in the language such as -\n",
    "\n",
    "### 1) the number of unique words (for example if 'freedom of speech' had a unique word such as 'gdgdhj' that means the same thing we reduce the repition of words such as 'of' and 'freedom')\n",
    "\n",
    "### 2) The number of conjugations for words in different languages based on the tense, and situation of use would increase the number of types. (for example, 'played' can be used to say 'the game will be played' and ' the game was played' if a language has different conjugations for representing a 'play' in past and future it has more types. also, in hindi the word 'you' is used as 'tum' while referring to one informally and is used as 'aap' formally; thus giving rise to more types of the same word.)"
   ]
  },
  {
   "cell_type": "code",
   "execution_count": null,
   "metadata": {},
   "outputs": [],
   "source": []
  },
  {
   "cell_type": "code",
   "execution_count": null,
   "metadata": {},
   "outputs": [],
   "source": []
  },
  {
   "cell_type": "code",
   "execution_count": null,
   "metadata": {},
   "outputs": [],
   "source": []
  }
 ],
 "metadata": {
  "kernelspec": {
   "display_name": "Python 3",
   "language": "python",
   "name": "python3"
  },
  "language_info": {
   "codemirror_mode": {
    "name": "ipython",
    "version": 3
   },
   "file_extension": ".py",
   "mimetype": "text/x-python",
   "name": "python",
   "nbconvert_exporter": "python",
   "pygments_lexer": "ipython3",
   "version": "3.7.4"
  }
 },
 "nbformat": 4,
 "nbformat_minor": 2
}
