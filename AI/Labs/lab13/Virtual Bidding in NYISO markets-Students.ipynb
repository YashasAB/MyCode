{
 "cells": [
  {
   "cell_type": "markdown",
   "metadata": {},
   "source": [
    "# Virtual bidding in NYISO's markets\n",
    "\n",
    "\n",
    "In this lab, we will implement a simple virtual trading strategy in New York\n",
    "ISO's electricity markets. The goal is to maximize profits. We shall train our\n",
    "model on price data from one year, and implement the strategy on the data from\n",
    "the next year. How much can you earn with a certain daily budget? Say \\$250K?\n",
    "\n",
    "We will present a trading strategy. You are welcome to try other strategies and compare the gains over multiple runs.\n",
    "\n",
    "Let's start with customary imports."
   ]
  },
  {
   "cell_type": "code",
   "execution_count": 1,
   "metadata": {},
   "outputs": [],
   "source": [
    "import pandas as pd\n",
    "import numpy as np\n",
    "import matplotlib.pyplot as plt\n",
    "from numpy.random import choice\n",
    "from sklearn.preprocessing import StandardScaler\n",
    "import seaborn as sns\n",
    "import pickle\n",
    "\n",
    "from sklearn.svm import SVC\n",
    "from sklearn.linear_model import LogisticRegression\n",
    "from sklearn.neural_network import MLPClassifier\n",
    "\n",
    "import os\n",
    "import tensorflow as tf\n",
    "import random\n",
    "import datetime\n",
    "from sklearn.model_selection import train_test_split\n",
    "from sklearn import preprocessing"
   ]
  },
  {
   "cell_type": "markdown",
   "metadata": {},
   "source": [
    "## Load the day-ahead and real-time prices from 11 zones in New York.\n",
    "\n",
    "The day-ahead prices are defined every hour. The real-time market runs every 5 minutes. For each zone, an average of\n",
    "these prices over an hour is published.\n",
    "\n",
    "Store the list of zones in the variable 'listOfZones'. Also, store the number of options\n",
    "as the number of zones times the 24 hours available for trading. Finally create another\n",
    "list containing the option names (zone + hour)."
   ]
  },
  {
   "cell_type": "code",
   "execution_count": 2,
   "metadata": {},
   "outputs": [],
   "source": [
    "listOfZones = ['CAPITL', 'CENTRL', 'DUNWOD', 'GENESE', 'HUD VL', 'LONGIL', 'MHK VL',\n",
    "               'MILLWD', 'N.Y.C.', 'NORTH', 'WEST']\n",
    "\n",
    "nOptions = len(listOfZones) * 24\n",
    "optionNames = [zone + \"_Hour_\" + str(t) for zone in listOfZones for t in range(24)]\n"
   ]
  },
  {
   "cell_type": "code",
   "execution_count": 40,
   "metadata": {},
   "outputs": [
    {
     "name": "stdout",
     "output_type": "stream",
     "text": [
      "predictedY[' CAPITL_Hour_0 ']=lm'\n",
      "predictedY[' CAPITL_Hour_1 ']=lm'\n",
      "predictedY[' CAPITL_Hour_2 ']=lm'\n",
      "predictedY[' CAPITL_Hour_3 ']=lm'\n",
      "predictedY[' CAPITL_Hour_4 ']=lm'\n",
      "predictedY[' CAPITL_Hour_5 ']=lm'\n",
      "predictedY[' CAPITL_Hour_6 ']=lm'\n",
      "predictedY[' CAPITL_Hour_7 ']=lm'\n",
      "predictedY[' CAPITL_Hour_8 ']=lm'\n",
      "predictedY[' CAPITL_Hour_9 ']=lm'\n",
      "predictedY[' CAPITL_Hour_10 ']=lm'\n",
      "predictedY[' CAPITL_Hour_11 ']=lm'\n",
      "predictedY[' CAPITL_Hour_12 ']=lm'\n",
      "predictedY[' CAPITL_Hour_13 ']=lm'\n",
      "predictedY[' CAPITL_Hour_14 ']=lm'\n",
      "predictedY[' CAPITL_Hour_15 ']=lm'\n",
      "predictedY[' CAPITL_Hour_16 ']=lm'\n",
      "predictedY[' CAPITL_Hour_17 ']=lm'\n",
      "predictedY[' CAPITL_Hour_18 ']=lm'\n",
      "predictedY[' CAPITL_Hour_19 ']=lm'\n",
      "predictedY[' CAPITL_Hour_20 ']=lm'\n",
      "predictedY[' CAPITL_Hour_21 ']=lm'\n",
      "predictedY[' CAPITL_Hour_22 ']=lm'\n",
      "predictedY[' CAPITL_Hour_23 ']=lm'\n",
      "predictedY[' CENTRL_Hour_0 ']=lm'\n",
      "predictedY[' CENTRL_Hour_1 ']=lm'\n",
      "predictedY[' CENTRL_Hour_2 ']=lm'\n",
      "predictedY[' CENTRL_Hour_3 ']=lm'\n",
      "predictedY[' CENTRL_Hour_4 ']=lm'\n",
      "predictedY[' CENTRL_Hour_5 ']=lm'\n",
      "predictedY[' CENTRL_Hour_6 ']=lm'\n",
      "predictedY[' CENTRL_Hour_7 ']=lm'\n",
      "predictedY[' CENTRL_Hour_8 ']=lm'\n",
      "predictedY[' CENTRL_Hour_9 ']=lm'\n",
      "predictedY[' CENTRL_Hour_10 ']=lm'\n",
      "predictedY[' CENTRL_Hour_11 ']=lm'\n",
      "predictedY[' CENTRL_Hour_12 ']=lm'\n",
      "predictedY[' CENTRL_Hour_13 ']=lm'\n",
      "predictedY[' CENTRL_Hour_14 ']=lm'\n",
      "predictedY[' CENTRL_Hour_15 ']=lm'\n",
      "predictedY[' CENTRL_Hour_16 ']=lm'\n",
      "predictedY[' CENTRL_Hour_17 ']=lm'\n",
      "predictedY[' CENTRL_Hour_18 ']=lm'\n",
      "predictedY[' CENTRL_Hour_19 ']=lm'\n",
      "predictedY[' CENTRL_Hour_20 ']=lm'\n",
      "predictedY[' CENTRL_Hour_21 ']=lm'\n",
      "predictedY[' CENTRL_Hour_22 ']=lm'\n",
      "predictedY[' CENTRL_Hour_23 ']=lm'\n",
      "predictedY[' DUNWOD_Hour_0 ']=lm'\n",
      "predictedY[' DUNWOD_Hour_1 ']=lm'\n",
      "predictedY[' DUNWOD_Hour_2 ']=lm'\n",
      "predictedY[' DUNWOD_Hour_3 ']=lm'\n",
      "predictedY[' DUNWOD_Hour_4 ']=lm'\n",
      "predictedY[' DUNWOD_Hour_5 ']=lm'\n",
      "predictedY[' DUNWOD_Hour_6 ']=lm'\n",
      "predictedY[' DUNWOD_Hour_7 ']=lm'\n",
      "predictedY[' DUNWOD_Hour_8 ']=lm'\n",
      "predictedY[' DUNWOD_Hour_9 ']=lm'\n",
      "predictedY[' DUNWOD_Hour_10 ']=lm'\n",
      "predictedY[' DUNWOD_Hour_11 ']=lm'\n",
      "predictedY[' DUNWOD_Hour_12 ']=lm'\n",
      "predictedY[' DUNWOD_Hour_13 ']=lm'\n",
      "predictedY[' DUNWOD_Hour_14 ']=lm'\n",
      "predictedY[' DUNWOD_Hour_15 ']=lm'\n",
      "predictedY[' DUNWOD_Hour_16 ']=lm'\n",
      "predictedY[' DUNWOD_Hour_17 ']=lm'\n",
      "predictedY[' DUNWOD_Hour_18 ']=lm'\n",
      "predictedY[' DUNWOD_Hour_19 ']=lm'\n",
      "predictedY[' DUNWOD_Hour_20 ']=lm'\n",
      "predictedY[' DUNWOD_Hour_21 ']=lm'\n",
      "predictedY[' DUNWOD_Hour_22 ']=lm'\n",
      "predictedY[' DUNWOD_Hour_23 ']=lm'\n",
      "predictedY[' GENESE_Hour_0 ']=lm'\n",
      "predictedY[' GENESE_Hour_1 ']=lm'\n",
      "predictedY[' GENESE_Hour_2 ']=lm'\n",
      "predictedY[' GENESE_Hour_3 ']=lm'\n",
      "predictedY[' GENESE_Hour_4 ']=lm'\n",
      "predictedY[' GENESE_Hour_5 ']=lm'\n",
      "predictedY[' GENESE_Hour_6 ']=lm'\n",
      "predictedY[' GENESE_Hour_7 ']=lm'\n",
      "predictedY[' GENESE_Hour_8 ']=lm'\n",
      "predictedY[' GENESE_Hour_9 ']=lm'\n",
      "predictedY[' GENESE_Hour_10 ']=lm'\n",
      "predictedY[' GENESE_Hour_11 ']=lm'\n",
      "predictedY[' GENESE_Hour_12 ']=lm'\n",
      "predictedY[' GENESE_Hour_13 ']=lm'\n",
      "predictedY[' GENESE_Hour_14 ']=lm'\n",
      "predictedY[' GENESE_Hour_15 ']=lm'\n",
      "predictedY[' GENESE_Hour_16 ']=lm'\n",
      "predictedY[' GENESE_Hour_17 ']=lm'\n",
      "predictedY[' GENESE_Hour_18 ']=lm'\n",
      "predictedY[' GENESE_Hour_19 ']=lm'\n",
      "predictedY[' GENESE_Hour_20 ']=lm'\n",
      "predictedY[' GENESE_Hour_21 ']=lm'\n",
      "predictedY[' GENESE_Hour_22 ']=lm'\n",
      "predictedY[' GENESE_Hour_23 ']=lm'\n",
      "predictedY[' HUD VL_Hour_0 ']=lm'\n",
      "predictedY[' HUD VL_Hour_1 ']=lm'\n",
      "predictedY[' HUD VL_Hour_2 ']=lm'\n",
      "predictedY[' HUD VL_Hour_3 ']=lm'\n",
      "predictedY[' HUD VL_Hour_4 ']=lm'\n",
      "predictedY[' HUD VL_Hour_5 ']=lm'\n",
      "predictedY[' HUD VL_Hour_6 ']=lm'\n",
      "predictedY[' HUD VL_Hour_7 ']=lm'\n",
      "predictedY[' HUD VL_Hour_8 ']=lm'\n",
      "predictedY[' HUD VL_Hour_9 ']=lm'\n",
      "predictedY[' HUD VL_Hour_10 ']=lm'\n",
      "predictedY[' HUD VL_Hour_11 ']=lm'\n",
      "predictedY[' HUD VL_Hour_12 ']=lm'\n",
      "predictedY[' HUD VL_Hour_13 ']=lm'\n",
      "predictedY[' HUD VL_Hour_14 ']=lm'\n",
      "predictedY[' HUD VL_Hour_15 ']=lm'\n",
      "predictedY[' HUD VL_Hour_16 ']=lm'\n",
      "predictedY[' HUD VL_Hour_17 ']=lm'\n",
      "predictedY[' HUD VL_Hour_18 ']=lm'\n",
      "predictedY[' HUD VL_Hour_19 ']=lm'\n",
      "predictedY[' HUD VL_Hour_20 ']=lm'\n",
      "predictedY[' HUD VL_Hour_21 ']=lm'\n",
      "predictedY[' HUD VL_Hour_22 ']=lm'\n",
      "predictedY[' HUD VL_Hour_23 ']=lm'\n",
      "predictedY[' LONGIL_Hour_0 ']=lm'\n",
      "predictedY[' LONGIL_Hour_1 ']=lm'\n",
      "predictedY[' LONGIL_Hour_2 ']=lm'\n",
      "predictedY[' LONGIL_Hour_3 ']=lm'\n",
      "predictedY[' LONGIL_Hour_4 ']=lm'\n",
      "predictedY[' LONGIL_Hour_5 ']=lm'\n",
      "predictedY[' LONGIL_Hour_6 ']=lm'\n",
      "predictedY[' LONGIL_Hour_7 ']=lm'\n",
      "predictedY[' LONGIL_Hour_8 ']=lm'\n",
      "predictedY[' LONGIL_Hour_9 ']=lm'\n",
      "predictedY[' LONGIL_Hour_10 ']=lm'\n",
      "predictedY[' LONGIL_Hour_11 ']=lm'\n",
      "predictedY[' LONGIL_Hour_12 ']=lm'\n",
      "predictedY[' LONGIL_Hour_13 ']=lm'\n",
      "predictedY[' LONGIL_Hour_14 ']=lm'\n",
      "predictedY[' LONGIL_Hour_15 ']=lm'\n",
      "predictedY[' LONGIL_Hour_16 ']=lm'\n",
      "predictedY[' LONGIL_Hour_17 ']=lm'\n",
      "predictedY[' LONGIL_Hour_18 ']=lm'\n",
      "predictedY[' LONGIL_Hour_19 ']=lm'\n",
      "predictedY[' LONGIL_Hour_20 ']=lm'\n",
      "predictedY[' LONGIL_Hour_21 ']=lm'\n",
      "predictedY[' LONGIL_Hour_22 ']=lm'\n",
      "predictedY[' LONGIL_Hour_23 ']=lm'\n",
      "predictedY[' MHK VL_Hour_0 ']=lm'\n",
      "predictedY[' MHK VL_Hour_1 ']=lm'\n",
      "predictedY[' MHK VL_Hour_2 ']=lm'\n",
      "predictedY[' MHK VL_Hour_3 ']=lm'\n",
      "predictedY[' MHK VL_Hour_4 ']=lm'\n",
      "predictedY[' MHK VL_Hour_5 ']=lm'\n",
      "predictedY[' MHK VL_Hour_6 ']=lm'\n",
      "predictedY[' MHK VL_Hour_7 ']=lm'\n",
      "predictedY[' MHK VL_Hour_8 ']=lm'\n",
      "predictedY[' MHK VL_Hour_9 ']=lm'\n",
      "predictedY[' MHK VL_Hour_10 ']=lm'\n",
      "predictedY[' MHK VL_Hour_11 ']=lm'\n",
      "predictedY[' MHK VL_Hour_12 ']=lm'\n",
      "predictedY[' MHK VL_Hour_13 ']=lm'\n",
      "predictedY[' MHK VL_Hour_14 ']=lm'\n",
      "predictedY[' MHK VL_Hour_15 ']=lm'\n",
      "predictedY[' MHK VL_Hour_16 ']=lm'\n",
      "predictedY[' MHK VL_Hour_17 ']=lm'\n",
      "predictedY[' MHK VL_Hour_18 ']=lm'\n",
      "predictedY[' MHK VL_Hour_19 ']=lm'\n",
      "predictedY[' MHK VL_Hour_20 ']=lm'\n",
      "predictedY[' MHK VL_Hour_21 ']=lm'\n",
      "predictedY[' MHK VL_Hour_22 ']=lm'\n",
      "predictedY[' MHK VL_Hour_23 ']=lm'\n",
      "predictedY[' MILLWD_Hour_0 ']=lm'\n",
      "predictedY[' MILLWD_Hour_1 ']=lm'\n",
      "predictedY[' MILLWD_Hour_2 ']=lm'\n",
      "predictedY[' MILLWD_Hour_3 ']=lm'\n",
      "predictedY[' MILLWD_Hour_4 ']=lm'\n",
      "predictedY[' MILLWD_Hour_5 ']=lm'\n",
      "predictedY[' MILLWD_Hour_6 ']=lm'\n",
      "predictedY[' MILLWD_Hour_7 ']=lm'\n",
      "predictedY[' MILLWD_Hour_8 ']=lm'\n",
      "predictedY[' MILLWD_Hour_9 ']=lm'\n",
      "predictedY[' MILLWD_Hour_10 ']=lm'\n",
      "predictedY[' MILLWD_Hour_11 ']=lm'\n",
      "predictedY[' MILLWD_Hour_12 ']=lm'\n",
      "predictedY[' MILLWD_Hour_13 ']=lm'\n",
      "predictedY[' MILLWD_Hour_14 ']=lm'\n",
      "predictedY[' MILLWD_Hour_15 ']=lm'\n",
      "predictedY[' MILLWD_Hour_16 ']=lm'\n",
      "predictedY[' MILLWD_Hour_17 ']=lm'\n",
      "predictedY[' MILLWD_Hour_18 ']=lm'\n",
      "predictedY[' MILLWD_Hour_19 ']=lm'\n",
      "predictedY[' MILLWD_Hour_20 ']=lm'\n",
      "predictedY[' MILLWD_Hour_21 ']=lm'\n",
      "predictedY[' MILLWD_Hour_22 ']=lm'\n",
      "predictedY[' MILLWD_Hour_23 ']=lm'\n",
      "predictedY[' N.Y.C._Hour_0 ']=lm'\n",
      "predictedY[' N.Y.C._Hour_1 ']=lm'\n",
      "predictedY[' N.Y.C._Hour_2 ']=lm'\n",
      "predictedY[' N.Y.C._Hour_3 ']=lm'\n",
      "predictedY[' N.Y.C._Hour_4 ']=lm'\n",
      "predictedY[' N.Y.C._Hour_5 ']=lm'\n",
      "predictedY[' N.Y.C._Hour_6 ']=lm'\n",
      "predictedY[' N.Y.C._Hour_7 ']=lm'\n",
      "predictedY[' N.Y.C._Hour_8 ']=lm'\n",
      "predictedY[' N.Y.C._Hour_9 ']=lm'\n",
      "predictedY[' N.Y.C._Hour_10 ']=lm'\n",
      "predictedY[' N.Y.C._Hour_11 ']=lm'\n",
      "predictedY[' N.Y.C._Hour_12 ']=lm'\n",
      "predictedY[' N.Y.C._Hour_13 ']=lm'\n",
      "predictedY[' N.Y.C._Hour_14 ']=lm'\n",
      "predictedY[' N.Y.C._Hour_15 ']=lm'\n",
      "predictedY[' N.Y.C._Hour_16 ']=lm'\n",
      "predictedY[' N.Y.C._Hour_17 ']=lm'\n",
      "predictedY[' N.Y.C._Hour_18 ']=lm'\n",
      "predictedY[' N.Y.C._Hour_19 ']=lm'\n",
      "predictedY[' N.Y.C._Hour_20 ']=lm'\n",
      "predictedY[' N.Y.C._Hour_21 ']=lm'\n",
      "predictedY[' N.Y.C._Hour_22 ']=lm'\n",
      "predictedY[' N.Y.C._Hour_23 ']=lm'\n",
      "predictedY[' NORTH_Hour_0 ']=lm'\n",
      "predictedY[' NORTH_Hour_1 ']=lm'\n",
      "predictedY[' NORTH_Hour_2 ']=lm'\n",
      "predictedY[' NORTH_Hour_3 ']=lm'\n",
      "predictedY[' NORTH_Hour_4 ']=lm'\n",
      "predictedY[' NORTH_Hour_5 ']=lm'\n",
      "predictedY[' NORTH_Hour_6 ']=lm'\n",
      "predictedY[' NORTH_Hour_7 ']=lm'\n",
      "predictedY[' NORTH_Hour_8 ']=lm'\n",
      "predictedY[' NORTH_Hour_9 ']=lm'\n",
      "predictedY[' NORTH_Hour_10 ']=lm'\n",
      "predictedY[' NORTH_Hour_11 ']=lm'\n",
      "predictedY[' NORTH_Hour_12 ']=lm'\n",
      "predictedY[' NORTH_Hour_13 ']=lm'\n",
      "predictedY[' NORTH_Hour_14 ']=lm'\n",
      "predictedY[' NORTH_Hour_15 ']=lm'\n",
      "predictedY[' NORTH_Hour_16 ']=lm'\n",
      "predictedY[' NORTH_Hour_17 ']=lm'\n",
      "predictedY[' NORTH_Hour_18 ']=lm'\n",
      "predictedY[' NORTH_Hour_19 ']=lm'\n",
      "predictedY[' NORTH_Hour_20 ']=lm'\n",
      "predictedY[' NORTH_Hour_21 ']=lm'\n",
      "predictedY[' NORTH_Hour_22 ']=lm'\n",
      "predictedY[' NORTH_Hour_23 ']=lm'\n",
      "predictedY[' WEST_Hour_0 ']=lm'\n",
      "predictedY[' WEST_Hour_1 ']=lm'\n",
      "predictedY[' WEST_Hour_2 ']=lm'\n",
      "predictedY[' WEST_Hour_3 ']=lm'\n",
      "predictedY[' WEST_Hour_4 ']=lm'\n",
      "predictedY[' WEST_Hour_5 ']=lm'\n",
      "predictedY[' WEST_Hour_6 ']=lm'\n",
      "predictedY[' WEST_Hour_7 ']=lm'\n",
      "predictedY[' WEST_Hour_8 ']=lm'\n",
      "predictedY[' WEST_Hour_9 ']=lm'\n",
      "predictedY[' WEST_Hour_10 ']=lm'\n",
      "predictedY[' WEST_Hour_11 ']=lm'\n",
      "predictedY[' WEST_Hour_12 ']=lm'\n",
      "predictedY[' WEST_Hour_13 ']=lm'\n",
      "predictedY[' WEST_Hour_14 ']=lm'\n",
      "predictedY[' WEST_Hour_15 ']=lm'\n",
      "predictedY[' WEST_Hour_16 ']=lm'\n",
      "predictedY[' WEST_Hour_17 ']=lm'\n",
      "predictedY[' WEST_Hour_18 ']=lm'\n",
      "predictedY[' WEST_Hour_19 ']=lm'\n",
      "predictedY[' WEST_Hour_20 ']=lm'\n",
      "predictedY[' WEST_Hour_21 ']=lm'\n",
      "predictedY[' WEST_Hour_22 ']=lm'\n",
      "predictedY[' WEST_Hour_23 ']=lm'\n"
     ]
    }
   ],
   "source": [
    "\n",
    "for i in range(len(optionNames)):\n",
    "    print(\"predictedY['\",optionNames[i],\"']=lm'\")"
   ]
  },
  {
   "cell_type": "markdown",
   "metadata": {},
   "source": [
    "## Parse the files with DA and RT prices along with DA load forecast.\n",
    "\n",
    "Define a function that parses three files containing DA and RT prices, along with DA load predictions from a year from all different zones in the list defined before. This function will be used for to both load the data for training the classifiers and testing them. This function has 3 outputs: they are DA prices, difference between DA and RT prices, and finally DA load predictions. The outputs are pandas data frames whose columns are the options, and rows are the days in the year."
   ]
  },
  {
   "cell_type": "code",
   "execution_count": 3,
   "metadata": {},
   "outputs": [],
   "source": [
    "def loadNYISOData(year):\n",
    "\n",
    "    # Open the relevant files for DA prices, RT prices, DA load.\n",
    "\n",
    "    dfPriceDA = pd.read_csv(\"DAM_NYISO_Zonal_LBMP_\" + str(year) + \".csv\")\n",
    "    dfPriceRT = pd.read_csv(\"RTM_NYISO_Zonal_LBMP_\" + str(year) + \".csv\")\n",
    "    dfLoadDA = pd.read_csv(\"DAM_NYISO_LoadForecast_\" + str(year) + \".csv\")\n",
    "\n",
    "    # Collect the DA and RT prices from each zone from each hour and create a pandas list.\n",
    "    # The data should have prices and loads from all days of a year, where each day\n",
    "    # contributes 24 rows, corresponding to each hour.\n",
    "\n",
    "    priceDA = pd.DataFrame({zone: (dfPriceDA.loc[dfPriceDA['Zone Name'] == zone,\n",
    "                                                 'DAM Zonal LBMP']).values\n",
    "                             for zone in listOfZones})\n",
    "    priceRT = pd.DataFrame({zone: (dfPriceRT.loc[dfPriceRT['Zone Name'] == zone,\n",
    "                                                 'TWI Zonal LBMP']).values\n",
    "                             for zone in listOfZones})\n",
    "    loadDA = pd.DataFrame({zone: (dfLoadDA.loc[dfLoadDA['Zone Name'] == zone,\n",
    "                                               'DAM Forecast Load']).values\n",
    "                            for zone in listOfZones})\n",
    "\n",
    "    numberOfDays = int(len(priceDA.index)/24)\n",
    "\n",
    "    # Compute the price differences between DA and RT prices for all options on\n",
    "    # all days of the year. Store it as a pandas data frame where the 24 rows for\n",
    "    # each day is flattened into one row. This operation essentially allows us to\n",
    "    # independently think of each zone in each hour as a separate option. Also,\n",
    "    # reshape the prices for the DA market in the same manner.\n",
    "\n",
    "    priceDART = pd.DataFrame([priceRT.sub(priceDA).loc[day * 24:\n",
    "                                                              (day + 1) * 24 - 1,\n",
    "                              listOfZones].values.flatten()\n",
    "                              for day in range(numberOfDays)],\n",
    "                             columns=optionNames)\n",
    "\n",
    "    priceDA = pd.DataFrame([priceDA.loc[day * 24: (day + 1) * 24 - 1,\n",
    "                            listOfZones].values.flatten()\n",
    "                            for day in range(numberOfDays)],\n",
    "                           columns=optionNames)\n",
    "\n",
    "    return priceDA, priceDART, loadDA\n"
   ]
  },
  {
   "cell_type": "markdown",
   "metadata": {},
   "source": [
    "## Create a function that creates the inputs for training a classifier\n",
    "\n",
    "Create a function that takes the price and load data and creates two arrays\n",
    "'X' and 'Y'. Essentially, the rows of 'X' contains all information relevant to\n",
    " predicting the sign of the price difference on the various options on the next day.\n",
    " It takes as an input, three pandas frames corresponding to the DA prices, price\n",
    " differences, and the DA load predictions, and produces three outputs:\n",
    " the arrays 'X', 'Y', and the range of days from the year that were used to\n",
    " create the data 'X' and 'Y'. This function will be used to both train and\n",
    " test classifiers."
   ]
  },
  {
   "cell_type": "code",
   "execution_count": 4,
   "metadata": {},
   "outputs": [],
   "source": [
    "def createClassifierIO(priceDA, priceDART, loadDA):\n",
    "\n",
    "    # Define how many past days of prices to use for classification.\n",
    "\n",
    "    pastPrices = range(1, 3)\n",
    "\n",
    "    # Define how many past days of load predictions to use for classification.\n",
    "\n",
    "    pastLoad = range(1, 3)\n",
    "\n",
    "    # Define a date range within the year to create the arrays 'X' and 'Y' in a way\n",
    "    # that past price and load data for the first day is within the date range in the\n",
    "    # pandas frames passed as inputs.\n",
    "\n",
    "    rangeOfDays = range(3, len(priceDA.index))\n",
    "\n",
    "    # 'X' will contain three sets of variables:\n",
    "    #   1. the DA prices from past days in the list 'pastDays',\n",
    "    #   2. the differences between DA and RT prices from the same past days,\n",
    "\n",
    "    #   3. the load predictions from past days in the list 'pastLoad'\n",
    "\n",
    "    X = [np.concatenate((\n",
    "        priceDA.loc[[(day - h) for h in pastPrices]].values.flatten(),\n",
    "        priceDART.loc[[(day - h) for h in pastPrices]].values.flatten(),\n",
    "        loadDA.loc[[(day - h) for h in pastLoad]].values.flatten()\n",
    "    )) for day in rangeOfDays]\n",
    "\n",
    "    # Scale the array 'X' to make its data zero mean and unit variance.\n",
    "    X = StandardScaler().fit_transform(X)\n",
    "\n",
    "    # 'Y' will contain zeros and ones, where a one indicates that the price in DA is\n",
    "    # higher than in RT for a particular option. Recall that an option corresponds to\n",
    "    # a zone at a particular hour of the day.\n",
    "\n",
    "    Y = np.array([(priceDART.loc[day].values > 0).astype(int)\n",
    "                  for day in rangeOfDays])\n",
    "\n",
    "    # Return the arrays 'X' and 'Y', and finally the range of days from the year that\n",
    "    # will be utilized for training or testing the classifier.\n",
    "    return X, Y, rangeOfDays"
   ]
  },
  {
   "cell_type": "markdown",
   "metadata": {},
   "source": [
    "## Design the training module.\n",
    " The training module utilizes a year's worth of data to determine the following for\n",
    " each option, i.e., for each zone for each hour of the day:\n",
    "   1. Classifiers that predict the sign of the difference between DA and RT prices.\n",
    "   2. Statistics of the mean of the price difference.\n",
    "   3. A quantile of the day-ahead prices that we will use as our bid for each option.\n",
    " You will either train the classifiers here or load them from the folder './Classifiers'.\n",
    " Storing the classifiers from time to time allows you to only vary the bidding strategy\n",
    " and observe the annual reward rather than having to train the classifiers every time.\n",
    " \n",
    "### Define and train the classifiers or load pre-trained classifiers."
   ]
  },
  {
   "cell_type": "code",
   "execution_count": 39,
   "metadata": {
    "scrolled": false
   },
   "outputs": [
    {
     "name": "stdout",
     "output_type": "stream",
     "text": [
      "Starting training module...\n",
      "\n",
      "Loaded hourly prices from 2015 for 365 days.\n",
      "Classifier trained for option CAPITL_Hour_0\n",
      "Classifier trained for option CAPITL_Hour_1\n",
      "Classifier trained for option CAPITL_Hour_2\n",
      "Classifier trained for option CAPITL_Hour_3\n",
      "Classifier trained for option CAPITL_Hour_4\n",
      "Classifier trained for option CAPITL_Hour_5\n",
      "Classifier trained for option CAPITL_Hour_6\n",
      "Classifier trained for option CAPITL_Hour_7\n",
      "Classifier trained for option CAPITL_Hour_8\n",
      "Classifier trained for option CAPITL_Hour_9\n",
      "Classifier trained for option CAPITL_Hour_10\n",
      "Classifier trained for option CAPITL_Hour_11\n",
      "Classifier trained for option CAPITL_Hour_12\n",
      "Classifier trained for option CAPITL_Hour_13\n",
      "Classifier trained for option CAPITL_Hour_14\n",
      "Classifier trained for option CAPITL_Hour_15\n",
      "Classifier trained for option CAPITL_Hour_16\n"
     ]
    },
    {
     "name": "stderr",
     "output_type": "stream",
     "text": [
      "/Users/ab/opt/anaconda3/lib/python3.7/site-packages/sklearn/neural_network/multilayer_perceptron.py:566: ConvergenceWarning: Stochastic Optimizer: Maximum iterations (200) reached and the optimization hasn't converged yet.\n",
      "  % self.max_iter, ConvergenceWarning)\n"
     ]
    },
    {
     "name": "stdout",
     "output_type": "stream",
     "text": [
      "Classifier trained for option CAPITL_Hour_17\n",
      "Classifier trained for option CAPITL_Hour_18\n",
      "Classifier trained for option CAPITL_Hour_19\n",
      "Classifier trained for option CAPITL_Hour_20\n",
      "Classifier trained for option CAPITL_Hour_21\n"
     ]
    },
    {
     "name": "stderr",
     "output_type": "stream",
     "text": [
      "/Users/ab/opt/anaconda3/lib/python3.7/site-packages/sklearn/neural_network/multilayer_perceptron.py:566: ConvergenceWarning: Stochastic Optimizer: Maximum iterations (200) reached and the optimization hasn't converged yet.\n",
      "  % self.max_iter, ConvergenceWarning)\n"
     ]
    },
    {
     "name": "stdout",
     "output_type": "stream",
     "text": [
      "Classifier trained for option CAPITL_Hour_22\n"
     ]
    },
    {
     "name": "stderr",
     "output_type": "stream",
     "text": [
      "/Users/ab/opt/anaconda3/lib/python3.7/site-packages/sklearn/neural_network/multilayer_perceptron.py:566: ConvergenceWarning: Stochastic Optimizer: Maximum iterations (200) reached and the optimization hasn't converged yet.\n",
      "  % self.max_iter, ConvergenceWarning)\n"
     ]
    },
    {
     "name": "stdout",
     "output_type": "stream",
     "text": [
      "Classifier trained for option CAPITL_Hour_23\n",
      "Classifier trained for option CENTRL_Hour_0\n",
      "Classifier trained for option CENTRL_Hour_1\n",
      "Classifier trained for option CENTRL_Hour_2\n",
      "Classifier trained for option CENTRL_Hour_3\n",
      "Classifier trained for option CENTRL_Hour_4\n",
      "Classifier trained for option CENTRL_Hour_5\n",
      "Classifier trained for option CENTRL_Hour_6\n",
      "Classifier trained for option CENTRL_Hour_7\n"
     ]
    },
    {
     "name": "stderr",
     "output_type": "stream",
     "text": [
      "/Users/ab/opt/anaconda3/lib/python3.7/site-packages/sklearn/neural_network/multilayer_perceptron.py:566: ConvergenceWarning: Stochastic Optimizer: Maximum iterations (200) reached and the optimization hasn't converged yet.\n",
      "  % self.max_iter, ConvergenceWarning)\n"
     ]
    },
    {
     "name": "stdout",
     "output_type": "stream",
     "text": [
      "Classifier trained for option CENTRL_Hour_8\n",
      "Classifier trained for option CENTRL_Hour_9\n",
      "Classifier trained for option CENTRL_Hour_10\n"
     ]
    },
    {
     "name": "stderr",
     "output_type": "stream",
     "text": [
      "/Users/ab/opt/anaconda3/lib/python3.7/site-packages/sklearn/neural_network/multilayer_perceptron.py:566: ConvergenceWarning: Stochastic Optimizer: Maximum iterations (200) reached and the optimization hasn't converged yet.\n",
      "  % self.max_iter, ConvergenceWarning)\n"
     ]
    },
    {
     "name": "stdout",
     "output_type": "stream",
     "text": [
      "Classifier trained for option CENTRL_Hour_11\n",
      "Classifier trained for option CENTRL_Hour_12\n",
      "Classifier trained for option CENTRL_Hour_13\n",
      "Classifier trained for option CENTRL_Hour_14\n",
      "Classifier trained for option CENTRL_Hour_15\n",
      "Classifier trained for option CENTRL_Hour_16\n"
     ]
    },
    {
     "name": "stderr",
     "output_type": "stream",
     "text": [
      "/Users/ab/opt/anaconda3/lib/python3.7/site-packages/sklearn/neural_network/multilayer_perceptron.py:566: ConvergenceWarning: Stochastic Optimizer: Maximum iterations (200) reached and the optimization hasn't converged yet.\n",
      "  % self.max_iter, ConvergenceWarning)\n"
     ]
    },
    {
     "name": "stdout",
     "output_type": "stream",
     "text": [
      "Classifier trained for option CENTRL_Hour_17\n",
      "Classifier trained for option CENTRL_Hour_18\n",
      "Classifier trained for option CENTRL_Hour_19\n",
      "Classifier trained for option CENTRL_Hour_20\n",
      "Classifier trained for option CENTRL_Hour_21\n",
      "Classifier trained for option CENTRL_Hour_22\n",
      "Classifier trained for option CENTRL_Hour_23\n",
      "Classifier trained for option DUNWOD_Hour_0\n",
      "Classifier trained for option DUNWOD_Hour_1\n",
      "Classifier trained for option DUNWOD_Hour_2\n",
      "Classifier trained for option DUNWOD_Hour_3\n",
      "Classifier trained for option DUNWOD_Hour_4\n",
      "Classifier trained for option DUNWOD_Hour_5\n",
      "Classifier trained for option DUNWOD_Hour_6\n",
      "Classifier trained for option DUNWOD_Hour_7\n",
      "Classifier trained for option DUNWOD_Hour_8\n",
      "Classifier trained for option DUNWOD_Hour_9\n",
      "Classifier trained for option DUNWOD_Hour_10\n",
      "Classifier trained for option DUNWOD_Hour_11\n",
      "Classifier trained for option DUNWOD_Hour_12\n",
      "Classifier trained for option DUNWOD_Hour_13\n",
      "Classifier trained for option DUNWOD_Hour_14\n",
      "Classifier trained for option DUNWOD_Hour_15\n",
      "Classifier trained for option DUNWOD_Hour_16\n",
      "Classifier trained for option DUNWOD_Hour_17\n"
     ]
    },
    {
     "name": "stderr",
     "output_type": "stream",
     "text": [
      "/Users/ab/opt/anaconda3/lib/python3.7/site-packages/sklearn/neural_network/multilayer_perceptron.py:566: ConvergenceWarning: Stochastic Optimizer: Maximum iterations (200) reached and the optimization hasn't converged yet.\n",
      "  % self.max_iter, ConvergenceWarning)\n"
     ]
    },
    {
     "name": "stdout",
     "output_type": "stream",
     "text": [
      "Classifier trained for option DUNWOD_Hour_18\n"
     ]
    },
    {
     "name": "stderr",
     "output_type": "stream",
     "text": [
      "/Users/ab/opt/anaconda3/lib/python3.7/site-packages/sklearn/neural_network/multilayer_perceptron.py:566: ConvergenceWarning: Stochastic Optimizer: Maximum iterations (200) reached and the optimization hasn't converged yet.\n",
      "  % self.max_iter, ConvergenceWarning)\n"
     ]
    },
    {
     "name": "stdout",
     "output_type": "stream",
     "text": [
      "Classifier trained for option DUNWOD_Hour_19\n",
      "Classifier trained for option DUNWOD_Hour_20\n",
      "Classifier trained for option DUNWOD_Hour_21\n"
     ]
    },
    {
     "name": "stderr",
     "output_type": "stream",
     "text": [
      "/Users/ab/opt/anaconda3/lib/python3.7/site-packages/sklearn/neural_network/multilayer_perceptron.py:566: ConvergenceWarning: Stochastic Optimizer: Maximum iterations (200) reached and the optimization hasn't converged yet.\n",
      "  % self.max_iter, ConvergenceWarning)\n"
     ]
    },
    {
     "name": "stdout",
     "output_type": "stream",
     "text": [
      "Classifier trained for option DUNWOD_Hour_22\n",
      "Classifier trained for option DUNWOD_Hour_23\n",
      "Classifier trained for option GENESE_Hour_0\n",
      "Classifier trained for option GENESE_Hour_1\n",
      "Classifier trained for option GENESE_Hour_2\n",
      "Classifier trained for option GENESE_Hour_3\n",
      "Classifier trained for option GENESE_Hour_4\n",
      "Classifier trained for option GENESE_Hour_5\n",
      "Classifier trained for option GENESE_Hour_6\n",
      "Classifier trained for option GENESE_Hour_7\n",
      "Classifier trained for option GENESE_Hour_8\n",
      "Classifier trained for option GENESE_Hour_9\n"
     ]
    },
    {
     "name": "stderr",
     "output_type": "stream",
     "text": [
      "/Users/ab/opt/anaconda3/lib/python3.7/site-packages/sklearn/neural_network/multilayer_perceptron.py:566: ConvergenceWarning: Stochastic Optimizer: Maximum iterations (200) reached and the optimization hasn't converged yet.\n",
      "  % self.max_iter, ConvergenceWarning)\n"
     ]
    },
    {
     "name": "stdout",
     "output_type": "stream",
     "text": [
      "Classifier trained for option GENESE_Hour_10\n",
      "Classifier trained for option GENESE_Hour_11\n",
      "Classifier trained for option GENESE_Hour_12\n",
      "Classifier trained for option GENESE_Hour_13\n",
      "Classifier trained for option GENESE_Hour_14\n",
      "Classifier trained for option GENESE_Hour_15\n",
      "Classifier trained for option GENESE_Hour_16\n",
      "Classifier trained for option GENESE_Hour_17\n",
      "Classifier trained for option GENESE_Hour_18\n",
      "Classifier trained for option GENESE_Hour_19\n",
      "Classifier trained for option GENESE_Hour_20\n",
      "Classifier trained for option GENESE_Hour_21\n",
      "Classifier trained for option GENESE_Hour_22\n",
      "Classifier trained for option GENESE_Hour_23\n"
     ]
    },
    {
     "name": "stderr",
     "output_type": "stream",
     "text": [
      "/Users/ab/opt/anaconda3/lib/python3.7/site-packages/sklearn/neural_network/multilayer_perceptron.py:566: ConvergenceWarning: Stochastic Optimizer: Maximum iterations (200) reached and the optimization hasn't converged yet.\n",
      "  % self.max_iter, ConvergenceWarning)\n"
     ]
    },
    {
     "name": "stdout",
     "output_type": "stream",
     "text": [
      "Classifier trained for option HUD VL_Hour_0\n",
      "Classifier trained for option HUD VL_Hour_1\n",
      "Classifier trained for option HUD VL_Hour_2\n"
     ]
    },
    {
     "name": "stderr",
     "output_type": "stream",
     "text": [
      "/Users/ab/opt/anaconda3/lib/python3.7/site-packages/sklearn/neural_network/multilayer_perceptron.py:566: ConvergenceWarning: Stochastic Optimizer: Maximum iterations (200) reached and the optimization hasn't converged yet.\n",
      "  % self.max_iter, ConvergenceWarning)\n"
     ]
    },
    {
     "name": "stdout",
     "output_type": "stream",
     "text": [
      "Classifier trained for option HUD VL_Hour_3\n",
      "Classifier trained for option HUD VL_Hour_4\n",
      "Classifier trained for option HUD VL_Hour_5\n"
     ]
    },
    {
     "name": "stderr",
     "output_type": "stream",
     "text": [
      "/Users/ab/opt/anaconda3/lib/python3.7/site-packages/sklearn/neural_network/multilayer_perceptron.py:566: ConvergenceWarning: Stochastic Optimizer: Maximum iterations (200) reached and the optimization hasn't converged yet.\n",
      "  % self.max_iter, ConvergenceWarning)\n"
     ]
    },
    {
     "name": "stdout",
     "output_type": "stream",
     "text": [
      "Classifier trained for option HUD VL_Hour_6\n",
      "Classifier trained for option HUD VL_Hour_7\n",
      "Classifier trained for option HUD VL_Hour_8\n",
      "Classifier trained for option HUD VL_Hour_9\n",
      "Classifier trained for option HUD VL_Hour_10\n"
     ]
    },
    {
     "name": "stderr",
     "output_type": "stream",
     "text": [
      "/Users/ab/opt/anaconda3/lib/python3.7/site-packages/sklearn/neural_network/multilayer_perceptron.py:566: ConvergenceWarning: Stochastic Optimizer: Maximum iterations (200) reached and the optimization hasn't converged yet.\n",
      "  % self.max_iter, ConvergenceWarning)\n"
     ]
    },
    {
     "name": "stdout",
     "output_type": "stream",
     "text": [
      "Classifier trained for option HUD VL_Hour_11\n"
     ]
    },
    {
     "name": "stderr",
     "output_type": "stream",
     "text": [
      "/Users/ab/opt/anaconda3/lib/python3.7/site-packages/sklearn/neural_network/multilayer_perceptron.py:566: ConvergenceWarning: Stochastic Optimizer: Maximum iterations (200) reached and the optimization hasn't converged yet.\n",
      "  % self.max_iter, ConvergenceWarning)\n"
     ]
    },
    {
     "name": "stdout",
     "output_type": "stream",
     "text": [
      "Classifier trained for option HUD VL_Hour_12\n",
      "Classifier trained for option HUD VL_Hour_13\n",
      "Classifier trained for option HUD VL_Hour_14\n",
      "Classifier trained for option HUD VL_Hour_15\n",
      "Classifier trained for option HUD VL_Hour_16\n",
      "Classifier trained for option HUD VL_Hour_17\n"
     ]
    },
    {
     "name": "stderr",
     "output_type": "stream",
     "text": [
      "/Users/ab/opt/anaconda3/lib/python3.7/site-packages/sklearn/neural_network/multilayer_perceptron.py:566: ConvergenceWarning: Stochastic Optimizer: Maximum iterations (200) reached and the optimization hasn't converged yet.\n",
      "  % self.max_iter, ConvergenceWarning)\n"
     ]
    },
    {
     "name": "stdout",
     "output_type": "stream",
     "text": [
      "Classifier trained for option HUD VL_Hour_18\n",
      "Classifier trained for option HUD VL_Hour_19\n",
      "Classifier trained for option HUD VL_Hour_20\n",
      "Classifier trained for option HUD VL_Hour_21\n",
      "Classifier trained for option HUD VL_Hour_22\n",
      "Classifier trained for option HUD VL_Hour_23\n",
      "Classifier trained for option LONGIL_Hour_0\n",
      "Classifier trained for option LONGIL_Hour_1\n",
      "Classifier trained for option LONGIL_Hour_2\n",
      "Classifier trained for option LONGIL_Hour_3\n",
      "Classifier trained for option LONGIL_Hour_4\n"
     ]
    },
    {
     "name": "stderr",
     "output_type": "stream",
     "text": [
      "/Users/ab/opt/anaconda3/lib/python3.7/site-packages/sklearn/neural_network/multilayer_perceptron.py:566: ConvergenceWarning: Stochastic Optimizer: Maximum iterations (200) reached and the optimization hasn't converged yet.\n",
      "  % self.max_iter, ConvergenceWarning)\n"
     ]
    },
    {
     "name": "stdout",
     "output_type": "stream",
     "text": [
      "Classifier trained for option LONGIL_Hour_5\n",
      "Classifier trained for option LONGIL_Hour_6\n",
      "Classifier trained for option LONGIL_Hour_7\n",
      "Classifier trained for option LONGIL_Hour_8\n",
      "Classifier trained for option LONGIL_Hour_9\n",
      "Classifier trained for option LONGIL_Hour_10\n",
      "Classifier trained for option LONGIL_Hour_11\n",
      "Classifier trained for option LONGIL_Hour_12\n",
      "Classifier trained for option LONGIL_Hour_13\n",
      "Classifier trained for option LONGIL_Hour_14\n",
      "Classifier trained for option LONGIL_Hour_15\n",
      "Classifier trained for option LONGIL_Hour_16\n",
      "Classifier trained for option LONGIL_Hour_17\n",
      "Classifier trained for option LONGIL_Hour_18\n",
      "Classifier trained for option LONGIL_Hour_19\n",
      "Classifier trained for option LONGIL_Hour_20\n",
      "Classifier trained for option LONGIL_Hour_21\n",
      "Classifier trained for option LONGIL_Hour_22\n",
      "Classifier trained for option LONGIL_Hour_23\n"
     ]
    },
    {
     "name": "stderr",
     "output_type": "stream",
     "text": [
      "/Users/ab/opt/anaconda3/lib/python3.7/site-packages/sklearn/neural_network/multilayer_perceptron.py:566: ConvergenceWarning: Stochastic Optimizer: Maximum iterations (200) reached and the optimization hasn't converged yet.\n",
      "  % self.max_iter, ConvergenceWarning)\n"
     ]
    },
    {
     "name": "stdout",
     "output_type": "stream",
     "text": [
      "Classifier trained for option MHK VL_Hour_0\n",
      "Classifier trained for option MHK VL_Hour_1\n",
      "Classifier trained for option MHK VL_Hour_2\n",
      "Classifier trained for option MHK VL_Hour_3\n",
      "Classifier trained for option MHK VL_Hour_4\n",
      "Classifier trained for option MHK VL_Hour_5\n"
     ]
    },
    {
     "name": "stderr",
     "output_type": "stream",
     "text": [
      "/Users/ab/opt/anaconda3/lib/python3.7/site-packages/sklearn/neural_network/multilayer_perceptron.py:566: ConvergenceWarning: Stochastic Optimizer: Maximum iterations (200) reached and the optimization hasn't converged yet.\n",
      "  % self.max_iter, ConvergenceWarning)\n"
     ]
    },
    {
     "name": "stdout",
     "output_type": "stream",
     "text": [
      "Classifier trained for option MHK VL_Hour_6\n"
     ]
    },
    {
     "name": "stderr",
     "output_type": "stream",
     "text": [
      "/Users/ab/opt/anaconda3/lib/python3.7/site-packages/sklearn/neural_network/multilayer_perceptron.py:566: ConvergenceWarning: Stochastic Optimizer: Maximum iterations (200) reached and the optimization hasn't converged yet.\n",
      "  % self.max_iter, ConvergenceWarning)\n"
     ]
    },
    {
     "name": "stdout",
     "output_type": "stream",
     "text": [
      "Classifier trained for option MHK VL_Hour_7\n",
      "Classifier trained for option MHK VL_Hour_8\n"
     ]
    },
    {
     "name": "stderr",
     "output_type": "stream",
     "text": [
      "/Users/ab/opt/anaconda3/lib/python3.7/site-packages/sklearn/neural_network/multilayer_perceptron.py:566: ConvergenceWarning: Stochastic Optimizer: Maximum iterations (200) reached and the optimization hasn't converged yet.\n",
      "  % self.max_iter, ConvergenceWarning)\n"
     ]
    },
    {
     "name": "stdout",
     "output_type": "stream",
     "text": [
      "Classifier trained for option MHK VL_Hour_9\n",
      "Classifier trained for option MHK VL_Hour_10\n",
      "Classifier trained for option MHK VL_Hour_11\n",
      "Classifier trained for option MHK VL_Hour_12\n",
      "Classifier trained for option MHK VL_Hour_13\n",
      "Classifier trained for option MHK VL_Hour_14\n",
      "Classifier trained for option MHK VL_Hour_15\n",
      "Classifier trained for option MHK VL_Hour_16\n",
      "Classifier trained for option MHK VL_Hour_17\n",
      "Classifier trained for option MHK VL_Hour_18\n"
     ]
    },
    {
     "name": "stderr",
     "output_type": "stream",
     "text": [
      "/Users/ab/opt/anaconda3/lib/python3.7/site-packages/sklearn/neural_network/multilayer_perceptron.py:566: ConvergenceWarning: Stochastic Optimizer: Maximum iterations (200) reached and the optimization hasn't converged yet.\n",
      "  % self.max_iter, ConvergenceWarning)\n"
     ]
    },
    {
     "name": "stdout",
     "output_type": "stream",
     "text": [
      "Classifier trained for option MHK VL_Hour_19\n",
      "Classifier trained for option MHK VL_Hour_20\n"
     ]
    },
    {
     "name": "stderr",
     "output_type": "stream",
     "text": [
      "/Users/ab/opt/anaconda3/lib/python3.7/site-packages/sklearn/neural_network/multilayer_perceptron.py:566: ConvergenceWarning: Stochastic Optimizer: Maximum iterations (200) reached and the optimization hasn't converged yet.\n",
      "  % self.max_iter, ConvergenceWarning)\n"
     ]
    },
    {
     "name": "stdout",
     "output_type": "stream",
     "text": [
      "Classifier trained for option MHK VL_Hour_21\n"
     ]
    },
    {
     "name": "stderr",
     "output_type": "stream",
     "text": [
      "/Users/ab/opt/anaconda3/lib/python3.7/site-packages/sklearn/neural_network/multilayer_perceptron.py:566: ConvergenceWarning: Stochastic Optimizer: Maximum iterations (200) reached and the optimization hasn't converged yet.\n",
      "  % self.max_iter, ConvergenceWarning)\n"
     ]
    },
    {
     "name": "stdout",
     "output_type": "stream",
     "text": [
      "Classifier trained for option MHK VL_Hour_22\n"
     ]
    },
    {
     "name": "stderr",
     "output_type": "stream",
     "text": [
      "/Users/ab/opt/anaconda3/lib/python3.7/site-packages/sklearn/neural_network/multilayer_perceptron.py:566: ConvergenceWarning: Stochastic Optimizer: Maximum iterations (200) reached and the optimization hasn't converged yet.\n",
      "  % self.max_iter, ConvergenceWarning)\n"
     ]
    },
    {
     "name": "stdout",
     "output_type": "stream",
     "text": [
      "Classifier trained for option MHK VL_Hour_23\n",
      "Classifier trained for option MILLWD_Hour_0\n",
      "Classifier trained for option MILLWD_Hour_1\n",
      "Classifier trained for option MILLWD_Hour_2\n",
      "Classifier trained for option MILLWD_Hour_3\n"
     ]
    },
    {
     "name": "stderr",
     "output_type": "stream",
     "text": [
      "/Users/ab/opt/anaconda3/lib/python3.7/site-packages/sklearn/neural_network/multilayer_perceptron.py:566: ConvergenceWarning: Stochastic Optimizer: Maximum iterations (200) reached and the optimization hasn't converged yet.\n",
      "  % self.max_iter, ConvergenceWarning)\n"
     ]
    },
    {
     "name": "stdout",
     "output_type": "stream",
     "text": [
      "Classifier trained for option MILLWD_Hour_4\n",
      "Classifier trained for option MILLWD_Hour_5\n"
     ]
    },
    {
     "name": "stderr",
     "output_type": "stream",
     "text": [
      "/Users/ab/opt/anaconda3/lib/python3.7/site-packages/sklearn/neural_network/multilayer_perceptron.py:566: ConvergenceWarning: Stochastic Optimizer: Maximum iterations (200) reached and the optimization hasn't converged yet.\n",
      "  % self.max_iter, ConvergenceWarning)\n"
     ]
    },
    {
     "name": "stdout",
     "output_type": "stream",
     "text": [
      "Classifier trained for option MILLWD_Hour_6\n",
      "Classifier trained for option MILLWD_Hour_7\n",
      "Classifier trained for option MILLWD_Hour_8\n"
     ]
    },
    {
     "name": "stderr",
     "output_type": "stream",
     "text": [
      "/Users/ab/opt/anaconda3/lib/python3.7/site-packages/sklearn/neural_network/multilayer_perceptron.py:566: ConvergenceWarning: Stochastic Optimizer: Maximum iterations (200) reached and the optimization hasn't converged yet.\n",
      "  % self.max_iter, ConvergenceWarning)\n"
     ]
    },
    {
     "name": "stdout",
     "output_type": "stream",
     "text": [
      "Classifier trained for option MILLWD_Hour_9\n",
      "Classifier trained for option MILLWD_Hour_10\n",
      "Classifier trained for option MILLWD_Hour_11\n",
      "Classifier trained for option MILLWD_Hour_12\n",
      "Classifier trained for option MILLWD_Hour_13\n"
     ]
    },
    {
     "name": "stderr",
     "output_type": "stream",
     "text": [
      "/Users/ab/opt/anaconda3/lib/python3.7/site-packages/sklearn/neural_network/multilayer_perceptron.py:566: ConvergenceWarning: Stochastic Optimizer: Maximum iterations (200) reached and the optimization hasn't converged yet.\n",
      "  % self.max_iter, ConvergenceWarning)\n"
     ]
    },
    {
     "name": "stdout",
     "output_type": "stream",
     "text": [
      "Classifier trained for option MILLWD_Hour_14\n",
      "Classifier trained for option MILLWD_Hour_15\n",
      "Classifier trained for option MILLWD_Hour_16\n",
      "Classifier trained for option MILLWD_Hour_17\n"
     ]
    },
    {
     "name": "stderr",
     "output_type": "stream",
     "text": [
      "/Users/ab/opt/anaconda3/lib/python3.7/site-packages/sklearn/neural_network/multilayer_perceptron.py:566: ConvergenceWarning: Stochastic Optimizer: Maximum iterations (200) reached and the optimization hasn't converged yet.\n",
      "  % self.max_iter, ConvergenceWarning)\n"
     ]
    },
    {
     "name": "stdout",
     "output_type": "stream",
     "text": [
      "Classifier trained for option MILLWD_Hour_18\n"
     ]
    },
    {
     "name": "stderr",
     "output_type": "stream",
     "text": [
      "/Users/ab/opt/anaconda3/lib/python3.7/site-packages/sklearn/neural_network/multilayer_perceptron.py:566: ConvergenceWarning: Stochastic Optimizer: Maximum iterations (200) reached and the optimization hasn't converged yet.\n",
      "  % self.max_iter, ConvergenceWarning)\n"
     ]
    },
    {
     "name": "stdout",
     "output_type": "stream",
     "text": [
      "Classifier trained for option MILLWD_Hour_19\n",
      "Classifier trained for option MILLWD_Hour_20\n",
      "Classifier trained for option MILLWD_Hour_21\n",
      "Classifier trained for option MILLWD_Hour_22\n",
      "Classifier trained for option MILLWD_Hour_23\n",
      "Classifier trained for option N.Y.C._Hour_0\n",
      "Classifier trained for option N.Y.C._Hour_1\n",
      "Classifier trained for option N.Y.C._Hour_2\n",
      "Classifier trained for option N.Y.C._Hour_3\n"
     ]
    },
    {
     "name": "stderr",
     "output_type": "stream",
     "text": [
      "/Users/ab/opt/anaconda3/lib/python3.7/site-packages/sklearn/neural_network/multilayer_perceptron.py:566: ConvergenceWarning: Stochastic Optimizer: Maximum iterations (200) reached and the optimization hasn't converged yet.\n",
      "  % self.max_iter, ConvergenceWarning)\n"
     ]
    },
    {
     "name": "stdout",
     "output_type": "stream",
     "text": [
      "Classifier trained for option N.Y.C._Hour_4\n"
     ]
    },
    {
     "name": "stderr",
     "output_type": "stream",
     "text": [
      "/Users/ab/opt/anaconda3/lib/python3.7/site-packages/sklearn/neural_network/multilayer_perceptron.py:566: ConvergenceWarning: Stochastic Optimizer: Maximum iterations (200) reached and the optimization hasn't converged yet.\n",
      "  % self.max_iter, ConvergenceWarning)\n"
     ]
    },
    {
     "name": "stdout",
     "output_type": "stream",
     "text": [
      "Classifier trained for option N.Y.C._Hour_5\n",
      "Classifier trained for option N.Y.C._Hour_6\n",
      "Classifier trained for option N.Y.C._Hour_7\n",
      "Classifier trained for option N.Y.C._Hour_8\n",
      "Classifier trained for option N.Y.C._Hour_9\n",
      "Classifier trained for option N.Y.C._Hour_10\n",
      "Classifier trained for option N.Y.C._Hour_11\n"
     ]
    },
    {
     "name": "stderr",
     "output_type": "stream",
     "text": [
      "/Users/ab/opt/anaconda3/lib/python3.7/site-packages/sklearn/neural_network/multilayer_perceptron.py:566: ConvergenceWarning: Stochastic Optimizer: Maximum iterations (200) reached and the optimization hasn't converged yet.\n",
      "  % self.max_iter, ConvergenceWarning)\n"
     ]
    },
    {
     "name": "stdout",
     "output_type": "stream",
     "text": [
      "Classifier trained for option N.Y.C._Hour_12\n"
     ]
    },
    {
     "name": "stderr",
     "output_type": "stream",
     "text": [
      "/Users/ab/opt/anaconda3/lib/python3.7/site-packages/sklearn/neural_network/multilayer_perceptron.py:566: ConvergenceWarning: Stochastic Optimizer: Maximum iterations (200) reached and the optimization hasn't converged yet.\n",
      "  % self.max_iter, ConvergenceWarning)\n"
     ]
    },
    {
     "name": "stdout",
     "output_type": "stream",
     "text": [
      "Classifier trained for option N.Y.C._Hour_13\n",
      "Classifier trained for option N.Y.C._Hour_14\n",
      "Classifier trained for option N.Y.C._Hour_15\n"
     ]
    },
    {
     "name": "stderr",
     "output_type": "stream",
     "text": [
      "/Users/ab/opt/anaconda3/lib/python3.7/site-packages/sklearn/neural_network/multilayer_perceptron.py:566: ConvergenceWarning: Stochastic Optimizer: Maximum iterations (200) reached and the optimization hasn't converged yet.\n",
      "  % self.max_iter, ConvergenceWarning)\n"
     ]
    },
    {
     "name": "stdout",
     "output_type": "stream",
     "text": [
      "Classifier trained for option N.Y.C._Hour_16\n"
     ]
    },
    {
     "name": "stderr",
     "output_type": "stream",
     "text": [
      "/Users/ab/opt/anaconda3/lib/python3.7/site-packages/sklearn/neural_network/multilayer_perceptron.py:566: ConvergenceWarning: Stochastic Optimizer: Maximum iterations (200) reached and the optimization hasn't converged yet.\n",
      "  % self.max_iter, ConvergenceWarning)\n"
     ]
    },
    {
     "name": "stdout",
     "output_type": "stream",
     "text": [
      "Classifier trained for option N.Y.C._Hour_17\n",
      "Classifier trained for option N.Y.C._Hour_18\n",
      "Classifier trained for option N.Y.C._Hour_19\n",
      "Classifier trained for option N.Y.C._Hour_20\n",
      "Classifier trained for option N.Y.C._Hour_21\n",
      "Classifier trained for option N.Y.C._Hour_22\n",
      "Classifier trained for option N.Y.C._Hour_23\n",
      "Classifier trained for option NORTH_Hour_0\n",
      "Classifier trained for option NORTH_Hour_1\n",
      "Classifier trained for option NORTH_Hour_2\n"
     ]
    },
    {
     "name": "stderr",
     "output_type": "stream",
     "text": [
      "/Users/ab/opt/anaconda3/lib/python3.7/site-packages/sklearn/neural_network/multilayer_perceptron.py:566: ConvergenceWarning: Stochastic Optimizer: Maximum iterations (200) reached and the optimization hasn't converged yet.\n",
      "  % self.max_iter, ConvergenceWarning)\n"
     ]
    },
    {
     "name": "stdout",
     "output_type": "stream",
     "text": [
      "Classifier trained for option NORTH_Hour_3\n",
      "Classifier trained for option NORTH_Hour_4\n",
      "Classifier trained for option NORTH_Hour_5\n",
      "Classifier trained for option NORTH_Hour_6\n",
      "Classifier trained for option NORTH_Hour_7\n"
     ]
    },
    {
     "name": "stderr",
     "output_type": "stream",
     "text": [
      "/Users/ab/opt/anaconda3/lib/python3.7/site-packages/sklearn/neural_network/multilayer_perceptron.py:566: ConvergenceWarning: Stochastic Optimizer: Maximum iterations (200) reached and the optimization hasn't converged yet.\n",
      "  % self.max_iter, ConvergenceWarning)\n"
     ]
    },
    {
     "name": "stdout",
     "output_type": "stream",
     "text": [
      "Classifier trained for option NORTH_Hour_8\n"
     ]
    },
    {
     "name": "stderr",
     "output_type": "stream",
     "text": [
      "/Users/ab/opt/anaconda3/lib/python3.7/site-packages/sklearn/neural_network/multilayer_perceptron.py:566: ConvergenceWarning: Stochastic Optimizer: Maximum iterations (200) reached and the optimization hasn't converged yet.\n",
      "  % self.max_iter, ConvergenceWarning)\n"
     ]
    },
    {
     "name": "stdout",
     "output_type": "stream",
     "text": [
      "Classifier trained for option NORTH_Hour_9\n",
      "Classifier trained for option NORTH_Hour_10\n",
      "Classifier trained for option NORTH_Hour_11\n"
     ]
    },
    {
     "name": "stderr",
     "output_type": "stream",
     "text": [
      "/Users/ab/opt/anaconda3/lib/python3.7/site-packages/sklearn/neural_network/multilayer_perceptron.py:566: ConvergenceWarning: Stochastic Optimizer: Maximum iterations (200) reached and the optimization hasn't converged yet.\n",
      "  % self.max_iter, ConvergenceWarning)\n"
     ]
    },
    {
     "name": "stdout",
     "output_type": "stream",
     "text": [
      "Classifier trained for option NORTH_Hour_12\n",
      "Classifier trained for option NORTH_Hour_13\n",
      "Classifier trained for option NORTH_Hour_14\n",
      "Classifier trained for option NORTH_Hour_15\n",
      "Classifier trained for option NORTH_Hour_16\n"
     ]
    },
    {
     "name": "stderr",
     "output_type": "stream",
     "text": [
      "/Users/ab/opt/anaconda3/lib/python3.7/site-packages/sklearn/neural_network/multilayer_perceptron.py:566: ConvergenceWarning: Stochastic Optimizer: Maximum iterations (200) reached and the optimization hasn't converged yet.\n",
      "  % self.max_iter, ConvergenceWarning)\n"
     ]
    },
    {
     "name": "stdout",
     "output_type": "stream",
     "text": [
      "Classifier trained for option NORTH_Hour_17\n",
      "Classifier trained for option NORTH_Hour_18\n",
      "Classifier trained for option NORTH_Hour_19\n"
     ]
    },
    {
     "name": "stderr",
     "output_type": "stream",
     "text": [
      "/Users/ab/opt/anaconda3/lib/python3.7/site-packages/sklearn/neural_network/multilayer_perceptron.py:566: ConvergenceWarning: Stochastic Optimizer: Maximum iterations (200) reached and the optimization hasn't converged yet.\n",
      "  % self.max_iter, ConvergenceWarning)\n"
     ]
    },
    {
     "name": "stdout",
     "output_type": "stream",
     "text": [
      "Classifier trained for option NORTH_Hour_20\n",
      "Classifier trained for option NORTH_Hour_21\n",
      "Classifier trained for option NORTH_Hour_22\n",
      "Classifier trained for option NORTH_Hour_23\n"
     ]
    },
    {
     "name": "stderr",
     "output_type": "stream",
     "text": [
      "/Users/ab/opt/anaconda3/lib/python3.7/site-packages/sklearn/neural_network/multilayer_perceptron.py:566: ConvergenceWarning: Stochastic Optimizer: Maximum iterations (200) reached and the optimization hasn't converged yet.\n",
      "  % self.max_iter, ConvergenceWarning)\n"
     ]
    },
    {
     "name": "stdout",
     "output_type": "stream",
     "text": [
      "Classifier trained for option WEST_Hour_0\n",
      "Classifier trained for option WEST_Hour_1\n",
      "Classifier trained for option WEST_Hour_2\n",
      "Classifier trained for option WEST_Hour_3\n",
      "Classifier trained for option WEST_Hour_4\n",
      "Classifier trained for option WEST_Hour_5\n",
      "Classifier trained for option WEST_Hour_6\n",
      "Classifier trained for option WEST_Hour_7\n",
      "Classifier trained for option WEST_Hour_8\n",
      "Classifier trained for option WEST_Hour_9\n",
      "Classifier trained for option WEST_Hour_10\n"
     ]
    },
    {
     "name": "stderr",
     "output_type": "stream",
     "text": [
      "/Users/ab/opt/anaconda3/lib/python3.7/site-packages/sklearn/neural_network/multilayer_perceptron.py:566: ConvergenceWarning: Stochastic Optimizer: Maximum iterations (200) reached and the optimization hasn't converged yet.\n",
      "  % self.max_iter, ConvergenceWarning)\n"
     ]
    },
    {
     "name": "stdout",
     "output_type": "stream",
     "text": [
      "Classifier trained for option WEST_Hour_11\n",
      "Classifier trained for option WEST_Hour_12\n"
     ]
    },
    {
     "name": "stderr",
     "output_type": "stream",
     "text": [
      "/Users/ab/opt/anaconda3/lib/python3.7/site-packages/sklearn/neural_network/multilayer_perceptron.py:566: ConvergenceWarning: Stochastic Optimizer: Maximum iterations (200) reached and the optimization hasn't converged yet.\n",
      "  % self.max_iter, ConvergenceWarning)\n"
     ]
    },
    {
     "name": "stdout",
     "output_type": "stream",
     "text": [
      "Classifier trained for option WEST_Hour_13\n",
      "Classifier trained for option WEST_Hour_14\n",
      "Classifier trained for option WEST_Hour_15\n",
      "Classifier trained for option WEST_Hour_16\n",
      "Classifier trained for option WEST_Hour_17\n",
      "Classifier trained for option WEST_Hour_18\n"
     ]
    },
    {
     "name": "stderr",
     "output_type": "stream",
     "text": [
      "/Users/ab/opt/anaconda3/lib/python3.7/site-packages/sklearn/neural_network/multilayer_perceptron.py:566: ConvergenceWarning: Stochastic Optimizer: Maximum iterations (200) reached and the optimization hasn't converged yet.\n",
      "  % self.max_iter, ConvergenceWarning)\n"
     ]
    },
    {
     "name": "stdout",
     "output_type": "stream",
     "text": [
      "Classifier trained for option WEST_Hour_19\n"
     ]
    },
    {
     "name": "stderr",
     "output_type": "stream",
     "text": [
      "/Users/ab/opt/anaconda3/lib/python3.7/site-packages/sklearn/neural_network/multilayer_perceptron.py:566: ConvergenceWarning: Stochastic Optimizer: Maximum iterations (200) reached and the optimization hasn't converged yet.\n",
      "  % self.max_iter, ConvergenceWarning)\n"
     ]
    },
    {
     "name": "stdout",
     "output_type": "stream",
     "text": [
      "Classifier trained for option WEST_Hour_20\n",
      "Classifier trained for option WEST_Hour_21\n"
     ]
    },
    {
     "name": "stderr",
     "output_type": "stream",
     "text": [
      "/Users/ab/opt/anaconda3/lib/python3.7/site-packages/sklearn/neural_network/multilayer_perceptron.py:566: ConvergenceWarning: Stochastic Optimizer: Maximum iterations (200) reached and the optimization hasn't converged yet.\n",
      "  % self.max_iter, ConvergenceWarning)\n"
     ]
    },
    {
     "name": "stdout",
     "output_type": "stream",
     "text": [
      "Classifier trained for option WEST_Hour_22\n",
      "Classifier trained for option WEST_Hour_23\n",
      "\n",
      "Overall training accuracy = 99.96 percent.\n"
     ]
    }
   ],
   "source": [
    "classifiers = []\n",
    "\n",
    "# We have two options here. Use previous training experience, or learn anew.\n",
    "useSavedClassifiers = False\n",
    "\n",
    "if not useSavedClassifiers:\n",
    "\n",
    "    print(\"Starting training module...\\n\")\n",
    "    trainPriceDA, trainPriceDART, trainLoadDA = loadNYISOData(2015)\n",
    "\n",
    "    numberOfDays =  int(len(trainPriceDA.index))\n",
    "    print(\"Loaded hourly prices from 2015 for %d days.\" % numberOfDays)\n",
    "\n",
    "    # We will implement a trading strategy, where we bid a particular quantile of the past\n",
    "    # DA prices for an option. If you do not know what a quantile means, refer to the Wikipedia\n",
    "    # article on it. Essentially, a 95% quantile of the DA prices equals that value for which\n",
    "    # 95% of the DA prices are below it. Store all quantiles starting from 50% in steps of\n",
    "    # 5% in a dictionary. Store them in a pickle file.\n",
    "\n",
    "    quantilesToStore = [0.70, 0.75, 0.80, 0.85, 0.90, 0.95]\n",
    "    offerPrices = trainPriceDA.quantile(q=quantilesToStore).transpose().to_dict()\n",
    "    pickle.dump(offerPrices, open(\"./Training/OfferPrices\", 'wb'))\n",
    "\n",
    "    # Calculate the average price spread for each option over the entire year. This will guide\n",
    "    # us in choosing our portfolio. Store it as a dictionary. Our bid will choose those\n",
    "    # options that our classifier indicates that they will be profitable and historically they\n",
    "    # have higher average price differences, indicating that they have higher rate of return.\n",
    "    # Store them using pickle.\n",
    "\n",
    "    averagePriceSpread = trainPriceDART.mean(axis=0).transpose().to_dict()\n",
    "    pickle.dump(averagePriceSpread, open(\"./Training/AveragePriceSpread\", 'wb'))\n",
    "\n",
    "    # Create the training dataset using the function 'createClassifierIO' on the prices and\n",
    "    # loads, and store them in 'trainX', and 'trainY'.\n",
    "\n",
    "    trainX, trainY, _ = createClassifierIO(trainPriceDA, trainPriceDART, trainLoadDA)\n",
    "\n",
    "    # Define a collection of classifiers, one for each option. You can try different options, such\n",
    "    # as that based on an SVM, logistic regression, multilayer perceptron based, etc. We will\n",
    "    # measure training accuracy to indicate how well the classifier works on the training dataset.\n",
    "    # However, good training accuracy does not always indicate good test performance.\n",
    "    # Avoid over-fitting.\n",
    "\n",
    "\n",
    "    classifiers = [MLPClassifier(hidden_layer_sizes=(20, 10), max_iter=200)\n",
    "                   for _ in range(nOptions)]\n",
    "\n",
    "    trainingAccuracy = 0\n",
    "\n",
    "    for ii in range(nOptions):\n",
    "        classifiers[ii].fit(trainX, trainY[:, ii])\n",
    "        print(\"Classifier trained for option \" + optionNames[ii])\n",
    "        trainingAccuracy += classifiers[ii].score(trainX, trainY[:, ii])\n",
    "\n",
    "        # Store the classifier.\n",
    "        pickle.dump(classifiers[ii], open(\"./Training/Classifier_\" + optionNames[ii], 'wb'))\n",
    "\n",
    "    print(\"\\nOverall training accuracy = %1.2f percent.\" % (100 * trainingAccuracy/nOptions))\n",
    "\n",
    "    del numberOfDays, trainPriceDA, trainLoadDA, trainPriceDART, trainX, trainY\n",
    "else:\n",
    "\n",
    "    # Load the classifiers, the offer prices at various quantiles, and the average price spreads.\n",
    "\n",
    "    print(\"Loading previously trained variables...\\n\")\n",
    "    classifiers = [pickle.load(open(\"./Training/Classifier_\" + optionNames[ii], 'rb'))\n",
    "                   for ii in range(nOptions)]\n",
    "    offerPrices = pickle.load(open(\"./Training/OfferPrices\", 'rb'))\n",
    "    averagePriceSpread = pickle.load(open(\"./Training/AveragePriceSpread\", 'rb'))\n",
    "\n",
    "    print(\"All training variables were loaded successfully...\\n\")"
   ]
  },
  {
   "cell_type": "markdown",
   "metadata": {},
   "source": [
    "### Test the classifier's accuracy on test data."
   ]
  },
  {
   "cell_type": "code",
   "execution_count": 40,
   "metadata": {},
   "outputs": [
    {
     "name": "stdout",
     "output_type": "stream",
     "text": [
      "Starting the testing module...\n",
      "\n",
      "Test Accuracy Stats: Min = 49.59%, Avg = 59.01%, Max = 69.70%\n"
     ]
    }
   ],
   "source": [
    "# First, load the test data from NYISO for the year 2016. Again, utilize our function\n",
    "# named 'loadNYISOData'.\n",
    "\n",
    "print(\"Starting the testing module...\\n\")\n",
    "testPriceDA, testPriceDART, testLoadDA = loadNYISOData(2016)\n",
    "\n",
    "# Create the data for the classifier using the function 'createClassifierIO'.\n",
    "testX, testY, rangeOfDays = createClassifierIO(testPriceDA, testPriceDART, testLoadDA)\n",
    "\n",
    "# The next step is not useful for implementing the trading strategy, but quickly check how accurate\n",
    "# your trained classifiers are for the test data. Training accuracy is not always indicative of\n",
    "# test accuracy.\n",
    "\n",
    "testingAccuracy = [classifiers[ii].score(testX, testY[:, ii]) for ii in range(nOptions)]\n",
    "print(\"Test Accuracy Stats: Min = %.2f%%, Avg = %.2f%%, Max = %.2f%%\" %\n",
    "      (100 * np.min(testingAccuracy),\n",
    "       100 * np.mean(testingAccuracy),\n",
    "       100 * np.max(testingAccuracy)))\n",
    "\n",
    "# Utilize the classifiers to predict the sign of DA - RT prices for each day in 'rangeOfDays' for\n",
    "# the test data. Store the result in a pandas data frame with columns as the option names and the\n",
    "# day in year as index.\n",
    "predictedY = pd.DataFrame(np.column_stack([classifiers[ii].predict(testX) for ii in range(nOptions)]),\n",
    "                          columns=optionNames, index=rangeOfDays)"
   ]
  },
  {
   "cell_type": "markdown",
   "metadata": {},
   "source": [
    "## Design and implement the trading strategy. \n",
    "\n",
    "We define a fairly simple trading strategy. Define a total budget that you are willing to spend in the DA market. Recall that we only invest in\n",
    "options where we buy at the DA market and sell at the RT market. When your bid for one unit of an option\n",
    "clears in the DA market, you have to pay the DA price for that option. There are two possibilities:\n",
    "  1. Your bid clears: Therefore, your offer price was higher than the DA price.\n",
    "  2. Your bid does not clear: Then, the DA price was higher than your bid.\n",
    "In both these cases, the maximum you have to pay is your bid. Therefore, we will enforce that your bids\n",
    "across all options in a day does not exceed your total budget.\n",
    "Keep track of how rewards grow (or fall) through the year\n",
    "as you utilize your strategy. Also, keep track of how much rewards you get from each option. We shall\n",
    "visualize these results after implementing the trading strategy over the NYISO data for 2016.\n",
    "\n",
    "Choose the bid prices as a suitable quantile of the historical DA prices. The higher the quantile, the\n",
    "better your chances are that your bid will be cleared. However, a higher quantile also indicates that\n",
    "you are budgeting more money for each option, and hence, you will buy fewer options."
   ]
  },
  {
   "cell_type": "code",
   "execution_count": 41,
   "metadata": {
    "scrolled": false
   },
   "outputs": [
    {
     "name": "stdout",
     "output_type": "stream",
     "text": [
      "Day 3: Reward (in $) = -65,742\n",
      "Day 4: Reward (in $) = 1,367,406\n",
      "Day 5: Reward (in $) = -2,519\n",
      "Day 6: Reward (in $) = -39,293\n",
      "Day 7: Reward (in $) = -14,461\n",
      "Day 8: Reward (in $) = -43,030\n",
      "Day 9: Reward (in $) = -44,715\n",
      "Day 10: Reward (in $) = -115,100\n",
      "Day 11: Reward (in $) = -51,728\n",
      "Day 12: Reward (in $) = -60,051\n",
      "Day 13: Reward (in $) = -36,754\n",
      "Day 14: Reward (in $) = -35,803\n",
      "Day 15: Reward (in $) = -1,370\n",
      "Day 16: Reward (in $) = 42,522\n",
      "Day 17: Reward (in $) = -68,900\n",
      "Day 18: Reward (in $) = -23,761\n",
      "Day 19: Reward (in $) = 10,590\n",
      "Day 20: Reward (in $) = -13,220\n",
      "Day 21: Reward (in $) = 31,071\n",
      "Day 22: Reward (in $) = 90,617\n",
      "Day 23: Reward (in $) = 35,889\n",
      "Day 24: Reward (in $) = -89,081\n",
      "Day 25: Reward (in $) = -54,893\n",
      "Day 26: Reward (in $) = -32,249\n",
      "Day 27: Reward (in $) = -8,352\n",
      "Day 28: Reward (in $) = -15,842\n",
      "Day 29: Reward (in $) = -29,361\n",
      "Day 30: Reward (in $) = -70,670\n",
      "Day 31: Reward (in $) = -43,176\n",
      "Day 32: Reward (in $) = -4,601\n",
      "Day 33: Reward (in $) = -183,104\n",
      "Day 34: Reward (in $) = 2,456\n",
      "Day 35: Reward (in $) = 55,066\n",
      "Day 36: Reward (in $) = -38,348\n",
      "Day 37: Reward (in $) = -41,890\n",
      "Day 38: Reward (in $) = 13,823\n",
      "Day 39: Reward (in $) = 6,099\n",
      "Day 40: Reward (in $) = -37,388\n",
      "Day 41: Reward (in $) = -44,223\n",
      "Day 42: Reward (in $) = -14,114\n",
      "Day 43: Reward (in $) = -57,288\n",
      "Day 44: Reward (in $) = -21,983\n",
      "Day 45: Reward (in $) = -19,616\n",
      "Day 46: Reward (in $) = 84,724\n",
      "Day 47: Reward (in $) = 47,624\n",
      "Day 48: Reward (in $) = -59,122\n",
      "Day 49: Reward (in $) = -34,490\n",
      "Day 50: Reward (in $) = -52,148\n",
      "Day 51: Reward (in $) = 3,990\n",
      "Day 52: Reward (in $) = -19,962\n",
      "Day 53: Reward (in $) = -576\n",
      "Day 54: Reward (in $) = 5,781\n",
      "Day 55: Reward (in $) = -3,915\n",
      "Day 56: Reward (in $) = -40,561\n",
      "Day 57: Reward (in $) = -29,957\n",
      "Day 58: Reward (in $) = -19,320\n",
      "Day 59: Reward (in $) = -16,272\n",
      "Day 60: Reward (in $) = -35,818\n",
      "Day 61: Reward (in $) = -129,472\n",
      "Day 62: Reward (in $) = -3,404\n",
      "Day 63: Reward (in $) = -11,997\n",
      "Day 64: Reward (in $) = -35,372\n",
      "Day 65: Reward (in $) = 54,563\n",
      "Day 66: Reward (in $) = 73,134\n",
      "Day 67: Reward (in $) = -5,902\n",
      "Day 68: Reward (in $) = -40,305\n",
      "Day 69: Reward (in $) = -41,793\n",
      "Day 70: Reward (in $) = 21,840\n",
      "Day 71: Reward (in $) = -4,839\n",
      "Day 72: Reward (in $) = -12,732\n",
      "Day 73: Reward (in $) = -54,712\n",
      "Day 74: Reward (in $) = 792,271\n",
      "Day 75: Reward (in $) = -1,984\n",
      "Day 76: Reward (in $) = -110,737\n",
      "Day 77: Reward (in $) = -70,407\n",
      "Day 78: Reward (in $) = -28,842\n",
      "Day 79: Reward (in $) = 52,521\n",
      "Day 80: Reward (in $) = -81,194\n",
      "Day 81: Reward (in $) = 17,277\n",
      "Day 82: Reward (in $) = 164,454\n",
      "Day 83: Reward (in $) = -13,190\n",
      "Day 84: Reward (in $) = -6,572\n",
      "Day 85: Reward (in $) = 29,501\n",
      "Day 86: Reward (in $) = -34,811\n",
      "Day 87: Reward (in $) = 3,014,414\n",
      "Day 88: Reward (in $) = 967,984\n",
      "Day 89: Reward (in $) = -45,004\n",
      "Day 90: Reward (in $) = -20,938\n",
      "Day 91: Reward (in $) = -8,915\n",
      "Day 92: Reward (in $) = -35,094\n",
      "Day 93: Reward (in $) = -52,972\n",
      "Day 94: Reward (in $) = 8,792\n",
      "Day 95: Reward (in $) = -6,366\n",
      "Day 96: Reward (in $) = 108,113\n",
      "Day 97: Reward (in $) = 15,535\n",
      "Day 98: Reward (in $) = 6,426\n",
      "Day 99: Reward (in $) = -43,060\n",
      "Day 100: Reward (in $) = -24,995\n",
      "Day 101: Reward (in $) = -24,891\n",
      "Day 102: Reward (in $) = -14,692\n",
      "Day 103: Reward (in $) = 201,361\n",
      "Day 104: Reward (in $) = -4,061\n",
      "Day 105: Reward (in $) = -3,543\n",
      "Day 106: Reward (in $) = -134,071\n",
      "Day 107: Reward (in $) = -23,892\n",
      "Day 108: Reward (in $) = 36,984\n",
      "Day 109: Reward (in $) = -31,221\n",
      "Day 110: Reward (in $) = -10,497\n",
      "Day 111: Reward (in $) = 51,036\n",
      "Day 112: Reward (in $) = 138,832\n",
      "Day 113: Reward (in $) = -38,737\n",
      "Day 114: Reward (in $) = -65,794\n",
      "Day 115: Reward (in $) = -54,538\n",
      "Day 116: Reward (in $) = 37,554\n",
      "Day 117: Reward (in $) = -15,289\n",
      "Day 118: Reward (in $) = 1,739\n",
      "Day 119: Reward (in $) = -6,945\n",
      "Day 120: Reward (in $) = 35,868\n",
      "Day 121: Reward (in $) = 39,665\n",
      "Day 122: Reward (in $) = -32,090\n",
      "Day 123: Reward (in $) = -2,620\n",
      "Day 124: Reward (in $) = 6,314\n",
      "Day 125: Reward (in $) = -34,641\n",
      "Day 126: Reward (in $) = -71,747\n",
      "Day 127: Reward (in $) = -33,514\n",
      "Day 128: Reward (in $) = -55,436\n",
      "Day 129: Reward (in $) = -98,684\n",
      "Day 130: Reward (in $) = -25,437\n",
      "Day 131: Reward (in $) = 17,502\n",
      "Day 132: Reward (in $) = 26,568\n",
      "Day 133: Reward (in $) = 4,561\n",
      "Day 134: Reward (in $) = -57,929\n",
      "Day 135: Reward (in $) = -14,209\n",
      "Day 136: Reward (in $) = -35,753\n",
      "Day 137: Reward (in $) = -54,315\n",
      "Day 138: Reward (in $) = -104,879\n",
      "Day 139: Reward (in $) = 4,859\n",
      "Day 140: Reward (in $) = -43,556\n",
      "Day 141: Reward (in $) = 3,871\n",
      "Day 142: Reward (in $) = 25,192\n",
      "Day 143: Reward (in $) = 2,435\n",
      "Day 144: Reward (in $) = -38,842\n",
      "Day 145: Reward (in $) = -57,133\n",
      "Day 146: Reward (in $) = -17,725\n",
      "Day 147: Reward (in $) = -71,815\n",
      "Day 148: Reward (in $) = 416,481\n",
      "Day 149: Reward (in $) = -8,754\n",
      "Day 150: Reward (in $) = 70,743\n",
      "Day 151: Reward (in $) = 468,681\n",
      "Day 152: Reward (in $) = 407,104\n",
      "Day 153: Reward (in $) = 80,702\n",
      "Day 154: Reward (in $) = 35,250\n",
      "Day 155: Reward (in $) = -23,731\n",
      "Day 156: Reward (in $) = -40,071\n",
      "Day 157: Reward (in $) = -2,463\n",
      "Day 158: Reward (in $) = -85,916\n",
      "Day 159: Reward (in $) = -77,144\n",
      "Day 160: Reward (in $) = -145,295\n",
      "Day 161: Reward (in $) = 2,049\n",
      "Day 162: Reward (in $) = 63,220\n",
      "Day 163: Reward (in $) = 34,547\n",
      "Day 164: Reward (in $) = -73,412\n",
      "Day 165: Reward (in $) = 512,196\n",
      "Day 166: Reward (in $) = 5,952\n",
      "Day 167: Reward (in $) = 29,988\n",
      "Day 168: Reward (in $) = -678\n",
      "Day 169: Reward (in $) = 14,090\n",
      "Day 170: Reward (in $) = -47,286\n",
      "Day 171: Reward (in $) = -4,417\n",
      "Day 172: Reward (in $) = -2,036\n",
      "Day 173: Reward (in $) = 220,288\n",
      "Day 174: Reward (in $) = 9,387\n",
      "Day 175: Reward (in $) = 20,930\n",
      "Day 176: Reward (in $) = -15,160\n",
      "Day 177: Reward (in $) = -37,487\n",
      "Day 178: Reward (in $) = -1,822\n",
      "Day 179: Reward (in $) = -6,107\n",
      "Day 180: Reward (in $) = -39,078\n",
      "Day 181: Reward (in $) = -23,153\n",
      "Day 182: Reward (in $) = 3,773\n",
      "Day 183: Reward (in $) = -86,580\n",
      "Day 184: Reward (in $) = -63,306\n",
      "Day 185: Reward (in $) = -22,373\n",
      "Day 186: Reward (in $) = 104,151\n",
      "Day 187: Reward (in $) = 3,927\n",
      "Day 188: Reward (in $) = 21\n",
      "Day 189: Reward (in $) = 0\n",
      "Day 190: Reward (in $) = -112,352\n",
      "Day 191: Reward (in $) = -26,728\n",
      "Day 192: Reward (in $) = -9,765\n",
      "Day 193: Reward (in $) = -59,028\n",
      "Day 194: Reward (in $) = -57\n",
      "Day 195: Reward (in $) = 1,518\n",
      "Day 196: Reward (in $) = 8,295\n",
      "Day 197: Reward (in $) = 9,569\n",
      "Day 198: Reward (in $) = -2,789\n",
      "Day 199: Reward (in $) = -18\n",
      "Day 200: Reward (in $) = -11,640\n",
      "Day 201: Reward (in $) = -23,024\n",
      "Day 202: Reward (in $) = 265\n",
      "Day 203: Reward (in $) = 724\n",
      "Day 204: Reward (in $) = -15,461\n",
      "Day 205: Reward (in $) = -3,319\n",
      "Day 206: Reward (in $) = -752\n",
      "Day 207: Reward (in $) = -3,445\n",
      "Day 208: Reward (in $) = -531\n",
      "Day 209: Reward (in $) = 7,669\n",
      "Day 210: Reward (in $) = 8,255\n",
      "Day 211: Reward (in $) = 65,474\n",
      "Day 212: Reward (in $) = 11,211\n",
      "Day 213: Reward (in $) = -3,390\n",
      "Day 214: Reward (in $) = -2,607\n",
      "Day 215: Reward (in $) = -4,312\n",
      "Day 216: Reward (in $) = 6,319\n",
      "Day 217: Reward (in $) = 2,519\n",
      "Day 218: Reward (in $) = 54,813\n",
      "Day 219: Reward (in $) = -18,142\n",
      "Day 220: Reward (in $) = -1,900\n",
      "Day 221: Reward (in $) = -17,871\n",
      "Day 222: Reward (in $) = 14,607\n",
      "Day 223: Reward (in $) = 1,974\n",
      "Day 224: Reward (in $) = -177\n",
      "Day 225: Reward (in $) = -837\n",
      "Day 226: Reward (in $) = -16,634\n",
      "Day 227: Reward (in $) = -847\n",
      "Day 228: Reward (in $) = 372,717\n",
      "Day 229: Reward (in $) = 545\n",
      "Day 230: Reward (in $) = -3,051\n",
      "Day 231: Reward (in $) = -525\n",
      "Day 232: Reward (in $) = 81,916\n",
      "Day 233: Reward (in $) = -93,864\n",
      "Day 234: Reward (in $) = -102,386\n",
      "Day 235: Reward (in $) = -72,154\n",
      "Day 236: Reward (in $) = 133,597\n",
      "Day 237: Reward (in $) = 17,002\n",
      "Day 238: Reward (in $) = -821\n",
      "Day 239: Reward (in $) = -47,486\n",
      "Day 240: Reward (in $) = -1,016\n",
      "Day 241: Reward (in $) = -72\n",
      "Day 242: Reward (in $) = -99,023\n",
      "Day 243: Reward (in $) = 3,427\n",
      "Day 244: Reward (in $) = -8,717\n",
      "Day 245: Reward (in $) = -85,233\n",
      "Day 246: Reward (in $) = -38,010\n",
      "Day 247: Reward (in $) = -12,728\n",
      "Day 248: Reward (in $) = -35,009\n",
      "Day 249: Reward (in $) = -30,224\n",
      "Day 250: Reward (in $) = -20,041\n",
      "Day 251: Reward (in $) = 86\n",
      "Day 252: Reward (in $) = -77\n",
      "Day 253: Reward (in $) = 124,510\n",
      "Day 254: Reward (in $) = -13,670\n",
      "Day 255: Reward (in $) = -40,522\n",
      "Day 256: Reward (in $) = -2,502\n",
      "Day 257: Reward (in $) = -9,606\n",
      "Day 258: Reward (in $) = -22,094\n",
      "Day 259: Reward (in $) = -41,863\n"
     ]
    },
    {
     "name": "stdout",
     "output_type": "stream",
     "text": [
      "Day 260: Reward (in $) = -20,605\n",
      "Day 261: Reward (in $) = 13,540\n",
      "Day 262: Reward (in $) = 8,167\n",
      "Day 263: Reward (in $) = -30,625\n",
      "Day 264: Reward (in $) = -34,114\n",
      "Day 265: Reward (in $) = -3,156\n",
      "Day 266: Reward (in $) = -15,339\n",
      "Day 267: Reward (in $) = -17,977\n",
      "Day 268: Reward (in $) = -24,418\n",
      "Day 269: Reward (in $) = -88,322\n",
      "Day 270: Reward (in $) = -74,108\n",
      "Day 271: Reward (in $) = -58,098\n",
      "Day 272: Reward (in $) = -20,063\n",
      "Day 273: Reward (in $) = -56,623\n",
      "Day 274: Reward (in $) = 20,145\n",
      "Day 275: Reward (in $) = 29,825\n",
      "Day 276: Reward (in $) = 11,993\n",
      "Day 277: Reward (in $) = 61,236\n",
      "Day 278: Reward (in $) = 174,544\n",
      "Day 279: Reward (in $) = 94,220\n",
      "Day 280: Reward (in $) = 21,918\n",
      "Day 281: Reward (in $) = -6,662\n",
      "Day 282: Reward (in $) = -2,567\n",
      "Day 283: Reward (in $) = -4,018\n",
      "Day 284: Reward (in $) = 21,841\n",
      "Day 285: Reward (in $) = -65,817\n",
      "Day 286: Reward (in $) = -54,708\n",
      "Day 287: Reward (in $) = -45,523\n",
      "Day 288: Reward (in $) = 13,199\n",
      "Day 289: Reward (in $) = 20,379\n",
      "Day 290: Reward (in $) = 6,477\n",
      "Day 291: Reward (in $) = -17,051\n",
      "Day 292: Reward (in $) = -9,551\n",
      "Day 293: Reward (in $) = -9,548\n",
      "Day 294: Reward (in $) = 34,551\n",
      "Day 295: Reward (in $) = -11,776\n",
      "Day 296: Reward (in $) = -32,492\n",
      "Day 297: Reward (in $) = -37,730\n",
      "Day 298: Reward (in $) = -24,114\n",
      "Day 299: Reward (in $) = -23,579\n",
      "Day 300: Reward (in $) = -30,773\n",
      "Day 301: Reward (in $) = -11,590\n",
      "Day 302: Reward (in $) = -19,858\n",
      "Day 303: Reward (in $) = 7,153\n",
      "Day 304: Reward (in $) = -25,417\n",
      "Day 305: Reward (in $) = -16,788\n",
      "Day 306: Reward (in $) = -7,841\n",
      "Day 307: Reward (in $) = 5,431\n",
      "Day 308: Reward (in $) = -45,124\n",
      "Day 309: Reward (in $) = 9,154\n",
      "Day 310: Reward (in $) = 520\n",
      "Day 311: Reward (in $) = -30,498\n",
      "Day 312: Reward (in $) = 155,691\n",
      "Day 313: Reward (in $) = -8,641\n",
      "Day 314: Reward (in $) = -37,595\n",
      "Day 315: Reward (in $) = -39,560\n",
      "Day 316: Reward (in $) = -23,004\n",
      "Day 317: Reward (in $) = -37,011\n",
      "Day 318: Reward (in $) = -11,992\n",
      "Day 319: Reward (in $) = 550\n",
      "Day 320: Reward (in $) = 14,620\n",
      "Day 321: Reward (in $) = 14,950\n",
      "Day 322: Reward (in $) = 2,099\n",
      "Day 323: Reward (in $) = 8,446\n",
      "Day 324: Reward (in $) = 16,682\n",
      "Day 325: Reward (in $) = -25,738\n",
      "Day 326: Reward (in $) = -7,104\n",
      "Day 327: Reward (in $) = -6,281\n",
      "Day 328: Reward (in $) = 93,816\n",
      "Day 329: Reward (in $) = 39,027\n",
      "Day 330: Reward (in $) = 6,535\n",
      "Day 331: Reward (in $) = -11,387\n",
      "Day 332: Reward (in $) = -50,897\n",
      "Day 333: Reward (in $) = -72,448\n",
      "Day 334: Reward (in $) = -4,777\n",
      "Day 335: Reward (in $) = -10,634\n",
      "Day 336: Reward (in $) = -14,287\n",
      "Day 337: Reward (in $) = 9,109\n",
      "Day 338: Reward (in $) = -11,973\n",
      "Day 339: Reward (in $) = -19,181\n",
      "Day 340: Reward (in $) = -2,564\n",
      "Day 341: Reward (in $) = -40,687\n",
      "Day 342: Reward (in $) = -84,535\n",
      "Day 343: Reward (in $) = -49,608\n",
      "Day 344: Reward (in $) = 333,641\n",
      "Day 345: Reward (in $) = 95,528\n",
      "Day 346: Reward (in $) = -6,780\n",
      "Day 347: Reward (in $) = 23,258\n",
      "Day 348: Reward (in $) = -30,433\n",
      "Day 349: Reward (in $) = 84,413\n",
      "Day 350: Reward (in $) = -130\n",
      "Day 351: Reward (in $) = 136,025\n",
      "Day 352: Reward (in $) = 10,380\n",
      "Day 353: Reward (in $) = -9,827\n",
      "Day 354: Reward (in $) = -46,928\n",
      "Day 355: Reward (in $) = -85,311\n",
      "Day 356: Reward (in $) = 1,101\n",
      "Day 357: Reward (in $) = -56,731\n",
      "Day 358: Reward (in $) = -30,543\n",
      "Day 359: Reward (in $) = -9,287\n",
      "Day 360: Reward (in $) = -16,386\n",
      "Day 361: Reward (in $) = -84,312\n",
      "Day 362: Reward (in $) = 22,153\n",
      "Day 363: Reward (in $) = 266,260\n",
      "Day 364: Reward (in $) = 10,407\n",
      "Day 365: Reward (in $) = -17,168\n",
      "Total money earned over the year (in $) = 5,286,623\n"
     ]
    }
   ],
   "source": [
    "dailyBudget = 250000\n",
    "quantileOffer =0.75\n",
    "\n",
    "# Keep track of your rewards in each day, a cumulative reward over the year, and a total reward over the\n",
    "# year. Also, keep track of the total reward from each option. Store them as dictionaries that are\n",
    "# indexed by day of the year.\n",
    "reward = {}\n",
    "cumulativeReward = {}\n",
    "totalReward = 0\n",
    "optionReturn = dict((option, 0) for option in optionNames)\n",
    "\n",
    "# Implement the trading strategy on each day!\n",
    "\n",
    "for day in rangeOfDays:\n",
    "\n",
    "    reward[day] = 0\n",
    "\n",
    "    # Find the options that your classifier says that should be profitable. Store the profitable option\n",
    "    # names in chosenOptions.\n",
    "    chosenOptionNumbers = np.ravel(list(np.nonzero(predictedY.loc[day].values)))\n",
    "    if np.size(chosenOptionNumbers) == 0:\n",
    "        continue\n",
    "    chosenOptions = [optionNames[i] for i in chosenOptionNumbers]\n",
    "\n",
    "    # Design the portfolio based on average price spreads. Our strategy is that as long as you have not\n",
    "    # exceeded your daily budget, pick an option from the list of 'chosenOptions' probabilistically, where\n",
    "    # the probability of choosing it is proportional to exponential(historical rewards of that option). That\n",
    "    # is, a historically profitable option is chosen more often than one that is not. Keep sampling and\n",
    "    # decreasing your budget with each bid.\n",
    "\n",
    "    # Start with an empty portfolio.\n",
    "\n",
    "    portfolio = dict((option, 0) for option in chosenOptions)\n",
    "\n",
    "    # Calculate the probabilities of choosing each option among the list 'chosenOptions'. Recall that\n",
    "    # 'chosenOptions' contains the options that your classifier indicates as being profitable.\n",
    "    priceSpreads = [1.0 * averagePriceSpread[option] for option in chosenOptions]\n",
    "    probabilityOptions = [np.exp(p) for p in priceSpreads]\n",
    "    probabilityOptions /= np.sum(probabilityOptions)\n",
    "\n",
    "    # Start with your daily budget.\n",
    "    budget = dailyBudget\n",
    "\n",
    "    # Sampling among the profitable options and bid based on them.\n",
    "    while budget > np.median([offerPrices[quantileOffer][option] for option in chosenOptions]):\n",
    "\n",
    "        optionToBuy = choice(chosenOptions, p=probabilityOptions)\n",
    "\n",
    "        if budget >= offerPrices[quantileOffer][optionToBuy]:\n",
    "            portfolio[optionToBuy] += 1\n",
    "            budget -= offerPrices[quantileOffer][optionToBuy]\n",
    "\n",
    "    # Compute the reward from the day. Go through each of the options you have decided to buy.\n",
    "    # If the DA price is lower than the bid price, then your bid is cleared. For each option you\n",
    "    # have bought, you get a reward equal to the DA - RT price.\n",
    "\n",
    "    for option in chosenOptions:\n",
    "        if testPriceDA.at[day, option] < offerPrices[quantileOffer][option]:\n",
    "            rewardOptionDay = testPriceDART.at[day, option] * portfolio[option]\n",
    "            optionReturn[option] += rewardOptionDay\n",
    "            reward[day] += rewardOptionDay\n",
    "\n",
    "    totalReward += reward[day]\n",
    "\n",
    "    # Calculate the cumulative reward in millions of dollars.\n",
    "    cumulativeReward[day] = totalReward/1000000\n",
    "\n",
    "    print(\"Day \" + str(day) + \": Reward (in $) = \" + \"{0:,.0f}\".format(reward[day]))\n",
    "\n",
    "print(\"Total money earned over the year (in $) = \" + \"{0:,.0f}\".format(totalReward))"
   ]
  },
  {
   "cell_type": "markdown",
   "metadata": {},
   "source": [
    "### Task1:  Visualize the rewards (25 points)\n",
    "\n",
    "We would like to plot the cumulative reward over the year 2016. By cumulative reward on a particular date, we mean the total reward from the start of the year till that date.\n",
    "\n",
    "Also, plot a heat map of the returns from each option. \n",
    "\n",
    "#### Fill in the missing lines below."
   ]
  },
  {
   "cell_type": "code",
   "execution_count": null,
   "metadata": {},
   "outputs": [],
   "source": []
  },
  {
   "cell_type": "code",
   "execution_count": 42,
   "metadata": {},
   "outputs": [
    {
     "data": {
      "image/png": "[encoded data removed]",
      "text/plain": [
       "<Figure size 432x288 with 3 Axes>"
      ]
     },
     "metadata": {
      "needs_background": "light"
     },
     "output_type": "display_data"
    }
   ],
   "source": [
    "# Plot the cumulative reward over the year 2016. Also, plot a heat map of the returns from\n",
    "# each option.\n",
    "\n",
    "fig, axs = plt.subplots(2, 1, tight_layout=True)\n",
    "axs = axs.ravel()\n",
    "\n",
    "\n",
    "## Enter code here where you plot in axs[0].\n",
    "cr=list(cumulativeReward.values())\n",
    "d=list(cumulativeReward.keys())\n",
    "\n",
    "axs[0].plot(d,cr)\n",
    "\n",
    "axs[1] = sns.heatmap(np.reshape(list(optionReturn.values()), (len(listOfZones), 24)),\n",
    "                     linewidth=0.5,\n",
    "                     cmap=\"YlGnBu\")\n",
    "axs[1].set_yticklabels(listOfZones, rotation=0)\n",
    "axs[1].set_xticklabels(range(24), rotation=90)\n",
    "axs[1].set_title('Returns on different options')\n",
    "plt.show()\n"
   ]
  },
  {
   "cell_type": "markdown",
   "metadata": {},
   "source": [
    "### Task 2: Choosing a classifier (25 points)\n",
    "\n",
    "We used a multilayer perceptron classifier. Your task is to try out SVM and logistic regression classifiers, and explore which one leads to more profits. Use the relevant functions from 'sklearn'.\n",
    "\n",
    "#### (comments here, add a new code cell below)"
   ]
  },
  {
   "cell_type": "markdown",
   "metadata": {},
   "source": [
    "# SVM Classifier (linear kernal, c=100, tol=1,  profit = 6,695,012) BEST CLASSIFIER"
   ]
  },
  {
   "cell_type": "code",
   "execution_count": 28,
   "metadata": {},
   "outputs": [
    {
     "name": "stdout",
     "output_type": "stream",
     "text": [
      "Starting training module...\n",
      "\n",
      "Loaded hourly prices from 2015 for 365 days.\n",
      "Classifier trained for option CAPITL_Hour_0\n",
      "Classifier trained for option CAPITL_Hour_1\n",
      "Classifier trained for option CAPITL_Hour_2\n",
      "Classifier trained for option CAPITL_Hour_3\n",
      "Classifier trained for option CAPITL_Hour_4\n",
      "Classifier trained for option CAPITL_Hour_5\n",
      "Classifier trained for option CAPITL_Hour_6\n",
      "Classifier trained for option CAPITL_Hour_7\n",
      "Classifier trained for option CAPITL_Hour_8\n",
      "Classifier trained for option CAPITL_Hour_9\n",
      "Classifier trained for option CAPITL_Hour_10\n",
      "Classifier trained for option CAPITL_Hour_11\n",
      "Classifier trained for option CAPITL_Hour_12\n",
      "Classifier trained for option CAPITL_Hour_13\n",
      "Classifier trained for option CAPITL_Hour_14\n",
      "Classifier trained for option CAPITL_Hour_15\n",
      "Classifier trained for option CAPITL_Hour_16\n",
      "Classifier trained for option CAPITL_Hour_17\n",
      "Classifier trained for option CAPITL_Hour_18\n",
      "Classifier trained for option CAPITL_Hour_19\n",
      "Classifier trained for option CAPITL_Hour_20\n",
      "Classifier trained for option CAPITL_Hour_21\n",
      "Classifier trained for option CAPITL_Hour_22\n",
      "Classifier trained for option CAPITL_Hour_23\n",
      "Classifier trained for option CENTRL_Hour_0\n",
      "Classifier trained for option CENTRL_Hour_1\n",
      "Classifier trained for option CENTRL_Hour_2\n",
      "Classifier trained for option CENTRL_Hour_3\n",
      "Classifier trained for option CENTRL_Hour_4\n",
      "Classifier trained for option CENTRL_Hour_5\n",
      "Classifier trained for option CENTRL_Hour_6\n",
      "Classifier trained for option CENTRL_Hour_7\n",
      "Classifier trained for option CENTRL_Hour_8\n",
      "Classifier trained for option CENTRL_Hour_9\n",
      "Classifier trained for option CENTRL_Hour_10\n",
      "Classifier trained for option CENTRL_Hour_11\n",
      "Classifier trained for option CENTRL_Hour_12\n",
      "Classifier trained for option CENTRL_Hour_13\n",
      "Classifier trained for option CENTRL_Hour_14\n",
      "Classifier trained for option CENTRL_Hour_15\n",
      "Classifier trained for option CENTRL_Hour_16\n",
      "Classifier trained for option CENTRL_Hour_17\n",
      "Classifier trained for option CENTRL_Hour_18\n",
      "Classifier trained for option CENTRL_Hour_19\n",
      "Classifier trained for option CENTRL_Hour_20\n",
      "Classifier trained for option CENTRL_Hour_21\n",
      "Classifier trained for option CENTRL_Hour_22\n",
      "Classifier trained for option CENTRL_Hour_23\n",
      "Classifier trained for option DUNWOD_Hour_0\n",
      "Classifier trained for option DUNWOD_Hour_1\n",
      "Classifier trained for option DUNWOD_Hour_2\n",
      "Classifier trained for option DUNWOD_Hour_3\n",
      "Classifier trained for option DUNWOD_Hour_4\n",
      "Classifier trained for option DUNWOD_Hour_5\n",
      "Classifier trained for option DUNWOD_Hour_6\n",
      "Classifier trained for option DUNWOD_Hour_7\n",
      "Classifier trained for option DUNWOD_Hour_8\n",
      "Classifier trained for option DUNWOD_Hour_9\n",
      "Classifier trained for option DUNWOD_Hour_10\n",
      "Classifier trained for option DUNWOD_Hour_11\n",
      "Classifier trained for option DUNWOD_Hour_12\n",
      "Classifier trained for option DUNWOD_Hour_13\n",
      "Classifier trained for option DUNWOD_Hour_14\n",
      "Classifier trained for option DUNWOD_Hour_15\n",
      "Classifier trained for option DUNWOD_Hour_16\n",
      "Classifier trained for option DUNWOD_Hour_17\n",
      "Classifier trained for option DUNWOD_Hour_18\n",
      "Classifier trained for option DUNWOD_Hour_19\n",
      "Classifier trained for option DUNWOD_Hour_20\n",
      "Classifier trained for option DUNWOD_Hour_21\n",
      "Classifier trained for option DUNWOD_Hour_22\n",
      "Classifier trained for option DUNWOD_Hour_23\n",
      "Classifier trained for option GENESE_Hour_0\n",
      "Classifier trained for option GENESE_Hour_1\n",
      "Classifier trained for option GENESE_Hour_2\n",
      "Classifier trained for option GENESE_Hour_3\n",
      "Classifier trained for option GENESE_Hour_4\n",
      "Classifier trained for option GENESE_Hour_5\n",
      "Classifier trained for option GENESE_Hour_6\n",
      "Classifier trained for option GENESE_Hour_7\n",
      "Classifier trained for option GENESE_Hour_8\n",
      "Classifier trained for option GENESE_Hour_9\n",
      "Classifier trained for option GENESE_Hour_10\n",
      "Classifier trained for option GENESE_Hour_11\n",
      "Classifier trained for option GENESE_Hour_12\n",
      "Classifier trained for option GENESE_Hour_13\n",
      "Classifier trained for option GENESE_Hour_14\n",
      "Classifier trained for option GENESE_Hour_15\n",
      "Classifier trained for option GENESE_Hour_16\n",
      "Classifier trained for option GENESE_Hour_17\n",
      "Classifier trained for option GENESE_Hour_18\n",
      "Classifier trained for option GENESE_Hour_19\n",
      "Classifier trained for option GENESE_Hour_20\n",
      "Classifier trained for option GENESE_Hour_21\n",
      "Classifier trained for option GENESE_Hour_22\n",
      "Classifier trained for option GENESE_Hour_23\n",
      "Classifier trained for option HUD VL_Hour_0\n",
      "Classifier trained for option HUD VL_Hour_1\n",
      "Classifier trained for option HUD VL_Hour_2\n",
      "Classifier trained for option HUD VL_Hour_3\n",
      "Classifier trained for option HUD VL_Hour_4\n",
      "Classifier trained for option HUD VL_Hour_5\n",
      "Classifier trained for option HUD VL_Hour_6\n",
      "Classifier trained for option HUD VL_Hour_7\n",
      "Classifier trained for option HUD VL_Hour_8\n",
      "Classifier trained for option HUD VL_Hour_9\n",
      "Classifier trained for option HUD VL_Hour_10\n",
      "Classifier trained for option HUD VL_Hour_11\n",
      "Classifier trained for option HUD VL_Hour_12\n",
      "Classifier trained for option HUD VL_Hour_13\n",
      "Classifier trained for option HUD VL_Hour_14\n",
      "Classifier trained for option HUD VL_Hour_15\n",
      "Classifier trained for option HUD VL_Hour_16\n",
      "Classifier trained for option HUD VL_Hour_17\n",
      "Classifier trained for option HUD VL_Hour_18\n",
      "Classifier trained for option HUD VL_Hour_19\n",
      "Classifier trained for option HUD VL_Hour_20\n",
      "Classifier trained for option HUD VL_Hour_21\n",
      "Classifier trained for option HUD VL_Hour_22\n",
      "Classifier trained for option HUD VL_Hour_23\n",
      "Classifier trained for option LONGIL_Hour_0\n",
      "Classifier trained for option LONGIL_Hour_1\n",
      "Classifier trained for option LONGIL_Hour_2\n",
      "Classifier trained for option LONGIL_Hour_3\n",
      "Classifier trained for option LONGIL_Hour_4\n",
      "Classifier trained for option LONGIL_Hour_5\n",
      "Classifier trained for option LONGIL_Hour_6\n",
      "Classifier trained for option LONGIL_Hour_7\n",
      "Classifier trained for option LONGIL_Hour_8\n",
      "Classifier trained for option LONGIL_Hour_9\n",
      "Classifier trained for option LONGIL_Hour_10\n",
      "Classifier trained for option LONGIL_Hour_11\n",
      "Classifier trained for option LONGIL_Hour_12\n",
      "Classifier trained for option LONGIL_Hour_13\n",
      "Classifier trained for option LONGIL_Hour_14\n",
      "Classifier trained for option LONGIL_Hour_15\n",
      "Classifier trained for option LONGIL_Hour_16\n",
      "Classifier trained for option LONGIL_Hour_17\n",
      "Classifier trained for option LONGIL_Hour_18\n",
      "Classifier trained for option LONGIL_Hour_19\n",
      "Classifier trained for option LONGIL_Hour_20\n",
      "Classifier trained for option LONGIL_Hour_21\n",
      "Classifier trained for option LONGIL_Hour_22\n",
      "Classifier trained for option LONGIL_Hour_23\n",
      "Classifier trained for option MHK VL_Hour_0\n",
      "Classifier trained for option MHK VL_Hour_1\n",
      "Classifier trained for option MHK VL_Hour_2\n",
      "Classifier trained for option MHK VL_Hour_3\n",
      "Classifier trained for option MHK VL_Hour_4\n",
      "Classifier trained for option MHK VL_Hour_5\n",
      "Classifier trained for option MHK VL_Hour_6\n",
      "Classifier trained for option MHK VL_Hour_7\n",
      "Classifier trained for option MHK VL_Hour_8\n",
      "Classifier trained for option MHK VL_Hour_9\n",
      "Classifier trained for option MHK VL_Hour_10\n",
      "Classifier trained for option MHK VL_Hour_11\n",
      "Classifier trained for option MHK VL_Hour_12\n",
      "Classifier trained for option MHK VL_Hour_13\n",
      "Classifier trained for option MHK VL_Hour_14\n",
      "Classifier trained for option MHK VL_Hour_15\n",
      "Classifier trained for option MHK VL_Hour_16\n",
      "Classifier trained for option MHK VL_Hour_17\n",
      "Classifier trained for option MHK VL_Hour_18\n",
      "Classifier trained for option MHK VL_Hour_19\n",
      "Classifier trained for option MHK VL_Hour_20\n",
      "Classifier trained for option MHK VL_Hour_21\n",
      "Classifier trained for option MHK VL_Hour_22\n",
      "Classifier trained for option MHK VL_Hour_23\n",
      "Classifier trained for option MILLWD_Hour_0\n",
      "Classifier trained for option MILLWD_Hour_1\n",
      "Classifier trained for option MILLWD_Hour_2\n",
      "Classifier trained for option MILLWD_Hour_3\n",
      "Classifier trained for option MILLWD_Hour_4\n",
      "Classifier trained for option MILLWD_Hour_5\n",
      "Classifier trained for option MILLWD_Hour_6\n",
      "Classifier trained for option MILLWD_Hour_7\n",
      "Classifier trained for option MILLWD_Hour_8\n",
      "Classifier trained for option MILLWD_Hour_9\n",
      "Classifier trained for option MILLWD_Hour_10\n",
      "Classifier trained for option MILLWD_Hour_11\n",
      "Classifier trained for option MILLWD_Hour_12\n",
      "Classifier trained for option MILLWD_Hour_13\n",
      "Classifier trained for option MILLWD_Hour_14\n"
     ]
    },
    {
     "name": "stdout",
     "output_type": "stream",
     "text": [
      "Classifier trained for option MILLWD_Hour_15\n",
      "Classifier trained for option MILLWD_Hour_16\n",
      "Classifier trained for option MILLWD_Hour_17\n",
      "Classifier trained for option MILLWD_Hour_18\n",
      "Classifier trained for option MILLWD_Hour_19\n",
      "Classifier trained for option MILLWD_Hour_20\n",
      "Classifier trained for option MILLWD_Hour_21\n",
      "Classifier trained for option MILLWD_Hour_22\n",
      "Classifier trained for option MILLWD_Hour_23\n",
      "Classifier trained for option N.Y.C._Hour_0\n",
      "Classifier trained for option N.Y.C._Hour_1\n",
      "Classifier trained for option N.Y.C._Hour_2\n",
      "Classifier trained for option N.Y.C._Hour_3\n",
      "Classifier trained for option N.Y.C._Hour_4\n",
      "Classifier trained for option N.Y.C._Hour_5\n",
      "Classifier trained for option N.Y.C._Hour_6\n",
      "Classifier trained for option N.Y.C._Hour_7\n",
      "Classifier trained for option N.Y.C._Hour_8\n",
      "Classifier trained for option N.Y.C._Hour_9\n",
      "Classifier trained for option N.Y.C._Hour_10\n",
      "Classifier trained for option N.Y.C._Hour_11\n",
      "Classifier trained for option N.Y.C._Hour_12\n",
      "Classifier trained for option N.Y.C._Hour_13\n",
      "Classifier trained for option N.Y.C._Hour_14\n",
      "Classifier trained for option N.Y.C._Hour_15\n",
      "Classifier trained for option N.Y.C._Hour_16\n",
      "Classifier trained for option N.Y.C._Hour_17\n",
      "Classifier trained for option N.Y.C._Hour_18\n",
      "Classifier trained for option N.Y.C._Hour_19\n",
      "Classifier trained for option N.Y.C._Hour_20\n",
      "Classifier trained for option N.Y.C._Hour_21\n",
      "Classifier trained for option N.Y.C._Hour_22\n",
      "Classifier trained for option N.Y.C._Hour_23\n",
      "Classifier trained for option NORTH_Hour_0\n",
      "Classifier trained for option NORTH_Hour_1\n",
      "Classifier trained for option NORTH_Hour_2\n",
      "Classifier trained for option NORTH_Hour_3\n",
      "Classifier trained for option NORTH_Hour_4\n",
      "Classifier trained for option NORTH_Hour_5\n",
      "Classifier trained for option NORTH_Hour_6\n",
      "Classifier trained for option NORTH_Hour_7\n",
      "Classifier trained for option NORTH_Hour_8\n",
      "Classifier trained for option NORTH_Hour_9\n",
      "Classifier trained for option NORTH_Hour_10\n",
      "Classifier trained for option NORTH_Hour_11\n",
      "Classifier trained for option NORTH_Hour_12\n",
      "Classifier trained for option NORTH_Hour_13\n",
      "Classifier trained for option NORTH_Hour_14\n",
      "Classifier trained for option NORTH_Hour_15\n",
      "Classifier trained for option NORTH_Hour_16\n",
      "Classifier trained for option NORTH_Hour_17\n",
      "Classifier trained for option NORTH_Hour_18\n",
      "Classifier trained for option NORTH_Hour_19\n",
      "Classifier trained for option NORTH_Hour_20\n",
      "Classifier trained for option NORTH_Hour_21\n",
      "Classifier trained for option NORTH_Hour_22\n",
      "Classifier trained for option NORTH_Hour_23\n",
      "Classifier trained for option WEST_Hour_0\n",
      "Classifier trained for option WEST_Hour_1\n",
      "Classifier trained for option WEST_Hour_2\n",
      "Classifier trained for option WEST_Hour_3\n",
      "Classifier trained for option WEST_Hour_4\n",
      "Classifier trained for option WEST_Hour_5\n",
      "Classifier trained for option WEST_Hour_6\n",
      "Classifier trained for option WEST_Hour_7\n",
      "Classifier trained for option WEST_Hour_8\n",
      "Classifier trained for option WEST_Hour_9\n",
      "Classifier trained for option WEST_Hour_10\n",
      "Classifier trained for option WEST_Hour_11\n",
      "Classifier trained for option WEST_Hour_12\n",
      "Classifier trained for option WEST_Hour_13\n",
      "Classifier trained for option WEST_Hour_14\n",
      "Classifier trained for option WEST_Hour_15\n",
      "Classifier trained for option WEST_Hour_16\n",
      "Classifier trained for option WEST_Hour_17\n",
      "Classifier trained for option WEST_Hour_18\n",
      "Classifier trained for option WEST_Hour_19\n",
      "Classifier trained for option WEST_Hour_20\n",
      "Classifier trained for option WEST_Hour_21\n",
      "Classifier trained for option WEST_Hour_22\n",
      "Classifier trained for option WEST_Hour_23\n",
      "\n",
      "Overall training accuracy = 100.00 percent.\n"
     ]
    }
   ],
   "source": [
    "classifiers = []\n",
    "\n",
    "# We have two options here. Use previous training experience, or learn anew.\n",
    "useSavedClassifiers = False\n",
    "\n",
    "if not useSavedClassifiers:\n",
    "\n",
    "    print(\"Starting training module...\\n\")\n",
    "    trainPriceDA, trainPriceDART, trainLoadDA = loadNYISOData(2015)\n",
    "\n",
    "    numberOfDays =  int(len(trainPriceDA.index))\n",
    "    print(\"Loaded hourly prices from 2015 for %d days.\" % numberOfDays)\n",
    "\n",
    "    # We will implement a trading strategy, where we bid a particular quantile of the past\n",
    "    # DA prices for an option. If you do not know what a quantile means, refer to the Wikipedia\n",
    "    # article on it. Essentially, a 95% quantile of the DA prices equals that value for which\n",
    "    # 95% of the DA prices are below it. Store all quantiles starting from 50% in steps of\n",
    "    # 5% in a dictionary. Store them in a pickle file.\n",
    "\n",
    "    quantilesToStore = [0.70, 0.75, 0.80, 0.85, 0.90, 0.95]\n",
    "    offerPrices = trainPriceDA.quantile(q=quantilesToStore).transpose().to_dict()\n",
    "    pickle.dump(offerPrices, open(\"./Training/OfferPrices\", 'wb'))\n",
    "\n",
    "    # Calculate the average price spread for each option over the entire year. This will guide\n",
    "    # us in choosing our portfolio. Store it as a dictionary. Our bid will choose those\n",
    "    # options that our classifier indicates that they will be profitable and historically they\n",
    "    # have higher average price differences, indicating that they have higher rate of return.\n",
    "    # Store them using pickle.\n",
    "\n",
    "    averagePriceSpread = trainPriceDART.mean(axis=0).transpose().to_dict()\n",
    "    pickle.dump(averagePriceSpread, open(\"./Training/AveragePriceSpread\", 'wb'))\n",
    "\n",
    "    # Create the training dataset using the function 'createClassifierIO' on the prices and\n",
    "    # loads, and store them in 'trainX', and 'trainY'.\n",
    "\n",
    "    trainX, trainY, _ = createClassifierIO(trainPriceDA, trainPriceDART, trainLoadDA)\n",
    "\n",
    "    # Define a collection of classifiers, one for each option. You can try different options, such\n",
    "    # as that based on an SVM, logistic regression, multilayer perceptron based, etc. We will\n",
    "    # measure training accuracy to indicate how well the classifier works on the training dataset.\n",
    "    # However, good training accuracy does not always indicate good test performance.\n",
    "    # Avoid over-fitting.\n",
    "\n",
    "\n",
    "    classifiers = [SVC(C=100, gamma=1, kernel='linear', max_iter=100000, tol=1)\n",
    "                   for _ in range(nOptions)]\n",
    "\n",
    "    trainingAccuracy = 0\n",
    "\n",
    "    for ii in range(nOptions):\n",
    "        classifiers[ii].fit(trainX, trainY[:, ii])\n",
    "        print(\"Classifier trained for option \" + optionNames[ii])\n",
    "        trainingAccuracy += classifiers[ii].score(trainX, trainY[:, ii])\n",
    "\n",
    "        # Store the classifier.\n",
    "        pickle.dump(classifiers[ii], open(\"./Training/Classifier_\" + optionNames[ii], 'wb'))\n",
    "\n",
    "    print(\"\\nOverall training accuracy = %1.2f percent.\" % (100 * trainingAccuracy/nOptions))\n",
    "\n",
    "    del numberOfDays, trainPriceDA, trainLoadDA, trainPriceDART, trainX, trainY\n",
    "else:\n",
    "\n",
    "    # Load the classifiers, the offer prices at various quantiles, and the average price spreads.\n",
    "\n",
    "    print(\"Loading previously trained variables...\\n\")\n",
    "    classifiers = [pickle.load(open(\"./Training/Classifier_\" + optionNames[ii], 'rb'))\n",
    "                   for ii in range(nOptions)]\n",
    "    offerPrices = pickle.load(open(\"./Training/OfferPrices\", 'rb'))\n",
    "    averagePriceSpread = pickle.load(open(\"./Training/AveragePriceSpread\", 'rb'))\n",
    "\n",
    "    print(\"All training variables were loaded successfully...\\n\")"
   ]
  },
  {
   "cell_type": "code",
   "execution_count": 29,
   "metadata": {},
   "outputs": [
    {
     "name": "stdout",
     "output_type": "stream",
     "text": [
      "Starting the testing module...\n",
      "\n",
      "Test Accuracy Stats: Min = 45.18%, Avg = 55.96%, Max = 63.91%\n"
     ]
    }
   ],
   "source": [
    "# First, load the test data from NYISO for the year 2016. Again, utilize our function\n",
    "# named 'loadNYISOData'.\n",
    "\n",
    "print(\"Starting the testing module...\\n\")\n",
    "testPriceDA, testPriceDART, testLoadDA = loadNYISOData(2016)\n",
    "\n",
    "# Create the data for the classifier using the function 'createClassifierIO'.\n",
    "testX, testY, rangeOfDays = createClassifierIO(testPriceDA, testPriceDART, testLoadDA)\n",
    "\n",
    "# The next step is not useful for implementing the trading strategy, but quickly check how accurate\n",
    "# your trained classifiers are for the test data. Training accuracy is not always indicative of\n",
    "# test accuracy.\n",
    "\n",
    "testingAccuracy = [classifiers[ii].score(testX, testY[:, ii]) for ii in range(nOptions)]\n",
    "print(\"Test Accuracy Stats: Min = %.2f%%, Avg = %.2f%%, Max = %.2f%%\" %\n",
    "      (100 * np.min(testingAccuracy),\n",
    "       100 * np.mean(testingAccuracy),\n",
    "       100 * np.max(testingAccuracy)))\n",
    "\n",
    "# Utilize the classifiers to predict the sign of DA - RT prices for each day in 'rangeOfDays' for\n",
    "# the test data. Store the result in a pandas data frame with columns as the option names and the\n",
    "# day in year as index.\n",
    "predictedY = pd.DataFrame(np.column_stack([classifiers[ii].predict(testX) for ii in range(nOptions)]),\n",
    "                          columns=optionNames, index=rangeOfDays)"
   ]
  },
  {
   "cell_type": "code",
   "execution_count": null,
   "metadata": {},
   "outputs": [],
   "source": []
  },
  {
   "cell_type": "code",
   "execution_count": 32,
   "metadata": {},
   "outputs": [
    {
     "name": "stdout",
     "output_type": "stream",
     "text": [
      "Day 3: Reward (in $) = -93,423\n",
      "Total till now = -93,423\n",
      "Day 4: Reward (in $) = 1,553,132\n",
      "Total till now = 1,459,709\n",
      "Day 5: Reward (in $) = 30,056\n",
      "Total till now = 1,489,765\n",
      "Day 6: Reward (in $) = -47,544\n",
      "Total till now = 1,442,221\n",
      "Day 7: Reward (in $) = -31,748\n",
      "Total till now = 1,410,474\n",
      "Day 8: Reward (in $) = -48,624\n",
      "Total till now = 1,361,850\n",
      "Day 9: Reward (in $) = -41,663\n",
      "Total till now = 1,320,187\n",
      "Day 10: Reward (in $) = -114,406\n",
      "Total till now = 1,205,781\n",
      "Day 11: Reward (in $) = -68,917\n",
      "Total till now = 1,136,864\n",
      "Day 12: Reward (in $) = -13,071\n",
      "Total till now = 1,123,792\n",
      "Day 13: Reward (in $) = -65,152\n",
      "Total till now = 1,058,641\n",
      "Day 14: Reward (in $) = -40,999\n",
      "Total till now = 1,017,642\n",
      "Day 15: Reward (in $) = 4,137\n",
      "Total till now = 1,021,779\n",
      "Day 16: Reward (in $) = 17,720\n",
      "Total till now = 1,039,499\n",
      "Day 17: Reward (in $) = -89,791\n",
      "Total till now = 949,708\n",
      "Day 18: Reward (in $) = -26,871\n",
      "Total till now = 922,837\n",
      "Day 19: Reward (in $) = 2,067\n",
      "Total till now = 924,904\n",
      "Day 20: Reward (in $) = -11,818\n",
      "Total till now = 913,086\n",
      "Day 21: Reward (in $) = 63,150\n",
      "Total till now = 976,236\n",
      "Day 22: Reward (in $) = 133,436\n",
      "Total till now = 1,109,672\n",
      "Day 23: Reward (in $) = 25,318\n",
      "Total till now = 1,134,990\n",
      "Day 24: Reward (in $) = -96,865\n",
      "Total till now = 1,038,125\n",
      "Day 25: Reward (in $) = -93,649\n",
      "Total till now = 944,475\n",
      "Day 26: Reward (in $) = -20,976\n",
      "Total till now = 923,499\n",
      "Day 27: Reward (in $) = -5,974\n",
      "Total till now = 917,525\n",
      "Day 28: Reward (in $) = -10,234\n",
      "Total till now = 907,291\n",
      "Day 29: Reward (in $) = -30,421\n",
      "Total till now = 876,870\n",
      "Day 30: Reward (in $) = -35,628\n",
      "Total till now = 841,242\n",
      "Day 31: Reward (in $) = -32,619\n",
      "Total till now = 808,623\n",
      "Day 32: Reward (in $) = -12,135\n",
      "Total till now = 796,489\n",
      "Day 33: Reward (in $) = -82,951\n",
      "Total till now = 713,538\n",
      "Day 34: Reward (in $) = 2,787\n",
      "Total till now = 716,325\n",
      "Day 35: Reward (in $) = 34,926\n",
      "Total till now = 751,251\n",
      "Day 36: Reward (in $) = -37,421\n",
      "Total till now = 713,830\n",
      "Day 37: Reward (in $) = -42,911\n",
      "Total till now = 670,919\n",
      "Day 38: Reward (in $) = -5,738\n",
      "Total till now = 665,181\n",
      "Day 39: Reward (in $) = 20,760\n",
      "Total till now = 685,941\n",
      "Day 40: Reward (in $) = -27,152\n",
      "Total till now = 658,789\n",
      "Day 41: Reward (in $) = -43,453\n",
      "Total till now = 615,336\n",
      "Day 42: Reward (in $) = -16,964\n",
      "Total till now = 598,372\n",
      "Day 43: Reward (in $) = 1,629\n",
      "Total till now = 600,001\n",
      "Day 44: Reward (in $) = -35,517\n",
      "Total till now = 564,485\n",
      "Day 45: Reward (in $) = 22,588\n",
      "Total till now = 587,073\n",
      "Day 46: Reward (in $) = 85,721\n",
      "Total till now = 672,794\n",
      "Day 47: Reward (in $) = 8,451\n",
      "Total till now = 681,245\n",
      "Day 48: Reward (in $) = -73,803\n",
      "Total till now = 607,442\n",
      "Day 49: Reward (in $) = -60,192\n",
      "Total till now = 547,250\n",
      "Day 50: Reward (in $) = -55,950\n",
      "Total till now = 491,300\n",
      "Day 51: Reward (in $) = -1,555\n",
      "Total till now = 489,745\n",
      "Day 52: Reward (in $) = -27,564\n",
      "Total till now = 462,180\n",
      "Day 53: Reward (in $) = -15,934\n",
      "Total till now = 446,246\n",
      "Day 54: Reward (in $) = -19\n",
      "Total till now = 446,228\n",
      "Day 55: Reward (in $) = -9,808\n",
      "Total till now = 436,420\n",
      "Day 56: Reward (in $) = -46,392\n",
      "Total till now = 390,028\n",
      "Day 57: Reward (in $) = -31,575\n",
      "Total till now = 358,452\n",
      "Day 58: Reward (in $) = 12,410\n",
      "Total till now = 370,863\n",
      "Day 59: Reward (in $) = -16,837\n",
      "Total till now = 354,025\n",
      "Day 60: Reward (in $) = -19,718\n",
      "Total till now = 334,307\n",
      "Day 61: Reward (in $) = -111,007\n",
      "Total till now = 223,300\n",
      "Day 62: Reward (in $) = -15,761\n",
      "Total till now = 207,539\n",
      "Day 63: Reward (in $) = 336,165\n",
      "Total till now = 543,704\n",
      "Day 64: Reward (in $) = -50,917\n",
      "Total till now = 492,788\n",
      "Day 65: Reward (in $) = 39,841\n",
      "Total till now = 532,629\n",
      "Day 66: Reward (in $) = 65,797\n",
      "Total till now = 598,426\n",
      "Day 67: Reward (in $) = -25,919\n",
      "Total till now = 572,507\n",
      "Day 68: Reward (in $) = -71,158\n",
      "Total till now = 501,349\n",
      "Day 69: Reward (in $) = -32,016\n",
      "Total till now = 469,333\n",
      "Day 70: Reward (in $) = 142,653\n",
      "Total till now = 611,986\n",
      "Day 71: Reward (in $) = -8,174\n",
      "Total till now = 603,812\n",
      "Day 72: Reward (in $) = -12,103\n",
      "Total till now = 591,710\n",
      "Day 73: Reward (in $) = -60,331\n",
      "Total till now = 531,379\n",
      "Day 74: Reward (in $) = 813,356\n",
      "Total till now = 1,344,735\n",
      "Day 75: Reward (in $) = -419\n",
      "Total till now = 1,344,316\n",
      "Day 76: Reward (in $) = -97,361\n",
      "Total till now = 1,246,955\n",
      "Day 77: Reward (in $) = -14,796\n",
      "Total till now = 1,232,159\n",
      "Day 78: Reward (in $) = -29,645\n",
      "Total till now = 1,202,514\n",
      "Day 79: Reward (in $) = 39,190\n",
      "Total till now = 1,241,704\n",
      "Day 80: Reward (in $) = -76,380\n",
      "Total till now = 1,165,324\n",
      "Day 81: Reward (in $) = 91,799\n",
      "Total till now = 1,257,123\n",
      "Day 82: Reward (in $) = 31,114\n",
      "Total till now = 1,288,238\n",
      "Day 83: Reward (in $) = 8,359\n",
      "Total till now = 1,296,597\n",
      "Day 84: Reward (in $) = -5,000\n",
      "Total till now = 1,291,597\n",
      "Day 85: Reward (in $) = 40,572\n",
      "Total till now = 1,332,169\n",
      "Day 86: Reward (in $) = -31,258\n",
      "Total till now = 1,300,912\n",
      "Day 87: Reward (in $) = 2,628,750\n",
      "Total till now = 3,929,662\n",
      "Day 88: Reward (in $) = 742,871\n",
      "Total till now = 4,672,533\n",
      "Day 89: Reward (in $) = -17,678\n",
      "Total till now = 4,654,855\n",
      "Day 90: Reward (in $) = -4,047\n",
      "Total till now = 4,650,808\n",
      "Day 91: Reward (in $) = -120,128\n",
      "Total till now = 4,530,680\n",
      "Day 92: Reward (in $) = -810\n",
      "Total till now = 4,529,871\n",
      "Day 93: Reward (in $) = -801\n",
      "Total till now = 4,529,070\n",
      "Day 94: Reward (in $) = 17,315\n",
      "Total till now = 4,546,385\n",
      "Day 95: Reward (in $) = -22,148\n",
      "Total till now = 4,524,237\n",
      "Day 96: Reward (in $) = 107,476\n",
      "Total till now = 4,631,713\n",
      "Day 97: Reward (in $) = 6,802\n",
      "Total till now = 4,638,515\n",
      "Day 98: Reward (in $) = 4,558\n",
      "Total till now = 4,643,073\n",
      "Day 99: Reward (in $) = -25,013\n",
      "Total till now = 4,618,060\n",
      "Day 100: Reward (in $) = -14,944\n",
      "Total till now = 4,603,116\n",
      "Day 101: Reward (in $) = -20,573\n",
      "Total till now = 4,582,543\n",
      "Day 102: Reward (in $) = -43,449\n",
      "Total till now = 4,539,094\n",
      "Day 103: Reward (in $) = 982\n",
      "Total till now = 4,540,076\n",
      "Day 104: Reward (in $) = -35,627\n",
      "Total till now = 4,504,449\n",
      "Day 105: Reward (in $) = -63,803\n",
      "Total till now = 4,440,646\n",
      "Day 106: Reward (in $) = -17,545\n",
      "Total till now = 4,423,101\n",
      "Day 107: Reward (in $) = -25,581\n",
      "Total till now = 4,397,520\n",
      "Day 108: Reward (in $) = 130,557\n",
      "Total till now = 4,528,078\n",
      "Day 109: Reward (in $) = -1,232\n",
      "Total till now = 4,526,845\n",
      "Day 110: Reward (in $) = -7,102\n",
      "Total till now = 4,519,744\n",
      "Day 111: Reward (in $) = -35,984\n",
      "Total till now = 4,483,760\n",
      "Day 112: Reward (in $) = 74,344\n",
      "Total till now = 4,558,104\n",
      "Day 113: Reward (in $) = -40,243\n",
      "Total till now = 4,517,861\n",
      "Day 114: Reward (in $) = -55,829\n",
      "Total till now = 4,462,032\n",
      "Day 115: Reward (in $) = -123,746\n",
      "Total till now = 4,338,286\n",
      "Day 116: Reward (in $) = 10,535\n",
      "Total till now = 4,348,821\n",
      "Day 117: Reward (in $) = -24,464\n",
      "Total till now = 4,324,357\n",
      "Day 118: Reward (in $) = 4,938\n",
      "Total till now = 4,329,294\n",
      "Day 119: Reward (in $) = -64,543\n",
      "Total till now = 4,264,751\n",
      "Day 120: Reward (in $) = 15,394\n",
      "Total till now = 4,280,145\n",
      "Day 121: Reward (in $) = 52,676\n",
      "Total till now = 4,332,822\n",
      "Day 122: Reward (in $) = -28,520\n",
      "Total till now = 4,304,301\n",
      "Day 123: Reward (in $) = -2,113\n",
      "Total till now = 4,302,188\n",
      "Day 124: Reward (in $) = -44,341\n",
      "Total till now = 4,257,847\n",
      "Day 125: Reward (in $) = -10,585\n",
      "Total till now = 4,247,262\n",
      "Day 126: Reward (in $) = -47,905\n",
      "Total till now = 4,199,357\n",
      "Day 127: Reward (in $) = -41,854\n",
      "Total till now = 4,157,503\n",
      "Day 128: Reward (in $) = -33,908\n",
      "Total till now = 4,123,595\n",
      "Day 129: Reward (in $) = -45,238\n",
      "Total till now = 4,078,357\n",
      "Day 130: Reward (in $) = -48,340\n",
      "Total till now = 4,030,016\n",
      "Day 131: Reward (in $) = 16,346\n",
      "Total till now = 4,046,362\n",
      "Day 132: Reward (in $) = 50,162\n",
      "Total till now = 4,096,524\n",
      "Day 133: Reward (in $) = -107,494\n",
      "Total till now = 3,989,030\n",
      "Day 134: Reward (in $) = -51,840\n",
      "Total till now = 3,937,189\n",
      "Day 135: Reward (in $) = -17,976\n",
      "Total till now = 3,919,213\n",
      "Day 136: Reward (in $) = -24,298\n",
      "Total till now = 3,894,915\n",
      "Day 137: Reward (in $) = -51,956\n",
      "Total till now = 3,842,959\n",
      "Day 138: Reward (in $) = -108,690\n",
      "Total till now = 3,734,269\n",
      "Day 139: Reward (in $) = -6,941\n",
      "Total till now = 3,727,328\n",
      "Day 140: Reward (in $) = -47,625\n",
      "Total till now = 3,679,703\n",
      "Day 141: Reward (in $) = 29,047\n",
      "Total till now = 3,708,750\n",
      "Day 142: Reward (in $) = 27,510\n",
      "Total till now = 3,736,260\n",
      "Day 143: Reward (in $) = 687,655\n",
      "Total till now = 4,423,915\n",
      "Day 144: Reward (in $) = -25,455\n",
      "Total till now = 4,398,460\n"
     ]
    },
    {
     "name": "stdout",
     "output_type": "stream",
     "text": [
      "Day 145: Reward (in $) = -55,067\n",
      "Total till now = 4,343,393\n",
      "Day 146: Reward (in $) = -8,523\n",
      "Total till now = 4,334,870\n",
      "Day 147: Reward (in $) = -60,680\n",
      "Total till now = 4,274,190\n",
      "Day 148: Reward (in $) = 63,380\n",
      "Total till now = 4,337,570\n",
      "Day 149: Reward (in $) = -3,344\n",
      "Total till now = 4,334,226\n",
      "Day 150: Reward (in $) = 97,751\n",
      "Total till now = 4,431,977\n",
      "Day 151: Reward (in $) = 613,892\n",
      "Total till now = 5,045,870\n",
      "Day 152: Reward (in $) = 413,534\n",
      "Total till now = 5,459,404\n",
      "Day 153: Reward (in $) = 138,146\n",
      "Total till now = 5,597,549\n",
      "Day 154: Reward (in $) = 10,898\n",
      "Total till now = 5,608,447\n",
      "Day 155: Reward (in $) = -48,762\n",
      "Total till now = 5,559,685\n",
      "Day 156: Reward (in $) = -37,233\n",
      "Total till now = 5,522,452\n",
      "Day 157: Reward (in $) = -110,286\n",
      "Total till now = 5,412,166\n",
      "Day 158: Reward (in $) = -83,023\n",
      "Total till now = 5,329,143\n",
      "Day 159: Reward (in $) = -70,171\n",
      "Total till now = 5,258,972\n",
      "Day 160: Reward (in $) = -126,424\n",
      "Total till now = 5,132,547\n",
      "Day 161: Reward (in $) = -48,358\n",
      "Total till now = 5,084,189\n",
      "Day 162: Reward (in $) = 439,538\n",
      "Total till now = 5,523,728\n",
      "Day 163: Reward (in $) = -12,341\n",
      "Total till now = 5,511,386\n",
      "Day 164: Reward (in $) = -20,366\n",
      "Total till now = 5,491,020\n",
      "Day 165: Reward (in $) = 339,843\n",
      "Total till now = 5,830,863\n",
      "Day 166: Reward (in $) = 7,812\n",
      "Total till now = 5,838,675\n",
      "Day 167: Reward (in $) = 5,499\n",
      "Total till now = 5,844,174\n",
      "Day 168: Reward (in $) = 767\n",
      "Total till now = 5,844,941\n",
      "Day 169: Reward (in $) = 8,488\n",
      "Total till now = 5,853,430\n",
      "Day 170: Reward (in $) = -51,196\n",
      "Total till now = 5,802,234\n",
      "Day 171: Reward (in $) = -3,216\n",
      "Total till now = 5,799,017\n",
      "Day 172: Reward (in $) = -8,382\n",
      "Total till now = 5,790,635\n",
      "Day 173: Reward (in $) = -49,863\n",
      "Total till now = 5,740,772\n",
      "Day 174: Reward (in $) = 19,939\n",
      "Total till now = 5,760,711\n",
      "Day 175: Reward (in $) = 33,825\n",
      "Total till now = 5,794,536\n",
      "Day 176: Reward (in $) = -28,124\n",
      "Total till now = 5,766,412\n",
      "Day 177: Reward (in $) = -27,773\n",
      "Total till now = 5,738,639\n",
      "Day 178: Reward (in $) = -15,492\n",
      "Total till now = 5,723,147\n",
      "Day 179: Reward (in $) = -13,599\n",
      "Total till now = 5,709,548\n",
      "Day 180: Reward (in $) = -6,167\n",
      "Total till now = 5,703,381\n",
      "Day 181: Reward (in $) = -21,444\n",
      "Total till now = 5,681,937\n",
      "Day 182: Reward (in $) = -36,407\n",
      "Total till now = 5,645,530\n",
      "Day 183: Reward (in $) = -87,558\n",
      "Total till now = 5,557,971\n",
      "Day 184: Reward (in $) = -106,083\n",
      "Total till now = 5,451,888\n",
      "Day 185: Reward (in $) = -33,901\n",
      "Total till now = 5,417,988\n",
      "Day 186: Reward (in $) = 34,739\n",
      "Total till now = 5,452,727\n",
      "Day 187: Reward (in $) = 5,676\n",
      "Total till now = 5,458,403\n",
      "Day 188: Reward (in $) = 17\n",
      "Total till now = 5,458,420\n",
      "Day 189: Reward (in $) = -6,441\n",
      "Total till now = 5,451,979\n",
      "Day 190: Reward (in $) = -124,977\n",
      "Total till now = 5,327,002\n",
      "Day 191: Reward (in $) = -26,518\n",
      "Total till now = 5,300,484\n",
      "Day 192: Reward (in $) = -14,977\n",
      "Total till now = 5,285,507\n",
      "Day 193: Reward (in $) = -57,500\n",
      "Total till now = 5,228,006\n",
      "Day 194: Reward (in $) = -29\n",
      "Total till now = 5,227,977\n",
      "Day 195: Reward (in $) = 5,982\n",
      "Total till now = 5,233,960\n",
      "Day 196: Reward (in $) = 7,800\n",
      "Total till now = 5,241,759\n",
      "Day 197: Reward (in $) = 20,514\n",
      "Total till now = 5,262,273\n",
      "Day 198: Reward (in $) = 45,500\n",
      "Total till now = 5,307,773\n",
      "Day 199: Reward (in $) = -939\n",
      "Total till now = 5,306,834\n",
      "Day 200: Reward (in $) = -79,547\n",
      "Total till now = 5,227,287\n",
      "Day 201: Reward (in $) = -6,250\n",
      "Total till now = 5,221,037\n",
      "Day 202: Reward (in $) = -1,860\n",
      "Total till now = 5,219,177\n",
      "Day 203: Reward (in $) = 6,186\n",
      "Total till now = 5,225,363\n",
      "Day 204: Reward (in $) = 1,531\n",
      "Total till now = 5,226,894\n",
      "Day 205: Reward (in $) = -17,423\n",
      "Total till now = 5,209,471\n",
      "Day 206: Reward (in $) = -1,700\n",
      "Total till now = 5,207,770\n",
      "Day 207: Reward (in $) = -4,878\n",
      "Total till now = 5,202,892\n",
      "Day 208: Reward (in $) = 6,196\n",
      "Total till now = 5,209,089\n",
      "Day 209: Reward (in $) = 8,986\n",
      "Total till now = 5,218,074\n",
      "Day 210: Reward (in $) = 38,446\n",
      "Total till now = 5,256,521\n",
      "Day 211: Reward (in $) = 43,011\n",
      "Total till now = 5,299,532\n",
      "Day 212: Reward (in $) = 55,811\n",
      "Total till now = 5,355,342\n",
      "Day 213: Reward (in $) = -7,491\n",
      "Total till now = 5,347,852\n",
      "Day 214: Reward (in $) = -15,817\n",
      "Total till now = 5,332,035\n",
      "Day 215: Reward (in $) = -68,798\n",
      "Total till now = 5,263,237\n",
      "Day 216: Reward (in $) = 9,837\n",
      "Total till now = 5,273,074\n",
      "Day 217: Reward (in $) = 1,748\n",
      "Total till now = 5,274,823\n",
      "Day 218: Reward (in $) = 28,104\n",
      "Total till now = 5,302,926\n",
      "Day 219: Reward (in $) = -30,802\n",
      "Total till now = 5,272,124\n",
      "Day 220: Reward (in $) = -4,682\n",
      "Total till now = 5,267,442\n",
      "Day 221: Reward (in $) = -20,174\n",
      "Total till now = 5,247,268\n",
      "Day 222: Reward (in $) = 12,091\n",
      "Total till now = 5,259,359\n",
      "Day 223: Reward (in $) = 2,264\n",
      "Total till now = 5,261,623\n",
      "Day 224: Reward (in $) = -210\n",
      "Total till now = 5,261,413\n",
      "Day 225: Reward (in $) = -487\n",
      "Total till now = 5,260,926\n",
      "Day 226: Reward (in $) = -23,904\n",
      "Total till now = 5,237,022\n",
      "Day 227: Reward (in $) = -559\n",
      "Total till now = 5,236,463\n",
      "Day 228: Reward (in $) = 8,746\n",
      "Total till now = 5,245,209\n",
      "Day 229: Reward (in $) = 1,127\n",
      "Total till now = 5,246,336\n",
      "Day 230: Reward (in $) = -6,214\n",
      "Total till now = 5,240,123\n",
      "Day 231: Reward (in $) = -468\n",
      "Total till now = 5,239,655\n",
      "Day 232: Reward (in $) = -56,347\n",
      "Total till now = 5,183,308\n",
      "Day 233: Reward (in $) = -28,770\n",
      "Total till now = 5,154,538\n",
      "Day 234: Reward (in $) = -86,045\n",
      "Total till now = 5,068,493\n",
      "Day 235: Reward (in $) = -36,628\n",
      "Total till now = 5,031,865\n",
      "Day 236: Reward (in $) = 3,253\n",
      "Total till now = 5,035,118\n",
      "Day 237: Reward (in $) = 66,826\n",
      "Total till now = 5,101,943\n",
      "Day 238: Reward (in $) = -1,972\n",
      "Total till now = 5,099,972\n",
      "Day 239: Reward (in $) = -15,512\n",
      "Total till now = 5,084,459\n",
      "Day 240: Reward (in $) = -10,429\n",
      "Total till now = 5,074,030\n",
      "Day 241: Reward (in $) = -180\n",
      "Total till now = 5,073,850\n",
      "Day 242: Reward (in $) = -6,654\n",
      "Total till now = 5,067,196\n",
      "Day 243: Reward (in $) = 290\n",
      "Total till now = 5,067,485\n",
      "Day 244: Reward (in $) = -49,774\n",
      "Total till now = 5,017,711\n",
      "Day 245: Reward (in $) = -100,672\n",
      "Total till now = 4,917,039\n",
      "Day 246: Reward (in $) = -39,492\n",
      "Total till now = 4,877,546\n",
      "Day 247: Reward (in $) = -1,205\n",
      "Total till now = 4,876,341\n",
      "Day 248: Reward (in $) = -34,913\n",
      "Total till now = 4,841,428\n",
      "Day 249: Reward (in $) = -6,555\n",
      "Total till now = 4,834,873\n",
      "Day 250: Reward (in $) = -17,168\n",
      "Total till now = 4,817,705\n",
      "Day 251: Reward (in $) = -16\n",
      "Total till now = 4,817,688\n",
      "Day 252: Reward (in $) = 11,012\n",
      "Total till now = 4,828,701\n",
      "Day 253: Reward (in $) = 92,848\n",
      "Total till now = 4,921,549\n",
      "Day 254: Reward (in $) = -10,607\n",
      "Total till now = 4,910,942\n",
      "Day 255: Reward (in $) = -60,341\n",
      "Total till now = 4,850,600\n",
      "Day 256: Reward (in $) = -5,586\n",
      "Total till now = 4,845,014\n",
      "Day 257: Reward (in $) = 2,487,233\n",
      "Total till now = 7,332,247\n",
      "Day 258: Reward (in $) = -25,274\n",
      "Total till now = 7,306,973\n",
      "Day 259: Reward (in $) = -86,332\n",
      "Total till now = 7,220,641\n",
      "Day 260: Reward (in $) = -32,585\n",
      "Total till now = 7,188,056\n",
      "Day 261: Reward (in $) = 73,602\n",
      "Total till now = 7,261,658\n",
      "Day 262: Reward (in $) = -7,177\n",
      "Total till now = 7,254,481\n",
      "Day 263: Reward (in $) = -64,218\n",
      "Total till now = 7,190,263\n",
      "Day 264: Reward (in $) = -30,281\n",
      "Total till now = 7,159,981\n",
      "Day 265: Reward (in $) = -4,863\n",
      "Total till now = 7,155,118\n",
      "Day 266: Reward (in $) = -35,460\n",
      "Total till now = 7,119,659\n",
      "Day 267: Reward (in $) = -7,745\n",
      "Total till now = 7,111,913\n",
      "Day 268: Reward (in $) = -21,960\n",
      "Total till now = 7,089,953\n",
      "Day 269: Reward (in $) = -86,536\n",
      "Total till now = 7,003,417\n",
      "Day 270: Reward (in $) = -74,588\n",
      "Total till now = 6,928,829\n",
      "Day 271: Reward (in $) = -48,317\n",
      "Total till now = 6,880,513\n",
      "Day 272: Reward (in $) = -67,479\n",
      "Total till now = 6,813,033\n",
      "Day 273: Reward (in $) = -37,536\n",
      "Total till now = 6,775,497\n",
      "Day 274: Reward (in $) = 23,679\n",
      "Total till now = 6,799,176\n",
      "Day 275: Reward (in $) = 25,353\n",
      "Total till now = 6,824,529\n",
      "Day 276: Reward (in $) = -21,586\n",
      "Total till now = 6,802,943\n",
      "Day 277: Reward (in $) = 76,133\n",
      "Total till now = 6,879,076\n",
      "Day 278: Reward (in $) = 163,309\n",
      "Total till now = 7,042,385\n",
      "Day 279: Reward (in $) = -28,283\n",
      "Total till now = 7,014,102\n",
      "Day 280: Reward (in $) = 319\n",
      "Total till now = 7,014,421\n",
      "Day 281: Reward (in $) = -11,696\n",
      "Total till now = 7,002,725\n",
      "Day 282: Reward (in $) = 17,746\n",
      "Total till now = 7,020,471\n",
      "Day 283: Reward (in $) = -6,398\n",
      "Total till now = 7,014,072\n"
     ]
    },
    {
     "name": "stdout",
     "output_type": "stream",
     "text": [
      "Day 284: Reward (in $) = -17,340\n",
      "Total till now = 6,996,732\n",
      "Day 285: Reward (in $) = -76,826\n",
      "Total till now = 6,919,906\n",
      "Day 286: Reward (in $) = -57,135\n",
      "Total till now = 6,862,771\n",
      "Day 287: Reward (in $) = -67,029\n",
      "Total till now = 6,795,742\n",
      "Day 288: Reward (in $) = 4,092\n",
      "Total till now = 6,799,835\n",
      "Day 289: Reward (in $) = 9,840\n",
      "Total till now = 6,809,675\n",
      "Day 290: Reward (in $) = 8,124\n",
      "Total till now = 6,817,799\n",
      "Day 291: Reward (in $) = -5,483\n",
      "Total till now = 6,812,316\n",
      "Day 292: Reward (in $) = -1,470\n",
      "Total till now = 6,810,846\n",
      "Day 293: Reward (in $) = 81,828\n",
      "Total till now = 6,892,674\n",
      "Day 294: Reward (in $) = -11,719\n",
      "Total till now = 6,880,955\n",
      "Day 295: Reward (in $) = 18,970\n",
      "Total till now = 6,899,925\n",
      "Day 296: Reward (in $) = -59,364\n",
      "Total till now = 6,840,561\n",
      "Day 297: Reward (in $) = -37,250\n",
      "Total till now = 6,803,311\n",
      "Day 298: Reward (in $) = 140,394\n",
      "Total till now = 6,943,705\n",
      "Day 299: Reward (in $) = -53,629\n",
      "Total till now = 6,890,075\n",
      "Day 300: Reward (in $) = -18,305\n",
      "Total till now = 6,871,770\n",
      "Day 301: Reward (in $) = -10,596\n",
      "Total till now = 6,861,174\n",
      "Day 302: Reward (in $) = -20,357\n",
      "Total till now = 6,840,818\n",
      "Day 303: Reward (in $) = 15,825\n",
      "Total till now = 6,856,643\n",
      "Day 304: Reward (in $) = -31,921\n",
      "Total till now = 6,824,721\n",
      "Day 305: Reward (in $) = -13,512\n",
      "Total till now = 6,811,210\n",
      "Day 306: Reward (in $) = -7,765\n",
      "Total till now = 6,803,445\n",
      "Day 307: Reward (in $) = -73\n",
      "Total till now = 6,803,372\n",
      "Day 308: Reward (in $) = -47,512\n",
      "Total till now = 6,755,860\n",
      "Day 309: Reward (in $) = -7,426\n",
      "Total till now = 6,748,433\n",
      "Day 310: Reward (in $) = -4,706\n",
      "Total till now = 6,743,728\n",
      "Day 311: Reward (in $) = -16,135\n",
      "Total till now = 6,727,592\n",
      "Day 312: Reward (in $) = 45,758\n",
      "Total till now = 6,773,351\n",
      "Day 313: Reward (in $) = -1,591\n",
      "Total till now = 6,771,760\n",
      "Day 314: Reward (in $) = -19,510\n",
      "Total till now = 6,752,250\n",
      "Day 315: Reward (in $) = -51,525\n",
      "Total till now = 6,700,725\n",
      "Day 316: Reward (in $) = -12,629\n",
      "Total till now = 6,688,096\n",
      "Day 317: Reward (in $) = -32,698\n",
      "Total till now = 6,655,397\n",
      "Day 318: Reward (in $) = -17,676\n",
      "Total till now = 6,637,722\n",
      "Day 319: Reward (in $) = 2,405\n",
      "Total till now = 6,640,127\n",
      "Day 320: Reward (in $) = 15,462\n",
      "Total till now = 6,655,589\n",
      "Day 321: Reward (in $) = 6,584\n",
      "Total till now = 6,662,173\n",
      "Day 322: Reward (in $) = -6,193\n",
      "Total till now = 6,655,980\n",
      "Day 323: Reward (in $) = 7,985\n",
      "Total till now = 6,663,965\n",
      "Day 324: Reward (in $) = 16,578\n",
      "Total till now = 6,680,543\n",
      "Day 325: Reward (in $) = -31,040\n",
      "Total till now = 6,649,503\n",
      "Day 326: Reward (in $) = -10,881\n",
      "Total till now = 6,638,622\n",
      "Day 327: Reward (in $) = -14,797\n",
      "Total till now = 6,623,825\n",
      "Day 328: Reward (in $) = 61,527\n",
      "Total till now = 6,685,352\n",
      "Day 329: Reward (in $) = 43,246\n",
      "Total till now = 6,728,597\n",
      "Day 330: Reward (in $) = 5,965\n",
      "Total till now = 6,734,563\n",
      "Day 331: Reward (in $) = -15,352\n",
      "Total till now = 6,719,211\n",
      "Day 332: Reward (in $) = -47,770\n",
      "Total till now = 6,671,442\n",
      "Day 333: Reward (in $) = -43,836\n",
      "Total till now = 6,627,606\n",
      "Day 334: Reward (in $) = -2,408\n",
      "Total till now = 6,625,197\n",
      "Day 335: Reward (in $) = -21,501\n",
      "Total till now = 6,603,696\n",
      "Day 336: Reward (in $) = -18,766\n",
      "Total till now = 6,584,930\n",
      "Day 337: Reward (in $) = 18,851\n",
      "Total till now = 6,603,781\n",
      "Day 338: Reward (in $) = -6,838\n",
      "Total till now = 6,596,943\n",
      "Day 339: Reward (in $) = -17,018\n",
      "Total till now = 6,579,924\n",
      "Day 340: Reward (in $) = -6,298\n",
      "Total till now = 6,573,627\n",
      "Day 341: Reward (in $) = -58,171\n",
      "Total till now = 6,515,456\n",
      "Day 342: Reward (in $) = -109,478\n",
      "Total till now = 6,405,978\n",
      "Day 343: Reward (in $) = -116,797\n",
      "Total till now = 6,289,181\n",
      "Day 344: Reward (in $) = 184,970\n",
      "Total till now = 6,474,151\n",
      "Day 345: Reward (in $) = 76,254\n",
      "Total till now = 6,550,405\n",
      "Day 346: Reward (in $) = -24,981\n",
      "Total till now = 6,525,424\n",
      "Day 347: Reward (in $) = 7,021\n",
      "Total till now = 6,532,445\n",
      "Day 348: Reward (in $) = -31,063\n",
      "Total till now = 6,501,382\n",
      "Day 349: Reward (in $) = 70,648\n",
      "Total till now = 6,572,030\n",
      "Day 350: Reward (in $) = 574\n",
      "Total till now = 6,572,604\n",
      "Day 351: Reward (in $) = 75,204\n",
      "Total till now = 6,647,808\n",
      "Day 352: Reward (in $) = 50,729\n",
      "Total till now = 6,698,537\n",
      "Day 353: Reward (in $) = 202\n",
      "Total till now = 6,698,739\n",
      "Day 354: Reward (in $) = -43,321\n",
      "Total till now = 6,655,418\n",
      "Day 355: Reward (in $) = 6,213\n",
      "Total till now = 6,661,631\n",
      "Day 356: Reward (in $) = -25,018\n",
      "Total till now = 6,636,612\n",
      "Day 357: Reward (in $) = -32,706\n",
      "Total till now = 6,603,906\n",
      "Day 358: Reward (in $) = -1,981\n",
      "Total till now = 6,601,925\n",
      "Day 359: Reward (in $) = -13,403\n",
      "Total till now = 6,588,522\n",
      "Day 360: Reward (in $) = -60,400\n",
      "Total till now = 6,528,122\n",
      "Day 361: Reward (in $) = -79,752\n",
      "Total till now = 6,448,370\n",
      "Day 362: Reward (in $) = 171,970\n",
      "Total till now = 6,620,340\n",
      "Day 363: Reward (in $) = 30,282\n",
      "Total till now = 6,650,622\n",
      "Day 364: Reward (in $) = 2,217\n",
      "Total till now = 6,652,839\n",
      "Day 365: Reward (in $) = -16,625\n",
      "Total till now = 6,636,214\n",
      "Total money earned over the year (in $) = 6,636,214\n"
     ]
    }
   ],
   "source": [
    "dailyBudget = 250000\n",
    "quantileOffer =0.75\n",
    "\n",
    "# Keep track of your rewards in each day, a cumulative reward over the year, and a total reward over the\n",
    "# year. Also, keep track of the total reward from each option. Store them as dictionaries that are\n",
    "# indexed by day of the year.\n",
    "reward = {}\n",
    "cumulativeReward = {}\n",
    "totalReward = 0\n",
    "optionReturn = dict((option, 0) for option in optionNames)\n",
    "\n",
    "# Implement the trading strategy on each day!\n",
    "\n",
    "\n",
    "for day in rangeOfDays:\n",
    "    if day in rangeOfDays:\n",
    "        \n",
    "        reward[day] = 0\n",
    "\n",
    "        # Find the options that your classifier says that should be profitable. Store the profitable option\n",
    "        # names in chosenOptions.\n",
    "        chosenOptionNumbers = np.ravel(list(np.nonzero(predictedY.loc[day].values)))\n",
    "        if np.size(chosenOptionNumbers) == 0:\n",
    "            continue\n",
    "        chosenOptions = [optionNames[i] for i in chosenOptionNumbers]\n",
    "\n",
    "        # Design the portfolio based on average price spreads. Our strategy is that as long as you have not\n",
    "        # exceeded your daily budget, pick an option from the list of 'chosenOptions' probabilistically, where\n",
    "        # the probability of choosing it is proportional to exponential(historical rewards of that option). That\n",
    "        # is, a historically profitable option is chosen more often than one that is not. Keep sampling and\n",
    "        # decreasing your budget with each bid.\n",
    "\n",
    "        # Start with an empty portfolio.\n",
    "\n",
    "        portfolio = dict((option, 0) for option in chosenOptions)\n",
    "\n",
    "        # Calculate the probabilities of choosing each option among the list 'chosenOptions'. Recall that\n",
    "        # 'chosenOptions' contains the options that your classifier indicates as being profitable.\n",
    "        priceSpreads = [1.0 * averagePriceSpread[option] for option in chosenOptions]\n",
    "        probabilityOptions = [np.exp(p) for p in priceSpreads]\n",
    "        probabilityOptions /= np.sum(probabilityOptions)\n",
    "\n",
    "        # Start with your daily budget.\n",
    "        budget = dailyBudget\n",
    "        \n",
    "        \n",
    "        #Tweaking the probability options \n",
    "        \n",
    "\n",
    "\n",
    "        # Sampling among the profitable options and bid based on them.\n",
    "        while budget > ((np.median([offerPrices[quantileOffer][option] for option in chosenOptions]))):\n",
    "\n",
    "            optionToBuy = choice(chosenOptions, p=probabilityOptions)\n",
    "\n",
    "            if budget >= offerPrices[quantileOffer][optionToBuy]:\n",
    "                portfolio[optionToBuy] += 2\n",
    "                budget -= 2*(offerPrices[quantileOffer][optionToBuy])\n",
    "\n",
    "        # Compute the reward from the day. Go through each of the options you have decided to buy.\n",
    "        # If the DA price is lower than the bid price, then your bid is cleared. For each option you\n",
    "        # have bought, you get a reward equal to the DA - RT price.\n",
    "\n",
    "        for option in chosenOptions:\n",
    "            if testPriceDA.at[day, option] < offerPrices[quantileOffer][option]:\n",
    "                rewardOptionDay = testPriceDART.at[day, option] * portfolio[option]\n",
    "                optionReturn[option] += rewardOptionDay\n",
    "                reward[day] += rewardOptionDay\n",
    "\n",
    "        totalReward += reward[day]\n",
    "\n",
    "        # Calculate the cumulative reward in millions of dollars.\n",
    "        cumulativeReward[day] = totalReward/1000000\n",
    "\n",
    "        print(\"Day \" + str(day) + \": Reward (in $) = \" + \"{0:,.0f}\".format(reward[day]))\n",
    "        \n",
    "        \n",
    "    else:\n",
    "        continue\n",
    "            \n",
    "\n",
    "print(\"Total money earned over the year (in $) = \" + \"{0:,.0f}\".format(totalReward))"
   ]
  },
  {
   "cell_type": "code",
   "execution_count": 23,
   "metadata": {},
   "outputs": [
    {
     "data": {
      "image/png": "[encoded data removed]",
      "text/plain": [
       "<Figure size 432x288 with 3 Axes>"
      ]
     },
     "metadata": {
      "needs_background": "light"
     },
     "output_type": "display_data"
    }
   ],
   "source": [
    "# Plot the cumulative reward over the year 2016. Also, plot a heat map of the returns from\n",
    "# each option.\n",
    "\n",
    "fig, axs = plt.subplots(2, 1, tight_layout=True)\n",
    "axs = axs.ravel()\n",
    "\n",
    "\n",
    "## Enter code here where you plot in axs[0].\n",
    "cr=list(cumulativeReward.values())\n",
    "d=list(cumulativeReward.keys())\n",
    "\n",
    "axs[0].plot(d,cr)\n",
    "\n",
    "axs[1] = sns.heatmap(np.reshape(list(optionReturn.values()), (len(listOfZones), 24)),\n",
    "                     linewidth=0.5,\n",
    "                     cmap=\"YlGnBu\")\n",
    "axs[1].set_yticklabels(listOfZones, rotation=0)\n",
    "axs[1].set_xticklabels(range(24), rotation=90)\n",
    "axs[1].set_title('Returns on different options')\n",
    "plt.show()\n",
    "\n"
   ]
  },
  {
   "cell_type": "markdown",
   "metadata": {},
   "source": [
    "# Regression Classifier (penalty l2 , c=10, profit = 4,92,214)"
   ]
  },
  {
   "cell_type": "code",
   "execution_count": 58,
   "metadata": {},
   "outputs": [
    {
     "name": "stdout",
     "output_type": "stream",
     "text": [
      "Starting training module...\n",
      "\n",
      "Loaded hourly prices from 2015 for 365 days.\n"
     ]
    },
    {
     "name": "stderr",
     "output_type": "stream",
     "text": [
      "/Users/ab/opt/anaconda3/lib/python3.7/site-packages/sklearn/linear_model/logistic.py:432: FutureWarning: Default solver will be changed to 'lbfgs' in 0.22. Specify a solver to silence this warning.\n",
      "  FutureWarning)\n"
     ]
    },
    {
     "name": "stdout",
     "output_type": "stream",
     "text": [
      "Classifier trained for option CAPITL_Hour_0\n"
     ]
    },
    {
     "name": "stderr",
     "output_type": "stream",
     "text": [
      "/Users/ab/opt/anaconda3/lib/python3.7/site-packages/sklearn/linear_model/logistic.py:432: FutureWarning: Default solver will be changed to 'lbfgs' in 0.22. Specify a solver to silence this warning.\n",
      "  FutureWarning)\n"
     ]
    },
    {
     "name": "stdout",
     "output_type": "stream",
     "text": [
      "Classifier trained for option CAPITL_Hour_1\n"
     ]
    },
    {
     "name": "stderr",
     "output_type": "stream",
     "text": [
      "/Users/ab/opt/anaconda3/lib/python3.7/site-packages/sklearn/linear_model/logistic.py:432: FutureWarning: Default solver will be changed to 'lbfgs' in 0.22. Specify a solver to silence this warning.\n",
      "  FutureWarning)\n"
     ]
    },
    {
     "name": "stdout",
     "output_type": "stream",
     "text": [
      "Classifier trained for option CAPITL_Hour_2\n"
     ]
    },
    {
     "name": "stderr",
     "output_type": "stream",
     "text": [
      "/Users/ab/opt/anaconda3/lib/python3.7/site-packages/sklearn/linear_model/logistic.py:432: FutureWarning: Default solver will be changed to 'lbfgs' in 0.22. Specify a solver to silence this warning.\n",
      "  FutureWarning)\n"
     ]
    },
    {
     "name": "stdout",
     "output_type": "stream",
     "text": [
      "Classifier trained for option CAPITL_Hour_3\n"
     ]
    },
    {
     "name": "stderr",
     "output_type": "stream",
     "text": [
      "/Users/ab/opt/anaconda3/lib/python3.7/site-packages/sklearn/linear_model/logistic.py:432: FutureWarning: Default solver will be changed to 'lbfgs' in 0.22. Specify a solver to silence this warning.\n",
      "  FutureWarning)\n"
     ]
    },
    {
     "name": "stdout",
     "output_type": "stream",
     "text": [
      "Classifier trained for option CAPITL_Hour_4\n"
     ]
    },
    {
     "name": "stderr",
     "output_type": "stream",
     "text": [
      "/Users/ab/opt/anaconda3/lib/python3.7/site-packages/sklearn/linear_model/logistic.py:432: FutureWarning: Default solver will be changed to 'lbfgs' in 0.22. Specify a solver to silence this warning.\n",
      "  FutureWarning)\n"
     ]
    },
    {
     "name": "stdout",
     "output_type": "stream",
     "text": [
      "Classifier trained for option CAPITL_Hour_5\n"
     ]
    },
    {
     "name": "stderr",
     "output_type": "stream",
     "text": [
      "/Users/ab/opt/anaconda3/lib/python3.7/site-packages/sklearn/linear_model/logistic.py:432: FutureWarning: Default solver will be changed to 'lbfgs' in 0.22. Specify a solver to silence this warning.\n",
      "  FutureWarning)\n"
     ]
    },
    {
     "name": "stdout",
     "output_type": "stream",
     "text": [
      "Classifier trained for option CAPITL_Hour_6\n"
     ]
    },
    {
     "name": "stderr",
     "output_type": "stream",
     "text": [
      "/Users/ab/opt/anaconda3/lib/python3.7/site-packages/sklearn/linear_model/logistic.py:432: FutureWarning: Default solver will be changed to 'lbfgs' in 0.22. Specify a solver to silence this warning.\n",
      "  FutureWarning)\n"
     ]
    },
    {
     "name": "stdout",
     "output_type": "stream",
     "text": [
      "Classifier trained for option CAPITL_Hour_7\n"
     ]
    },
    {
     "name": "stderr",
     "output_type": "stream",
     "text": [
      "/Users/ab/opt/anaconda3/lib/python3.7/site-packages/sklearn/linear_model/logistic.py:432: FutureWarning: Default solver will be changed to 'lbfgs' in 0.22. Specify a solver to silence this warning.\n",
      "  FutureWarning)\n"
     ]
    },
    {
     "name": "stdout",
     "output_type": "stream",
     "text": [
      "Classifier trained for option CAPITL_Hour_8\n"
     ]
    },
    {
     "name": "stderr",
     "output_type": "stream",
     "text": [
      "/Users/ab/opt/anaconda3/lib/python3.7/site-packages/sklearn/linear_model/logistic.py:432: FutureWarning: Default solver will be changed to 'lbfgs' in 0.22. Specify a solver to silence this warning.\n",
      "  FutureWarning)\n"
     ]
    },
    {
     "name": "stdout",
     "output_type": "stream",
     "text": [
      "Classifier trained for option CAPITL_Hour_9\n"
     ]
    },
    {
     "name": "stderr",
     "output_type": "stream",
     "text": [
      "/Users/ab/opt/anaconda3/lib/python3.7/site-packages/sklearn/linear_model/logistic.py:432: FutureWarning: Default solver will be changed to 'lbfgs' in 0.22. Specify a solver to silence this warning.\n",
      "  FutureWarning)\n"
     ]
    },
    {
     "name": "stdout",
     "output_type": "stream",
     "text": [
      "Classifier trained for option CAPITL_Hour_10\n"
     ]
    },
    {
     "name": "stderr",
     "output_type": "stream",
     "text": [
      "/Users/ab/opt/anaconda3/lib/python3.7/site-packages/sklearn/linear_model/logistic.py:432: FutureWarning: Default solver will be changed to 'lbfgs' in 0.22. Specify a solver to silence this warning.\n",
      "  FutureWarning)\n"
     ]
    },
    {
     "name": "stdout",
     "output_type": "stream",
     "text": [
      "Classifier trained for option CAPITL_Hour_11\n",
      "Classifier trained for option CAPITL_Hour_12\n"
     ]
    },
    {
     "name": "stderr",
     "output_type": "stream",
     "text": [
      "/Users/ab/opt/anaconda3/lib/python3.7/site-packages/sklearn/linear_model/logistic.py:432: FutureWarning: Default solver will be changed to 'lbfgs' in 0.22. Specify a solver to silence this warning.\n",
      "  FutureWarning)\n",
      "/Users/ab/opt/anaconda3/lib/python3.7/site-packages/sklearn/linear_model/logistic.py:432: FutureWarning: Default solver will be changed to 'lbfgs' in 0.22. Specify a solver to silence this warning.\n",
      "  FutureWarning)\n"
     ]
    },
    {
     "name": "stdout",
     "output_type": "stream",
     "text": [
      "Classifier trained for option CAPITL_Hour_13\n"
     ]
    },
    {
     "name": "stderr",
     "output_type": "stream",
     "text": [
      "/Users/ab/opt/anaconda3/lib/python3.7/site-packages/sklearn/linear_model/logistic.py:432: FutureWarning: Default solver will be changed to 'lbfgs' in 0.22. Specify a solver to silence this warning.\n",
      "  FutureWarning)\n"
     ]
    },
    {
     "name": "stdout",
     "output_type": "stream",
     "text": [
      "Classifier trained for option CAPITL_Hour_14\n"
     ]
    },
    {
     "name": "stderr",
     "output_type": "stream",
     "text": [
      "/Users/ab/opt/anaconda3/lib/python3.7/site-packages/sklearn/linear_model/logistic.py:432: FutureWarning: Default solver will be changed to 'lbfgs' in 0.22. Specify a solver to silence this warning.\n",
      "  FutureWarning)\n"
     ]
    },
    {
     "name": "stdout",
     "output_type": "stream",
     "text": [
      "Classifier trained for option CAPITL_Hour_15\n"
     ]
    },
    {
     "name": "stderr",
     "output_type": "stream",
     "text": [
      "/Users/ab/opt/anaconda3/lib/python3.7/site-packages/sklearn/linear_model/logistic.py:432: FutureWarning: Default solver will be changed to 'lbfgs' in 0.22. Specify a solver to silence this warning.\n",
      "  FutureWarning)\n"
     ]
    },
    {
     "name": "stdout",
     "output_type": "stream",
     "text": [
      "Classifier trained for option CAPITL_Hour_16\n"
     ]
    },
    {
     "name": "stderr",
     "output_type": "stream",
     "text": [
      "/Users/ab/opt/anaconda3/lib/python3.7/site-packages/sklearn/linear_model/logistic.py:432: FutureWarning: Default solver will be changed to 'lbfgs' in 0.22. Specify a solver to silence this warning.\n",
      "  FutureWarning)\n"
     ]
    },
    {
     "name": "stdout",
     "output_type": "stream",
     "text": [
      "Classifier trained for option CAPITL_Hour_17\n"
     ]
    },
    {
     "name": "stderr",
     "output_type": "stream",
     "text": [
      "/Users/ab/opt/anaconda3/lib/python3.7/site-packages/sklearn/linear_model/logistic.py:432: FutureWarning: Default solver will be changed to 'lbfgs' in 0.22. Specify a solver to silence this warning.\n",
      "  FutureWarning)\n"
     ]
    },
    {
     "name": "stdout",
     "output_type": "stream",
     "text": [
      "Classifier trained for option CAPITL_Hour_18\n"
     ]
    },
    {
     "name": "stderr",
     "output_type": "stream",
     "text": [
      "/Users/ab/opt/anaconda3/lib/python3.7/site-packages/sklearn/linear_model/logistic.py:432: FutureWarning: Default solver will be changed to 'lbfgs' in 0.22. Specify a solver to silence this warning.\n",
      "  FutureWarning)\n"
     ]
    },
    {
     "name": "stdout",
     "output_type": "stream",
     "text": [
      "Classifier trained for option CAPITL_Hour_19\n"
     ]
    },
    {
     "name": "stderr",
     "output_type": "stream",
     "text": [
      "/Users/ab/opt/anaconda3/lib/python3.7/site-packages/sklearn/linear_model/logistic.py:432: FutureWarning: Default solver will be changed to 'lbfgs' in 0.22. Specify a solver to silence this warning.\n",
      "  FutureWarning)\n"
     ]
    },
    {
     "name": "stdout",
     "output_type": "stream",
     "text": [
      "Classifier trained for option CAPITL_Hour_20\n"
     ]
    },
    {
     "name": "stderr",
     "output_type": "stream",
     "text": [
      "/Users/ab/opt/anaconda3/lib/python3.7/site-packages/sklearn/linear_model/logistic.py:432: FutureWarning: Default solver will be changed to 'lbfgs' in 0.22. Specify a solver to silence this warning.\n",
      "  FutureWarning)\n"
     ]
    },
    {
     "name": "stdout",
     "output_type": "stream",
     "text": [
      "Classifier trained for option CAPITL_Hour_21\n"
     ]
    },
    {
     "name": "stderr",
     "output_type": "stream",
     "text": [
      "/Users/ab/opt/anaconda3/lib/python3.7/site-packages/sklearn/linear_model/logistic.py:432: FutureWarning: Default solver will be changed to 'lbfgs' in 0.22. Specify a solver to silence this warning.\n",
      "  FutureWarning)\n"
     ]
    },
    {
     "name": "stdout",
     "output_type": "stream",
     "text": [
      "Classifier trained for option CAPITL_Hour_22\n"
     ]
    },
    {
     "name": "stderr",
     "output_type": "stream",
     "text": [
      "/Users/ab/opt/anaconda3/lib/python3.7/site-packages/sklearn/linear_model/logistic.py:432: FutureWarning: Default solver will be changed to 'lbfgs' in 0.22. Specify a solver to silence this warning.\n",
      "  FutureWarning)\n"
     ]
    },
    {
     "name": "stdout",
     "output_type": "stream",
     "text": [
      "Classifier trained for option CAPITL_Hour_23\n"
     ]
    },
    {
     "name": "stderr",
     "output_type": "stream",
     "text": [
      "/Users/ab/opt/anaconda3/lib/python3.7/site-packages/sklearn/linear_model/logistic.py:432: FutureWarning: Default solver will be changed to 'lbfgs' in 0.22. Specify a solver to silence this warning.\n",
      "  FutureWarning)\n"
     ]
    },
    {
     "name": "stdout",
     "output_type": "stream",
     "text": [
      "Classifier trained for option CENTRL_Hour_0\n"
     ]
    },
    {
     "name": "stderr",
     "output_type": "stream",
     "text": [
      "/Users/ab/opt/anaconda3/lib/python3.7/site-packages/sklearn/linear_model/logistic.py:432: FutureWarning: Default solver will be changed to 'lbfgs' in 0.22. Specify a solver to silence this warning.\n",
      "  FutureWarning)\n"
     ]
    },
    {
     "name": "stdout",
     "output_type": "stream",
     "text": [
      "Classifier trained for option CENTRL_Hour_1\n"
     ]
    },
    {
     "name": "stderr",
     "output_type": "stream",
     "text": [
      "/Users/ab/opt/anaconda3/lib/python3.7/site-packages/sklearn/linear_model/logistic.py:432: FutureWarning: Default solver will be changed to 'lbfgs' in 0.22. Specify a solver to silence this warning.\n",
      "  FutureWarning)\n"
     ]
    },
    {
     "name": "stdout",
     "output_type": "stream",
     "text": [
      "Classifier trained for option CENTRL_Hour_2\n"
     ]
    },
    {
     "name": "stderr",
     "output_type": "stream",
     "text": [
      "/Users/ab/opt/anaconda3/lib/python3.7/site-packages/sklearn/linear_model/logistic.py:432: FutureWarning: Default solver will be changed to 'lbfgs' in 0.22. Specify a solver to silence this warning.\n",
      "  FutureWarning)\n"
     ]
    },
    {
     "name": "stdout",
     "output_type": "stream",
     "text": [
      "Classifier trained for option CENTRL_Hour_3\n"
     ]
    },
    {
     "name": "stderr",
     "output_type": "stream",
     "text": [
      "/Users/ab/opt/anaconda3/lib/python3.7/site-packages/sklearn/linear_model/logistic.py:432: FutureWarning: Default solver will be changed to 'lbfgs' in 0.22. Specify a solver to silence this warning.\n",
      "  FutureWarning)\n"
     ]
    },
    {
     "name": "stdout",
     "output_type": "stream",
     "text": [
      "Classifier trained for option CENTRL_Hour_4\n"
     ]
    },
    {
     "name": "stderr",
     "output_type": "stream",
     "text": [
      "/Users/ab/opt/anaconda3/lib/python3.7/site-packages/sklearn/linear_model/logistic.py:432: FutureWarning: Default solver will be changed to 'lbfgs' in 0.22. Specify a solver to silence this warning.\n",
      "  FutureWarning)\n"
     ]
    },
    {
     "name": "stdout",
     "output_type": "stream",
     "text": [
      "Classifier trained for option CENTRL_Hour_5\n"
     ]
    },
    {
     "name": "stderr",
     "output_type": "stream",
     "text": [
      "/Users/ab/opt/anaconda3/lib/python3.7/site-packages/sklearn/linear_model/logistic.py:432: FutureWarning: Default solver will be changed to 'lbfgs' in 0.22. Specify a solver to silence this warning.\n",
      "  FutureWarning)\n"
     ]
    },
    {
     "name": "stdout",
     "output_type": "stream",
     "text": [
      "Classifier trained for option CENTRL_Hour_6\n"
     ]
    },
    {
     "name": "stderr",
     "output_type": "stream",
     "text": [
      "/Users/ab/opt/anaconda3/lib/python3.7/site-packages/sklearn/linear_model/logistic.py:432: FutureWarning: Default solver will be changed to 'lbfgs' in 0.22. Specify a solver to silence this warning.\n",
      "  FutureWarning)\n"
     ]
    },
    {
     "name": "stdout",
     "output_type": "stream",
     "text": [
      "Classifier trained for option CENTRL_Hour_7\n",
      "Classifier trained for option CENTRL_Hour_8\n"
     ]
    },
    {
     "name": "stderr",
     "output_type": "stream",
     "text": [
      "/Users/ab/opt/anaconda3/lib/python3.7/site-packages/sklearn/linear_model/logistic.py:432: FutureWarning: Default solver will be changed to 'lbfgs' in 0.22. Specify a solver to silence this warning.\n",
      "  FutureWarning)\n",
      "/Users/ab/opt/anaconda3/lib/python3.7/site-packages/sklearn/linear_model/logistic.py:432: FutureWarning: Default solver will be changed to 'lbfgs' in 0.22. Specify a solver to silence this warning.\n",
      "  FutureWarning)\n"
     ]
    },
    {
     "name": "stdout",
     "output_type": "stream",
     "text": [
      "Classifier trained for option CENTRL_Hour_9\n"
     ]
    },
    {
     "name": "stderr",
     "output_type": "stream",
     "text": [
      "/Users/ab/opt/anaconda3/lib/python3.7/site-packages/sklearn/linear_model/logistic.py:432: FutureWarning: Default solver will be changed to 'lbfgs' in 0.22. Specify a solver to silence this warning.\n",
      "  FutureWarning)\n"
     ]
    },
    {
     "name": "stdout",
     "output_type": "stream",
     "text": [
      "Classifier trained for option CENTRL_Hour_10\n"
     ]
    },
    {
     "name": "stderr",
     "output_type": "stream",
     "text": [
      "/Users/ab/opt/anaconda3/lib/python3.7/site-packages/sklearn/linear_model/logistic.py:432: FutureWarning: Default solver will be changed to 'lbfgs' in 0.22. Specify a solver to silence this warning.\n",
      "  FutureWarning)\n"
     ]
    },
    {
     "name": "stdout",
     "output_type": "stream",
     "text": [
      "Classifier trained for option CENTRL_Hour_11\n"
     ]
    },
    {
     "name": "stderr",
     "output_type": "stream",
     "text": [
      "/Users/ab/opt/anaconda3/lib/python3.7/site-packages/sklearn/linear_model/logistic.py:432: FutureWarning: Default solver will be changed to 'lbfgs' in 0.22. Specify a solver to silence this warning.\n",
      "  FutureWarning)\n"
     ]
    },
    {
     "name": "stdout",
     "output_type": "stream",
     "text": [
      "Classifier trained for option CENTRL_Hour_12\n"
     ]
    },
    {
     "name": "stderr",
     "output_type": "stream",
     "text": [
      "/Users/ab/opt/anaconda3/lib/python3.7/site-packages/sklearn/linear_model/logistic.py:432: FutureWarning: Default solver will be changed to 'lbfgs' in 0.22. Specify a solver to silence this warning.\n",
      "  FutureWarning)\n"
     ]
    },
    {
     "name": "stdout",
     "output_type": "stream",
     "text": [
      "Classifier trained for option CENTRL_Hour_13\n"
     ]
    },
    {
     "name": "stderr",
     "output_type": "stream",
     "text": [
      "/Users/ab/opt/anaconda3/lib/python3.7/site-packages/sklearn/linear_model/logistic.py:432: FutureWarning: Default solver will be changed to 'lbfgs' in 0.22. Specify a solver to silence this warning.\n",
      "  FutureWarning)\n"
     ]
    },
    {
     "name": "stdout",
     "output_type": "stream",
     "text": [
      "Classifier trained for option CENTRL_Hour_14\n"
     ]
    },
    {
     "name": "stderr",
     "output_type": "stream",
     "text": [
      "/Users/ab/opt/anaconda3/lib/python3.7/site-packages/sklearn/linear_model/logistic.py:432: FutureWarning: Default solver will be changed to 'lbfgs' in 0.22. Specify a solver to silence this warning.\n",
      "  FutureWarning)\n"
     ]
    },
    {
     "name": "stdout",
     "output_type": "stream",
     "text": [
      "Classifier trained for option CENTRL_Hour_15\n"
     ]
    },
    {
     "name": "stderr",
     "output_type": "stream",
     "text": [
      "/Users/ab/opt/anaconda3/lib/python3.7/site-packages/sklearn/linear_model/logistic.py:432: FutureWarning: Default solver will be changed to 'lbfgs' in 0.22. Specify a solver to silence this warning.\n",
      "  FutureWarning)\n"
     ]
    },
    {
     "name": "stdout",
     "output_type": "stream",
     "text": [
      "Classifier trained for option CENTRL_Hour_16\n"
     ]
    },
    {
     "name": "stderr",
     "output_type": "stream",
     "text": [
      "/Users/ab/opt/anaconda3/lib/python3.7/site-packages/sklearn/linear_model/logistic.py:432: FutureWarning: Default solver will be changed to 'lbfgs' in 0.22. Specify a solver to silence this warning.\n",
      "  FutureWarning)\n"
     ]
    },
    {
     "name": "stdout",
     "output_type": "stream",
     "text": [
      "Classifier trained for option CENTRL_Hour_17\n"
     ]
    },
    {
     "name": "stderr",
     "output_type": "stream",
     "text": [
      "/Users/ab/opt/anaconda3/lib/python3.7/site-packages/sklearn/linear_model/logistic.py:432: FutureWarning: Default solver will be changed to 'lbfgs' in 0.22. Specify a solver to silence this warning.\n",
      "  FutureWarning)\n"
     ]
    },
    {
     "name": "stdout",
     "output_type": "stream",
     "text": [
      "Classifier trained for option CENTRL_Hour_18\n"
     ]
    },
    {
     "name": "stderr",
     "output_type": "stream",
     "text": [
      "/Users/ab/opt/anaconda3/lib/python3.7/site-packages/sklearn/linear_model/logistic.py:432: FutureWarning: Default solver will be changed to 'lbfgs' in 0.22. Specify a solver to silence this warning.\n",
      "  FutureWarning)\n"
     ]
    },
    {
     "name": "stdout",
     "output_type": "stream",
     "text": [
      "Classifier trained for option CENTRL_Hour_19\n"
     ]
    },
    {
     "name": "stderr",
     "output_type": "stream",
     "text": [
      "/Users/ab/opt/anaconda3/lib/python3.7/site-packages/sklearn/linear_model/logistic.py:432: FutureWarning: Default solver will be changed to 'lbfgs' in 0.22. Specify a solver to silence this warning.\n",
      "  FutureWarning)\n"
     ]
    },
    {
     "name": "stdout",
     "output_type": "stream",
     "text": [
      "Classifier trained for option CENTRL_Hour_20\n"
     ]
    },
    {
     "name": "stderr",
     "output_type": "stream",
     "text": [
      "/Users/ab/opt/anaconda3/lib/python3.7/site-packages/sklearn/linear_model/logistic.py:432: FutureWarning: Default solver will be changed to 'lbfgs' in 0.22. Specify a solver to silence this warning.\n",
      "  FutureWarning)\n"
     ]
    },
    {
     "name": "stdout",
     "output_type": "stream",
     "text": [
      "Classifier trained for option CENTRL_Hour_21\n"
     ]
    },
    {
     "name": "stderr",
     "output_type": "stream",
     "text": [
      "/Users/ab/opt/anaconda3/lib/python3.7/site-packages/sklearn/linear_model/logistic.py:432: FutureWarning: Default solver will be changed to 'lbfgs' in 0.22. Specify a solver to silence this warning.\n",
      "  FutureWarning)\n"
     ]
    },
    {
     "name": "stdout",
     "output_type": "stream",
     "text": [
      "Classifier trained for option CENTRL_Hour_22\n"
     ]
    },
    {
     "name": "stderr",
     "output_type": "stream",
     "text": [
      "/Users/ab/opt/anaconda3/lib/python3.7/site-packages/sklearn/linear_model/logistic.py:432: FutureWarning: Default solver will be changed to 'lbfgs' in 0.22. Specify a solver to silence this warning.\n",
      "  FutureWarning)\n"
     ]
    },
    {
     "name": "stdout",
     "output_type": "stream",
     "text": [
      "Classifier trained for option CENTRL_Hour_23\n"
     ]
    },
    {
     "name": "stderr",
     "output_type": "stream",
     "text": [
      "/Users/ab/opt/anaconda3/lib/python3.7/site-packages/sklearn/linear_model/logistic.py:432: FutureWarning: Default solver will be changed to 'lbfgs' in 0.22. Specify a solver to silence this warning.\n",
      "  FutureWarning)\n"
     ]
    },
    {
     "name": "stdout",
     "output_type": "stream",
     "text": [
      "Classifier trained for option DUNWOD_Hour_0\n"
     ]
    },
    {
     "name": "stderr",
     "output_type": "stream",
     "text": [
      "/Users/ab/opt/anaconda3/lib/python3.7/site-packages/sklearn/linear_model/logistic.py:432: FutureWarning: Default solver will be changed to 'lbfgs' in 0.22. Specify a solver to silence this warning.\n",
      "  FutureWarning)\n"
     ]
    },
    {
     "name": "stdout",
     "output_type": "stream",
     "text": [
      "Classifier trained for option DUNWOD_Hour_1\n",
      "Classifier trained for option DUNWOD_Hour_2\n"
     ]
    },
    {
     "name": "stderr",
     "output_type": "stream",
     "text": [
      "/Users/ab/opt/anaconda3/lib/python3.7/site-packages/sklearn/linear_model/logistic.py:432: FutureWarning: Default solver will be changed to 'lbfgs' in 0.22. Specify a solver to silence this warning.\n",
      "  FutureWarning)\n",
      "/Users/ab/opt/anaconda3/lib/python3.7/site-packages/sklearn/linear_model/logistic.py:432: FutureWarning: Default solver will be changed to 'lbfgs' in 0.22. Specify a solver to silence this warning.\n",
      "  FutureWarning)\n"
     ]
    },
    {
     "name": "stdout",
     "output_type": "stream",
     "text": [
      "Classifier trained for option DUNWOD_Hour_3\n"
     ]
    },
    {
     "name": "stderr",
     "output_type": "stream",
     "text": [
      "/Users/ab/opt/anaconda3/lib/python3.7/site-packages/sklearn/linear_model/logistic.py:432: FutureWarning: Default solver will be changed to 'lbfgs' in 0.22. Specify a solver to silence this warning.\n",
      "  FutureWarning)\n"
     ]
    },
    {
     "name": "stdout",
     "output_type": "stream",
     "text": [
      "Classifier trained for option DUNWOD_Hour_4\n"
     ]
    },
    {
     "name": "stderr",
     "output_type": "stream",
     "text": [
      "/Users/ab/opt/anaconda3/lib/python3.7/site-packages/sklearn/linear_model/logistic.py:432: FutureWarning: Default solver will be changed to 'lbfgs' in 0.22. Specify a solver to silence this warning.\n",
      "  FutureWarning)\n"
     ]
    },
    {
     "name": "stdout",
     "output_type": "stream",
     "text": [
      "Classifier trained for option DUNWOD_Hour_5\n"
     ]
    },
    {
     "name": "stderr",
     "output_type": "stream",
     "text": [
      "/Users/ab/opt/anaconda3/lib/python3.7/site-packages/sklearn/linear_model/logistic.py:432: FutureWarning: Default solver will be changed to 'lbfgs' in 0.22. Specify a solver to silence this warning.\n",
      "  FutureWarning)\n"
     ]
    },
    {
     "name": "stdout",
     "output_type": "stream",
     "text": [
      "Classifier trained for option DUNWOD_Hour_6\n"
     ]
    },
    {
     "name": "stderr",
     "output_type": "stream",
     "text": [
      "/Users/ab/opt/anaconda3/lib/python3.7/site-packages/sklearn/linear_model/logistic.py:432: FutureWarning: Default solver will be changed to 'lbfgs' in 0.22. Specify a solver to silence this warning.\n",
      "  FutureWarning)\n"
     ]
    },
    {
     "name": "stdout",
     "output_type": "stream",
     "text": [
      "Classifier trained for option DUNWOD_Hour_7\n"
     ]
    },
    {
     "name": "stderr",
     "output_type": "stream",
     "text": [
      "/Users/ab/opt/anaconda3/lib/python3.7/site-packages/sklearn/linear_model/logistic.py:432: FutureWarning: Default solver will be changed to 'lbfgs' in 0.22. Specify a solver to silence this warning.\n",
      "  FutureWarning)\n"
     ]
    },
    {
     "name": "stdout",
     "output_type": "stream",
     "text": [
      "Classifier trained for option DUNWOD_Hour_8\n"
     ]
    },
    {
     "name": "stderr",
     "output_type": "stream",
     "text": [
      "/Users/ab/opt/anaconda3/lib/python3.7/site-packages/sklearn/linear_model/logistic.py:432: FutureWarning: Default solver will be changed to 'lbfgs' in 0.22. Specify a solver to silence this warning.\n",
      "  FutureWarning)\n"
     ]
    },
    {
     "name": "stdout",
     "output_type": "stream",
     "text": [
      "Classifier trained for option DUNWOD_Hour_9\n"
     ]
    },
    {
     "name": "stderr",
     "output_type": "stream",
     "text": [
      "/Users/ab/opt/anaconda3/lib/python3.7/site-packages/sklearn/linear_model/logistic.py:432: FutureWarning: Default solver will be changed to 'lbfgs' in 0.22. Specify a solver to silence this warning.\n",
      "  FutureWarning)\n"
     ]
    },
    {
     "name": "stdout",
     "output_type": "stream",
     "text": [
      "Classifier trained for option DUNWOD_Hour_10\n"
     ]
    },
    {
     "name": "stderr",
     "output_type": "stream",
     "text": [
      "/Users/ab/opt/anaconda3/lib/python3.7/site-packages/sklearn/linear_model/logistic.py:432: FutureWarning: Default solver will be changed to 'lbfgs' in 0.22. Specify a solver to silence this warning.\n",
      "  FutureWarning)\n"
     ]
    },
    {
     "name": "stdout",
     "output_type": "stream",
     "text": [
      "Classifier trained for option DUNWOD_Hour_11\n"
     ]
    },
    {
     "name": "stderr",
     "output_type": "stream",
     "text": [
      "/Users/ab/opt/anaconda3/lib/python3.7/site-packages/sklearn/linear_model/logistic.py:432: FutureWarning: Default solver will be changed to 'lbfgs' in 0.22. Specify a solver to silence this warning.\n",
      "  FutureWarning)\n"
     ]
    },
    {
     "name": "stdout",
     "output_type": "stream",
     "text": [
      "Classifier trained for option DUNWOD_Hour_12\n",
      "Classifier trained for option DUNWOD_Hour_13\n"
     ]
    },
    {
     "name": "stderr",
     "output_type": "stream",
     "text": [
      "/Users/ab/opt/anaconda3/lib/python3.7/site-packages/sklearn/linear_model/logistic.py:432: FutureWarning: Default solver will be changed to 'lbfgs' in 0.22. Specify a solver to silence this warning.\n",
      "  FutureWarning)\n",
      "/Users/ab/opt/anaconda3/lib/python3.7/site-packages/sklearn/linear_model/logistic.py:432: FutureWarning: Default solver will be changed to 'lbfgs' in 0.22. Specify a solver to silence this warning.\n",
      "  FutureWarning)\n"
     ]
    },
    {
     "name": "stdout",
     "output_type": "stream",
     "text": [
      "Classifier trained for option DUNWOD_Hour_14\n"
     ]
    },
    {
     "name": "stderr",
     "output_type": "stream",
     "text": [
      "/Users/ab/opt/anaconda3/lib/python3.7/site-packages/sklearn/linear_model/logistic.py:432: FutureWarning: Default solver will be changed to 'lbfgs' in 0.22. Specify a solver to silence this warning.\n",
      "  FutureWarning)\n"
     ]
    },
    {
     "name": "stdout",
     "output_type": "stream",
     "text": [
      "Classifier trained for option DUNWOD_Hour_15\n",
      "Classifier trained for option DUNWOD_Hour_16\n"
     ]
    },
    {
     "name": "stderr",
     "output_type": "stream",
     "text": [
      "/Users/ab/opt/anaconda3/lib/python3.7/site-packages/sklearn/linear_model/logistic.py:432: FutureWarning: Default solver will be changed to 'lbfgs' in 0.22. Specify a solver to silence this warning.\n",
      "  FutureWarning)\n",
      "/Users/ab/opt/anaconda3/lib/python3.7/site-packages/sklearn/linear_model/logistic.py:432: FutureWarning: Default solver will be changed to 'lbfgs' in 0.22. Specify a solver to silence this warning.\n",
      "  FutureWarning)\n"
     ]
    },
    {
     "name": "stdout",
     "output_type": "stream",
     "text": [
      "Classifier trained for option DUNWOD_Hour_17\n"
     ]
    },
    {
     "name": "stderr",
     "output_type": "stream",
     "text": [
      "/Users/ab/opt/anaconda3/lib/python3.7/site-packages/sklearn/linear_model/logistic.py:432: FutureWarning: Default solver will be changed to 'lbfgs' in 0.22. Specify a solver to silence this warning.\n",
      "  FutureWarning)\n"
     ]
    },
    {
     "name": "stdout",
     "output_type": "stream",
     "text": [
      "Classifier trained for option DUNWOD_Hour_18\n"
     ]
    },
    {
     "name": "stderr",
     "output_type": "stream",
     "text": [
      "/Users/ab/opt/anaconda3/lib/python3.7/site-packages/sklearn/linear_model/logistic.py:432: FutureWarning: Default solver will be changed to 'lbfgs' in 0.22. Specify a solver to silence this warning.\n",
      "  FutureWarning)\n"
     ]
    },
    {
     "name": "stdout",
     "output_type": "stream",
     "text": [
      "Classifier trained for option DUNWOD_Hour_19\n"
     ]
    },
    {
     "name": "stderr",
     "output_type": "stream",
     "text": [
      "/Users/ab/opt/anaconda3/lib/python3.7/site-packages/sklearn/linear_model/logistic.py:432: FutureWarning: Default solver will be changed to 'lbfgs' in 0.22. Specify a solver to silence this warning.\n",
      "  FutureWarning)\n"
     ]
    },
    {
     "name": "stdout",
     "output_type": "stream",
     "text": [
      "Classifier trained for option DUNWOD_Hour_20\n"
     ]
    },
    {
     "name": "stderr",
     "output_type": "stream",
     "text": [
      "/Users/ab/opt/anaconda3/lib/python3.7/site-packages/sklearn/linear_model/logistic.py:432: FutureWarning: Default solver will be changed to 'lbfgs' in 0.22. Specify a solver to silence this warning.\n",
      "  FutureWarning)\n"
     ]
    },
    {
     "name": "stdout",
     "output_type": "stream",
     "text": [
      "Classifier trained for option DUNWOD_Hour_21\n"
     ]
    },
    {
     "name": "stderr",
     "output_type": "stream",
     "text": [
      "/Users/ab/opt/anaconda3/lib/python3.7/site-packages/sklearn/linear_model/logistic.py:432: FutureWarning: Default solver will be changed to 'lbfgs' in 0.22. Specify a solver to silence this warning.\n",
      "  FutureWarning)\n"
     ]
    },
    {
     "name": "stdout",
     "output_type": "stream",
     "text": [
      "Classifier trained for option DUNWOD_Hour_22\n",
      "Classifier trained for option DUNWOD_Hour_23\n"
     ]
    },
    {
     "name": "stderr",
     "output_type": "stream",
     "text": [
      "/Users/ab/opt/anaconda3/lib/python3.7/site-packages/sklearn/linear_model/logistic.py:432: FutureWarning: Default solver will be changed to 'lbfgs' in 0.22. Specify a solver to silence this warning.\n",
      "  FutureWarning)\n",
      "/Users/ab/opt/anaconda3/lib/python3.7/site-packages/sklearn/linear_model/logistic.py:432: FutureWarning: Default solver will be changed to 'lbfgs' in 0.22. Specify a solver to silence this warning.\n",
      "  FutureWarning)\n"
     ]
    },
    {
     "name": "stdout",
     "output_type": "stream",
     "text": [
      "Classifier trained for option GENESE_Hour_0\n"
     ]
    },
    {
     "name": "stderr",
     "output_type": "stream",
     "text": [
      "/Users/ab/opt/anaconda3/lib/python3.7/site-packages/sklearn/linear_model/logistic.py:432: FutureWarning: Default solver will be changed to 'lbfgs' in 0.22. Specify a solver to silence this warning.\n",
      "  FutureWarning)\n"
     ]
    },
    {
     "name": "stdout",
     "output_type": "stream",
     "text": [
      "Classifier trained for option GENESE_Hour_1\n"
     ]
    },
    {
     "name": "stderr",
     "output_type": "stream",
     "text": [
      "/Users/ab/opt/anaconda3/lib/python3.7/site-packages/sklearn/linear_model/logistic.py:432: FutureWarning: Default solver will be changed to 'lbfgs' in 0.22. Specify a solver to silence this warning.\n",
      "  FutureWarning)\n"
     ]
    },
    {
     "name": "stdout",
     "output_type": "stream",
     "text": [
      "Classifier trained for option GENESE_Hour_2\n"
     ]
    },
    {
     "name": "stderr",
     "output_type": "stream",
     "text": [
      "/Users/ab/opt/anaconda3/lib/python3.7/site-packages/sklearn/linear_model/logistic.py:432: FutureWarning: Default solver will be changed to 'lbfgs' in 0.22. Specify a solver to silence this warning.\n",
      "  FutureWarning)\n"
     ]
    },
    {
     "name": "stdout",
     "output_type": "stream",
     "text": [
      "Classifier trained for option GENESE_Hour_3\n"
     ]
    },
    {
     "name": "stderr",
     "output_type": "stream",
     "text": [
      "/Users/ab/opt/anaconda3/lib/python3.7/site-packages/sklearn/linear_model/logistic.py:432: FutureWarning: Default solver will be changed to 'lbfgs' in 0.22. Specify a solver to silence this warning.\n",
      "  FutureWarning)\n"
     ]
    },
    {
     "name": "stdout",
     "output_type": "stream",
     "text": [
      "Classifier trained for option GENESE_Hour_4\n"
     ]
    },
    {
     "name": "stderr",
     "output_type": "stream",
     "text": [
      "/Users/ab/opt/anaconda3/lib/python3.7/site-packages/sklearn/linear_model/logistic.py:432: FutureWarning: Default solver will be changed to 'lbfgs' in 0.22. Specify a solver to silence this warning.\n",
      "  FutureWarning)\n"
     ]
    },
    {
     "name": "stdout",
     "output_type": "stream",
     "text": [
      "Classifier trained for option GENESE_Hour_5\n"
     ]
    },
    {
     "name": "stderr",
     "output_type": "stream",
     "text": [
      "/Users/ab/opt/anaconda3/lib/python3.7/site-packages/sklearn/linear_model/logistic.py:432: FutureWarning: Default solver will be changed to 'lbfgs' in 0.22. Specify a solver to silence this warning.\n",
      "  FutureWarning)\n"
     ]
    },
    {
     "name": "stdout",
     "output_type": "stream",
     "text": [
      "Classifier trained for option GENESE_Hour_6\n"
     ]
    },
    {
     "name": "stderr",
     "output_type": "stream",
     "text": [
      "/Users/ab/opt/anaconda3/lib/python3.7/site-packages/sklearn/linear_model/logistic.py:432: FutureWarning: Default solver will be changed to 'lbfgs' in 0.22. Specify a solver to silence this warning.\n",
      "  FutureWarning)\n"
     ]
    },
    {
     "name": "stdout",
     "output_type": "stream",
     "text": [
      "Classifier trained for option GENESE_Hour_7\n"
     ]
    },
    {
     "name": "stderr",
     "output_type": "stream",
     "text": [
      "/Users/ab/opt/anaconda3/lib/python3.7/site-packages/sklearn/linear_model/logistic.py:432: FutureWarning: Default solver will be changed to 'lbfgs' in 0.22. Specify a solver to silence this warning.\n",
      "  FutureWarning)\n"
     ]
    },
    {
     "name": "stdout",
     "output_type": "stream",
     "text": [
      "Classifier trained for option GENESE_Hour_8\n"
     ]
    },
    {
     "name": "stderr",
     "output_type": "stream",
     "text": [
      "/Users/ab/opt/anaconda3/lib/python3.7/site-packages/sklearn/linear_model/logistic.py:432: FutureWarning: Default solver will be changed to 'lbfgs' in 0.22. Specify a solver to silence this warning.\n",
      "  FutureWarning)\n"
     ]
    },
    {
     "name": "stdout",
     "output_type": "stream",
     "text": [
      "Classifier trained for option GENESE_Hour_9\n",
      "Classifier trained for option GENESE_Hour_10\n"
     ]
    },
    {
     "name": "stderr",
     "output_type": "stream",
     "text": [
      "/Users/ab/opt/anaconda3/lib/python3.7/site-packages/sklearn/linear_model/logistic.py:432: FutureWarning: Default solver will be changed to 'lbfgs' in 0.22. Specify a solver to silence this warning.\n",
      "  FutureWarning)\n",
      "/Users/ab/opt/anaconda3/lib/python3.7/site-packages/sklearn/linear_model/logistic.py:432: FutureWarning: Default solver will be changed to 'lbfgs' in 0.22. Specify a solver to silence this warning.\n",
      "  FutureWarning)\n"
     ]
    },
    {
     "name": "stdout",
     "output_type": "stream",
     "text": [
      "Classifier trained for option GENESE_Hour_11\n"
     ]
    },
    {
     "name": "stderr",
     "output_type": "stream",
     "text": [
      "/Users/ab/opt/anaconda3/lib/python3.7/site-packages/sklearn/linear_model/logistic.py:432: FutureWarning: Default solver will be changed to 'lbfgs' in 0.22. Specify a solver to silence this warning.\n",
      "  FutureWarning)\n"
     ]
    },
    {
     "name": "stdout",
     "output_type": "stream",
     "text": [
      "Classifier trained for option GENESE_Hour_12\n"
     ]
    },
    {
     "name": "stderr",
     "output_type": "stream",
     "text": [
      "/Users/ab/opt/anaconda3/lib/python3.7/site-packages/sklearn/linear_model/logistic.py:432: FutureWarning: Default solver will be changed to 'lbfgs' in 0.22. Specify a solver to silence this warning.\n",
      "  FutureWarning)\n"
     ]
    },
    {
     "name": "stdout",
     "output_type": "stream",
     "text": [
      "Classifier trained for option GENESE_Hour_13\n"
     ]
    },
    {
     "name": "stderr",
     "output_type": "stream",
     "text": [
      "/Users/ab/opt/anaconda3/lib/python3.7/site-packages/sklearn/linear_model/logistic.py:432: FutureWarning: Default solver will be changed to 'lbfgs' in 0.22. Specify a solver to silence this warning.\n",
      "  FutureWarning)\n"
     ]
    },
    {
     "name": "stdout",
     "output_type": "stream",
     "text": [
      "Classifier trained for option GENESE_Hour_14\n"
     ]
    },
    {
     "name": "stderr",
     "output_type": "stream",
     "text": [
      "/Users/ab/opt/anaconda3/lib/python3.7/site-packages/sklearn/linear_model/logistic.py:432: FutureWarning: Default solver will be changed to 'lbfgs' in 0.22. Specify a solver to silence this warning.\n",
      "  FutureWarning)\n"
     ]
    },
    {
     "name": "stdout",
     "output_type": "stream",
     "text": [
      "Classifier trained for option GENESE_Hour_15\n"
     ]
    },
    {
     "name": "stderr",
     "output_type": "stream",
     "text": [
      "/Users/ab/opt/anaconda3/lib/python3.7/site-packages/sklearn/linear_model/logistic.py:432: FutureWarning: Default solver will be changed to 'lbfgs' in 0.22. Specify a solver to silence this warning.\n",
      "  FutureWarning)\n"
     ]
    },
    {
     "name": "stdout",
     "output_type": "stream",
     "text": [
      "Classifier trained for option GENESE_Hour_16\n"
     ]
    },
    {
     "name": "stderr",
     "output_type": "stream",
     "text": [
      "/Users/ab/opt/anaconda3/lib/python3.7/site-packages/sklearn/linear_model/logistic.py:432: FutureWarning: Default solver will be changed to 'lbfgs' in 0.22. Specify a solver to silence this warning.\n",
      "  FutureWarning)\n"
     ]
    },
    {
     "name": "stdout",
     "output_type": "stream",
     "text": [
      "Classifier trained for option GENESE_Hour_17\n"
     ]
    },
    {
     "name": "stderr",
     "output_type": "stream",
     "text": [
      "/Users/ab/opt/anaconda3/lib/python3.7/site-packages/sklearn/linear_model/logistic.py:432: FutureWarning: Default solver will be changed to 'lbfgs' in 0.22. Specify a solver to silence this warning.\n",
      "  FutureWarning)\n"
     ]
    },
    {
     "name": "stdout",
     "output_type": "stream",
     "text": [
      "Classifier trained for option GENESE_Hour_18\n"
     ]
    },
    {
     "name": "stderr",
     "output_type": "stream",
     "text": [
      "/Users/ab/opt/anaconda3/lib/python3.7/site-packages/sklearn/linear_model/logistic.py:432: FutureWarning: Default solver will be changed to 'lbfgs' in 0.22. Specify a solver to silence this warning.\n",
      "  FutureWarning)\n"
     ]
    },
    {
     "name": "stdout",
     "output_type": "stream",
     "text": [
      "Classifier trained for option GENESE_Hour_19\n"
     ]
    },
    {
     "name": "stderr",
     "output_type": "stream",
     "text": [
      "/Users/ab/opt/anaconda3/lib/python3.7/site-packages/sklearn/linear_model/logistic.py:432: FutureWarning: Default solver will be changed to 'lbfgs' in 0.22. Specify a solver to silence this warning.\n",
      "  FutureWarning)\n"
     ]
    },
    {
     "name": "stdout",
     "output_type": "stream",
     "text": [
      "Classifier trained for option GENESE_Hour_20\n"
     ]
    },
    {
     "name": "stderr",
     "output_type": "stream",
     "text": [
      "/Users/ab/opt/anaconda3/lib/python3.7/site-packages/sklearn/linear_model/logistic.py:432: FutureWarning: Default solver will be changed to 'lbfgs' in 0.22. Specify a solver to silence this warning.\n",
      "  FutureWarning)\n"
     ]
    },
    {
     "name": "stdout",
     "output_type": "stream",
     "text": [
      "Classifier trained for option GENESE_Hour_21\n"
     ]
    },
    {
     "name": "stderr",
     "output_type": "stream",
     "text": [
      "/Users/ab/opt/anaconda3/lib/python3.7/site-packages/sklearn/linear_model/logistic.py:432: FutureWarning: Default solver will be changed to 'lbfgs' in 0.22. Specify a solver to silence this warning.\n",
      "  FutureWarning)\n"
     ]
    },
    {
     "name": "stdout",
     "output_type": "stream",
     "text": [
      "Classifier trained for option GENESE_Hour_22\n"
     ]
    },
    {
     "name": "stderr",
     "output_type": "stream",
     "text": [
      "/Users/ab/opt/anaconda3/lib/python3.7/site-packages/sklearn/linear_model/logistic.py:432: FutureWarning: Default solver will be changed to 'lbfgs' in 0.22. Specify a solver to silence this warning.\n",
      "  FutureWarning)\n"
     ]
    },
    {
     "name": "stdout",
     "output_type": "stream",
     "text": [
      "Classifier trained for option GENESE_Hour_23\n"
     ]
    },
    {
     "name": "stderr",
     "output_type": "stream",
     "text": [
      "/Users/ab/opt/anaconda3/lib/python3.7/site-packages/sklearn/linear_model/logistic.py:432: FutureWarning: Default solver will be changed to 'lbfgs' in 0.22. Specify a solver to silence this warning.\n",
      "  FutureWarning)\n"
     ]
    },
    {
     "name": "stdout",
     "output_type": "stream",
     "text": [
      "Classifier trained for option HUD VL_Hour_0\n"
     ]
    },
    {
     "name": "stderr",
     "output_type": "stream",
     "text": [
      "/Users/ab/opt/anaconda3/lib/python3.7/site-packages/sklearn/linear_model/logistic.py:432: FutureWarning: Default solver will be changed to 'lbfgs' in 0.22. Specify a solver to silence this warning.\n",
      "  FutureWarning)\n"
     ]
    },
    {
     "name": "stdout",
     "output_type": "stream",
     "text": [
      "Classifier trained for option HUD VL_Hour_1\n"
     ]
    },
    {
     "name": "stderr",
     "output_type": "stream",
     "text": [
      "/Users/ab/opt/anaconda3/lib/python3.7/site-packages/sklearn/linear_model/logistic.py:432: FutureWarning: Default solver will be changed to 'lbfgs' in 0.22. Specify a solver to silence this warning.\n",
      "  FutureWarning)\n"
     ]
    },
    {
     "name": "stdout",
     "output_type": "stream",
     "text": [
      "Classifier trained for option HUD VL_Hour_2\n"
     ]
    },
    {
     "name": "stderr",
     "output_type": "stream",
     "text": [
      "/Users/ab/opt/anaconda3/lib/python3.7/site-packages/sklearn/linear_model/logistic.py:432: FutureWarning: Default solver will be changed to 'lbfgs' in 0.22. Specify a solver to silence this warning.\n",
      "  FutureWarning)\n"
     ]
    },
    {
     "name": "stdout",
     "output_type": "stream",
     "text": [
      "Classifier trained for option HUD VL_Hour_3\n"
     ]
    },
    {
     "name": "stderr",
     "output_type": "stream",
     "text": [
      "/Users/ab/opt/anaconda3/lib/python3.7/site-packages/sklearn/linear_model/logistic.py:432: FutureWarning: Default solver will be changed to 'lbfgs' in 0.22. Specify a solver to silence this warning.\n",
      "  FutureWarning)\n"
     ]
    },
    {
     "name": "stdout",
     "output_type": "stream",
     "text": [
      "Classifier trained for option HUD VL_Hour_4\n"
     ]
    },
    {
     "name": "stderr",
     "output_type": "stream",
     "text": [
      "/Users/ab/opt/anaconda3/lib/python3.7/site-packages/sklearn/linear_model/logistic.py:432: FutureWarning: Default solver will be changed to 'lbfgs' in 0.22. Specify a solver to silence this warning.\n",
      "  FutureWarning)\n"
     ]
    },
    {
     "name": "stdout",
     "output_type": "stream",
     "text": [
      "Classifier trained for option HUD VL_Hour_5\n"
     ]
    },
    {
     "name": "stderr",
     "output_type": "stream",
     "text": [
      "/Users/ab/opt/anaconda3/lib/python3.7/site-packages/sklearn/linear_model/logistic.py:432: FutureWarning: Default solver will be changed to 'lbfgs' in 0.22. Specify a solver to silence this warning.\n",
      "  FutureWarning)\n"
     ]
    },
    {
     "name": "stdout",
     "output_type": "stream",
     "text": [
      "Classifier trained for option HUD VL_Hour_6\n"
     ]
    },
    {
     "name": "stderr",
     "output_type": "stream",
     "text": [
      "/Users/ab/opt/anaconda3/lib/python3.7/site-packages/sklearn/linear_model/logistic.py:432: FutureWarning: Default solver will be changed to 'lbfgs' in 0.22. Specify a solver to silence this warning.\n",
      "  FutureWarning)\n"
     ]
    },
    {
     "name": "stdout",
     "output_type": "stream",
     "text": [
      "Classifier trained for option HUD VL_Hour_7\n"
     ]
    },
    {
     "name": "stderr",
     "output_type": "stream",
     "text": [
      "/Users/ab/opt/anaconda3/lib/python3.7/site-packages/sklearn/linear_model/logistic.py:432: FutureWarning: Default solver will be changed to 'lbfgs' in 0.22. Specify a solver to silence this warning.\n",
      "  FutureWarning)\n"
     ]
    },
    {
     "name": "stdout",
     "output_type": "stream",
     "text": [
      "Classifier trained for option HUD VL_Hour_8\n"
     ]
    },
    {
     "name": "stderr",
     "output_type": "stream",
     "text": [
      "/Users/ab/opt/anaconda3/lib/python3.7/site-packages/sklearn/linear_model/logistic.py:432: FutureWarning: Default solver will be changed to 'lbfgs' in 0.22. Specify a solver to silence this warning.\n",
      "  FutureWarning)\n"
     ]
    },
    {
     "name": "stdout",
     "output_type": "stream",
     "text": [
      "Classifier trained for option HUD VL_Hour_9\n"
     ]
    },
    {
     "name": "stderr",
     "output_type": "stream",
     "text": [
      "/Users/ab/opt/anaconda3/lib/python3.7/site-packages/sklearn/linear_model/logistic.py:432: FutureWarning: Default solver will be changed to 'lbfgs' in 0.22. Specify a solver to silence this warning.\n",
      "  FutureWarning)\n"
     ]
    },
    {
     "name": "stdout",
     "output_type": "stream",
     "text": [
      "Classifier trained for option HUD VL_Hour_10\n"
     ]
    },
    {
     "name": "stderr",
     "output_type": "stream",
     "text": [
      "/Users/ab/opt/anaconda3/lib/python3.7/site-packages/sklearn/linear_model/logistic.py:432: FutureWarning: Default solver will be changed to 'lbfgs' in 0.22. Specify a solver to silence this warning.\n",
      "  FutureWarning)\n"
     ]
    },
    {
     "name": "stdout",
     "output_type": "stream",
     "text": [
      "Classifier trained for option HUD VL_Hour_11\n"
     ]
    },
    {
     "name": "stderr",
     "output_type": "stream",
     "text": [
      "/Users/ab/opt/anaconda3/lib/python3.7/site-packages/sklearn/linear_model/logistic.py:432: FutureWarning: Default solver will be changed to 'lbfgs' in 0.22. Specify a solver to silence this warning.\n",
      "  FutureWarning)\n"
     ]
    },
    {
     "name": "stdout",
     "output_type": "stream",
     "text": [
      "Classifier trained for option HUD VL_Hour_12\n"
     ]
    },
    {
     "name": "stderr",
     "output_type": "stream",
     "text": [
      "/Users/ab/opt/anaconda3/lib/python3.7/site-packages/sklearn/linear_model/logistic.py:432: FutureWarning: Default solver will be changed to 'lbfgs' in 0.22. Specify a solver to silence this warning.\n",
      "  FutureWarning)\n"
     ]
    },
    {
     "name": "stdout",
     "output_type": "stream",
     "text": [
      "Classifier trained for option HUD VL_Hour_13\n"
     ]
    },
    {
     "name": "stderr",
     "output_type": "stream",
     "text": [
      "/Users/ab/opt/anaconda3/lib/python3.7/site-packages/sklearn/linear_model/logistic.py:432: FutureWarning: Default solver will be changed to 'lbfgs' in 0.22. Specify a solver to silence this warning.\n",
      "  FutureWarning)\n"
     ]
    },
    {
     "name": "stdout",
     "output_type": "stream",
     "text": [
      "Classifier trained for option HUD VL_Hour_14\n"
     ]
    },
    {
     "name": "stderr",
     "output_type": "stream",
     "text": [
      "/Users/ab/opt/anaconda3/lib/python3.7/site-packages/sklearn/linear_model/logistic.py:432: FutureWarning: Default solver will be changed to 'lbfgs' in 0.22. Specify a solver to silence this warning.\n",
      "  FutureWarning)\n"
     ]
    },
    {
     "name": "stdout",
     "output_type": "stream",
     "text": [
      "Classifier trained for option HUD VL_Hour_15\n"
     ]
    },
    {
     "name": "stderr",
     "output_type": "stream",
     "text": [
      "/Users/ab/opt/anaconda3/lib/python3.7/site-packages/sklearn/linear_model/logistic.py:432: FutureWarning: Default solver will be changed to 'lbfgs' in 0.22. Specify a solver to silence this warning.\n",
      "  FutureWarning)\n"
     ]
    },
    {
     "name": "stdout",
     "output_type": "stream",
     "text": [
      "Classifier trained for option HUD VL_Hour_16\n"
     ]
    },
    {
     "name": "stderr",
     "output_type": "stream",
     "text": [
      "/Users/ab/opt/anaconda3/lib/python3.7/site-packages/sklearn/linear_model/logistic.py:432: FutureWarning: Default solver will be changed to 'lbfgs' in 0.22. Specify a solver to silence this warning.\n",
      "  FutureWarning)\n"
     ]
    },
    {
     "name": "stdout",
     "output_type": "stream",
     "text": [
      "Classifier trained for option HUD VL_Hour_17\n"
     ]
    },
    {
     "name": "stderr",
     "output_type": "stream",
     "text": [
      "/Users/ab/opt/anaconda3/lib/python3.7/site-packages/sklearn/linear_model/logistic.py:432: FutureWarning: Default solver will be changed to 'lbfgs' in 0.22. Specify a solver to silence this warning.\n",
      "  FutureWarning)\n"
     ]
    },
    {
     "name": "stdout",
     "output_type": "stream",
     "text": [
      "Classifier trained for option HUD VL_Hour_18\n"
     ]
    },
    {
     "name": "stderr",
     "output_type": "stream",
     "text": [
      "/Users/ab/opt/anaconda3/lib/python3.7/site-packages/sklearn/linear_model/logistic.py:432: FutureWarning: Default solver will be changed to 'lbfgs' in 0.22. Specify a solver to silence this warning.\n",
      "  FutureWarning)\n"
     ]
    },
    {
     "name": "stdout",
     "output_type": "stream",
     "text": [
      "Classifier trained for option HUD VL_Hour_19\n"
     ]
    },
    {
     "name": "stderr",
     "output_type": "stream",
     "text": [
      "/Users/ab/opt/anaconda3/lib/python3.7/site-packages/sklearn/linear_model/logistic.py:432: FutureWarning: Default solver will be changed to 'lbfgs' in 0.22. Specify a solver to silence this warning.\n",
      "  FutureWarning)\n"
     ]
    },
    {
     "name": "stdout",
     "output_type": "stream",
     "text": [
      "Classifier trained for option HUD VL_Hour_20\n"
     ]
    },
    {
     "name": "stderr",
     "output_type": "stream",
     "text": [
      "/Users/ab/opt/anaconda3/lib/python3.7/site-packages/sklearn/linear_model/logistic.py:432: FutureWarning: Default solver will be changed to 'lbfgs' in 0.22. Specify a solver to silence this warning.\n",
      "  FutureWarning)\n"
     ]
    },
    {
     "name": "stdout",
     "output_type": "stream",
     "text": [
      "Classifier trained for option HUD VL_Hour_21\n"
     ]
    },
    {
     "name": "stderr",
     "output_type": "stream",
     "text": [
      "/Users/ab/opt/anaconda3/lib/python3.7/site-packages/sklearn/linear_model/logistic.py:432: FutureWarning: Default solver will be changed to 'lbfgs' in 0.22. Specify a solver to silence this warning.\n",
      "  FutureWarning)\n"
     ]
    },
    {
     "name": "stdout",
     "output_type": "stream",
     "text": [
      "Classifier trained for option HUD VL_Hour_22\n"
     ]
    },
    {
     "name": "stderr",
     "output_type": "stream",
     "text": [
      "/Users/ab/opt/anaconda3/lib/python3.7/site-packages/sklearn/linear_model/logistic.py:432: FutureWarning: Default solver will be changed to 'lbfgs' in 0.22. Specify a solver to silence this warning.\n",
      "  FutureWarning)\n"
     ]
    },
    {
     "name": "stdout",
     "output_type": "stream",
     "text": [
      "Classifier trained for option HUD VL_Hour_23\n"
     ]
    },
    {
     "name": "stderr",
     "output_type": "stream",
     "text": [
      "/Users/ab/opt/anaconda3/lib/python3.7/site-packages/sklearn/linear_model/logistic.py:432: FutureWarning: Default solver will be changed to 'lbfgs' in 0.22. Specify a solver to silence this warning.\n",
      "  FutureWarning)\n"
     ]
    },
    {
     "name": "stdout",
     "output_type": "stream",
     "text": [
      "Classifier trained for option LONGIL_Hour_0\n"
     ]
    },
    {
     "name": "stderr",
     "output_type": "stream",
     "text": [
      "/Users/ab/opt/anaconda3/lib/python3.7/site-packages/sklearn/linear_model/logistic.py:432: FutureWarning: Default solver will be changed to 'lbfgs' in 0.22. Specify a solver to silence this warning.\n",
      "  FutureWarning)\n"
     ]
    },
    {
     "name": "stdout",
     "output_type": "stream",
     "text": [
      "Classifier trained for option LONGIL_Hour_1\n"
     ]
    },
    {
     "name": "stderr",
     "output_type": "stream",
     "text": [
      "/Users/ab/opt/anaconda3/lib/python3.7/site-packages/sklearn/linear_model/logistic.py:432: FutureWarning: Default solver will be changed to 'lbfgs' in 0.22. Specify a solver to silence this warning.\n",
      "  FutureWarning)\n"
     ]
    },
    {
     "name": "stdout",
     "output_type": "stream",
     "text": [
      "Classifier trained for option LONGIL_Hour_2\n"
     ]
    },
    {
     "name": "stderr",
     "output_type": "stream",
     "text": [
      "/Users/ab/opt/anaconda3/lib/python3.7/site-packages/sklearn/linear_model/logistic.py:432: FutureWarning: Default solver will be changed to 'lbfgs' in 0.22. Specify a solver to silence this warning.\n",
      "  FutureWarning)\n"
     ]
    },
    {
     "name": "stdout",
     "output_type": "stream",
     "text": [
      "Classifier trained for option LONGIL_Hour_3\n"
     ]
    },
    {
     "name": "stderr",
     "output_type": "stream",
     "text": [
      "/Users/ab/opt/anaconda3/lib/python3.7/site-packages/sklearn/linear_model/logistic.py:432: FutureWarning: Default solver will be changed to 'lbfgs' in 0.22. Specify a solver to silence this warning.\n",
      "  FutureWarning)\n"
     ]
    },
    {
     "name": "stdout",
     "output_type": "stream",
     "text": [
      "Classifier trained for option LONGIL_Hour_4\n"
     ]
    },
    {
     "name": "stderr",
     "output_type": "stream",
     "text": [
      "/Users/ab/opt/anaconda3/lib/python3.7/site-packages/sklearn/linear_model/logistic.py:432: FutureWarning: Default solver will be changed to 'lbfgs' in 0.22. Specify a solver to silence this warning.\n",
      "  FutureWarning)\n"
     ]
    },
    {
     "name": "stdout",
     "output_type": "stream",
     "text": [
      "Classifier trained for option LONGIL_Hour_5\n"
     ]
    },
    {
     "name": "stderr",
     "output_type": "stream",
     "text": [
      "/Users/ab/opt/anaconda3/lib/python3.7/site-packages/sklearn/linear_model/logistic.py:432: FutureWarning: Default solver will be changed to 'lbfgs' in 0.22. Specify a solver to silence this warning.\n",
      "  FutureWarning)\n"
     ]
    },
    {
     "name": "stdout",
     "output_type": "stream",
     "text": [
      "Classifier trained for option LONGIL_Hour_6\n"
     ]
    },
    {
     "name": "stderr",
     "output_type": "stream",
     "text": [
      "/Users/ab/opt/anaconda3/lib/python3.7/site-packages/sklearn/linear_model/logistic.py:432: FutureWarning: Default solver will be changed to 'lbfgs' in 0.22. Specify a solver to silence this warning.\n",
      "  FutureWarning)\n"
     ]
    },
    {
     "name": "stdout",
     "output_type": "stream",
     "text": [
      "Classifier trained for option LONGIL_Hour_7\n"
     ]
    },
    {
     "name": "stderr",
     "output_type": "stream",
     "text": [
      "/Users/ab/opt/anaconda3/lib/python3.7/site-packages/sklearn/linear_model/logistic.py:432: FutureWarning: Default solver will be changed to 'lbfgs' in 0.22. Specify a solver to silence this warning.\n",
      "  FutureWarning)\n"
     ]
    },
    {
     "name": "stdout",
     "output_type": "stream",
     "text": [
      "Classifier trained for option LONGIL_Hour_8\n"
     ]
    },
    {
     "name": "stderr",
     "output_type": "stream",
     "text": [
      "/Users/ab/opt/anaconda3/lib/python3.7/site-packages/sklearn/linear_model/logistic.py:432: FutureWarning: Default solver will be changed to 'lbfgs' in 0.22. Specify a solver to silence this warning.\n",
      "  FutureWarning)\n"
     ]
    },
    {
     "name": "stdout",
     "output_type": "stream",
     "text": [
      "Classifier trained for option LONGIL_Hour_9\n"
     ]
    },
    {
     "name": "stderr",
     "output_type": "stream",
     "text": [
      "/Users/ab/opt/anaconda3/lib/python3.7/site-packages/sklearn/linear_model/logistic.py:432: FutureWarning: Default solver will be changed to 'lbfgs' in 0.22. Specify a solver to silence this warning.\n",
      "  FutureWarning)\n"
     ]
    },
    {
     "name": "stdout",
     "output_type": "stream",
     "text": [
      "Classifier trained for option LONGIL_Hour_10\n"
     ]
    },
    {
     "name": "stderr",
     "output_type": "stream",
     "text": [
      "/Users/ab/opt/anaconda3/lib/python3.7/site-packages/sklearn/linear_model/logistic.py:432: FutureWarning: Default solver will be changed to 'lbfgs' in 0.22. Specify a solver to silence this warning.\n",
      "  FutureWarning)\n"
     ]
    },
    {
     "name": "stdout",
     "output_type": "stream",
     "text": [
      "Classifier trained for option LONGIL_Hour_11\n"
     ]
    },
    {
     "name": "stderr",
     "output_type": "stream",
     "text": [
      "/Users/ab/opt/anaconda3/lib/python3.7/site-packages/sklearn/linear_model/logistic.py:432: FutureWarning: Default solver will be changed to 'lbfgs' in 0.22. Specify a solver to silence this warning.\n",
      "  FutureWarning)\n"
     ]
    },
    {
     "name": "stdout",
     "output_type": "stream",
     "text": [
      "Classifier trained for option LONGIL_Hour_12\n"
     ]
    },
    {
     "name": "stderr",
     "output_type": "stream",
     "text": [
      "/Users/ab/opt/anaconda3/lib/python3.7/site-packages/sklearn/linear_model/logistic.py:432: FutureWarning: Default solver will be changed to 'lbfgs' in 0.22. Specify a solver to silence this warning.\n",
      "  FutureWarning)\n"
     ]
    },
    {
     "name": "stdout",
     "output_type": "stream",
     "text": [
      "Classifier trained for option LONGIL_Hour_13\n"
     ]
    },
    {
     "name": "stderr",
     "output_type": "stream",
     "text": [
      "/Users/ab/opt/anaconda3/lib/python3.7/site-packages/sklearn/linear_model/logistic.py:432: FutureWarning: Default solver will be changed to 'lbfgs' in 0.22. Specify a solver to silence this warning.\n",
      "  FutureWarning)\n"
     ]
    },
    {
     "name": "stdout",
     "output_type": "stream",
     "text": [
      "Classifier trained for option LONGIL_Hour_14\n"
     ]
    },
    {
     "name": "stderr",
     "output_type": "stream",
     "text": [
      "/Users/ab/opt/anaconda3/lib/python3.7/site-packages/sklearn/linear_model/logistic.py:432: FutureWarning: Default solver will be changed to 'lbfgs' in 0.22. Specify a solver to silence this warning.\n",
      "  FutureWarning)\n"
     ]
    },
    {
     "name": "stdout",
     "output_type": "stream",
     "text": [
      "Classifier trained for option LONGIL_Hour_15\n"
     ]
    },
    {
     "name": "stderr",
     "output_type": "stream",
     "text": [
      "/Users/ab/opt/anaconda3/lib/python3.7/site-packages/sklearn/linear_model/logistic.py:432: FutureWarning: Default solver will be changed to 'lbfgs' in 0.22. Specify a solver to silence this warning.\n",
      "  FutureWarning)\n"
     ]
    },
    {
     "name": "stdout",
     "output_type": "stream",
     "text": [
      "Classifier trained for option LONGIL_Hour_16\n"
     ]
    },
    {
     "name": "stderr",
     "output_type": "stream",
     "text": [
      "/Users/ab/opt/anaconda3/lib/python3.7/site-packages/sklearn/linear_model/logistic.py:432: FutureWarning: Default solver will be changed to 'lbfgs' in 0.22. Specify a solver to silence this warning.\n",
      "  FutureWarning)\n"
     ]
    },
    {
     "name": "stdout",
     "output_type": "stream",
     "text": [
      "Classifier trained for option LONGIL_Hour_17\n"
     ]
    },
    {
     "name": "stderr",
     "output_type": "stream",
     "text": [
      "/Users/ab/opt/anaconda3/lib/python3.7/site-packages/sklearn/linear_model/logistic.py:432: FutureWarning: Default solver will be changed to 'lbfgs' in 0.22. Specify a solver to silence this warning.\n",
      "  FutureWarning)\n"
     ]
    },
    {
     "name": "stdout",
     "output_type": "stream",
     "text": [
      "Classifier trained for option LONGIL_Hour_18\n"
     ]
    },
    {
     "name": "stderr",
     "output_type": "stream",
     "text": [
      "/Users/ab/opt/anaconda3/lib/python3.7/site-packages/sklearn/linear_model/logistic.py:432: FutureWarning: Default solver will be changed to 'lbfgs' in 0.22. Specify a solver to silence this warning.\n",
      "  FutureWarning)\n"
     ]
    },
    {
     "name": "stdout",
     "output_type": "stream",
     "text": [
      "Classifier trained for option LONGIL_Hour_19\n"
     ]
    },
    {
     "name": "stderr",
     "output_type": "stream",
     "text": [
      "/Users/ab/opt/anaconda3/lib/python3.7/site-packages/sklearn/linear_model/logistic.py:432: FutureWarning: Default solver will be changed to 'lbfgs' in 0.22. Specify a solver to silence this warning.\n",
      "  FutureWarning)\n"
     ]
    },
    {
     "name": "stdout",
     "output_type": "stream",
     "text": [
      "Classifier trained for option LONGIL_Hour_20\n"
     ]
    },
    {
     "name": "stderr",
     "output_type": "stream",
     "text": [
      "/Users/ab/opt/anaconda3/lib/python3.7/site-packages/sklearn/linear_model/logistic.py:432: FutureWarning: Default solver will be changed to 'lbfgs' in 0.22. Specify a solver to silence this warning.\n",
      "  FutureWarning)\n"
     ]
    },
    {
     "name": "stdout",
     "output_type": "stream",
     "text": [
      "Classifier trained for option LONGIL_Hour_21\n"
     ]
    },
    {
     "name": "stderr",
     "output_type": "stream",
     "text": [
      "/Users/ab/opt/anaconda3/lib/python3.7/site-packages/sklearn/linear_model/logistic.py:432: FutureWarning: Default solver will be changed to 'lbfgs' in 0.22. Specify a solver to silence this warning.\n",
      "  FutureWarning)\n"
     ]
    },
    {
     "name": "stdout",
     "output_type": "stream",
     "text": [
      "Classifier trained for option LONGIL_Hour_22\n"
     ]
    },
    {
     "name": "stderr",
     "output_type": "stream",
     "text": [
      "/Users/ab/opt/anaconda3/lib/python3.7/site-packages/sklearn/linear_model/logistic.py:432: FutureWarning: Default solver will be changed to 'lbfgs' in 0.22. Specify a solver to silence this warning.\n",
      "  FutureWarning)\n"
     ]
    },
    {
     "name": "stdout",
     "output_type": "stream",
     "text": [
      "Classifier trained for option LONGIL_Hour_23\n"
     ]
    },
    {
     "name": "stderr",
     "output_type": "stream",
     "text": [
      "/Users/ab/opt/anaconda3/lib/python3.7/site-packages/sklearn/linear_model/logistic.py:432: FutureWarning: Default solver will be changed to 'lbfgs' in 0.22. Specify a solver to silence this warning.\n",
      "  FutureWarning)\n"
     ]
    },
    {
     "name": "stdout",
     "output_type": "stream",
     "text": [
      "Classifier trained for option MHK VL_Hour_0\n"
     ]
    },
    {
     "name": "stderr",
     "output_type": "stream",
     "text": [
      "/Users/ab/opt/anaconda3/lib/python3.7/site-packages/sklearn/linear_model/logistic.py:432: FutureWarning: Default solver will be changed to 'lbfgs' in 0.22. Specify a solver to silence this warning.\n",
      "  FutureWarning)\n"
     ]
    },
    {
     "name": "stdout",
     "output_type": "stream",
     "text": [
      "Classifier trained for option MHK VL_Hour_1\n"
     ]
    },
    {
     "name": "stderr",
     "output_type": "stream",
     "text": [
      "/Users/ab/opt/anaconda3/lib/python3.7/site-packages/sklearn/linear_model/logistic.py:432: FutureWarning: Default solver will be changed to 'lbfgs' in 0.22. Specify a solver to silence this warning.\n",
      "  FutureWarning)\n"
     ]
    },
    {
     "name": "stdout",
     "output_type": "stream",
     "text": [
      "Classifier trained for option MHK VL_Hour_2\n"
     ]
    },
    {
     "name": "stderr",
     "output_type": "stream",
     "text": [
      "/Users/ab/opt/anaconda3/lib/python3.7/site-packages/sklearn/linear_model/logistic.py:432: FutureWarning: Default solver will be changed to 'lbfgs' in 0.22. Specify a solver to silence this warning.\n",
      "  FutureWarning)\n"
     ]
    },
    {
     "name": "stdout",
     "output_type": "stream",
     "text": [
      "Classifier trained for option MHK VL_Hour_3\n"
     ]
    },
    {
     "name": "stderr",
     "output_type": "stream",
     "text": [
      "/Users/ab/opt/anaconda3/lib/python3.7/site-packages/sklearn/linear_model/logistic.py:432: FutureWarning: Default solver will be changed to 'lbfgs' in 0.22. Specify a solver to silence this warning.\n",
      "  FutureWarning)\n"
     ]
    },
    {
     "name": "stdout",
     "output_type": "stream",
     "text": [
      "Classifier trained for option MHK VL_Hour_4\n"
     ]
    },
    {
     "name": "stderr",
     "output_type": "stream",
     "text": [
      "/Users/ab/opt/anaconda3/lib/python3.7/site-packages/sklearn/linear_model/logistic.py:432: FutureWarning: Default solver will be changed to 'lbfgs' in 0.22. Specify a solver to silence this warning.\n",
      "  FutureWarning)\n"
     ]
    },
    {
     "name": "stdout",
     "output_type": "stream",
     "text": [
      "Classifier trained for option MHK VL_Hour_5\n"
     ]
    },
    {
     "name": "stderr",
     "output_type": "stream",
     "text": [
      "/Users/ab/opt/anaconda3/lib/python3.7/site-packages/sklearn/linear_model/logistic.py:432: FutureWarning: Default solver will be changed to 'lbfgs' in 0.22. Specify a solver to silence this warning.\n",
      "  FutureWarning)\n"
     ]
    },
    {
     "name": "stdout",
     "output_type": "stream",
     "text": [
      "Classifier trained for option MHK VL_Hour_6\n"
     ]
    },
    {
     "name": "stderr",
     "output_type": "stream",
     "text": [
      "/Users/ab/opt/anaconda3/lib/python3.7/site-packages/sklearn/linear_model/logistic.py:432: FutureWarning: Default solver will be changed to 'lbfgs' in 0.22. Specify a solver to silence this warning.\n",
      "  FutureWarning)\n"
     ]
    },
    {
     "name": "stdout",
     "output_type": "stream",
     "text": [
      "Classifier trained for option MHK VL_Hour_7\n",
      "Classifier trained for option MHK VL_Hour_8\n"
     ]
    },
    {
     "name": "stderr",
     "output_type": "stream",
     "text": [
      "/Users/ab/opt/anaconda3/lib/python3.7/site-packages/sklearn/linear_model/logistic.py:432: FutureWarning: Default solver will be changed to 'lbfgs' in 0.22. Specify a solver to silence this warning.\n",
      "  FutureWarning)\n",
      "/Users/ab/opt/anaconda3/lib/python3.7/site-packages/sklearn/linear_model/logistic.py:432: FutureWarning: Default solver will be changed to 'lbfgs' in 0.22. Specify a solver to silence this warning.\n",
      "  FutureWarning)\n"
     ]
    },
    {
     "name": "stdout",
     "output_type": "stream",
     "text": [
      "Classifier trained for option MHK VL_Hour_9\n"
     ]
    },
    {
     "name": "stderr",
     "output_type": "stream",
     "text": [
      "/Users/ab/opt/anaconda3/lib/python3.7/site-packages/sklearn/linear_model/logistic.py:432: FutureWarning: Default solver will be changed to 'lbfgs' in 0.22. Specify a solver to silence this warning.\n",
      "  FutureWarning)\n"
     ]
    },
    {
     "name": "stdout",
     "output_type": "stream",
     "text": [
      "Classifier trained for option MHK VL_Hour_10\n"
     ]
    },
    {
     "name": "stderr",
     "output_type": "stream",
     "text": [
      "/Users/ab/opt/anaconda3/lib/python3.7/site-packages/sklearn/linear_model/logistic.py:432: FutureWarning: Default solver will be changed to 'lbfgs' in 0.22. Specify a solver to silence this warning.\n",
      "  FutureWarning)\n"
     ]
    },
    {
     "name": "stdout",
     "output_type": "stream",
     "text": [
      "Classifier trained for option MHK VL_Hour_11\n"
     ]
    },
    {
     "name": "stderr",
     "output_type": "stream",
     "text": [
      "/Users/ab/opt/anaconda3/lib/python3.7/site-packages/sklearn/linear_model/logistic.py:432: FutureWarning: Default solver will be changed to 'lbfgs' in 0.22. Specify a solver to silence this warning.\n",
      "  FutureWarning)\n"
     ]
    },
    {
     "name": "stdout",
     "output_type": "stream",
     "text": [
      "Classifier trained for option MHK VL_Hour_12\n"
     ]
    },
    {
     "name": "stderr",
     "output_type": "stream",
     "text": [
      "/Users/ab/opt/anaconda3/lib/python3.7/site-packages/sklearn/linear_model/logistic.py:432: FutureWarning: Default solver will be changed to 'lbfgs' in 0.22. Specify a solver to silence this warning.\n",
      "  FutureWarning)\n"
     ]
    },
    {
     "name": "stdout",
     "output_type": "stream",
     "text": [
      "Classifier trained for option MHK VL_Hour_13\n"
     ]
    },
    {
     "name": "stderr",
     "output_type": "stream",
     "text": [
      "/Users/ab/opt/anaconda3/lib/python3.7/site-packages/sklearn/linear_model/logistic.py:432: FutureWarning: Default solver will be changed to 'lbfgs' in 0.22. Specify a solver to silence this warning.\n",
      "  FutureWarning)\n"
     ]
    },
    {
     "name": "stdout",
     "output_type": "stream",
     "text": [
      "Classifier trained for option MHK VL_Hour_14\n"
     ]
    },
    {
     "name": "stderr",
     "output_type": "stream",
     "text": [
      "/Users/ab/opt/anaconda3/lib/python3.7/site-packages/sklearn/linear_model/logistic.py:432: FutureWarning: Default solver will be changed to 'lbfgs' in 0.22. Specify a solver to silence this warning.\n",
      "  FutureWarning)\n"
     ]
    },
    {
     "name": "stdout",
     "output_type": "stream",
     "text": [
      "Classifier trained for option MHK VL_Hour_15\n"
     ]
    },
    {
     "name": "stderr",
     "output_type": "stream",
     "text": [
      "/Users/ab/opt/anaconda3/lib/python3.7/site-packages/sklearn/linear_model/logistic.py:432: FutureWarning: Default solver will be changed to 'lbfgs' in 0.22. Specify a solver to silence this warning.\n",
      "  FutureWarning)\n"
     ]
    },
    {
     "name": "stdout",
     "output_type": "stream",
     "text": [
      "Classifier trained for option MHK VL_Hour_16\n"
     ]
    },
    {
     "name": "stderr",
     "output_type": "stream",
     "text": [
      "/Users/ab/opt/anaconda3/lib/python3.7/site-packages/sklearn/linear_model/logistic.py:432: FutureWarning: Default solver will be changed to 'lbfgs' in 0.22. Specify a solver to silence this warning.\n",
      "  FutureWarning)\n"
     ]
    },
    {
     "name": "stdout",
     "output_type": "stream",
     "text": [
      "Classifier trained for option MHK VL_Hour_17\n"
     ]
    },
    {
     "name": "stderr",
     "output_type": "stream",
     "text": [
      "/Users/ab/opt/anaconda3/lib/python3.7/site-packages/sklearn/linear_model/logistic.py:432: FutureWarning: Default solver will be changed to 'lbfgs' in 0.22. Specify a solver to silence this warning.\n",
      "  FutureWarning)\n"
     ]
    },
    {
     "name": "stdout",
     "output_type": "stream",
     "text": [
      "Classifier trained for option MHK VL_Hour_18\n"
     ]
    },
    {
     "name": "stderr",
     "output_type": "stream",
     "text": [
      "/Users/ab/opt/anaconda3/lib/python3.7/site-packages/sklearn/linear_model/logistic.py:432: FutureWarning: Default solver will be changed to 'lbfgs' in 0.22. Specify a solver to silence this warning.\n",
      "  FutureWarning)\n"
     ]
    },
    {
     "name": "stdout",
     "output_type": "stream",
     "text": [
      "Classifier trained for option MHK VL_Hour_19\n"
     ]
    },
    {
     "name": "stderr",
     "output_type": "stream",
     "text": [
      "/Users/ab/opt/anaconda3/lib/python3.7/site-packages/sklearn/linear_model/logistic.py:432: FutureWarning: Default solver will be changed to 'lbfgs' in 0.22. Specify a solver to silence this warning.\n",
      "  FutureWarning)\n"
     ]
    },
    {
     "name": "stdout",
     "output_type": "stream",
     "text": [
      "Classifier trained for option MHK VL_Hour_20\n"
     ]
    },
    {
     "name": "stderr",
     "output_type": "stream",
     "text": [
      "/Users/ab/opt/anaconda3/lib/python3.7/site-packages/sklearn/linear_model/logistic.py:432: FutureWarning: Default solver will be changed to 'lbfgs' in 0.22. Specify a solver to silence this warning.\n",
      "  FutureWarning)\n"
     ]
    },
    {
     "name": "stdout",
     "output_type": "stream",
     "text": [
      "Classifier trained for option MHK VL_Hour_21\n"
     ]
    },
    {
     "name": "stderr",
     "output_type": "stream",
     "text": [
      "/Users/ab/opt/anaconda3/lib/python3.7/site-packages/sklearn/linear_model/logistic.py:432: FutureWarning: Default solver will be changed to 'lbfgs' in 0.22. Specify a solver to silence this warning.\n",
      "  FutureWarning)\n"
     ]
    },
    {
     "name": "stdout",
     "output_type": "stream",
     "text": [
      "Classifier trained for option MHK VL_Hour_22\n"
     ]
    },
    {
     "name": "stderr",
     "output_type": "stream",
     "text": [
      "/Users/ab/opt/anaconda3/lib/python3.7/site-packages/sklearn/linear_model/logistic.py:432: FutureWarning: Default solver will be changed to 'lbfgs' in 0.22. Specify a solver to silence this warning.\n",
      "  FutureWarning)\n"
     ]
    },
    {
     "name": "stdout",
     "output_type": "stream",
     "text": [
      "Classifier trained for option MHK VL_Hour_23\n"
     ]
    },
    {
     "name": "stderr",
     "output_type": "stream",
     "text": [
      "/Users/ab/opt/anaconda3/lib/python3.7/site-packages/sklearn/linear_model/logistic.py:432: FutureWarning: Default solver will be changed to 'lbfgs' in 0.22. Specify a solver to silence this warning.\n",
      "  FutureWarning)\n"
     ]
    },
    {
     "name": "stdout",
     "output_type": "stream",
     "text": [
      "Classifier trained for option MILLWD_Hour_0\n"
     ]
    },
    {
     "name": "stderr",
     "output_type": "stream",
     "text": [
      "/Users/ab/opt/anaconda3/lib/python3.7/site-packages/sklearn/linear_model/logistic.py:432: FutureWarning: Default solver will be changed to 'lbfgs' in 0.22. Specify a solver to silence this warning.\n",
      "  FutureWarning)\n"
     ]
    },
    {
     "name": "stdout",
     "output_type": "stream",
     "text": [
      "Classifier trained for option MILLWD_Hour_1\n"
     ]
    },
    {
     "name": "stderr",
     "output_type": "stream",
     "text": [
      "/Users/ab/opt/anaconda3/lib/python3.7/site-packages/sklearn/linear_model/logistic.py:432: FutureWarning: Default solver will be changed to 'lbfgs' in 0.22. Specify a solver to silence this warning.\n",
      "  FutureWarning)\n"
     ]
    },
    {
     "name": "stdout",
     "output_type": "stream",
     "text": [
      "Classifier trained for option MILLWD_Hour_2\n"
     ]
    },
    {
     "name": "stderr",
     "output_type": "stream",
     "text": [
      "/Users/ab/opt/anaconda3/lib/python3.7/site-packages/sklearn/linear_model/logistic.py:432: FutureWarning: Default solver will be changed to 'lbfgs' in 0.22. Specify a solver to silence this warning.\n",
      "  FutureWarning)\n"
     ]
    },
    {
     "name": "stdout",
     "output_type": "stream",
     "text": [
      "Classifier trained for option MILLWD_Hour_3\n"
     ]
    },
    {
     "name": "stderr",
     "output_type": "stream",
     "text": [
      "/Users/ab/opt/anaconda3/lib/python3.7/site-packages/sklearn/linear_model/logistic.py:432: FutureWarning: Default solver will be changed to 'lbfgs' in 0.22. Specify a solver to silence this warning.\n",
      "  FutureWarning)\n"
     ]
    },
    {
     "name": "stdout",
     "output_type": "stream",
     "text": [
      "Classifier trained for option MILLWD_Hour_4\n"
     ]
    },
    {
     "name": "stderr",
     "output_type": "stream",
     "text": [
      "/Users/ab/opt/anaconda3/lib/python3.7/site-packages/sklearn/linear_model/logistic.py:432: FutureWarning: Default solver will be changed to 'lbfgs' in 0.22. Specify a solver to silence this warning.\n",
      "  FutureWarning)\n"
     ]
    },
    {
     "name": "stdout",
     "output_type": "stream",
     "text": [
      "Classifier trained for option MILLWD_Hour_5\n"
     ]
    },
    {
     "name": "stderr",
     "output_type": "stream",
     "text": [
      "/Users/ab/opt/anaconda3/lib/python3.7/site-packages/sklearn/linear_model/logistic.py:432: FutureWarning: Default solver will be changed to 'lbfgs' in 0.22. Specify a solver to silence this warning.\n",
      "  FutureWarning)\n"
     ]
    },
    {
     "name": "stdout",
     "output_type": "stream",
     "text": [
      "Classifier trained for option MILLWD_Hour_6\n"
     ]
    },
    {
     "name": "stderr",
     "output_type": "stream",
     "text": [
      "/Users/ab/opt/anaconda3/lib/python3.7/site-packages/sklearn/linear_model/logistic.py:432: FutureWarning: Default solver will be changed to 'lbfgs' in 0.22. Specify a solver to silence this warning.\n",
      "  FutureWarning)\n"
     ]
    },
    {
     "name": "stdout",
     "output_type": "stream",
     "text": [
      "Classifier trained for option MILLWD_Hour_7\n"
     ]
    },
    {
     "name": "stderr",
     "output_type": "stream",
     "text": [
      "/Users/ab/opt/anaconda3/lib/python3.7/site-packages/sklearn/linear_model/logistic.py:432: FutureWarning: Default solver will be changed to 'lbfgs' in 0.22. Specify a solver to silence this warning.\n",
      "  FutureWarning)\n"
     ]
    },
    {
     "name": "stdout",
     "output_type": "stream",
     "text": [
      "Classifier trained for option MILLWD_Hour_8\n"
     ]
    },
    {
     "name": "stderr",
     "output_type": "stream",
     "text": [
      "/Users/ab/opt/anaconda3/lib/python3.7/site-packages/sklearn/linear_model/logistic.py:432: FutureWarning: Default solver will be changed to 'lbfgs' in 0.22. Specify a solver to silence this warning.\n",
      "  FutureWarning)\n"
     ]
    },
    {
     "name": "stdout",
     "output_type": "stream",
     "text": [
      "Classifier trained for option MILLWD_Hour_9\n"
     ]
    },
    {
     "name": "stderr",
     "output_type": "stream",
     "text": [
      "/Users/ab/opt/anaconda3/lib/python3.7/site-packages/sklearn/linear_model/logistic.py:432: FutureWarning: Default solver will be changed to 'lbfgs' in 0.22. Specify a solver to silence this warning.\n",
      "  FutureWarning)\n"
     ]
    },
    {
     "name": "stdout",
     "output_type": "stream",
     "text": [
      "Classifier trained for option MILLWD_Hour_10\n"
     ]
    },
    {
     "name": "stderr",
     "output_type": "stream",
     "text": [
      "/Users/ab/opt/anaconda3/lib/python3.7/site-packages/sklearn/linear_model/logistic.py:432: FutureWarning: Default solver will be changed to 'lbfgs' in 0.22. Specify a solver to silence this warning.\n",
      "  FutureWarning)\n"
     ]
    },
    {
     "name": "stdout",
     "output_type": "stream",
     "text": [
      "Classifier trained for option MILLWD_Hour_11\n"
     ]
    },
    {
     "name": "stderr",
     "output_type": "stream",
     "text": [
      "/Users/ab/opt/anaconda3/lib/python3.7/site-packages/sklearn/linear_model/logistic.py:432: FutureWarning: Default solver will be changed to 'lbfgs' in 0.22. Specify a solver to silence this warning.\n",
      "  FutureWarning)\n"
     ]
    },
    {
     "name": "stdout",
     "output_type": "stream",
     "text": [
      "Classifier trained for option MILLWD_Hour_12\n"
     ]
    },
    {
     "name": "stderr",
     "output_type": "stream",
     "text": [
      "/Users/ab/opt/anaconda3/lib/python3.7/site-packages/sklearn/linear_model/logistic.py:432: FutureWarning: Default solver will be changed to 'lbfgs' in 0.22. Specify a solver to silence this warning.\n",
      "  FutureWarning)\n"
     ]
    },
    {
     "name": "stdout",
     "output_type": "stream",
     "text": [
      "Classifier trained for option MILLWD_Hour_13\n"
     ]
    },
    {
     "name": "stderr",
     "output_type": "stream",
     "text": [
      "/Users/ab/opt/anaconda3/lib/python3.7/site-packages/sklearn/linear_model/logistic.py:432: FutureWarning: Default solver will be changed to 'lbfgs' in 0.22. Specify a solver to silence this warning.\n",
      "  FutureWarning)\n"
     ]
    },
    {
     "name": "stdout",
     "output_type": "stream",
     "text": [
      "Classifier trained for option MILLWD_Hour_14\n"
     ]
    },
    {
     "name": "stderr",
     "output_type": "stream",
     "text": [
      "/Users/ab/opt/anaconda3/lib/python3.7/site-packages/sklearn/linear_model/logistic.py:432: FutureWarning: Default solver will be changed to 'lbfgs' in 0.22. Specify a solver to silence this warning.\n",
      "  FutureWarning)\n"
     ]
    },
    {
     "name": "stdout",
     "output_type": "stream",
     "text": [
      "Classifier trained for option MILLWD_Hour_15\n"
     ]
    },
    {
     "name": "stderr",
     "output_type": "stream",
     "text": [
      "/Users/ab/opt/anaconda3/lib/python3.7/site-packages/sklearn/linear_model/logistic.py:432: FutureWarning: Default solver will be changed to 'lbfgs' in 0.22. Specify a solver to silence this warning.\n",
      "  FutureWarning)\n"
     ]
    },
    {
     "name": "stdout",
     "output_type": "stream",
     "text": [
      "Classifier trained for option MILLWD_Hour_16\n"
     ]
    },
    {
     "name": "stderr",
     "output_type": "stream",
     "text": [
      "/Users/ab/opt/anaconda3/lib/python3.7/site-packages/sklearn/linear_model/logistic.py:432: FutureWarning: Default solver will be changed to 'lbfgs' in 0.22. Specify a solver to silence this warning.\n",
      "  FutureWarning)\n"
     ]
    },
    {
     "name": "stdout",
     "output_type": "stream",
     "text": [
      "Classifier trained for option MILLWD_Hour_17\n"
     ]
    },
    {
     "name": "stderr",
     "output_type": "stream",
     "text": [
      "/Users/ab/opt/anaconda3/lib/python3.7/site-packages/sklearn/linear_model/logistic.py:432: FutureWarning: Default solver will be changed to 'lbfgs' in 0.22. Specify a solver to silence this warning.\n",
      "  FutureWarning)\n"
     ]
    },
    {
     "name": "stdout",
     "output_type": "stream",
     "text": [
      "Classifier trained for option MILLWD_Hour_18\n"
     ]
    },
    {
     "name": "stderr",
     "output_type": "stream",
     "text": [
      "/Users/ab/opt/anaconda3/lib/python3.7/site-packages/sklearn/linear_model/logistic.py:432: FutureWarning: Default solver will be changed to 'lbfgs' in 0.22. Specify a solver to silence this warning.\n",
      "  FutureWarning)\n"
     ]
    },
    {
     "name": "stdout",
     "output_type": "stream",
     "text": [
      "Classifier trained for option MILLWD_Hour_19\n"
     ]
    },
    {
     "name": "stderr",
     "output_type": "stream",
     "text": [
      "/Users/ab/opt/anaconda3/lib/python3.7/site-packages/sklearn/linear_model/logistic.py:432: FutureWarning: Default solver will be changed to 'lbfgs' in 0.22. Specify a solver to silence this warning.\n",
      "  FutureWarning)\n"
     ]
    },
    {
     "name": "stdout",
     "output_type": "stream",
     "text": [
      "Classifier trained for option MILLWD_Hour_20\n"
     ]
    },
    {
     "name": "stderr",
     "output_type": "stream",
     "text": [
      "/Users/ab/opt/anaconda3/lib/python3.7/site-packages/sklearn/linear_model/logistic.py:432: FutureWarning: Default solver will be changed to 'lbfgs' in 0.22. Specify a solver to silence this warning.\n",
      "  FutureWarning)\n"
     ]
    },
    {
     "name": "stdout",
     "output_type": "stream",
     "text": [
      "Classifier trained for option MILLWD_Hour_21\n"
     ]
    },
    {
     "name": "stderr",
     "output_type": "stream",
     "text": [
      "/Users/ab/opt/anaconda3/lib/python3.7/site-packages/sklearn/linear_model/logistic.py:432: FutureWarning: Default solver will be changed to 'lbfgs' in 0.22. Specify a solver to silence this warning.\n",
      "  FutureWarning)\n"
     ]
    },
    {
     "name": "stdout",
     "output_type": "stream",
     "text": [
      "Classifier trained for option MILLWD_Hour_22\n"
     ]
    },
    {
     "name": "stderr",
     "output_type": "stream",
     "text": [
      "/Users/ab/opt/anaconda3/lib/python3.7/site-packages/sklearn/linear_model/logistic.py:432: FutureWarning: Default solver will be changed to 'lbfgs' in 0.22. Specify a solver to silence this warning.\n",
      "  FutureWarning)\n"
     ]
    },
    {
     "name": "stdout",
     "output_type": "stream",
     "text": [
      "Classifier trained for option MILLWD_Hour_23\n"
     ]
    },
    {
     "name": "stderr",
     "output_type": "stream",
     "text": [
      "/Users/ab/opt/anaconda3/lib/python3.7/site-packages/sklearn/linear_model/logistic.py:432: FutureWarning: Default solver will be changed to 'lbfgs' in 0.22. Specify a solver to silence this warning.\n",
      "  FutureWarning)\n"
     ]
    },
    {
     "name": "stdout",
     "output_type": "stream",
     "text": [
      "Classifier trained for option N.Y.C._Hour_0\n"
     ]
    },
    {
     "name": "stderr",
     "output_type": "stream",
     "text": [
      "/Users/ab/opt/anaconda3/lib/python3.7/site-packages/sklearn/linear_model/logistic.py:432: FutureWarning: Default solver will be changed to 'lbfgs' in 0.22. Specify a solver to silence this warning.\n",
      "  FutureWarning)\n"
     ]
    },
    {
     "name": "stdout",
     "output_type": "stream",
     "text": [
      "Classifier trained for option N.Y.C._Hour_1\n"
     ]
    },
    {
     "name": "stderr",
     "output_type": "stream",
     "text": [
      "/Users/ab/opt/anaconda3/lib/python3.7/site-packages/sklearn/linear_model/logistic.py:432: FutureWarning: Default solver will be changed to 'lbfgs' in 0.22. Specify a solver to silence this warning.\n",
      "  FutureWarning)\n"
     ]
    },
    {
     "name": "stdout",
     "output_type": "stream",
     "text": [
      "Classifier trained for option N.Y.C._Hour_2\n"
     ]
    },
    {
     "name": "stderr",
     "output_type": "stream",
     "text": [
      "/Users/ab/opt/anaconda3/lib/python3.7/site-packages/sklearn/linear_model/logistic.py:432: FutureWarning: Default solver will be changed to 'lbfgs' in 0.22. Specify a solver to silence this warning.\n",
      "  FutureWarning)\n"
     ]
    },
    {
     "name": "stdout",
     "output_type": "stream",
     "text": [
      "Classifier trained for option N.Y.C._Hour_3\n"
     ]
    },
    {
     "name": "stderr",
     "output_type": "stream",
     "text": [
      "/Users/ab/opt/anaconda3/lib/python3.7/site-packages/sklearn/linear_model/logistic.py:432: FutureWarning: Default solver will be changed to 'lbfgs' in 0.22. Specify a solver to silence this warning.\n",
      "  FutureWarning)\n"
     ]
    },
    {
     "name": "stdout",
     "output_type": "stream",
     "text": [
      "Classifier trained for option N.Y.C._Hour_4\n"
     ]
    },
    {
     "name": "stderr",
     "output_type": "stream",
     "text": [
      "/Users/ab/opt/anaconda3/lib/python3.7/site-packages/sklearn/linear_model/logistic.py:432: FutureWarning: Default solver will be changed to 'lbfgs' in 0.22. Specify a solver to silence this warning.\n",
      "  FutureWarning)\n"
     ]
    },
    {
     "name": "stdout",
     "output_type": "stream",
     "text": [
      "Classifier trained for option N.Y.C._Hour_5\n"
     ]
    },
    {
     "name": "stderr",
     "output_type": "stream",
     "text": [
      "/Users/ab/opt/anaconda3/lib/python3.7/site-packages/sklearn/linear_model/logistic.py:432: FutureWarning: Default solver will be changed to 'lbfgs' in 0.22. Specify a solver to silence this warning.\n",
      "  FutureWarning)\n"
     ]
    },
    {
     "name": "stdout",
     "output_type": "stream",
     "text": [
      "Classifier trained for option N.Y.C._Hour_6\n"
     ]
    },
    {
     "name": "stderr",
     "output_type": "stream",
     "text": [
      "/Users/ab/opt/anaconda3/lib/python3.7/site-packages/sklearn/linear_model/logistic.py:432: FutureWarning: Default solver will be changed to 'lbfgs' in 0.22. Specify a solver to silence this warning.\n",
      "  FutureWarning)\n"
     ]
    },
    {
     "name": "stdout",
     "output_type": "stream",
     "text": [
      "Classifier trained for option N.Y.C._Hour_7\n"
     ]
    },
    {
     "name": "stderr",
     "output_type": "stream",
     "text": [
      "/Users/ab/opt/anaconda3/lib/python3.7/site-packages/sklearn/linear_model/logistic.py:432: FutureWarning: Default solver will be changed to 'lbfgs' in 0.22. Specify a solver to silence this warning.\n",
      "  FutureWarning)\n"
     ]
    },
    {
     "name": "stdout",
     "output_type": "stream",
     "text": [
      "Classifier trained for option N.Y.C._Hour_8\n"
     ]
    },
    {
     "name": "stderr",
     "output_type": "stream",
     "text": [
      "/Users/ab/opt/anaconda3/lib/python3.7/site-packages/sklearn/linear_model/logistic.py:432: FutureWarning: Default solver will be changed to 'lbfgs' in 0.22. Specify a solver to silence this warning.\n",
      "  FutureWarning)\n"
     ]
    },
    {
     "name": "stdout",
     "output_type": "stream",
     "text": [
      "Classifier trained for option N.Y.C._Hour_9\n"
     ]
    },
    {
     "name": "stderr",
     "output_type": "stream",
     "text": [
      "/Users/ab/opt/anaconda3/lib/python3.7/site-packages/sklearn/linear_model/logistic.py:432: FutureWarning: Default solver will be changed to 'lbfgs' in 0.22. Specify a solver to silence this warning.\n",
      "  FutureWarning)\n"
     ]
    },
    {
     "name": "stdout",
     "output_type": "stream",
     "text": [
      "Classifier trained for option N.Y.C._Hour_10\n"
     ]
    },
    {
     "name": "stderr",
     "output_type": "stream",
     "text": [
      "/Users/ab/opt/anaconda3/lib/python3.7/site-packages/sklearn/linear_model/logistic.py:432: FutureWarning: Default solver will be changed to 'lbfgs' in 0.22. Specify a solver to silence this warning.\n",
      "  FutureWarning)\n"
     ]
    },
    {
     "name": "stdout",
     "output_type": "stream",
     "text": [
      "Classifier trained for option N.Y.C._Hour_11\n"
     ]
    },
    {
     "name": "stderr",
     "output_type": "stream",
     "text": [
      "/Users/ab/opt/anaconda3/lib/python3.7/site-packages/sklearn/linear_model/logistic.py:432: FutureWarning: Default solver will be changed to 'lbfgs' in 0.22. Specify a solver to silence this warning.\n",
      "  FutureWarning)\n"
     ]
    },
    {
     "name": "stdout",
     "output_type": "stream",
     "text": [
      "Classifier trained for option N.Y.C._Hour_12\n"
     ]
    },
    {
     "name": "stderr",
     "output_type": "stream",
     "text": [
      "/Users/ab/opt/anaconda3/lib/python3.7/site-packages/sklearn/linear_model/logistic.py:432: FutureWarning: Default solver will be changed to 'lbfgs' in 0.22. Specify a solver to silence this warning.\n",
      "  FutureWarning)\n"
     ]
    },
    {
     "name": "stdout",
     "output_type": "stream",
     "text": [
      "Classifier trained for option N.Y.C._Hour_13\n"
     ]
    },
    {
     "name": "stderr",
     "output_type": "stream",
     "text": [
      "/Users/ab/opt/anaconda3/lib/python3.7/site-packages/sklearn/linear_model/logistic.py:432: FutureWarning: Default solver will be changed to 'lbfgs' in 0.22. Specify a solver to silence this warning.\n",
      "  FutureWarning)\n"
     ]
    },
    {
     "name": "stdout",
     "output_type": "stream",
     "text": [
      "Classifier trained for option N.Y.C._Hour_14\n"
     ]
    },
    {
     "name": "stderr",
     "output_type": "stream",
     "text": [
      "/Users/ab/opt/anaconda3/lib/python3.7/site-packages/sklearn/linear_model/logistic.py:432: FutureWarning: Default solver will be changed to 'lbfgs' in 0.22. Specify a solver to silence this warning.\n",
      "  FutureWarning)\n"
     ]
    },
    {
     "name": "stdout",
     "output_type": "stream",
     "text": [
      "Classifier trained for option N.Y.C._Hour_15\n"
     ]
    },
    {
     "name": "stderr",
     "output_type": "stream",
     "text": [
      "/Users/ab/opt/anaconda3/lib/python3.7/site-packages/sklearn/linear_model/logistic.py:432: FutureWarning: Default solver will be changed to 'lbfgs' in 0.22. Specify a solver to silence this warning.\n",
      "  FutureWarning)\n"
     ]
    },
    {
     "name": "stdout",
     "output_type": "stream",
     "text": [
      "Classifier trained for option N.Y.C._Hour_16\n"
     ]
    },
    {
     "name": "stderr",
     "output_type": "stream",
     "text": [
      "/Users/ab/opt/anaconda3/lib/python3.7/site-packages/sklearn/linear_model/logistic.py:432: FutureWarning: Default solver will be changed to 'lbfgs' in 0.22. Specify a solver to silence this warning.\n",
      "  FutureWarning)\n"
     ]
    },
    {
     "name": "stdout",
     "output_type": "stream",
     "text": [
      "Classifier trained for option N.Y.C._Hour_17\n"
     ]
    },
    {
     "name": "stderr",
     "output_type": "stream",
     "text": [
      "/Users/ab/opt/anaconda3/lib/python3.7/site-packages/sklearn/linear_model/logistic.py:432: FutureWarning: Default solver will be changed to 'lbfgs' in 0.22. Specify a solver to silence this warning.\n",
      "  FutureWarning)\n"
     ]
    },
    {
     "name": "stdout",
     "output_type": "stream",
     "text": [
      "Classifier trained for option N.Y.C._Hour_18\n"
     ]
    },
    {
     "name": "stderr",
     "output_type": "stream",
     "text": [
      "/Users/ab/opt/anaconda3/lib/python3.7/site-packages/sklearn/linear_model/logistic.py:432: FutureWarning: Default solver will be changed to 'lbfgs' in 0.22. Specify a solver to silence this warning.\n",
      "  FutureWarning)\n"
     ]
    },
    {
     "name": "stdout",
     "output_type": "stream",
     "text": [
      "Classifier trained for option N.Y.C._Hour_19\n"
     ]
    },
    {
     "name": "stderr",
     "output_type": "stream",
     "text": [
      "/Users/ab/opt/anaconda3/lib/python3.7/site-packages/sklearn/linear_model/logistic.py:432: FutureWarning: Default solver will be changed to 'lbfgs' in 0.22. Specify a solver to silence this warning.\n",
      "  FutureWarning)\n"
     ]
    },
    {
     "name": "stdout",
     "output_type": "stream",
     "text": [
      "Classifier trained for option N.Y.C._Hour_20\n"
     ]
    },
    {
     "name": "stderr",
     "output_type": "stream",
     "text": [
      "/Users/ab/opt/anaconda3/lib/python3.7/site-packages/sklearn/linear_model/logistic.py:432: FutureWarning: Default solver will be changed to 'lbfgs' in 0.22. Specify a solver to silence this warning.\n",
      "  FutureWarning)\n"
     ]
    },
    {
     "name": "stdout",
     "output_type": "stream",
     "text": [
      "Classifier trained for option N.Y.C._Hour_21\n"
     ]
    },
    {
     "name": "stderr",
     "output_type": "stream",
     "text": [
      "/Users/ab/opt/anaconda3/lib/python3.7/site-packages/sklearn/linear_model/logistic.py:432: FutureWarning: Default solver will be changed to 'lbfgs' in 0.22. Specify a solver to silence this warning.\n",
      "  FutureWarning)\n"
     ]
    },
    {
     "name": "stdout",
     "output_type": "stream",
     "text": [
      "Classifier trained for option N.Y.C._Hour_22\n"
     ]
    },
    {
     "name": "stderr",
     "output_type": "stream",
     "text": [
      "/Users/ab/opt/anaconda3/lib/python3.7/site-packages/sklearn/linear_model/logistic.py:432: FutureWarning: Default solver will be changed to 'lbfgs' in 0.22. Specify a solver to silence this warning.\n",
      "  FutureWarning)\n"
     ]
    },
    {
     "name": "stdout",
     "output_type": "stream",
     "text": [
      "Classifier trained for option N.Y.C._Hour_23\n"
     ]
    },
    {
     "name": "stderr",
     "output_type": "stream",
     "text": [
      "/Users/ab/opt/anaconda3/lib/python3.7/site-packages/sklearn/linear_model/logistic.py:432: FutureWarning: Default solver will be changed to 'lbfgs' in 0.22. Specify a solver to silence this warning.\n",
      "  FutureWarning)\n"
     ]
    },
    {
     "name": "stdout",
     "output_type": "stream",
     "text": [
      "Classifier trained for option NORTH_Hour_0\n"
     ]
    },
    {
     "name": "stderr",
     "output_type": "stream",
     "text": [
      "/Users/ab/opt/anaconda3/lib/python3.7/site-packages/sklearn/linear_model/logistic.py:432: FutureWarning: Default solver will be changed to 'lbfgs' in 0.22. Specify a solver to silence this warning.\n",
      "  FutureWarning)\n"
     ]
    },
    {
     "name": "stdout",
     "output_type": "stream",
     "text": [
      "Classifier trained for option NORTH_Hour_1\n"
     ]
    },
    {
     "name": "stderr",
     "output_type": "stream",
     "text": [
      "/Users/ab/opt/anaconda3/lib/python3.7/site-packages/sklearn/linear_model/logistic.py:432: FutureWarning: Default solver will be changed to 'lbfgs' in 0.22. Specify a solver to silence this warning.\n",
      "  FutureWarning)\n"
     ]
    },
    {
     "name": "stdout",
     "output_type": "stream",
     "text": [
      "Classifier trained for option NORTH_Hour_2\n"
     ]
    },
    {
     "name": "stderr",
     "output_type": "stream",
     "text": [
      "/Users/ab/opt/anaconda3/lib/python3.7/site-packages/sklearn/linear_model/logistic.py:432: FutureWarning: Default solver will be changed to 'lbfgs' in 0.22. Specify a solver to silence this warning.\n",
      "  FutureWarning)\n"
     ]
    },
    {
     "name": "stdout",
     "output_type": "stream",
     "text": [
      "Classifier trained for option NORTH_Hour_3\n"
     ]
    },
    {
     "name": "stderr",
     "output_type": "stream",
     "text": [
      "/Users/ab/opt/anaconda3/lib/python3.7/site-packages/sklearn/linear_model/logistic.py:432: FutureWarning: Default solver will be changed to 'lbfgs' in 0.22. Specify a solver to silence this warning.\n",
      "  FutureWarning)\n"
     ]
    },
    {
     "name": "stdout",
     "output_type": "stream",
     "text": [
      "Classifier trained for option NORTH_Hour_4\n"
     ]
    },
    {
     "name": "stderr",
     "output_type": "stream",
     "text": [
      "/Users/ab/opt/anaconda3/lib/python3.7/site-packages/sklearn/linear_model/logistic.py:432: FutureWarning: Default solver will be changed to 'lbfgs' in 0.22. Specify a solver to silence this warning.\n",
      "  FutureWarning)\n"
     ]
    },
    {
     "name": "stdout",
     "output_type": "stream",
     "text": [
      "Classifier trained for option NORTH_Hour_5\n"
     ]
    },
    {
     "name": "stderr",
     "output_type": "stream",
     "text": [
      "/Users/ab/opt/anaconda3/lib/python3.7/site-packages/sklearn/linear_model/logistic.py:432: FutureWarning: Default solver will be changed to 'lbfgs' in 0.22. Specify a solver to silence this warning.\n",
      "  FutureWarning)\n"
     ]
    },
    {
     "name": "stdout",
     "output_type": "stream",
     "text": [
      "Classifier trained for option NORTH_Hour_6\n"
     ]
    },
    {
     "name": "stderr",
     "output_type": "stream",
     "text": [
      "/Users/ab/opt/anaconda3/lib/python3.7/site-packages/sklearn/linear_model/logistic.py:432: FutureWarning: Default solver will be changed to 'lbfgs' in 0.22. Specify a solver to silence this warning.\n",
      "  FutureWarning)\n"
     ]
    },
    {
     "name": "stdout",
     "output_type": "stream",
     "text": [
      "Classifier trained for option NORTH_Hour_7\n"
     ]
    },
    {
     "name": "stderr",
     "output_type": "stream",
     "text": [
      "/Users/ab/opt/anaconda3/lib/python3.7/site-packages/sklearn/linear_model/logistic.py:432: FutureWarning: Default solver will be changed to 'lbfgs' in 0.22. Specify a solver to silence this warning.\n",
      "  FutureWarning)\n"
     ]
    },
    {
     "name": "stdout",
     "output_type": "stream",
     "text": [
      "Classifier trained for option NORTH_Hour_8\n"
     ]
    },
    {
     "name": "stderr",
     "output_type": "stream",
     "text": [
      "/Users/ab/opt/anaconda3/lib/python3.7/site-packages/sklearn/linear_model/logistic.py:432: FutureWarning: Default solver will be changed to 'lbfgs' in 0.22. Specify a solver to silence this warning.\n",
      "  FutureWarning)\n"
     ]
    },
    {
     "name": "stdout",
     "output_type": "stream",
     "text": [
      "Classifier trained for option NORTH_Hour_9\n"
     ]
    },
    {
     "name": "stderr",
     "output_type": "stream",
     "text": [
      "/Users/ab/opt/anaconda3/lib/python3.7/site-packages/sklearn/linear_model/logistic.py:432: FutureWarning: Default solver will be changed to 'lbfgs' in 0.22. Specify a solver to silence this warning.\n",
      "  FutureWarning)\n"
     ]
    },
    {
     "name": "stdout",
     "output_type": "stream",
     "text": [
      "Classifier trained for option NORTH_Hour_10\n"
     ]
    },
    {
     "name": "stderr",
     "output_type": "stream",
     "text": [
      "/Users/ab/opt/anaconda3/lib/python3.7/site-packages/sklearn/linear_model/logistic.py:432: FutureWarning: Default solver will be changed to 'lbfgs' in 0.22. Specify a solver to silence this warning.\n",
      "  FutureWarning)\n"
     ]
    },
    {
     "name": "stdout",
     "output_type": "stream",
     "text": [
      "Classifier trained for option NORTH_Hour_11\n"
     ]
    },
    {
     "name": "stderr",
     "output_type": "stream",
     "text": [
      "/Users/ab/opt/anaconda3/lib/python3.7/site-packages/sklearn/linear_model/logistic.py:432: FutureWarning: Default solver will be changed to 'lbfgs' in 0.22. Specify a solver to silence this warning.\n",
      "  FutureWarning)\n"
     ]
    },
    {
     "name": "stdout",
     "output_type": "stream",
     "text": [
      "Classifier trained for option NORTH_Hour_12\n"
     ]
    },
    {
     "name": "stderr",
     "output_type": "stream",
     "text": [
      "/Users/ab/opt/anaconda3/lib/python3.7/site-packages/sklearn/linear_model/logistic.py:432: FutureWarning: Default solver will be changed to 'lbfgs' in 0.22. Specify a solver to silence this warning.\n",
      "  FutureWarning)\n"
     ]
    },
    {
     "name": "stdout",
     "output_type": "stream",
     "text": [
      "Classifier trained for option NORTH_Hour_13\n"
     ]
    },
    {
     "name": "stderr",
     "output_type": "stream",
     "text": [
      "/Users/ab/opt/anaconda3/lib/python3.7/site-packages/sklearn/linear_model/logistic.py:432: FutureWarning: Default solver will be changed to 'lbfgs' in 0.22. Specify a solver to silence this warning.\n",
      "  FutureWarning)\n"
     ]
    },
    {
     "name": "stdout",
     "output_type": "stream",
     "text": [
      "Classifier trained for option NORTH_Hour_14\n"
     ]
    },
    {
     "name": "stderr",
     "output_type": "stream",
     "text": [
      "/Users/ab/opt/anaconda3/lib/python3.7/site-packages/sklearn/linear_model/logistic.py:432: FutureWarning: Default solver will be changed to 'lbfgs' in 0.22. Specify a solver to silence this warning.\n",
      "  FutureWarning)\n"
     ]
    },
    {
     "name": "stdout",
     "output_type": "stream",
     "text": [
      "Classifier trained for option NORTH_Hour_15\n"
     ]
    },
    {
     "name": "stderr",
     "output_type": "stream",
     "text": [
      "/Users/ab/opt/anaconda3/lib/python3.7/site-packages/sklearn/linear_model/logistic.py:432: FutureWarning: Default solver will be changed to 'lbfgs' in 0.22. Specify a solver to silence this warning.\n",
      "  FutureWarning)\n"
     ]
    },
    {
     "name": "stdout",
     "output_type": "stream",
     "text": [
      "Classifier trained for option NORTH_Hour_16\n"
     ]
    },
    {
     "name": "stderr",
     "output_type": "stream",
     "text": [
      "/Users/ab/opt/anaconda3/lib/python3.7/site-packages/sklearn/linear_model/logistic.py:432: FutureWarning: Default solver will be changed to 'lbfgs' in 0.22. Specify a solver to silence this warning.\n",
      "  FutureWarning)\n"
     ]
    },
    {
     "name": "stdout",
     "output_type": "stream",
     "text": [
      "Classifier trained for option NORTH_Hour_17\n"
     ]
    },
    {
     "name": "stderr",
     "output_type": "stream",
     "text": [
      "/Users/ab/opt/anaconda3/lib/python3.7/site-packages/sklearn/linear_model/logistic.py:432: FutureWarning: Default solver will be changed to 'lbfgs' in 0.22. Specify a solver to silence this warning.\n",
      "  FutureWarning)\n"
     ]
    },
    {
     "name": "stdout",
     "output_type": "stream",
     "text": [
      "Classifier trained for option NORTH_Hour_18\n"
     ]
    },
    {
     "name": "stderr",
     "output_type": "stream",
     "text": [
      "/Users/ab/opt/anaconda3/lib/python3.7/site-packages/sklearn/linear_model/logistic.py:432: FutureWarning: Default solver will be changed to 'lbfgs' in 0.22. Specify a solver to silence this warning.\n",
      "  FutureWarning)\n"
     ]
    },
    {
     "name": "stdout",
     "output_type": "stream",
     "text": [
      "Classifier trained for option NORTH_Hour_19\n"
     ]
    },
    {
     "name": "stderr",
     "output_type": "stream",
     "text": [
      "/Users/ab/opt/anaconda3/lib/python3.7/site-packages/sklearn/linear_model/logistic.py:432: FutureWarning: Default solver will be changed to 'lbfgs' in 0.22. Specify a solver to silence this warning.\n",
      "  FutureWarning)\n"
     ]
    },
    {
     "name": "stdout",
     "output_type": "stream",
     "text": [
      "Classifier trained for option NORTH_Hour_20\n"
     ]
    },
    {
     "name": "stderr",
     "output_type": "stream",
     "text": [
      "/Users/ab/opt/anaconda3/lib/python3.7/site-packages/sklearn/linear_model/logistic.py:432: FutureWarning: Default solver will be changed to 'lbfgs' in 0.22. Specify a solver to silence this warning.\n",
      "  FutureWarning)\n"
     ]
    },
    {
     "name": "stdout",
     "output_type": "stream",
     "text": [
      "Classifier trained for option NORTH_Hour_21\n"
     ]
    },
    {
     "name": "stderr",
     "output_type": "stream",
     "text": [
      "/Users/ab/opt/anaconda3/lib/python3.7/site-packages/sklearn/linear_model/logistic.py:432: FutureWarning: Default solver will be changed to 'lbfgs' in 0.22. Specify a solver to silence this warning.\n",
      "  FutureWarning)\n"
     ]
    },
    {
     "name": "stdout",
     "output_type": "stream",
     "text": [
      "Classifier trained for option NORTH_Hour_22\n"
     ]
    },
    {
     "name": "stderr",
     "output_type": "stream",
     "text": [
      "/Users/ab/opt/anaconda3/lib/python3.7/site-packages/sklearn/linear_model/logistic.py:432: FutureWarning: Default solver will be changed to 'lbfgs' in 0.22. Specify a solver to silence this warning.\n",
      "  FutureWarning)\n"
     ]
    },
    {
     "name": "stdout",
     "output_type": "stream",
     "text": [
      "Classifier trained for option NORTH_Hour_23\n"
     ]
    },
    {
     "name": "stderr",
     "output_type": "stream",
     "text": [
      "/Users/ab/opt/anaconda3/lib/python3.7/site-packages/sklearn/linear_model/logistic.py:432: FutureWarning: Default solver will be changed to 'lbfgs' in 0.22. Specify a solver to silence this warning.\n",
      "  FutureWarning)\n"
     ]
    },
    {
     "name": "stdout",
     "output_type": "stream",
     "text": [
      "Classifier trained for option WEST_Hour_0\n"
     ]
    },
    {
     "name": "stderr",
     "output_type": "stream",
     "text": [
      "/Users/ab/opt/anaconda3/lib/python3.7/site-packages/sklearn/linear_model/logistic.py:432: FutureWarning: Default solver will be changed to 'lbfgs' in 0.22. Specify a solver to silence this warning.\n",
      "  FutureWarning)\n"
     ]
    },
    {
     "name": "stdout",
     "output_type": "stream",
     "text": [
      "Classifier trained for option WEST_Hour_1\n"
     ]
    },
    {
     "name": "stderr",
     "output_type": "stream",
     "text": [
      "/Users/ab/opt/anaconda3/lib/python3.7/site-packages/sklearn/linear_model/logistic.py:432: FutureWarning: Default solver will be changed to 'lbfgs' in 0.22. Specify a solver to silence this warning.\n",
      "  FutureWarning)\n"
     ]
    },
    {
     "name": "stdout",
     "output_type": "stream",
     "text": [
      "Classifier trained for option WEST_Hour_2\n"
     ]
    },
    {
     "name": "stderr",
     "output_type": "stream",
     "text": [
      "/Users/ab/opt/anaconda3/lib/python3.7/site-packages/sklearn/linear_model/logistic.py:432: FutureWarning: Default solver will be changed to 'lbfgs' in 0.22. Specify a solver to silence this warning.\n",
      "  FutureWarning)\n"
     ]
    },
    {
     "name": "stdout",
     "output_type": "stream",
     "text": [
      "Classifier trained for option WEST_Hour_3\n"
     ]
    },
    {
     "name": "stderr",
     "output_type": "stream",
     "text": [
      "/Users/ab/opt/anaconda3/lib/python3.7/site-packages/sklearn/linear_model/logistic.py:432: FutureWarning: Default solver will be changed to 'lbfgs' in 0.22. Specify a solver to silence this warning.\n",
      "  FutureWarning)\n"
     ]
    },
    {
     "name": "stdout",
     "output_type": "stream",
     "text": [
      "Classifier trained for option WEST_Hour_4\n",
      "Classifier trained for option WEST_Hour_5\n"
     ]
    },
    {
     "name": "stderr",
     "output_type": "stream",
     "text": [
      "/Users/ab/opt/anaconda3/lib/python3.7/site-packages/sklearn/linear_model/logistic.py:432: FutureWarning: Default solver will be changed to 'lbfgs' in 0.22. Specify a solver to silence this warning.\n",
      "  FutureWarning)\n",
      "/Users/ab/opt/anaconda3/lib/python3.7/site-packages/sklearn/linear_model/logistic.py:432: FutureWarning: Default solver will be changed to 'lbfgs' in 0.22. Specify a solver to silence this warning.\n",
      "  FutureWarning)\n"
     ]
    },
    {
     "name": "stdout",
     "output_type": "stream",
     "text": [
      "Classifier trained for option WEST_Hour_6\n"
     ]
    },
    {
     "name": "stderr",
     "output_type": "stream",
     "text": [
      "/Users/ab/opt/anaconda3/lib/python3.7/site-packages/sklearn/linear_model/logistic.py:432: FutureWarning: Default solver will be changed to 'lbfgs' in 0.22. Specify a solver to silence this warning.\n",
      "  FutureWarning)\n"
     ]
    },
    {
     "name": "stdout",
     "output_type": "stream",
     "text": [
      "Classifier trained for option WEST_Hour_7\n"
     ]
    },
    {
     "name": "stderr",
     "output_type": "stream",
     "text": [
      "/Users/ab/opt/anaconda3/lib/python3.7/site-packages/sklearn/linear_model/logistic.py:432: FutureWarning: Default solver will be changed to 'lbfgs' in 0.22. Specify a solver to silence this warning.\n",
      "  FutureWarning)\n"
     ]
    },
    {
     "name": "stdout",
     "output_type": "stream",
     "text": [
      "Classifier trained for option WEST_Hour_8\n"
     ]
    },
    {
     "name": "stderr",
     "output_type": "stream",
     "text": [
      "/Users/ab/opt/anaconda3/lib/python3.7/site-packages/sklearn/linear_model/logistic.py:432: FutureWarning: Default solver will be changed to 'lbfgs' in 0.22. Specify a solver to silence this warning.\n",
      "  FutureWarning)\n"
     ]
    },
    {
     "name": "stdout",
     "output_type": "stream",
     "text": [
      "Classifier trained for option WEST_Hour_9\n"
     ]
    },
    {
     "name": "stderr",
     "output_type": "stream",
     "text": [
      "/Users/ab/opt/anaconda3/lib/python3.7/site-packages/sklearn/linear_model/logistic.py:432: FutureWarning: Default solver will be changed to 'lbfgs' in 0.22. Specify a solver to silence this warning.\n",
      "  FutureWarning)\n"
     ]
    },
    {
     "name": "stdout",
     "output_type": "stream",
     "text": [
      "Classifier trained for option WEST_Hour_10\n"
     ]
    },
    {
     "name": "stderr",
     "output_type": "stream",
     "text": [
      "/Users/ab/opt/anaconda3/lib/python3.7/site-packages/sklearn/linear_model/logistic.py:432: FutureWarning: Default solver will be changed to 'lbfgs' in 0.22. Specify a solver to silence this warning.\n",
      "  FutureWarning)\n"
     ]
    },
    {
     "name": "stdout",
     "output_type": "stream",
     "text": [
      "Classifier trained for option WEST_Hour_11\n"
     ]
    },
    {
     "name": "stderr",
     "output_type": "stream",
     "text": [
      "/Users/ab/opt/anaconda3/lib/python3.7/site-packages/sklearn/linear_model/logistic.py:432: FutureWarning: Default solver will be changed to 'lbfgs' in 0.22. Specify a solver to silence this warning.\n",
      "  FutureWarning)\n"
     ]
    },
    {
     "name": "stdout",
     "output_type": "stream",
     "text": [
      "Classifier trained for option WEST_Hour_12\n"
     ]
    },
    {
     "name": "stderr",
     "output_type": "stream",
     "text": [
      "/Users/ab/opt/anaconda3/lib/python3.7/site-packages/sklearn/linear_model/logistic.py:432: FutureWarning: Default solver will be changed to 'lbfgs' in 0.22. Specify a solver to silence this warning.\n",
      "  FutureWarning)\n"
     ]
    },
    {
     "name": "stdout",
     "output_type": "stream",
     "text": [
      "Classifier trained for option WEST_Hour_13\n"
     ]
    },
    {
     "name": "stderr",
     "output_type": "stream",
     "text": [
      "/Users/ab/opt/anaconda3/lib/python3.7/site-packages/sklearn/linear_model/logistic.py:432: FutureWarning: Default solver will be changed to 'lbfgs' in 0.22. Specify a solver to silence this warning.\n",
      "  FutureWarning)\n"
     ]
    },
    {
     "name": "stdout",
     "output_type": "stream",
     "text": [
      "Classifier trained for option WEST_Hour_14\n"
     ]
    },
    {
     "name": "stderr",
     "output_type": "stream",
     "text": [
      "/Users/ab/opt/anaconda3/lib/python3.7/site-packages/sklearn/linear_model/logistic.py:432: FutureWarning: Default solver will be changed to 'lbfgs' in 0.22. Specify a solver to silence this warning.\n",
      "  FutureWarning)\n"
     ]
    },
    {
     "name": "stdout",
     "output_type": "stream",
     "text": [
      "Classifier trained for option WEST_Hour_15\n"
     ]
    },
    {
     "name": "stderr",
     "output_type": "stream",
     "text": [
      "/Users/ab/opt/anaconda3/lib/python3.7/site-packages/sklearn/linear_model/logistic.py:432: FutureWarning: Default solver will be changed to 'lbfgs' in 0.22. Specify a solver to silence this warning.\n",
      "  FutureWarning)\n"
     ]
    },
    {
     "name": "stdout",
     "output_type": "stream",
     "text": [
      "Classifier trained for option WEST_Hour_16\n"
     ]
    },
    {
     "name": "stderr",
     "output_type": "stream",
     "text": [
      "/Users/ab/opt/anaconda3/lib/python3.7/site-packages/sklearn/linear_model/logistic.py:432: FutureWarning: Default solver will be changed to 'lbfgs' in 0.22. Specify a solver to silence this warning.\n",
      "  FutureWarning)\n"
     ]
    },
    {
     "name": "stdout",
     "output_type": "stream",
     "text": [
      "Classifier trained for option WEST_Hour_17\n"
     ]
    },
    {
     "name": "stderr",
     "output_type": "stream",
     "text": [
      "/Users/ab/opt/anaconda3/lib/python3.7/site-packages/sklearn/linear_model/logistic.py:432: FutureWarning: Default solver will be changed to 'lbfgs' in 0.22. Specify a solver to silence this warning.\n",
      "  FutureWarning)\n"
     ]
    },
    {
     "name": "stdout",
     "output_type": "stream",
     "text": [
      "Classifier trained for option WEST_Hour_18\n"
     ]
    },
    {
     "name": "stderr",
     "output_type": "stream",
     "text": [
      "/Users/ab/opt/anaconda3/lib/python3.7/site-packages/sklearn/linear_model/logistic.py:432: FutureWarning: Default solver will be changed to 'lbfgs' in 0.22. Specify a solver to silence this warning.\n",
      "  FutureWarning)\n"
     ]
    },
    {
     "name": "stdout",
     "output_type": "stream",
     "text": [
      "Classifier trained for option WEST_Hour_19\n"
     ]
    },
    {
     "name": "stderr",
     "output_type": "stream",
     "text": [
      "/Users/ab/opt/anaconda3/lib/python3.7/site-packages/sklearn/linear_model/logistic.py:432: FutureWarning: Default solver will be changed to 'lbfgs' in 0.22. Specify a solver to silence this warning.\n",
      "  FutureWarning)\n"
     ]
    },
    {
     "name": "stdout",
     "output_type": "stream",
     "text": [
      "Classifier trained for option WEST_Hour_20\n"
     ]
    },
    {
     "name": "stderr",
     "output_type": "stream",
     "text": [
      "/Users/ab/opt/anaconda3/lib/python3.7/site-packages/sklearn/linear_model/logistic.py:432: FutureWarning: Default solver will be changed to 'lbfgs' in 0.22. Specify a solver to silence this warning.\n",
      "  FutureWarning)\n"
     ]
    },
    {
     "name": "stdout",
     "output_type": "stream",
     "text": [
      "Classifier trained for option WEST_Hour_21\n"
     ]
    },
    {
     "name": "stderr",
     "output_type": "stream",
     "text": [
      "/Users/ab/opt/anaconda3/lib/python3.7/site-packages/sklearn/linear_model/logistic.py:432: FutureWarning: Default solver will be changed to 'lbfgs' in 0.22. Specify a solver to silence this warning.\n",
      "  FutureWarning)\n"
     ]
    },
    {
     "name": "stdout",
     "output_type": "stream",
     "text": [
      "Classifier trained for option WEST_Hour_22\n"
     ]
    },
    {
     "name": "stderr",
     "output_type": "stream",
     "text": [
      "/Users/ab/opt/anaconda3/lib/python3.7/site-packages/sklearn/linear_model/logistic.py:432: FutureWarning: Default solver will be changed to 'lbfgs' in 0.22. Specify a solver to silence this warning.\n",
      "  FutureWarning)\n"
     ]
    },
    {
     "name": "stdout",
     "output_type": "stream",
     "text": [
      "Classifier trained for option WEST_Hour_23\n",
      "\n",
      "Overall training accuracy = 100.00 percent.\n"
     ]
    }
   ],
   "source": [
    "classifiers = []\n",
    "\n",
    "# We have two options here. Use previous training experience, or learn anew.\n",
    "useSavedClassifiers = False\n",
    "\n",
    "if not useSavedClassifiers:\n",
    "\n",
    "    print(\"Starting training module...\\n\")\n",
    "    trainPriceDA, trainPriceDART, trainLoadDA = loadNYISOData(2015)\n",
    "\n",
    "    numberOfDays =  int(len(trainPriceDA.index))\n",
    "    print(\"Loaded hourly prices from 2015 for %d days.\" % numberOfDays)\n",
    "\n",
    "    # We will implement a trading strategy, where we bid a particular quantile of the past\n",
    "    # DA prices for an option. If you do not know what a quantile means, refer to the Wikipedia\n",
    "    # article on it. Essentially, a 95% quantile of the DA prices equals that value for which\n",
    "    # 95% of the DA prices are below it. Store all quantiles starting from 50% in steps of\n",
    "    # 5% in a dictionary. Store them in a pickle file.\n",
    "\n",
    "    quantilesToStore = [0.70, 0.75, 0.80, 0.85, 0.90, 0.95]\n",
    "    offerPrices = trainPriceDA.quantile(q=quantilesToStore).transpose().to_dict()\n",
    "    pickle.dump(offerPrices, open(\"./Training/OfferPrices\", 'wb'))\n",
    "\n",
    "    # Calculate the average price spread for each option over the entire year. This will guide\n",
    "    # us in choosing our portfolio. Store it as a dictionary. Our bid will choose those\n",
    "    # options that our classifier indicates that they will be profitable and historically they\n",
    "    # have higher average price differences, indicating that they have higher rate of return.\n",
    "    # Store them using pickle.\n",
    "\n",
    "    averagePriceSpread = trainPriceDART.mean(axis=0).transpose().to_dict()\n",
    "    pickle.dump(averagePriceSpread, open(\"./Training/AveragePriceSpread\", 'wb'))\n",
    "\n",
    "    # Create the training dataset using the function 'createClassifierIO' on the prices and\n",
    "    # loads, and store them in 'trainX', and 'trainY'.\n",
    "\n",
    "    trainX, trainY, _ = createClassifierIO(trainPriceDA, trainPriceDART, trainLoadDA)\n",
    "\n",
    "    # Define a collection of classifiers, one for each option. You can try different options, such\n",
    "    # as that based on an SVM, logistic regression, multilayer perceptron based, etc. We will\n",
    "    # measure training accuracy to indicate how well the classifier works on the training dataset.\n",
    "    # However, good training accuracy does not always indicate good test performance.\n",
    "    # Avoid over-fitting.\n",
    "\n",
    "\n",
    "    classifiers = [LogisticRegression(penalty='l2', tol=0.0001, C=10, max_iter=10000)\n",
    "                   for _ in range(nOptions)]\n",
    "\n",
    "    trainingAccuracy = 0\n",
    "\n",
    "    for ii in range(nOptions):\n",
    "        classifiers[ii].fit(trainX, trainY[:, ii])\n",
    "        print(\"Classifier trained for option \" + optionNames[ii])\n",
    "        trainingAccuracy += classifiers[ii].score(trainX, trainY[:, ii])\n",
    "\n",
    "        # Store the classifier.\n",
    "        pickle.dump(classifiers[ii], open(\"./Training/Classifier_\" + optionNames[ii], 'wb'))\n",
    "\n",
    "    print(\"\\nOverall training accuracy = %1.2f percent.\" % (100 * trainingAccuracy/nOptions))\n",
    "\n",
    "    del numberOfDays, trainPriceDA, trainLoadDA, trainPriceDART, trainX, trainY\n",
    "else:\n",
    "\n",
    "    # Load the classifiers, the offer prices at various quantiles, and the average price spreads.\n",
    "\n",
    "    print(\"Loading previously trained variables...\\n\")\n",
    "    classifiers = [pickle.load(open(\"./Training/Classifier_\" + optionNames[ii], 'rb'))\n",
    "                   for ii in range(nOptions)]\n",
    "    offerPrices = pickle.load(open(\"./Training/OfferPrices\", 'rb'))\n",
    "    averagePriceSpread = pickle.load(open(\"./Training/AveragePriceSpread\", 'rb'))\n",
    "\n",
    "    print(\"All training variables were loaded successfully...\\n\")"
   ]
  },
  {
   "cell_type": "code",
   "execution_count": 59,
   "metadata": {},
   "outputs": [
    {
     "name": "stdout",
     "output_type": "stream",
     "text": [
      "Starting the testing module...\n",
      "\n",
      "Test Accuracy Stats: Min = 47.11%, Avg = 56.40%, Max = 65.56%\n"
     ]
    }
   ],
   "source": [
    "# First, load the test data from NYISO for the year 2016. Again, utilize our function\n",
    "# named 'loadNYISOData'.\n",
    "\n",
    "print(\"Starting the testing module...\\n\")\n",
    "testPriceDA, testPriceDART, testLoadDA = loadNYISOData(2016)\n",
    "\n",
    "# Create the data for the classifier using the function 'createClassifierIO'.\n",
    "testX, testY, rangeOfDays = createClassifierIO(testPriceDA, testPriceDART, testLoadDA)\n",
    "\n",
    "# The next step is not useful for implementing the trading strategy, but quickly check how accurate\n",
    "# your trained classifiers are for the test data. Training accuracy is not always indicative of\n",
    "# test accuracy.\n",
    "\n",
    "testingAccuracy = [classifiers[ii].score(testX, testY[:, ii]) for ii in range(nOptions)]\n",
    "print(\"Test Accuracy Stats: Min = %.2f%%, Avg = %.2f%%, Max = %.2f%%\" %\n",
    "      (100 * np.min(testingAccuracy),\n",
    "       100 * np.mean(testingAccuracy),\n",
    "       100 * np.max(testingAccuracy)))\n",
    "\n",
    "# Utilize the classifiers to predict the sign of DA - RT prices for each day in 'rangeOfDays' for\n",
    "# the test data. Store the result in a pandas data frame with columns as the option names and the\n",
    "# day in year as index.\n",
    "predictedY = pd.DataFrame(np.column_stack([classifiers[ii].predict(testX) for ii in range(nOptions)]),\n",
    "                          columns=optionNames, index=rangeOfDays)"
   ]
  },
  {
   "cell_type": "code",
   "execution_count": 60,
   "metadata": {},
   "outputs": [
    {
     "name": "stdout",
     "output_type": "stream",
     "text": [
      "Day 3: Reward (in $) = -65,743\n",
      "Day 4: Reward (in $) = 1,456,605\n",
      "Day 5: Reward (in $) = 25,605\n",
      "Day 6: Reward (in $) = -13,140\n",
      "Day 7: Reward (in $) = -32,273\n",
      "Day 8: Reward (in $) = -127\n",
      "Day 9: Reward (in $) = -39,337\n",
      "Day 10: Reward (in $) = -102,193\n",
      "Day 11: Reward (in $) = -67,136\n",
      "Day 12: Reward (in $) = -23,312\n",
      "Day 13: Reward (in $) = -69,961\n",
      "Day 14: Reward (in $) = -38,603\n",
      "Day 15: Reward (in $) = 3,223\n",
      "Day 16: Reward (in $) = 16,018\n",
      "Day 17: Reward (in $) = -68,922\n",
      "Day 18: Reward (in $) = -25,184\n",
      "Day 19: Reward (in $) = 18,283\n",
      "Day 20: Reward (in $) = -5,645\n",
      "Day 21: Reward (in $) = -40,969\n",
      "Day 22: Reward (in $) = 123,852\n",
      "Day 23: Reward (in $) = 28,307\n",
      "Day 24: Reward (in $) = -84,496\n",
      "Day 25: Reward (in $) = -88,197\n",
      "Day 26: Reward (in $) = -18,282\n",
      "Day 27: Reward (in $) = -6,774\n",
      "Day 28: Reward (in $) = -10,033\n",
      "Day 29: Reward (in $) = -22,480\n",
      "Day 30: Reward (in $) = -36,704\n",
      "Day 31: Reward (in $) = -46,615\n",
      "Day 32: Reward (in $) = -11,396\n",
      "Day 33: Reward (in $) = -77,500\n",
      "Day 34: Reward (in $) = 1,661\n",
      "Day 35: Reward (in $) = 30,434\n",
      "Day 36: Reward (in $) = -36,569\n",
      "Day 37: Reward (in $) = -41,845\n",
      "Day 38: Reward (in $) = -4,738\n",
      "Day 39: Reward (in $) = 20,127\n",
      "Day 40: Reward (in $) = -31,254\n",
      "Day 41: Reward (in $) = 19,807\n",
      "Day 42: Reward (in $) = -15,621\n",
      "Day 43: Reward (in $) = -10,182\n",
      "Day 44: Reward (in $) = -32,644\n",
      "Day 45: Reward (in $) = -19,631\n",
      "Day 46: Reward (in $) = 86,343\n",
      "Day 47: Reward (in $) = 16,016\n",
      "Day 48: Reward (in $) = -54,980\n",
      "Day 49: Reward (in $) = -60,203\n",
      "Day 50: Reward (in $) = -49,194\n",
      "Day 51: Reward (in $) = -171\n",
      "Day 52: Reward (in $) = -25,314\n",
      "Day 53: Reward (in $) = -15,783\n",
      "Day 54: Reward (in $) = 255\n",
      "Day 55: Reward (in $) = -9,882\n",
      "Day 56: Reward (in $) = -43,528\n",
      "Day 57: Reward (in $) = -28,810\n",
      "Day 58: Reward (in $) = -25,962\n",
      "Day 59: Reward (in $) = -16,194\n",
      "Day 60: Reward (in $) = -16,329\n",
      "Day 61: Reward (in $) = -103,604\n",
      "Day 62: Reward (in $) = -14,264\n",
      "Day 63: Reward (in $) = -10,547\n",
      "Day 64: Reward (in $) = -43,272\n",
      "Day 65: Reward (in $) = 38,122\n",
      "Day 66: Reward (in $) = 73,448\n",
      "Day 67: Reward (in $) = -102,629\n",
      "Day 68: Reward (in $) = -65,949\n",
      "Day 69: Reward (in $) = -27,880\n",
      "Day 70: Reward (in $) = 135,537\n",
      "Day 71: Reward (in $) = -5,807\n",
      "Day 72: Reward (in $) = -11,772\n",
      "Day 73: Reward (in $) = -54,960\n",
      "Day 74: Reward (in $) = -11,849\n",
      "Day 75: Reward (in $) = -3,354\n",
      "Day 76: Reward (in $) = -96,366\n",
      "Day 77: Reward (in $) = -13,852\n",
      "Day 78: Reward (in $) = -27,498\n",
      "Day 79: Reward (in $) = -40,508\n",
      "Day 80: Reward (in $) = -38,181\n",
      "Day 81: Reward (in $) = 94,480\n",
      "Day 82: Reward (in $) = 27,448\n",
      "Day 83: Reward (in $) = -12,269\n",
      "Day 84: Reward (in $) = -4,935\n",
      "Day 85: Reward (in $) = 63,610\n",
      "Day 86: Reward (in $) = -29,450\n",
      "Day 87: Reward (in $) = 2,509,857\n",
      "Day 88: Reward (in $) = 728,720\n",
      "Day 89: Reward (in $) = -23,122\n",
      "Day 90: Reward (in $) = -10,851\n",
      "Day 91: Reward (in $) = -110,344\n",
      "Day 92: Reward (in $) = 63,355\n",
      "Day 93: Reward (in $) = -1,369\n",
      "Day 94: Reward (in $) = 7,815\n",
      "Day 95: Reward (in $) = -22,952\n",
      "Day 96: Reward (in $) = 70,124\n",
      "Day 97: Reward (in $) = -33,070\n",
      "Day 98: Reward (in $) = 5,754\n",
      "Day 99: Reward (in $) = -24,766\n",
      "Day 100: Reward (in $) = -20,279\n",
      "Day 101: Reward (in $) = -22,843\n",
      "Day 102: Reward (in $) = -36,857\n",
      "Day 103: Reward (in $) = 20,991\n",
      "Day 104: Reward (in $) = -33,798\n",
      "Day 105: Reward (in $) = -65,359\n",
      "Day 106: Reward (in $) = -13,638\n",
      "Day 107: Reward (in $) = -24,585\n",
      "Day 108: Reward (in $) = 43,247\n",
      "Day 109: Reward (in $) = -183\n",
      "Day 110: Reward (in $) = -39,725\n",
      "Day 111: Reward (in $) = -34,164\n",
      "Day 112: Reward (in $) = 128,041\n",
      "Day 113: Reward (in $) = -35,890\n",
      "Day 114: Reward (in $) = -51,332\n",
      "Day 115: Reward (in $) = -116,282\n",
      "Day 116: Reward (in $) = 6,885\n",
      "Day 117: Reward (in $) = -23,606\n",
      "Day 118: Reward (in $) = 4,750\n",
      "Day 119: Reward (in $) = -69,606\n",
      "Day 120: Reward (in $) = 14,774\n",
      "Day 121: Reward (in $) = 52,384\n",
      "Day 122: Reward (in $) = -28,062\n",
      "Day 123: Reward (in $) = -1,369\n",
      "Day 124: Reward (in $) = -40,681\n",
      "Day 125: Reward (in $) = -31,781\n",
      "Day 126: Reward (in $) = -13,734\n",
      "Day 127: Reward (in $) = -39,152\n",
      "Day 128: Reward (in $) = -30,779\n",
      "Day 129: Reward (in $) = -38,725\n",
      "Day 130: Reward (in $) = -12,081\n",
      "Day 131: Reward (in $) = 14,819\n",
      "Day 132: Reward (in $) = 42,915\n",
      "Day 133: Reward (in $) = 71,522\n",
      "Day 134: Reward (in $) = -48,064\n",
      "Day 135: Reward (in $) = -16,265\n",
      "Day 136: Reward (in $) = -20,642\n",
      "Day 137: Reward (in $) = -49,432\n",
      "Day 138: Reward (in $) = -102,986\n",
      "Day 139: Reward (in $) = -5,363\n",
      "Day 140: Reward (in $) = -52,087\n",
      "Day 141: Reward (in $) = 27,452\n",
      "Day 142: Reward (in $) = 26,245\n",
      "Day 143: Reward (in $) = -19,669\n",
      "Day 144: Reward (in $) = -34,868\n",
      "Day 145: Reward (in $) = -47,029\n",
      "Day 146: Reward (in $) = -9,074\n",
      "Day 147: Reward (in $) = -49,501\n",
      "Day 148: Reward (in $) = 59,147\n",
      "Day 149: Reward (in $) = -8,040\n",
      "Day 150: Reward (in $) = 53,266\n",
      "Day 151: Reward (in $) = 516,229\n",
      "Day 152: Reward (in $) = 388,360\n",
      "Day 153: Reward (in $) = 122,644\n",
      "Day 154: Reward (in $) = 11,520\n",
      "Day 155: Reward (in $) = -46,900\n",
      "Day 156: Reward (in $) = -35,682\n",
      "Day 157: Reward (in $) = -122,574\n",
      "Day 158: Reward (in $) = -76,373\n",
      "Day 159: Reward (in $) = -27,419\n",
      "Day 160: Reward (in $) = -120,409\n",
      "Day 161: Reward (in $) = -45,710\n",
      "Day 162: Reward (in $) = 432,610\n",
      "Day 163: Reward (in $) = -14,491\n",
      "Day 164: Reward (in $) = -18,372\n",
      "Day 165: Reward (in $) = 270,714\n",
      "Day 166: Reward (in $) = -16,547\n",
      "Day 167: Reward (in $) = 6,325\n",
      "Day 168: Reward (in $) = 1,203\n",
      "Day 169: Reward (in $) = 8,077\n",
      "Day 170: Reward (in $) = -34,060\n",
      "Day 171: Reward (in $) = -3,820\n",
      "Day 172: Reward (in $) = -12,798\n",
      "Day 173: Reward (in $) = -55,223\n",
      "Day 174: Reward (in $) = 14,821\n",
      "Day 175: Reward (in $) = 34,164\n",
      "Day 176: Reward (in $) = -27,008\n",
      "Day 177: Reward (in $) = -56,166\n",
      "Day 178: Reward (in $) = -36,854\n",
      "Day 179: Reward (in $) = -42,110\n",
      "Day 180: Reward (in $) = -6,941\n",
      "Day 181: Reward (in $) = -20,673\n",
      "Day 182: Reward (in $) = -69,482\n",
      "Day 183: Reward (in $) = -82,245\n",
      "Day 184: Reward (in $) = -101,014\n",
      "Day 185: Reward (in $) = -30,640\n",
      "Day 186: Reward (in $) = 31,614\n",
      "Day 187: Reward (in $) = 11,512\n",
      "Day 188: Reward (in $) = 2,019\n",
      "Day 189: Reward (in $) = -6,866\n",
      "Day 190: Reward (in $) = -127,296\n",
      "Day 191: Reward (in $) = -24,182\n",
      "Day 192: Reward (in $) = -23,395\n",
      "Day 193: Reward (in $) = -60,298\n",
      "Day 194: Reward (in $) = -634\n",
      "Day 195: Reward (in $) = 5,275\n",
      "Day 196: Reward (in $) = 7,264\n",
      "Day 197: Reward (in $) = 18,425\n",
      "Day 198: Reward (in $) = 41,407\n",
      "Day 199: Reward (in $) = -5,150\n",
      "Day 200: Reward (in $) = -77,492\n",
      "Day 201: Reward (in $) = -7,606\n",
      "Day 202: Reward (in $) = -2,535\n",
      "Day 203: Reward (in $) = 9,043\n",
      "Day 204: Reward (in $) = 4,698\n",
      "Day 205: Reward (in $) = -25,741\n",
      "Day 206: Reward (in $) = -2,151\n",
      "Day 207: Reward (in $) = -3,010\n",
      "Day 208: Reward (in $) = 28,008\n",
      "Day 209: Reward (in $) = 10,701\n",
      "Day 210: Reward (in $) = 201,298\n",
      "Day 211: Reward (in $) = 47,531\n",
      "Day 212: Reward (in $) = 56,502\n",
      "Day 213: Reward (in $) = -6,688\n",
      "Day 214: Reward (in $) = -72,060\n",
      "Day 215: Reward (in $) = -69,222\n",
      "Day 216: Reward (in $) = 9,325\n",
      "Day 217: Reward (in $) = 1,204\n",
      "Day 218: Reward (in $) = 27,443\n",
      "Day 219: Reward (in $) = -28,119\n",
      "Day 220: Reward (in $) = -4,352\n",
      "Day 221: Reward (in $) = -29,378\n",
      "Day 222: Reward (in $) = 16,221\n",
      "Day 223: Reward (in $) = 4,753\n",
      "Day 224: Reward (in $) = -48\n",
      "Day 225: Reward (in $) = 590\n",
      "Day 226: Reward (in $) = -41,630\n",
      "Day 227: Reward (in $) = -1,718\n",
      "Day 228: Reward (in $) = 11,282\n",
      "Day 229: Reward (in $) = -5,230\n",
      "Day 230: Reward (in $) = -1,770\n",
      "Day 231: Reward (in $) = -1,703\n",
      "Day 232: Reward (in $) = -64,607\n",
      "Day 233: Reward (in $) = -24,730\n",
      "Day 234: Reward (in $) = -82,034\n",
      "Day 235: Reward (in $) = -129,787\n",
      "Day 236: Reward (in $) = 13,880\n",
      "Day 237: Reward (in $) = 57,121\n",
      "Day 238: Reward (in $) = -2,552\n",
      "Day 239: Reward (in $) = -13,338\n",
      "Day 240: Reward (in $) = -11,003\n",
      "Day 241: Reward (in $) = -661\n",
      "Day 242: Reward (in $) = 48,119\n",
      "Day 243: Reward (in $) = -1,785\n",
      "Day 244: Reward (in $) = -48,021\n",
      "Day 245: Reward (in $) = -97,887\n",
      "Day 246: Reward (in $) = -36,628\n",
      "Day 247: Reward (in $) = -1,338\n",
      "Day 248: Reward (in $) = -33,572\n",
      "Day 249: Reward (in $) = -767\n",
      "Day 250: Reward (in $) = -16,482\n",
      "Day 251: Reward (in $) = 494\n",
      "Day 252: Reward (in $) = -12,211\n",
      "Day 253: Reward (in $) = 98,859\n",
      "Day 254: Reward (in $) = -12,178\n",
      "Day 255: Reward (in $) = -58,474\n",
      "Day 256: Reward (in $) = -4,504\n",
      "Day 257: Reward (in $) = 2,430,684\n",
      "Day 258: Reward (in $) = -30,478\n"
     ]
    },
    {
     "name": "stdout",
     "output_type": "stream",
     "text": [
      "Day 259: Reward (in $) = -33,837\n",
      "Day 260: Reward (in $) = -31,865\n",
      "Day 261: Reward (in $) = 69,142\n",
      "Day 262: Reward (in $) = -6,319\n",
      "Day 263: Reward (in $) = -60,886\n",
      "Day 264: Reward (in $) = -42,038\n",
      "Day 265: Reward (in $) = -4,888\n",
      "Day 266: Reward (in $) = -86,973\n",
      "Day 267: Reward (in $) = -6,669\n",
      "Day 268: Reward (in $) = -22,364\n",
      "Day 269: Reward (in $) = -82,303\n",
      "Day 270: Reward (in $) = -69,071\n",
      "Day 271: Reward (in $) = -21,357\n",
      "Day 272: Reward (in $) = -64,864\n",
      "Day 273: Reward (in $) = -42,597\n",
      "Day 274: Reward (in $) = 22,361\n",
      "Day 275: Reward (in $) = 23,510\n",
      "Day 276: Reward (in $) = -20,356\n",
      "Day 277: Reward (in $) = 49,424\n",
      "Day 278: Reward (in $) = 147,769\n",
      "Day 279: Reward (in $) = 6,118\n",
      "Day 280: Reward (in $) = -27,156\n",
      "Day 281: Reward (in $) = -11,264\n",
      "Day 282: Reward (in $) = 12,692\n",
      "Day 283: Reward (in $) = -5,008\n",
      "Day 284: Reward (in $) = -33,664\n",
      "Day 285: Reward (in $) = 15,328\n",
      "Day 286: Reward (in $) = -50,567\n",
      "Day 287: Reward (in $) = -61,839\n",
      "Day 288: Reward (in $) = 4,460\n",
      "Day 289: Reward (in $) = 10,681\n",
      "Day 290: Reward (in $) = 7,417\n",
      "Day 291: Reward (in $) = -6,152\n",
      "Day 292: Reward (in $) = -2,430\n",
      "Day 293: Reward (in $) = -26,306\n",
      "Day 294: Reward (in $) = -11,962\n",
      "Day 295: Reward (in $) = 18,656\n",
      "Day 296: Reward (in $) = -57,285\n",
      "Day 297: Reward (in $) = -33,374\n",
      "Day 298: Reward (in $) = 132,415\n",
      "Day 299: Reward (in $) = -54,155\n",
      "Day 300: Reward (in $) = -16,268\n",
      "Day 301: Reward (in $) = -11,503\n",
      "Day 302: Reward (in $) = -19,990\n",
      "Day 303: Reward (in $) = 15,540\n",
      "Day 304: Reward (in $) = -55,129\n",
      "Day 305: Reward (in $) = -12,148\n",
      "Day 306: Reward (in $) = -17,584\n",
      "Day 307: Reward (in $) = -905\n",
      "Day 308: Reward (in $) = -45,168\n",
      "Day 309: Reward (in $) = -2,365\n",
      "Day 310: Reward (in $) = -5,589\n",
      "Day 311: Reward (in $) = -16,214\n",
      "Day 312: Reward (in $) = 46,039\n",
      "Day 313: Reward (in $) = -1,631\n",
      "Day 314: Reward (in $) = -21,870\n",
      "Day 315: Reward (in $) = -49,156\n",
      "Day 316: Reward (in $) = -11,384\n",
      "Day 317: Reward (in $) = -34,429\n",
      "Day 318: Reward (in $) = -18,182\n",
      "Day 319: Reward (in $) = 2,285\n",
      "Day 320: Reward (in $) = 16,279\n",
      "Day 321: Reward (in $) = 9,848\n",
      "Day 322: Reward (in $) = -5,509\n",
      "Day 323: Reward (in $) = 7,251\n",
      "Day 324: Reward (in $) = 16,065\n",
      "Day 325: Reward (in $) = -26,884\n",
      "Day 326: Reward (in $) = -10,171\n",
      "Day 327: Reward (in $) = -12,285\n",
      "Day 328: Reward (in $) = 59,064\n",
      "Day 329: Reward (in $) = 41,435\n",
      "Day 330: Reward (in $) = 5,892\n",
      "Day 331: Reward (in $) = -11,892\n",
      "Day 332: Reward (in $) = -45,594\n",
      "Day 333: Reward (in $) = -41,671\n",
      "Day 334: Reward (in $) = -2,559\n",
      "Day 335: Reward (in $) = -20,416\n",
      "Day 336: Reward (in $) = -17,869\n",
      "Day 337: Reward (in $) = 19,207\n",
      "Day 338: Reward (in $) = -6,391\n",
      "Day 339: Reward (in $) = -29,325\n",
      "Day 340: Reward (in $) = -29,061\n",
      "Day 341: Reward (in $) = -52,410\n",
      "Day 342: Reward (in $) = -107,505\n",
      "Day 343: Reward (in $) = -124,233\n",
      "Day 344: Reward (in $) = 223,835\n",
      "Day 345: Reward (in $) = 77,690\n",
      "Day 346: Reward (in $) = -26,228\n",
      "Day 347: Reward (in $) = 6,921\n",
      "Day 348: Reward (in $) = -31,862\n",
      "Day 349: Reward (in $) = 77,327\n",
      "Day 350: Reward (in $) = -4,121\n",
      "Day 351: Reward (in $) = 78,631\n",
      "Day 352: Reward (in $) = 47,826\n",
      "Day 353: Reward (in $) = 7,486\n",
      "Day 354: Reward (in $) = -45,330\n",
      "Day 355: Reward (in $) = -61,418\n",
      "Day 356: Reward (in $) = -26,156\n",
      "Day 357: Reward (in $) = -30,676\n",
      "Day 358: Reward (in $) = -10,038\n",
      "Day 359: Reward (in $) = -11,577\n",
      "Day 360: Reward (in $) = -57,290\n",
      "Day 361: Reward (in $) = -72,856\n",
      "Day 362: Reward (in $) = 164,739\n",
      "Day 363: Reward (in $) = 253,593\n",
      "Day 364: Reward (in $) = 1,201\n",
      "Day 365: Reward (in $) = -15,709\n",
      "Total money earned over the year (in $) = 4,495,587\n"
     ]
    }
   ],
   "source": [
    "dailyBudget = 250000\n",
    "quantileOffer =0.8\n",
    "\n",
    "# Keep track of your rewards in each day, a cumulative reward over the year, and a total reward over the\n",
    "# year. Also, keep track of the total reward from each option. Store them as dictionaries that are\n",
    "# indexed by day of the year.\n",
    "reward = {}\n",
    "cumulativeReward = {}\n",
    "totalReward = 0\n",
    "optionReturn = dict((option, 0) for option in optionNames)\n",
    "\n",
    "# Implement the trading strategy on each day!\n",
    "\n",
    "for day in rangeOfDays:\n",
    "\n",
    "    reward[day] = 0\n",
    "\n",
    "    # Find the options that your classifier says that should be profitable. Store the profitable option\n",
    "    # names in chosenOptions.\n",
    "    chosenOptionNumbers = np.ravel(list(np.nonzero(predictedY.loc[day].values)))\n",
    "    if np.size(chosenOptionNumbers) == 0:\n",
    "        continue\n",
    "    chosenOptions = [optionNames[i] for i in chosenOptionNumbers]\n",
    "\n",
    "    # Design the portfolio based on average price spreads. Our strategy is that as long as you have not\n",
    "    # exceeded your daily budget, pick an option from the list of 'chosenOptions' probabilistically, where\n",
    "    # the probability of choosing it is proportional to exponential(historical rewards of that option). That\n",
    "    # is, a historically profitable option is chosen more often than one that is not. Keep sampling and\n",
    "    # decreasing your budget with each bid.\n",
    "\n",
    "    # Start with an empty portfolio.\n",
    "\n",
    "    portfolio = dict((option, 0) for option in chosenOptions)\n",
    "\n",
    "    # Calculate the probabilities of choosing each option among the list 'chosenOptions'. Recall that\n",
    "    # 'chosenOptions' contains the options that your classifier indicates as being profitable.\n",
    "    priceSpreads = [1.0 * averagePriceSpread[option] for option in chosenOptions]\n",
    "    probabilityOptions = [np.exp(p) for p in priceSpreads]\n",
    "    probabilityOptions /= np.sum(probabilityOptions)\n",
    "\n",
    "    # Start with your daily budget.\n",
    "    budget = dailyBudget\n",
    "\n",
    "    # Sampling among the profitable options and bid based on them.\n",
    "    while budget > np.median([offerPrices[quantileOffer][option] for option in chosenOptions]):\n",
    "\n",
    "        optionToBuy = choice(chosenOptions, p=probabilityOptions)\n",
    "\n",
    "        if budget >= offerPrices[quantileOffer][optionToBuy]:\n",
    "            portfolio[optionToBuy] += 1\n",
    "            budget -= offerPrices[quantileOffer][optionToBuy]\n",
    "\n",
    "    # Compute the reward from the day. Go through each of the options you have decided to buy.\n",
    "    # If the DA price is lower than the bid price, then your bid is cleared. For each option you\n",
    "    # have bought, you get a reward equal to the DA - RT price.\n",
    "\n",
    "    for option in chosenOptions:\n",
    "        if testPriceDA.at[day, option] < offerPrices[quantileOffer][option]:\n",
    "            rewardOptionDay = testPriceDART.at[day, option] * portfolio[option]\n",
    "            optionReturn[option] += rewardOptionDay\n",
    "            reward[day] += rewardOptionDay\n",
    "\n",
    "    totalReward += reward[day]\n",
    "\n",
    "    # Calculate the cumulative reward in millions of dollars.\n",
    "    cumulativeReward[day] = totalReward/1000000\n",
    "\n",
    "    print(\"Day \" + str(day) + \": Reward (in $) = \" + \"{0:,.0f}\".format(reward[day]))\n",
    "\n",
    "print(\"Total money earned over the year (in $) = \" + \"{0:,.0f}\".format(totalReward))"
   ]
  },
  {
   "cell_type": "code",
   "execution_count": 61,
   "metadata": {},
   "outputs": [
    {
     "data": {
      "image/png": "[encoded data removed]",
      "text/plain": [
       "<Figure size 1440x720 with 3 Axes>"
      ]
     },
     "metadata": {
      "needs_background": "light"
     },
     "output_type": "display_data"
    }
   ],
   "source": [
    "# Plot the cumulative reward over the year 2016. Also, plot a heat map of the returns from\n",
    "# each option.\n",
    "\n",
    "fig, axs = plt.subplots(2, 1, tight_layout=True, figsize=(20, 10))\n",
    "axs = axs.ravel()\n",
    "\n",
    "\n",
    "## Enter code here where you plot in axs[0].\n",
    "cr=list(cumulativeReward.values())\n",
    "d=list(cumulativeReward.keys())\n",
    "\n",
    "axs[0].plot(d,cr)\n",
    "\n",
    "axs[1] = sns.heatmap(np.reshape(list(optionReturn.values()), (len(listOfZones), 24)),\n",
    "                     linewidth=0.5,\n",
    "                     cmap=\"YlGnBu\")\n",
    "axs[1].set_yticklabels(listOfZones, rotation=0)\n",
    "axs[1].set_xticklabels(range(24), rotation=90)\n",
    "axs[1].set_title('Returns on different options')\n",
    "plt.show()\n",
    "\n",
    "\n"
   ]
  },
  {
   "cell_type": "markdown",
   "metadata": {},
   "source": [
    "### Task 3: Quantile (25 points)\n",
    "\n",
    "For the best classifier, try different quanltile choices from the following list: 0.70, 0.75, 0.80, 0.85, 0.90, 0.95. Rank them in terms of profits (low to high). \n",
    "\n",
    "How do you expect the quantile to affect the portfolio? \n",
    "\n",
    "\n",
    "#### SVM Classifier (linear kernal, c=100, profit = 5,909,330) Was my best classifier.\n",
    "Quantile 0.75 gave highest profit of $6,695,012\n",
    "\n",
    "Quantile 0.8 gave profit of $5,909,330\n",
    "\n",
    "Quantile 0.85 gave profit of $4,603,107\n",
    "\n",
    "Quantile 0.95 gave profit of $4,017,187\n",
    "\n",
    "Quantile 0.9 gave profit of $3,978,594\n",
    "\n",
    "Quantile 0.7 gave lowest profit of $3,466,695\n",
    "\n",
    "I would expect a low quantile to no give me very high profit as not a lot of my bids are clearing. I would expect a slightly higher optimum quantile to give a higher profit after which higher quantiles give lower profits as the number of assets I can purchase is now reduced because of the higher bids I am placing."
   ]
  },
  {
   "cell_type": "markdown",
   "metadata": {},
   "source": [
    "### Task 4: Daily budget (25 points)\n",
    "\n",
    "We used a daily budget of 250,000. Try different budgets, let's say, 100,000, 150,000, 200,000, and 300,000. Rank them in terms of profits (low to high). Fix the quantile to the one that led to maximum profits in the previous task. \n",
    "\n",
    "#### Quantile of 0.75 led to maximum profits\n",
    "Daily budget of 300,000 gave me highest profit of $7,957,814\n",
    "\n",
    "Daily budget of 250,000 gave me a profit of $6,695,012\n",
    "\n",
    "Daily budget of 200,000 gave me a profit of $5,313,167\n",
    "\n",
    "Daily budget of 150,000 gave me a profit of $4,070,780\n",
    "\n",
    "Daily budget of 100,000 gave me lowest profit of $2,603,983"
   ]
  },
  {
   "cell_type": "markdown",
   "metadata": {},
   "source": [
    "### Task 6: Beat the algorithm! (15 points, bonus) \n",
    "# I EARNED 11-14 mil USD on the average in the algorithm below!\n",
    "Make changes to increase the profits further! The people with the top 15 total profits will get additional points. Exaplain what did for improvement and how much profits you made. Do not exceed the 250,000 budget!\n",
    "\n",
    "#### I Realised the last 100 days of the year  have highly unpredictable wind patterns and decided to take a trading holiday for this season.  The Real time price becomes extremely hard to predict as erratic wind causes erratic fluctuations in price so windy times are risky times. My profits increased slightly to 7mil. I Then decided to risk my money with a few options that I am sure my algorithm can predict extremely well mostly because the power pattern in these zones is constant over the years. My other theory would be that the effect of wind on these zones during these times is minimal. \n",
    "\n",
    "#### When it comes to the classifier, using a SVC Classifier with a linear kernal with soft margin works best because of the statement we learned in class. The simplest explanation is most probably correct! Also, we are classifying the options into 2 classes. So linear seperation of the data works best. "
   ]
  },
  {
   "cell_type": "markdown",
   "metadata": {},
   "source": [
    "### Task 7: Implement a different trading strategy (10 points, bonus) \n",
    "\n",
    "Implement a different trading strategy, explain it and report its outcomes. If the rewards are comparable to the one discussed in class, and you can clearly explain the logic behind you strategy, you get additional 25 points. If your strategy leads to having profits among the top 20, then you automatically completed Task 6 too! \n",
    "\n",
    "####  I Realised the last 100 days of the year have highly unpredictable wind patterns and decided to take a trading holiday for this season. My profits increase slightly to 7mil. I Then decided to risk my money with a few options that I am sure my algorithm can predict extremely well mostly because the power pattern in these zones is constant over the years. My other theory would be that the effect of wind on these zones during these times is minimal. "
   ]
  },
  {
   "cell_type": "code",
   "execution_count": 65,
   "metadata": {},
   "outputs": [],
   "source": [
    "def loadNYISOData(year):\n",
    "\n",
    "    # Open the relevant files for DA prices, RT prices, DA load.\n",
    "\n",
    "    dfPriceDA = pd.read_csv(\"DAM_NYISO_Zonal_LBMP_\" + str(year) + \".csv\")\n",
    "    dfPriceRT = pd.read_csv(\"RTM_NYISO_Zonal_LBMP_\" + str(year) + \".csv\")\n",
    "    dfLoadDA = pd.read_csv(\"DAM_NYISO_LoadForecast_\" + str(year) + \".csv\")\n",
    "\n",
    "    # Collect the DA and RT prices from each zone from each hour and create a pandas list.\n",
    "    # The data should have prices and loads from all days of a year, where each day\n",
    "    # contributes 24 rows, corresponding to each hour.\n",
    "\n",
    "    priceDA = pd.DataFrame({zone: (dfPriceDA.loc[dfPriceDA['Zone Name'] == zone,\n",
    "                                                 'DAM Zonal LBMP']).values\n",
    "                             for zone in listOfZones})\n",
    "    priceRT = pd.DataFrame({zone: (dfPriceRT.loc[dfPriceRT['Zone Name'] == zone,\n",
    "                                                 'TWI Zonal LBMP']).values\n",
    "                             for zone in listOfZones})\n",
    "    loadDA = pd.DataFrame({zone: (dfLoadDA.loc[dfLoadDA['Zone Name'] == zone,\n",
    "                                               'DAM Forecast Load']).values\n",
    "                            for zone in listOfZones})\n",
    "\n",
    "    numberOfDays = int(len(priceDA.index)/24)\n",
    "\n",
    "    # Compute the price differences between DA and RT prices for all options on\n",
    "    # all days of the year. Store it as a pandas data frame where the 24 rows for\n",
    "    # each day is flattened into one row. This operation essentially allows us to\n",
    "    # independently think of each zone in each hour as a separate option. Also,\n",
    "    # reshape the prices for the DA market in the same manner.\n",
    "\n",
    "    priceDART = pd.DataFrame([priceRT.sub(priceDA).loc[day * 24:\n",
    "                                                              (day + 1) * 24 - 1,\n",
    "                              listOfZones].values.flatten()\n",
    "                              for day in range(numberOfDays)],\n",
    "                             columns=optionNames)\n",
    "\n",
    "    priceDA = pd.DataFrame([priceDA.loc[day * 24: (day + 1) * 24 - 1,\n",
    "                            listOfZones].values.flatten()\n",
    "                            for day in range(numberOfDays)],\n",
    "                           columns=optionNames)\n",
    "\n",
    "    return priceDA, priceDART, loadDA\n",
    "\n"
   ]
  },
  {
   "cell_type": "code",
   "execution_count": 66,
   "metadata": {},
   "outputs": [],
   "source": [
    "def createClassifierIO(priceDA, priceDART, loadDA):\n",
    "\n",
    "    # Define how many past days of prices to use for classification.\n",
    "\n",
    "    pastPrices = range(1, 3)\n",
    "\n",
    "    # Define how many past days of load predictions to use for classification.\n",
    "\n",
    "    pastLoad = range(1, 3)\n",
    "\n",
    "    # Define a date range within the year to create the arrays 'X' and 'Y' in a way\n",
    "    # that past price and load data for the first day is within the date range in the\n",
    "    # pandas frames passed as inputs.\n",
    "\n",
    "    rangeOfDays = range(3, len(priceDA.index))\n",
    "\n",
    "    # 'X' will contain three sets of variables:\n",
    "    #   1. the DA prices from past days in the list 'pastDays',\n",
    "    #   2. the differences between DA and RT prices from the same past days,\n",
    "\n",
    "    #   3. the load predictions from past days in the list 'pastLoad'\n",
    "\n",
    "    X = [np.concatenate((\n",
    "        priceDA.loc[[(day - h) for h in pastPrices]].values.flatten(),\n",
    "        priceDART.loc[[(day - h) for h in pastPrices]].values.flatten(),\n",
    "        loadDA.loc[[(day - h) for h in pastLoad]].values.flatten()\n",
    "    )) for day in rangeOfDays]\n",
    "\n",
    "    # Scale the array 'X' to make its data zero mean and unit variance.\n",
    "    X = StandardScaler().fit_transform(X)\n",
    "\n",
    "    # 'Y' will contain zeros and ones, where a one indicates that the price in DA is\n",
    "    # higher than in RT for a particular option. Recall that an option corresponds to\n",
    "    # a zone at a particular hour of the day.\n",
    "\n",
    "    Y = np.array([(priceDART.loc[day].values > 0).astype(int)\n",
    "                  for day in rangeOfDays])\n",
    "\n",
    "    # Return the arrays 'X' and 'Y', and finally the range of days from the year that\n",
    "    # will be utilized for training or testing the classifier.\n",
    "    return X, Y, rangeOfDays"
   ]
  },
  {
   "cell_type": "code",
   "execution_count": null,
   "metadata": {},
   "outputs": [],
   "source": []
  },
  {
   "cell_type": "code",
   "execution_count": 67,
   "metadata": {},
   "outputs": [
    {
     "name": "stdout",
     "output_type": "stream",
     "text": [
      "Starting training module...\n",
      "\n",
      "Loaded hourly prices from 2015 for 365 days.\n",
      "Classifier trained for option CAPITL_Hour_0\n",
      "Classifier trained for option CAPITL_Hour_1\n",
      "Classifier trained for option CAPITL_Hour_2\n",
      "Classifier trained for option CAPITL_Hour_3\n",
      "Classifier trained for option CAPITL_Hour_4\n",
      "Classifier trained for option CAPITL_Hour_5\n",
      "Classifier trained for option CAPITL_Hour_6\n",
      "Classifier trained for option CAPITL_Hour_7\n",
      "Classifier trained for option CAPITL_Hour_8\n",
      "Classifier trained for option CAPITL_Hour_9\n",
      "Classifier trained for option CAPITL_Hour_10\n",
      "Classifier trained for option CAPITL_Hour_11\n",
      "Classifier trained for option CAPITL_Hour_12\n",
      "Classifier trained for option CAPITL_Hour_13\n",
      "Classifier trained for option CAPITL_Hour_14\n",
      "Classifier trained for option CAPITL_Hour_15\n",
      "Classifier trained for option CAPITL_Hour_16\n",
      "Classifier trained for option CAPITL_Hour_17\n",
      "Classifier trained for option CAPITL_Hour_18\n",
      "Classifier trained for option CAPITL_Hour_19\n",
      "Classifier trained for option CAPITL_Hour_20\n",
      "Classifier trained for option CAPITL_Hour_21\n",
      "Classifier trained for option CAPITL_Hour_22\n",
      "Classifier trained for option CAPITL_Hour_23\n",
      "Classifier trained for option CENTRL_Hour_0\n",
      "Classifier trained for option CENTRL_Hour_1\n",
      "Classifier trained for option CENTRL_Hour_2\n",
      "Classifier trained for option CENTRL_Hour_3\n",
      "Classifier trained for option CENTRL_Hour_4\n",
      "Classifier trained for option CENTRL_Hour_5\n",
      "Classifier trained for option CENTRL_Hour_6\n",
      "Classifier trained for option CENTRL_Hour_7\n",
      "Classifier trained for option CENTRL_Hour_8\n",
      "Classifier trained for option CENTRL_Hour_9\n",
      "Classifier trained for option CENTRL_Hour_10\n",
      "Classifier trained for option CENTRL_Hour_11\n",
      "Classifier trained for option CENTRL_Hour_12\n",
      "Classifier trained for option CENTRL_Hour_13\n",
      "Classifier trained for option CENTRL_Hour_14\n",
      "Classifier trained for option CENTRL_Hour_15\n",
      "Classifier trained for option CENTRL_Hour_16\n",
      "Classifier trained for option CENTRL_Hour_17\n",
      "Classifier trained for option CENTRL_Hour_18\n",
      "Classifier trained for option CENTRL_Hour_19\n",
      "Classifier trained for option CENTRL_Hour_20\n",
      "Classifier trained for option CENTRL_Hour_21\n",
      "Classifier trained for option CENTRL_Hour_22\n",
      "Classifier trained for option CENTRL_Hour_23\n",
      "Classifier trained for option DUNWOD_Hour_0\n",
      "Classifier trained for option DUNWOD_Hour_1\n",
      "Classifier trained for option DUNWOD_Hour_2\n",
      "Classifier trained for option DUNWOD_Hour_3\n",
      "Classifier trained for option DUNWOD_Hour_4\n",
      "Classifier trained for option DUNWOD_Hour_5\n",
      "Classifier trained for option DUNWOD_Hour_6\n",
      "Classifier trained for option DUNWOD_Hour_7\n",
      "Classifier trained for option DUNWOD_Hour_8\n",
      "Classifier trained for option DUNWOD_Hour_9\n",
      "Classifier trained for option DUNWOD_Hour_10\n",
      "Classifier trained for option DUNWOD_Hour_11\n",
      "Classifier trained for option DUNWOD_Hour_12\n",
      "Classifier trained for option DUNWOD_Hour_13\n",
      "Classifier trained for option DUNWOD_Hour_14\n",
      "Classifier trained for option DUNWOD_Hour_15\n",
      "Classifier trained for option DUNWOD_Hour_16\n",
      "Classifier trained for option DUNWOD_Hour_17\n",
      "Classifier trained for option DUNWOD_Hour_18\n",
      "Classifier trained for option DUNWOD_Hour_19\n",
      "Classifier trained for option DUNWOD_Hour_20\n",
      "Classifier trained for option DUNWOD_Hour_21\n",
      "Classifier trained for option DUNWOD_Hour_22\n",
      "Classifier trained for option DUNWOD_Hour_23\n",
      "Classifier trained for option GENESE_Hour_0\n",
      "Classifier trained for option GENESE_Hour_1\n",
      "Classifier trained for option GENESE_Hour_2\n",
      "Classifier trained for option GENESE_Hour_3\n",
      "Classifier trained for option GENESE_Hour_4\n",
      "Classifier trained for option GENESE_Hour_5\n",
      "Classifier trained for option GENESE_Hour_6\n",
      "Classifier trained for option GENESE_Hour_7\n",
      "Classifier trained for option GENESE_Hour_8\n",
      "Classifier trained for option GENESE_Hour_9\n",
      "Classifier trained for option GENESE_Hour_10\n",
      "Classifier trained for option GENESE_Hour_11\n",
      "Classifier trained for option GENESE_Hour_12\n",
      "Classifier trained for option GENESE_Hour_13\n",
      "Classifier trained for option GENESE_Hour_14\n",
      "Classifier trained for option GENESE_Hour_15\n",
      "Classifier trained for option GENESE_Hour_16\n",
      "Classifier trained for option GENESE_Hour_17\n",
      "Classifier trained for option GENESE_Hour_18\n",
      "Classifier trained for option GENESE_Hour_19\n",
      "Classifier trained for option GENESE_Hour_20\n",
      "Classifier trained for option GENESE_Hour_21\n",
      "Classifier trained for option GENESE_Hour_22\n",
      "Classifier trained for option GENESE_Hour_23\n",
      "Classifier trained for option HUD VL_Hour_0\n",
      "Classifier trained for option HUD VL_Hour_1\n",
      "Classifier trained for option HUD VL_Hour_2\n",
      "Classifier trained for option HUD VL_Hour_3\n",
      "Classifier trained for option HUD VL_Hour_4\n",
      "Classifier trained for option HUD VL_Hour_5\n",
      "Classifier trained for option HUD VL_Hour_6\n",
      "Classifier trained for option HUD VL_Hour_7\n",
      "Classifier trained for option HUD VL_Hour_8\n",
      "Classifier trained for option HUD VL_Hour_9\n",
      "Classifier trained for option HUD VL_Hour_10\n",
      "Classifier trained for option HUD VL_Hour_11\n",
      "Classifier trained for option HUD VL_Hour_12\n",
      "Classifier trained for option HUD VL_Hour_13\n",
      "Classifier trained for option HUD VL_Hour_14\n",
      "Classifier trained for option HUD VL_Hour_15\n",
      "Classifier trained for option HUD VL_Hour_16\n",
      "Classifier trained for option HUD VL_Hour_17\n",
      "Classifier trained for option HUD VL_Hour_18\n",
      "Classifier trained for option HUD VL_Hour_19\n",
      "Classifier trained for option HUD VL_Hour_20\n",
      "Classifier trained for option HUD VL_Hour_21\n",
      "Classifier trained for option HUD VL_Hour_22\n",
      "Classifier trained for option HUD VL_Hour_23\n",
      "Classifier trained for option LONGIL_Hour_0\n",
      "Classifier trained for option LONGIL_Hour_1\n",
      "Classifier trained for option LONGIL_Hour_2\n",
      "Classifier trained for option LONGIL_Hour_3\n",
      "Classifier trained for option LONGIL_Hour_4\n",
      "Classifier trained for option LONGIL_Hour_5\n",
      "Classifier trained for option LONGIL_Hour_6\n",
      "Classifier trained for option LONGIL_Hour_7\n",
      "Classifier trained for option LONGIL_Hour_8\n",
      "Classifier trained for option LONGIL_Hour_9\n",
      "Classifier trained for option LONGIL_Hour_10\n",
      "Classifier trained for option LONGIL_Hour_11\n",
      "Classifier trained for option LONGIL_Hour_12\n",
      "Classifier trained for option LONGIL_Hour_13\n",
      "Classifier trained for option LONGIL_Hour_14\n",
      "Classifier trained for option LONGIL_Hour_15\n",
      "Classifier trained for option LONGIL_Hour_16\n",
      "Classifier trained for option LONGIL_Hour_17\n",
      "Classifier trained for option LONGIL_Hour_18\n",
      "Classifier trained for option LONGIL_Hour_19\n",
      "Classifier trained for option LONGIL_Hour_20\n",
      "Classifier trained for option LONGIL_Hour_21\n",
      "Classifier trained for option LONGIL_Hour_22\n",
      "Classifier trained for option LONGIL_Hour_23\n",
      "Classifier trained for option MHK VL_Hour_0\n",
      "Classifier trained for option MHK VL_Hour_1\n",
      "Classifier trained for option MHK VL_Hour_2\n",
      "Classifier trained for option MHK VL_Hour_3\n",
      "Classifier trained for option MHK VL_Hour_4\n",
      "Classifier trained for option MHK VL_Hour_5\n",
      "Classifier trained for option MHK VL_Hour_6\n",
      "Classifier trained for option MHK VL_Hour_7\n",
      "Classifier trained for option MHK VL_Hour_8\n",
      "Classifier trained for option MHK VL_Hour_9\n",
      "Classifier trained for option MHK VL_Hour_10\n",
      "Classifier trained for option MHK VL_Hour_11\n",
      "Classifier trained for option MHK VL_Hour_12\n",
      "Classifier trained for option MHK VL_Hour_13\n",
      "Classifier trained for option MHK VL_Hour_14\n",
      "Classifier trained for option MHK VL_Hour_15\n",
      "Classifier trained for option MHK VL_Hour_16\n",
      "Classifier trained for option MHK VL_Hour_17\n",
      "Classifier trained for option MHK VL_Hour_18\n",
      "Classifier trained for option MHK VL_Hour_19\n",
      "Classifier trained for option MHK VL_Hour_20\n",
      "Classifier trained for option MHK VL_Hour_21\n",
      "Classifier trained for option MHK VL_Hour_22\n",
      "Classifier trained for option MHK VL_Hour_23\n",
      "Classifier trained for option MILLWD_Hour_0\n",
      "Classifier trained for option MILLWD_Hour_1\n",
      "Classifier trained for option MILLWD_Hour_2\n",
      "Classifier trained for option MILLWD_Hour_3\n",
      "Classifier trained for option MILLWD_Hour_4\n",
      "Classifier trained for option MILLWD_Hour_5\n",
      "Classifier trained for option MILLWD_Hour_6\n",
      "Classifier trained for option MILLWD_Hour_7\n",
      "Classifier trained for option MILLWD_Hour_8\n",
      "Classifier trained for option MILLWD_Hour_9\n",
      "Classifier trained for option MILLWD_Hour_10\n",
      "Classifier trained for option MILLWD_Hour_11\n",
      "Classifier trained for option MILLWD_Hour_12\n",
      "Classifier trained for option MILLWD_Hour_13\n",
      "Classifier trained for option MILLWD_Hour_14\n"
     ]
    },
    {
     "name": "stdout",
     "output_type": "stream",
     "text": [
      "Classifier trained for option MILLWD_Hour_15\n",
      "Classifier trained for option MILLWD_Hour_16\n",
      "Classifier trained for option MILLWD_Hour_17\n",
      "Classifier trained for option MILLWD_Hour_18\n",
      "Classifier trained for option MILLWD_Hour_19\n",
      "Classifier trained for option MILLWD_Hour_20\n",
      "Classifier trained for option MILLWD_Hour_21\n",
      "Classifier trained for option MILLWD_Hour_22\n",
      "Classifier trained for option MILLWD_Hour_23\n",
      "Classifier trained for option N.Y.C._Hour_0\n",
      "Classifier trained for option N.Y.C._Hour_1\n",
      "Classifier trained for option N.Y.C._Hour_2\n",
      "Classifier trained for option N.Y.C._Hour_3\n",
      "Classifier trained for option N.Y.C._Hour_4\n",
      "Classifier trained for option N.Y.C._Hour_5\n",
      "Classifier trained for option N.Y.C._Hour_6\n",
      "Classifier trained for option N.Y.C._Hour_7\n",
      "Classifier trained for option N.Y.C._Hour_8\n",
      "Classifier trained for option N.Y.C._Hour_9\n",
      "Classifier trained for option N.Y.C._Hour_10\n",
      "Classifier trained for option N.Y.C._Hour_11\n",
      "Classifier trained for option N.Y.C._Hour_12\n",
      "Classifier trained for option N.Y.C._Hour_13\n",
      "Classifier trained for option N.Y.C._Hour_14\n",
      "Classifier trained for option N.Y.C._Hour_15\n",
      "Classifier trained for option N.Y.C._Hour_16\n",
      "Classifier trained for option N.Y.C._Hour_17\n",
      "Classifier trained for option N.Y.C._Hour_18\n",
      "Classifier trained for option N.Y.C._Hour_19\n",
      "Classifier trained for option N.Y.C._Hour_20\n",
      "Classifier trained for option N.Y.C._Hour_21\n",
      "Classifier trained for option N.Y.C._Hour_22\n",
      "Classifier trained for option N.Y.C._Hour_23\n",
      "Classifier trained for option NORTH_Hour_0\n",
      "Classifier trained for option NORTH_Hour_1\n",
      "Classifier trained for option NORTH_Hour_2\n",
      "Classifier trained for option NORTH_Hour_3\n",
      "Classifier trained for option NORTH_Hour_4\n",
      "Classifier trained for option NORTH_Hour_5\n",
      "Classifier trained for option NORTH_Hour_6\n",
      "Classifier trained for option NORTH_Hour_7\n",
      "Classifier trained for option NORTH_Hour_8\n",
      "Classifier trained for option NORTH_Hour_9\n",
      "Classifier trained for option NORTH_Hour_10\n",
      "Classifier trained for option NORTH_Hour_11\n",
      "Classifier trained for option NORTH_Hour_12\n",
      "Classifier trained for option NORTH_Hour_13\n",
      "Classifier trained for option NORTH_Hour_14\n",
      "Classifier trained for option NORTH_Hour_15\n",
      "Classifier trained for option NORTH_Hour_16\n",
      "Classifier trained for option NORTH_Hour_17\n",
      "Classifier trained for option NORTH_Hour_18\n",
      "Classifier trained for option NORTH_Hour_19\n",
      "Classifier trained for option NORTH_Hour_20\n",
      "Classifier trained for option NORTH_Hour_21\n",
      "Classifier trained for option NORTH_Hour_22\n",
      "Classifier trained for option NORTH_Hour_23\n",
      "Classifier trained for option WEST_Hour_0\n",
      "Classifier trained for option WEST_Hour_1\n",
      "Classifier trained for option WEST_Hour_2\n",
      "Classifier trained for option WEST_Hour_3\n",
      "Classifier trained for option WEST_Hour_4\n",
      "Classifier trained for option WEST_Hour_5\n",
      "Classifier trained for option WEST_Hour_6\n",
      "Classifier trained for option WEST_Hour_7\n",
      "Classifier trained for option WEST_Hour_8\n",
      "Classifier trained for option WEST_Hour_9\n",
      "Classifier trained for option WEST_Hour_10\n",
      "Classifier trained for option WEST_Hour_11\n",
      "Classifier trained for option WEST_Hour_12\n",
      "Classifier trained for option WEST_Hour_13\n",
      "Classifier trained for option WEST_Hour_14\n",
      "Classifier trained for option WEST_Hour_15\n",
      "Classifier trained for option WEST_Hour_16\n",
      "Classifier trained for option WEST_Hour_17\n",
      "Classifier trained for option WEST_Hour_18\n",
      "Classifier trained for option WEST_Hour_19\n",
      "Classifier trained for option WEST_Hour_20\n",
      "Classifier trained for option WEST_Hour_21\n",
      "Classifier trained for option WEST_Hour_22\n",
      "Classifier trained for option WEST_Hour_23\n",
      "\n",
      "Overall training accuracy = 100.00 percent.\n"
     ]
    }
   ],
   "source": [
    "classifiers = []\n",
    "\n",
    "# We have two options here. Use previous training experience, or learn anew.\n",
    "useSavedClassifiers = False\n",
    "\n",
    "if not useSavedClassifiers:\n",
    "\n",
    "    print(\"Starting training module...\\n\")\n",
    "    trainPriceDA, trainPriceDART, trainLoadDA = loadNYISOData(2015)\n",
    "\n",
    "    numberOfDays =  int(len(trainPriceDA.index))\n",
    "    print(\"Loaded hourly prices from 2015 for %d days.\" % numberOfDays)\n",
    "\n",
    "    # We will implement a trading strategy, where we bid a particular quantile of the past\n",
    "    # DA prices for an option. If you do not know what a quantile means, refer to the Wikipedia\n",
    "    # article on it. Essentially, a 95% quantile of the DA prices equals that value for which\n",
    "    # 95% of the DA prices are below it. Store all quantiles starting from 50% in steps of\n",
    "    # 5% in a dictionary. Store them in a pickle file.\n",
    "\n",
    "    quantilesToStore = [0.70, 0.75, 0.80, 0.85, 0.90, 0.95]\n",
    "    offerPrices = trainPriceDA.quantile(q=quantilesToStore).transpose().to_dict()\n",
    "    pickle.dump(offerPrices, open(\"./Training/OfferPrices\", 'wb'))\n",
    "\n",
    "    # Calculate the average price spread for each option over the entire year. This will guide\n",
    "    # us in choosing our portfolio. Store it as a dictionary. Our bid will choose those\n",
    "    # options that our classifier indicates that they will be profitable and historically they\n",
    "    # have higher average price differences, indicating that they have higher rate of return.\n",
    "    # Store them using pickle.\n",
    "\n",
    "    averagePriceSpread = trainPriceDART.mean(axis=0).transpose().to_dict()\n",
    "    pickle.dump(averagePriceSpread, open(\"./Training/AveragePriceSpread\", 'wb'))\n",
    "\n",
    "    # Create the training dataset using the function 'createClassifierIO' on the prices and\n",
    "    # loads, and store them in 'trainX', and 'trainY'.\n",
    "\n",
    "    trainX, trainY, _ = createClassifierIO(trainPriceDA, trainPriceDART, trainLoadDA)\n",
    "\n",
    "    # Define a collection of classifiers, one for each option. You can try different options, such\n",
    "    # as that based on an SVM, logistic regression, multilayer perceptron based, etc. We will\n",
    "    # measure training accuracy to indicate how well the classifier works on the training dataset.\n",
    "    # However, good training accuracy does not always indicate good test performance.\n",
    "    # Avoid over-fitting.\n",
    "\n",
    "\n",
    "    classifiers = [SVC(C=100, gamma=1, kernel='linear', max_iter=100000, tol=1)\n",
    "                   for _ in range(nOptions)]\n",
    "\n",
    "    trainingAccuracy = 0\n",
    "\n",
    "    for ii in range(nOptions):\n",
    "        classifiers[ii].fit(trainX, trainY[:, ii])\n",
    "        print(\"Classifier trained for option \" + optionNames[ii])\n",
    "        trainingAccuracy += classifiers[ii].score(trainX, trainY[:, ii])\n",
    "\n",
    "        # Store the classifier.\n",
    "        pickle.dump(classifiers[ii], open(\"./Training/Classifier_\" + optionNames[ii], 'wb'))\n",
    "\n",
    "    print(\"\\nOverall training accuracy = %1.2f percent.\" % (100 * trainingAccuracy/nOptions))\n",
    "\n",
    "    del numberOfDays, trainPriceDA, trainLoadDA, trainPriceDART, trainX, trainY\n",
    "else:\n",
    "\n",
    "    # Load the classifiers, the offer prices at various quantiles, and the average price spreads.\n",
    "\n",
    "    print(\"Loading previously trained variables...\\n\")\n",
    "    classifiers = [pickle.load(open(\"./Training/Classifier_\" + optionNames[ii], 'rb'))\n",
    "                   for ii in range(nOptions)]\n",
    "    offerPrices = pickle.load(open(\"./Training/OfferPrices\", 'rb'))\n",
    "    averagePriceSpread = pickle.load(open(\"./Training/AveragePriceSpread\", 'rb'))\n",
    "\n",
    "    print(\"All training variables were loaded successfully...\\n\")"
   ]
  },
  {
   "cell_type": "code",
   "execution_count": 68,
   "metadata": {},
   "outputs": [
    {
     "name": "stdout",
     "output_type": "stream",
     "text": [
      "Starting the testing module...\n",
      "\n",
      "Test Accuracy Stats: Min = 45.18%, Avg = 55.96%, Max = 63.91%\n"
     ]
    }
   ],
   "source": [
    "# First, load the test data from NYISO for the year 2016. Again, utilize our function\n",
    "# named 'loadNYISOData'.\n",
    "\n",
    "print(\"Starting the testing module...\\n\")\n",
    "testPriceDA, testPriceDART, testLoadDA = loadNYISOData(2016)\n",
    "\n",
    "# Create the data for the classifier using the function 'createClassifierIO'.\n",
    "testX, testY, rangeOfDays = createClassifierIO(testPriceDA, testPriceDART, testLoadDA)\n",
    "\n",
    "# The next step is not useful for implementing the trading strategy, but quickly check how accurate\n",
    "# your trained classifiers are for the test data. Training accuracy is not always indicative of\n",
    "# test accuracy.\n",
    "\n",
    "testingAccuracy = [classifiers[ii].score(testX, testY[:, ii]) for ii in range(nOptions)]\n",
    "print(\"Test Accuracy Stats: Min = %.2f%%, Avg = %.2f%%, Max = %.2f%%\" %\n",
    "      (100 * np.min(testingAccuracy),\n",
    "       100 * np.mean(testingAccuracy),\n",
    "       100 * np.max(testingAccuracy)))\n",
    "\n",
    "# Utilize the classifiers to predict the sign of DA - RT prices for each day in 'rangeOfDays' for\n",
    "# the test data. Store the result in a pandas data frame with columns as the option names and the\n",
    "# day in year as index.\n",
    "predictedY = pd.DataFrame(np.column_stack([classifiers[ii].predict(testX) for ii in range(nOptions)]),\n",
    "                          columns=optionNames, index=rangeOfDays)\n"
   ]
  },
  {
   "cell_type": "code",
   "execution_count": 69,
   "metadata": {},
   "outputs": [],
   "source": [
    "#SETTING ALL OTHER ASSETS TO NOT SELL\n",
    "lm=np.zeros(363)\n",
    "predictedY['CAPITL_Hour_0']=lm\n",
    "predictedY['CAPITL_Hour_1']=lm\n",
    "predictedY['CAPITL_Hour_2']=lm\n",
    "predictedY['CAPITL_Hour_3']=lm\n",
    "predictedY['CAPITL_Hour_4']=lm\n",
    "predictedY['CAPITL_Hour_5']=lm\n",
    "predictedY['CAPITL_Hour_6']=lm\n",
    "predictedY['CAPITL_Hour_7']=lm\n",
    "predictedY['CAPITL_Hour_8']=lm\n",
    "predictedY['CAPITL_Hour_9']=lm\n",
    "predictedY['CAPITL_Hour_10']=lm\n",
    "predictedY['CAPITL_Hour_11']=lm\n",
    "predictedY['CAPITL_Hour_12']=lm\n",
    "predictedY['CAPITL_Hour_13']=lm\n",
    "predictedY['CAPITL_Hour_14']=lm\n",
    "predictedY['CAPITL_Hour_15']=lm\n",
    "predictedY['CAPITL_Hour_16']=lm\n",
    "predictedY['CAPITL_Hour_17']=lm\n",
    "predictedY['CAPITL_Hour_18']=lm\n",
    "predictedY['CAPITL_Hour_19']=lm\n",
    "predictedY['CAPITL_Hour_20']=lm\n",
    "predictedY['CAPITL_Hour_21']=lm\n",
    "predictedY['CAPITL_Hour_22']=lm\n",
    "predictedY['CAPITL_Hour_23']=lm\n",
    "predictedY['CENTRL_Hour_0']=lm\n",
    "predictedY['CENTRL_Hour_1']=lm\n",
    "predictedY['CENTRL_Hour_2']=lm\n",
    "predictedY['CENTRL_Hour_3']=lm\n",
    "predictedY['CENTRL_Hour_4']=lm\n",
    "predictedY['CENTRL_Hour_5']=lm\n",
    "predictedY['CENTRL_Hour_6']=lm\n",
    "predictedY['CENTRL_Hour_7']=lm\n",
    "predictedY['CENTRL_Hour_8']=lm\n",
    "predictedY['CENTRL_Hour_9']=lm\n",
    "predictedY['CENTRL_Hour_10']=lm\n",
    "predictedY['CENTRL_Hour_11']=lm\n",
    "predictedY['CENTRL_Hour_12']=lm\n",
    "predictedY['CENTRL_Hour_13']=lm\n",
    "predictedY['CENTRL_Hour_14']=lm\n",
    "predictedY['CENTRL_Hour_15']=lm\n",
    "predictedY['CENTRL_Hour_16']=lm\n",
    "predictedY['CENTRL_Hour_17']=lm\n",
    "predictedY['CENTRL_Hour_18']=lm\n",
    "predictedY['CENTRL_Hour_19']=lm\n",
    "predictedY['CENTRL_Hour_20']=lm\n",
    "predictedY['CENTRL_Hour_21']=lm\n",
    "predictedY['CENTRL_Hour_22']=lm\n",
    "predictedY['CENTRL_Hour_23']=lm\n",
    "predictedY['DUNWOD_Hour_0']=lm\n",
    "predictedY['DUNWOD_Hour_1']=lm\n",
    "predictedY['DUNWOD_Hour_2']=lm\n",
    "predictedY['DUNWOD_Hour_3']=lm\n",
    "predictedY['DUNWOD_Hour_4']=lm\n",
    "predictedY['DUNWOD_Hour_5']=lm\n",
    "predictedY['DUNWOD_Hour_6']=lm\n",
    "predictedY['DUNWOD_Hour_7']=lm\n",
    "predictedY['DUNWOD_Hour_8']=lm\n",
    "predictedY['DUNWOD_Hour_9']=lm\n",
    "predictedY['DUNWOD_Hour_10']=lm\n",
    "predictedY['DUNWOD_Hour_11']=lm\n",
    "predictedY['DUNWOD_Hour_12']=lm\n",
    "predictedY['DUNWOD_Hour_13']=lm\n",
    "predictedY['DUNWOD_Hour_14']=lm\n",
    "predictedY['DUNWOD_Hour_15']=lm\n",
    "predictedY['DUNWODL_Hour_16']=lm\n",
    "predictedY['DUNWOD_Hour_17']=lm\n",
    "predictedY['DUNWOD_Hour_18']=lm\n",
    "predictedY['DUNWOD_Hour_19']=lm\n",
    "predictedY['DUNWOD_Hour_20']=lm\n",
    "predictedY['DUNWOD_Hour_21']=lm\n",
    "predictedY['DUNWOD_Hour_22']=lm\n",
    "predictedY['DUNWOD_Hour_23']=lm\n",
    "predictedY['GENESE_Hour_0']=lm\n",
    "predictedY['GENESE_Hour_1']=lm\n",
    "predictedY['GENESE_Hour_2']=lm\n",
    "predictedY['GENESE_Hour_3']=lm\n",
    "predictedY['GENESE_Hour_4']=lm\n",
    "predictedY['GENESE_Hour_5']=lm\n",
    "predictedY['GENESE_Hour_6']=lm\n",
    "predictedY['GENESE_Hour_7']=lm\n",
    "predictedY['GENESE_Hour_8']=lm\n",
    "predictedY['GENESE_Hour_9']=lm\n",
    "predictedY['GENESE_Hour_10']=lm\n",
    "predictedY['GENESE_Hour_11']=lm\n",
    "predictedY['GENESE_Hour_12']=lm\n",
    "predictedY['GENESE_Hour_13']=lm\n",
    "predictedY['GENESE_Hour_14']=lm\n",
    "predictedY['GENESE_Hour_15']=lm\n",
    "predictedY['GENESE_Hour_16']=lm\n",
    "predictedY['GENESE_Hour_17']=lm\n",
    "predictedY['GENESE_Hour_18']=lm\n",
    "predictedY['GENESE_Hour_19']=lm\n",
    "predictedY['GENESE_Hour_20']=lm\n",
    "predictedY['GENESE_Hour_21']=lm\n",
    "predictedY['GENESE_Hour_22']=lm\n",
    "predictedY['GENESE_Hour_23']=lm\n",
    "predictedY['HUD VL_Hour_0']=lm\n",
    "predictedY['HUD VL_Hour_1']=lm\n",
    "predictedY['HUD VL_Hour_2']=lm\n",
    "predictedY['HUD VL_Hour_3']=lm\n",
    "predictedY['HUD VL_Hour_4']=lm\n",
    "predictedY['HUD VL_Hour_5']=lm\n",
    "predictedY['HUD VL_Hour_6']=lm\n",
    "predictedY['HUD VL_Hour_7']=lm\n",
    "predictedY['HUD VL_Hour_8']=lm\n",
    "predictedY['HUD VL_Hour_9']=lm\n",
    "predictedY['HUD VL_Hour_10']=lm\n",
    "predictedY['HUD VL_Hour_11']=lm\n",
    "predictedY['HUD VL_Hour_12']=lm\n",
    "predictedY['HUD VL_Hour_13']=lm\n",
    "predictedY['HUD VL_Hour_14']=lm\n",
    "predictedY['HUD VL_Hour_15']=lm\n",
    "predictedY['HUD VL_Hour_16']=lm\n",
    "predictedY['HUD VL_Hour_17']=lm\n",
    "predictedY['HUD VL_Hour_18']=lm\n",
    "predictedY['HUD VL_Hour_19']=lm\n",
    "predictedY['HUD VL_Hour_20']=lm\n",
    "predictedY['HUD VL_Hour_21']=lm\n",
    "predictedY['HUD VL_Hour_22']=lm\n",
    "predictedY['HUD VL_Hour_23']=lm\n",
    "\n",
    "\n",
    "predictedY['LONGIL_Hour_1']=lm\n",
    "predictedY['LONGIL_Hour_2']=lm\n",
    "predictedY['LONGIL_Hour_3']=lm\n",
    "predictedY['LONGIL_Hour_4']=lm\n",
    "predictedY['LONGIL_Hour_5']=lm\n",
    "predictedY['LONGIL_Hour_6']=lm\n",
    "predictedY['LONGIL_Hour_7']=lm\n",
    "predictedY['LONGIL_Hour_8']=lm\n",
    "predictedY['LONGIL_Hour_9']=lm\n",
    "predictedY['LONGIL_Hour_10']=lm\n",
    "\n",
    "predictedY['LONGIL_Hour_12']=lm\n",
    "predictedY['LONGIL_Hour_13']=lm\n",
    "predictedY['LONGIL_Hour_14']=lm\n",
    "predictedY['LONGIL_Hour_15']=lm\n",
    "predictedY['LONGIL_Hour_16']=lm\n",
    "predictedY['LONGIL_Hour_17']=lm\n",
    "predictedY['LONGIL_Hour_18']=lm\n",
    "predictedY['LONGIL_Hour_19']=lm\n",
    "predictedY['LONGIL_Hour_20']=lm\n",
    "predictedY['LONGIL_Hour_21']=lm\n",
    "predictedY['LONGIL_Hour_22']=lm\n",
    "predictedY['LONGIL_Hour_23']=lm\n",
    "\n",
    "predictedY['MHK VL_Hour_0']=lm\n",
    "predictedY['MHK VL_Hour_1']=lm\n",
    "predictedY['MHK VL_Hour_2']=lm\n",
    "predictedY['MHK VL_Hour_3']=lm\n",
    "predictedY['MHK VL_Hour_4']=lm\n",
    "predictedY['MHK VL_Hour_5']=lm\n",
    "predictedY['MHK VL_Hour_6']=lm\n",
    "predictedY['MHK VL_Hour_7']=lm\n",
    "predictedY['MHK VL_Hour_8']=lm\n",
    "predictedY['MHK VL_Hour_9']=lm\n",
    "predictedY['MHK VL_Hour_10']=lm\n",
    "predictedY['MHK VL_Hour_11']=lm\n",
    "predictedY['MHK VL_Hour_12']=lm\n",
    "predictedY['MHK VL_Hour_13']=lm\n",
    "predictedY['MHK VL_Hour_14']=lm\n",
    "predictedY['MHK VL_Hour_15']=lm\n",
    "predictedY['MHK VL_Hour_16']=lm\n",
    "predictedY['MHK VL_Hour_17']=lm\n",
    "predictedY['MHK VL_Hour_18']=lm\n",
    "predictedY['MHK VL_Hour_19']=lm\n",
    "predictedY['MHK VL_Hour_20']=lm\n",
    "predictedY['MHK VL_Hour_21']=lm\n",
    "predictedY['MHK VL_Hour_22']=lm\n",
    "predictedY['MHK VL_Hour_23']=lm\n",
    "predictedY['MILLWD_Hour_0']=lm\n",
    "predictedY['MILLWD_Hour_1']=lm\n",
    "predictedY['MILLWD_Hour_2']=lm\n",
    "predictedY['MILLWD_Hour_3']=lm\n",
    "predictedY['MILLWD_Hour_4']=lm\n",
    "predictedY['MILLWD_Hour_5']=lm\n",
    "predictedY['MILLWD_Hour_6']=lm\n",
    "\n",
    "predictedY['MILLWD_Hour_8']=lm\n",
    "predictedY['MILLWD_Hour_9']=lm\n",
    "predictedY['MILLWD_Hour_10']=lm\n",
    "predictedY['MILLWD_Hour_11']=lm\n",
    "predictedY['MILLWD_Hour_12']=lm\n",
    "predictedY['MILLWD_Hour_13']=lm\n",
    "predictedY['MILLWD_Hour_14']=lm\n",
    "predictedY['MILLWD_Hour_15']=lm\n",
    "predictedY['MILLWD_Hour_16']=lm\n",
    "predictedY['MILLWD_Hour_17']=lm\n",
    "predictedY['MILLWD_Hour_18']=lm\n",
    "predictedY['MILLWD_Hour_19']=lm\n",
    "predictedY['MILLWD_Hour_20']=lm\n",
    "predictedY['MILLWD_Hour_21']=lm\n",
    "predictedY['MILLWD_Hour_22']=lm\n",
    "predictedY['MILLWD_Hour_23']=lm\n",
    "predictedY['N.Y.C._Hour_0']=lm\n",
    "predictedY['N.Y.C._Hour_1']=lm\n",
    "predictedY['N.Y.C._Hour_2']=lm\n",
    "predictedY['N.Y.C._Hour_3']=lm\n",
    "predictedY['N.Y.C._Hour_4']=lm\n",
    "predictedY['N.Y.C._Hour_5']=lm\n",
    "predictedY['N.Y.C._Hour_6']=lm\n",
    "predictedY['N.Y.C._Hour_7']=lm\n",
    "predictedY['N.Y.C._Hour_8']=lm\n",
    "predictedY['N.Y.C._Hour_9']=lm\n",
    "predictedY['N.Y.C._Hour_10']=lm\n",
    "predictedY['N.Y.C._Hour_11']=lm\n",
    "predictedY['N.Y.C._Hour_12']=lm\n",
    "predictedY['N.Y.C._Hour_13']=lm\n",
    "predictedY['N.Y.C._Hour_14']=lm\n",
    "predictedY['N.Y.C._Hour_15']=lm\n",
    "predictedY['N.Y.C._Hour_16']=lm\n",
    "predictedY['N.Y.C._Hour_17']=lm\n",
    "predictedY['N.Y.C._Hour_18']=lm\n",
    "predictedY['N.Y.C._Hour_19']=lm\n",
    "predictedY['N.Y.C._Hour_20']=lm\n",
    "predictedY['N.Y.C._Hour_21']=lm\n",
    "predictedY['N.Y.C._Hour_22']=lm\n",
    "predictedY['N.Y.C._Hour_23']=lm\n",
    "predictedY['NORTH_Hour_0']=lm\n",
    "predictedY['NORTH_Hour_1']=lm\n",
    "predictedY['NORTH_Hour_2']=lm\n",
    "predictedY['NORTH_Hour_3']=lm\n",
    "predictedY['NORTH_Hour_4']=lm\n",
    "predictedY['NORTH_Hour_5']=lm\n",
    "predictedY['NORTH_Hour_6']=lm\n",
    "predictedY['NORTH_Hour_7']=lm\n",
    "predictedY['NORTH_Hour_8']=lm\n",
    "predictedY['NORTH_Hour_9']=lm\n",
    "predictedY['NORTH_Hour_10']=lm\n",
    "predictedY['NORTH_Hour_11']=lm\n",
    "predictedY['NORTH_Hour_12']=lm\n",
    "predictedY['NORTH_Hour_13']=lm\n",
    "predictedY['NORTH_Hour_14']=lm\n",
    "predictedY['NORTH_Hour_15']=lm\n",
    "predictedY['NORTH_Hour_16']=lm\n",
    "predictedY['NORTH_Hour_17']=lm\n",
    "predictedY['NORTH_Hour_18']=lm\n",
    "predictedY['NORTH_Hour_19']=lm\n",
    "predictedY['NORTH_Hour_20']=lm\n",
    "predictedY['NORTH_Hour_21']=lm\n",
    "predictedY['NORTH_Hour_22']=lm\n",
    "predictedY['NORTH_Hour_23']=lm\n",
    "predictedY['WEST_Hour_0']=lm\n",
    "predictedY['WEST_Hour_1']=lm\n",
    "predictedY['WEST_Hour_2']=lm\n",
    "predictedY['WEST_Hour_3']=lm\n",
    "predictedY['WEST_Hour_4']=lm\n",
    "predictedY['WEST_Hour_5']=lm\n",
    "predictedY['WEST_Hour_6']=lm\n",
    "predictedY['WEST_Hour_7']=lm\n",
    "predictedY['WEST_Hour_8']=lm\n",
    "predictedY['WEST_Hour_9']=lm\n",
    "predictedY['WEST_Hour_10']=lm\n",
    "predictedY['WEST_Hour_11']=lm\n",
    "predictedY['WEST_Hour_12']=lm\n",
    "predictedY['WEST_Hour_13']=lm\n",
    "predictedY['WEST_Hour_14']=lm\n",
    "predictedY['WEST_Hour_15']=lm\n",
    "predictedY['WEST_Hour_16']=lm\n",
    "predictedY['WEST_Hour_17']=lm\n",
    "predictedY['WEST_Hour_18']=lm\n",
    "predictedY['WEST_Hour_19']=lm\n",
    "predictedY['WEST_Hour_20']=lm\n",
    "predictedY['WEST_Hour_21']=lm\n",
    "predictedY['WEST_Hour_22']=lm\n",
    "predictedY['WEST_Hour_23']=lm\n",
    "\n",
    "\n"
   ]
  },
  {
   "cell_type": "code",
   "execution_count": 70,
   "metadata": {},
   "outputs": [
    {
     "name": "stdout",
     "output_type": "stream",
     "text": [
      "Day 3: Reward (in $) = -105,444\n",
      "Day 5: Reward (in $) = 80,380\n",
      "Day 6: Reward (in $) = -96,099\n",
      "Day 7: Reward (in $) = -40,215\n",
      "Day 8: Reward (in $) = -36,582\n",
      "Day 9: Reward (in $) = -43,679\n",
      "Day 10: Reward (in $) = -135,846\n",
      "Day 11: Reward (in $) = -96,697\n",
      "Day 13: Reward (in $) = -60,234\n",
      "Day 14: Reward (in $) = 86,320\n",
      "Day 15: Reward (in $) = -5,592\n",
      "Day 16: Reward (in $) = 15,805\n",
      "Day 17: Reward (in $) = -101,109\n",
      "Day 18: Reward (in $) = -37,384\n",
      "Day 19: Reward (in $) = 46,189\n",
      "Day 20: Reward (in $) = 145,813\n",
      "Day 21: Reward (in $) = 65,876\n",
      "Day 22: Reward (in $) = 282,890\n",
      "Day 23: Reward (in $) = 28,035\n",
      "Day 25: Reward (in $) = -102,967\n",
      "Day 26: Reward (in $) = -19,118\n",
      "Day 29: Reward (in $) = -31,862\n",
      "Day 30: Reward (in $) = -26,791\n",
      "Day 31: Reward (in $) = -50,381\n",
      "Day 32: Reward (in $) = -8,736\n",
      "Day 33: Reward (in $) = -109,058\n",
      "Day 34: Reward (in $) = 2,810\n",
      "Day 35: Reward (in $) = 84,129\n",
      "Day 36: Reward (in $) = -37,002\n",
      "Day 37: Reward (in $) = -9,303\n",
      "Day 38: Reward (in $) = 34,986\n",
      "Day 39: Reward (in $) = 24,616\n",
      "Day 40: Reward (in $) = 16,766\n",
      "Day 41: Reward (in $) = -67,260\n",
      "Day 42: Reward (in $) = -21,553\n",
      "Day 43: Reward (in $) = 25,723\n",
      "Day 44: Reward (in $) = -44,933\n",
      "Day 45: Reward (in $) = 18,856\n",
      "Day 46: Reward (in $) = 119,594\n",
      "Day 47: Reward (in $) = -25,088\n",
      "Day 48: Reward (in $) = -87,595\n",
      "Day 49: Reward (in $) = -73,772\n",
      "Day 50: Reward (in $) = -49,217\n",
      "Day 51: Reward (in $) = 955\n",
      "Day 52: Reward (in $) = -30,108\n",
      "Day 53: Reward (in $) = -29,780\n",
      "Day 54: Reward (in $) = 89,348\n",
      "Day 55: Reward (in $) = -21,051\n",
      "Day 56: Reward (in $) = -45,961\n",
      "Day 57: Reward (in $) = -32,991\n",
      "Day 58: Reward (in $) = -52,138\n",
      "Day 59: Reward (in $) = -8,533\n",
      "Day 61: Reward (in $) = -106,684\n",
      "Day 62: Reward (in $) = -65,274\n",
      "Day 63: Reward (in $) = -9,666\n",
      "Day 64: Reward (in $) = -78,553\n",
      "Day 65: Reward (in $) = 34,914\n",
      "Day 66: Reward (in $) = 101,699\n",
      "Day 67: Reward (in $) = -34,510\n",
      "Day 69: Reward (in $) = -57,546\n",
      "Day 70: Reward (in $) = 187,544\n",
      "Day 71: Reward (in $) = -5,531\n",
      "Day 72: Reward (in $) = -23,640\n",
      "Day 73: Reward (in $) = -17,238\n",
      "Day 74: Reward (in $) = 1,189,105\n",
      "Day 76: Reward (in $) = -110,008\n",
      "Day 77: Reward (in $) = -44,566\n",
      "Day 78: Reward (in $) = -14,387\n",
      "Day 79: Reward (in $) = 66,606\n",
      "Day 80: Reward (in $) = -89,667\n",
      "Day 81: Reward (in $) = 160,350\n",
      "Day 82: Reward (in $) = 54,426\n",
      "Day 83: Reward (in $) = 21,588\n",
      "Day 84: Reward (in $) = -28,990\n",
      "Day 85: Reward (in $) = 96,501\n",
      "Day 86: Reward (in $) = -51,215\n",
      "Day 87: Reward (in $) = 3,507,686\n",
      "Day 88: Reward (in $) = 848,693\n",
      "Day 89: Reward (in $) = -292,275\n",
      "Day 90: Reward (in $) = -1,930\n",
      "Day 91: Reward (in $) = -150,785\n",
      "Day 92: Reward (in $) = -82,091\n",
      "Day 93: Reward (in $) = -19,965\n",
      "Day 94: Reward (in $) = 190\n",
      "Day 95: Reward (in $) = -35,404\n",
      "Day 96: Reward (in $) = 369,906\n",
      "Day 97: Reward (in $) = 742\n",
      "Day 98: Reward (in $) = 0\n",
      "Day 99: Reward (in $) = -12,130\n",
      "Day 102: Reward (in $) = -86,204\n",
      "Day 103: Reward (in $) = 0\n",
      "Day 104: Reward (in $) = 34,381\n",
      "Day 105: Reward (in $) = -38,090\n",
      "Day 106: Reward (in $) = -48,715\n",
      "Day 107: Reward (in $) = -37,340\n",
      "Day 108: Reward (in $) = 0\n",
      "Day 109: Reward (in $) = 0\n",
      "Day 111: Reward (in $) = -47,882\n",
      "Day 112: Reward (in $) = 346,614\n",
      "Day 113: Reward (in $) = -33,654\n",
      "Day 114: Reward (in $) = -62,198\n",
      "Day 115: Reward (in $) = -138,252\n",
      "Day 116: Reward (in $) = 0\n",
      "Day 117: Reward (in $) = 0\n",
      "Day 118: Reward (in $) = 18,771\n",
      "Day 119: Reward (in $) = -61,851\n",
      "Day 120: Reward (in $) = 3,726\n",
      "Day 121: Reward (in $) = 17,281\n",
      "Day 122: Reward (in $) = 0\n",
      "Day 123: Reward (in $) = 44\n",
      "Day 124: Reward (in $) = -71,711\n",
      "Day 125: Reward (in $) = -23,492\n",
      "Day 126: Reward (in $) = -117,733\n",
      "Day 127: Reward (in $) = -50,716\n",
      "Day 128: Reward (in $) = -65,634\n",
      "Day 130: Reward (in $) = -68,441\n",
      "Day 131: Reward (in $) = 15,574\n",
      "Day 132: Reward (in $) = 40,456\n",
      "Day 133: Reward (in $) = -123,486\n",
      "Day 134: Reward (in $) = -66,500\n",
      "Day 135: Reward (in $) = -49,001\n",
      "Day 136: Reward (in $) = -43,999\n",
      "Day 137: Reward (in $) = -57,237\n",
      "Day 138: Reward (in $) = -107,709\n",
      "Day 139: Reward (in $) = -11,126\n",
      "Day 140: Reward (in $) = -36,826\n",
      "Day 141: Reward (in $) = 32,167\n",
      "Day 142: Reward (in $) = 28,198\n",
      "Day 143: Reward (in $) = 2,037,008\n",
      "Day 144: Reward (in $) = -175,657\n",
      "Day 145: Reward (in $) = -71,717\n",
      "Day 146: Reward (in $) = -532\n",
      "Day 147: Reward (in $) = -82,339\n",
      "Day 148: Reward (in $) = -15,360\n",
      "Day 149: Reward (in $) = 126,992\n",
      "Day 151: Reward (in $) = 2,560,460\n",
      "Day 152: Reward (in $) = 980,371\n",
      "Day 155: Reward (in $) = -90,053\n",
      "Day 158: Reward (in $) = -83,738\n",
      "Day 161: Reward (in $) = -93,242\n",
      "Day 162: Reward (in $) = 1,599,777\n",
      "Day 163: Reward (in $) = -37,131\n",
      "Day 164: Reward (in $) = -20,228\n",
      "Day 165: Reward (in $) = 324,686\n",
      "Day 166: Reward (in $) = 0\n",
      "Day 167: Reward (in $) = 0\n",
      "Day 168: Reward (in $) = -13,490\n",
      "Day 170: Reward (in $) = -1,731\n",
      "Day 171: Reward (in $) = 0\n",
      "Day 172: Reward (in $) = 0\n",
      "Day 173: Reward (in $) = -79,444\n",
      "Day 174: Reward (in $) = 359\n",
      "Day 175: Reward (in $) = 424\n",
      "Day 176: Reward (in $) = -32,706\n",
      "Day 177: Reward (in $) = 0\n",
      "Day 180: Reward (in $) = -22,151\n",
      "Day 181: Reward (in $) = -11,095\n",
      "Day 183: Reward (in $) = -93,102\n",
      "Day 184: Reward (in $) = -97,735\n",
      "Day 185: Reward (in $) = -57,886\n",
      "Day 186: Reward (in $) = 0\n",
      "Day 187: Reward (in $) = 255\n",
      "Day 188: Reward (in $) = 0\n",
      "Day 189: Reward (in $) = 0\n",
      "Day 192: Reward (in $) = 0\n",
      "Day 193: Reward (in $) = 0\n",
      "Day 195: Reward (in $) = 274\n",
      "Day 196: Reward (in $) = 341\n",
      "Day 201: Reward (in $) = -56\n",
      "Day 202: Reward (in $) = 0\n",
      "Day 203: Reward (in $) = 2\n",
      "Day 204: Reward (in $) = 0\n",
      "Day 206: Reward (in $) = -60,683\n",
      "Day 207: Reward (in $) = 0\n",
      "Day 209: Reward (in $) = 0\n",
      "Day 213: Reward (in $) = 0\n",
      "Day 216: Reward (in $) = -94\n",
      "Day 217: Reward (in $) = 0\n",
      "Day 219: Reward (in $) = -39,065\n",
      "Day 220: Reward (in $) = 317\n",
      "Day 221: Reward (in $) = 0\n",
      "Day 223: Reward (in $) = 0\n",
      "Day 224: Reward (in $) = 0\n",
      "Day 225: Reward (in $) = 0\n",
      "Day 226: Reward (in $) = 0\n",
      "Day 227: Reward (in $) = 0\n",
      "Day 229: Reward (in $) = -10,168\n",
      "Day 230: Reward (in $) = -216\n",
      "Day 231: Reward (in $) = 0\n",
      "Day 232: Reward (in $) = -96,372\n",
      "Day 233: Reward (in $) = 39,049\n",
      "Day 234: Reward (in $) = -91,214\n",
      "Day 235: Reward (in $) = 0\n",
      "Day 238: Reward (in $) = 0\n",
      "Day 239: Reward (in $) = -41,532\n",
      "Day 241: Reward (in $) = 0\n",
      "Day 243: Reward (in $) = 0\n",
      "Day 244: Reward (in $) = -82,221\n",
      "Day 245: Reward (in $) = -90,370\n",
      "Day 246: Reward (in $) = -45,691\n",
      "Day 248: Reward (in $) = -24,811\n",
      "Day 249: Reward (in $) = 0\n",
      "Day 250: Reward (in $) = -27\n",
      "Day 251: Reward (in $) = 19,146\n",
      "Day 252: Reward (in $) = 0\n",
      "Day 253: Reward (in $) = 54,077\n",
      "Day 254: Reward (in $) = -28,447\n",
      "Day 255: Reward (in $) = -109,331\n",
      "Day 256: Reward (in $) = 121\n",
      "Day 257: Reward (in $) = 4,515,670\n",
      "Day 258: Reward (in $) = -46,867\n",
      "Day 260: Reward (in $) = -38,635\n",
      "Day 261: Reward (in $) = 122,033\n",
      "Day 262: Reward (in $) = -32,668\n",
      "Day 263: Reward (in $) = -69,011\n",
      "Day 264: Reward (in $) = -13,428\n",
      "Total money earned over the year (in $) = 14,203,445\n"
     ]
    }
   ],
   "source": [
    "dailyBudget = 250000\n",
    "quantileOffer =0.75\n",
    "\n",
    "# Keep track of your rewards in each day, a cumulative reward over the year, and a total reward over the\n",
    "# year. Also, keep track of the total reward from each option. Store them as dictionaries that are\n",
    "# indexed by day of the year.\n",
    "reward = {}\n",
    "cumulativeReward = {}\n",
    "totalReward = 0\n",
    "optionReturn = dict((option, 0) for option in optionNames)\n",
    "\n",
    "# Implement the trading strategy on each day!\n",
    "\n",
    "numdays=np.arange(265,366)\n",
    "for day in rangeOfDays:\n",
    "    if day not in numdays:\n",
    "        reward[day] = 0\n",
    "\n",
    "        # Find the options that your classifier says that should be profitable. Store the profitable option\n",
    "        # names in chosenOptions.\n",
    "        chosenOptionNumbers = np.ravel(list(np.nonzero(predictedY.loc[day].values)))\n",
    "        if np.size(chosenOptionNumbers) == 0:\n",
    "            continue\n",
    "        chosenOptions = [optionNames[i] for i in chosenOptionNumbers]\n",
    "\n",
    "        # Design the portfolio based on average price spreads. Our strategy is that as long as you have not\n",
    "        # exceeded your daily budget, pick an option from the list of 'chosenOptions' probabilistically, where\n",
    "        # the probability of choosing it is proportional to exponential(historical rewards of that option). That\n",
    "        # is, a historically profitable option is chosen more often than one that is not. Keep sampling and\n",
    "        # decreasing your budget with each bid.\n",
    "\n",
    "        # Start with an empty portfolio.\n",
    "\n",
    "        portfolio = dict((option, 0) for option in chosenOptions)\n",
    "\n",
    "        # Calculate the probabilities of choosing each option among the list 'chosenOptions'. Recall that\n",
    "        # 'chosenOptions' contains the options that your classifier indicates as being profitable.\n",
    "        priceSpreads = [1.0 * averagePriceSpread[option] for option in chosenOptions]\n",
    "        probabilityOptions = [np.exp(p) for p in priceSpreads]\n",
    "        probabilityOptions /= np.sum(probabilityOptions)\n",
    "\n",
    "        # Start with your daily budget.\n",
    "        budget = dailyBudget\n",
    "\n",
    "        #Tweaking the probability options \n",
    "\n",
    "\n",
    "        # Sampling among the profitable options and bid based on them.\n",
    "        while budget > np.median([offerPrices[quantileOffer][option] for option in chosenOptions]):\n",
    "\n",
    "            optionToBuy = choice(chosenOptions, p=probabilityOptions)\n",
    "\n",
    "            if budget >= offerPrices[quantileOffer][optionToBuy]:\n",
    "                portfolio[optionToBuy] += 1\n",
    "                budget -= offerPrices[quantileOffer][optionToBuy]\n",
    "\n",
    "        # Compute the reward from the day. Go through each of the options you have decided to buy.\n",
    "        # If the DA price is lower than the bid price, then your bid is cleared. For each option you\n",
    "        # have bought, you get a reward equal to the DA - RT price.\n",
    "\n",
    "        for option in chosenOptions:\n",
    "            if testPriceDA.at[day, option] < offerPrices[quantileOffer][option]:\n",
    "                rewardOptionDay = testPriceDART.at[day, option] * portfolio[option]\n",
    "                optionReturn[option] += rewardOptionDay\n",
    "                reward[day] += rewardOptionDay\n",
    "\n",
    "        totalReward += reward[day]\n",
    "\n",
    "        # Calculate the cumulative reward in millions of dollars.\n",
    "        cumulativeReward[day] = totalReward/1000000\n",
    "\n",
    "        print(\"Day \" + str(day) + \": Reward (in $) = \" + \"{0:,.0f}\".format(reward[day]))\n",
    "    else:\n",
    "        continue\n",
    "print(\"Total money earned over the year (in $) = \" + \"{0:,.0f}\".format(totalReward))"
   ]
  },
  {
   "cell_type": "code",
   "execution_count": 71,
   "metadata": {},
   "outputs": [
    {
     "data": {
      "image/png": "[encoded data removed]",
      "text/plain": [
       "<Figure size 1440x720 with 3 Axes>"
      ]
     },
     "metadata": {
      "needs_background": "light"
     },
     "output_type": "display_data"
    }
   ],
   "source": [
    "# Plot the cumulative reward over the year 2016. Also, plot a heat map of the returns from\n",
    "# each option.\n",
    "\n",
    "fig, axs = plt.subplots(2, 1, tight_layout=True,figsize=(20, 10))\n",
    "axs = axs.ravel()\n",
    "\n",
    "\n",
    "## Enter code here where you plot in axs[0].\n",
    "cr=list(cumulativeReward.values())\n",
    "d=list(cumulativeReward.keys())\n",
    "\n",
    "axs[0].plot(d,cr)\n",
    "\n",
    "axs[1] = sns.heatmap(np.reshape(list(optionReturn.values()), (len(listOfZones), 24)),\n",
    "                     linewidth=0.5,\n",
    "                     cmap=\"YlGnBu\")\n",
    "axs[1].set_yticklabels(listOfZones, rotation=0)\n",
    "axs[1].set_xticklabels(range(24), rotation=90)\n",
    "axs[1].set_title('Returns on different options')\n",
    "plt.show()\n",
    "\n"
   ]
  },
  {
   "cell_type": "code",
   "execution_count": null,
   "metadata": {},
   "outputs": [],
   "source": []
  }
 ],
 "metadata": {
  "kernelspec": {
   "display_name": "Python 3",
   "language": "python",
   "name": "python3"
  },
  "language_info": {
   "codemirror_mode": {
    "name": "ipython",
    "version": 3
   },
   "file_extension": ".py",
   "mimetype": "text/x-python",
   "name": "python",
   "nbconvert_exporter": "python",
   "pygments_lexer": "ipython3",
   "version": "3.7.4"
  },
  "pycharm": {
   "stem_cell": {
    "cell_type": "raw",
    "metadata": {
     "collapsed": false
    },
    "source": []
   }
  }
 },
 "nbformat": 4,
 "nbformat_minor": 2
}
