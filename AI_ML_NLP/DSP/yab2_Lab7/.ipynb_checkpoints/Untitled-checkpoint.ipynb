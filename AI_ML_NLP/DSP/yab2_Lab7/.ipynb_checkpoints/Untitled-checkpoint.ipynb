{
 "cells": [
  {
   "cell_type": "code",
   "execution_count": 1,
   "metadata": {},
   "outputs": [],
   "source": [
    "import numpy as np"
   ]
  },
  {
   "cell_type": "code",
   "execution_count": 114,
   "metadata": {},
   "outputs": [],
   "source": [
    "def solution(T):\n",
    "    time=[]\n",
    "    newtime=[]\n",
    "    q=['?']\n",
    "    nine=['9']\n",
    "    four=['4']\n",
    "    two=['2']\n",
    "    five=['5']\n",
    "    one=['1']\n",
    "    for t in T.split():\n",
    "        for char in t:\n",
    "            time.append([char])\n",
    "    if time[4]==q:\n",
    "        time[4]=nine.copy()\n",
    "    if time[3]==q:\n",
    "        time[3]=five.copy()\n",
    "    if time[1]==q:\n",
    "        if time[0]==q:\n",
    "            time[1]==nine.copy()\n",
    "            time[0]==two.copy()\n",
    "        if time[0]!=q:\n",
    "            for x in time[0]:\n",
    "                if int(x)==2:\n",
    "                    time[1]=four.copy()\n",
    "                if int(x)<2:\n",
    "                    time[1]=nine.copy()\n",
    "          \n",
    "                \n",
    "    if time[0]==q:\n",
    "        for x in time[1]:\n",
    "            if int(x)<5:\n",
    "                time[0]=two.copy()\n",
    "            if int(x)>4:\n",
    "                time[0]=one.copy()\n",
    "        \n",
    "    return time"
   ]
  },
  {
   "cell_type": "code",
   "execution_count": 115,
   "metadata": {},
   "outputs": [
    {
     "name": "stdout",
     "output_type": "stream",
     "text": [
      "[['2'], ['4'], [':'], ['5'], ['8']]\n"
     ]
    }
   ],
   "source": [
    "A='2?:?8'\n",
    "q='?'\n",
    "b=solution(A)\n",
    "print((b))\n",
    "a=A.split()\n",
    "\n"
   ]
  },
  {
   "cell_type": "code",
   "execution_count": 113,
   "metadata": {},
   "outputs": [
    {
     "name": "stdout",
     "output_type": "stream",
     "text": [
      "[['2'], ['?'], [':'], ['?'], ['8']]\n",
      "['?']\n",
      "yes\n",
      "[['2'], ['9'], [':'], ['?'], ['8']]\n"
     ]
    }
   ],
   "source": [
    "A='2?:?8'\n",
    "q=['?']\n",
    "time=[]\n",
    "nine=['9']\n",
    "for t in A.split():\n",
    "        for char in t:\n",
    "            time.append([char])\n",
    "print(time)\n",
    "print(time[1])\n",
    "if time[1]==q:\n",
    "    print('yes')\n",
    "time[1]=nine.copy()  \n",
    "print(time)"
   ]
  },
  {
   "cell_type": "code",
   "execution_count": null,
   "metadata": {},
   "outputs": [],
   "source": []
  },
  {
   "cell_type": "code",
   "execution_count": null,
   "metadata": {},
   "outputs": [],
   "source": [
    "dict={}\n",
    "for i in range len(A):\n",
    "    a=A[i]\n",
    "    pm=a[0]\n",
    "    floor=a[1]\n",
    "    letter=a[2]\n",
    "    if dict.find(floor+letter)!=1:\n",
    "        dict[floor+letter]=0\n",
    "    else:\n",
    "        if pm='+':\n",
    "            dict[floor+letter]+=1\n",
    "\n",
    "maxim = 0\n",
    "ret=\"\"\n",
    "for key,val in dict.items():\n",
    "    if val>maxim:\n",
    "        maxim=val\n",
    "        ret=key\n",
    "return ret"
   ]
  }
 ],
 "metadata": {
  "kernelspec": {
   "display_name": "Python 3",
   "language": "python",
   "name": "python3"
  },
  "language_info": {
   "codemirror_mode": {
    "name": "ipython",
    "version": 3
   },
   "file_extension": ".py",
   "mimetype": "text/x-python",
   "name": "python",
   "nbconvert_exporter": "python",
   "pygments_lexer": "ipython3",
   "version": "3.7.4"
  }
 },
 "nbformat": 4,
 "nbformat_minor": 2
}
