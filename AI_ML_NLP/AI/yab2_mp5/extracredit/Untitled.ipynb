{
 "cells": [
  {
   "cell_type": "code",
   "execution_count": null,
   "metadata": {},
   "outputs": [],
   "source": []
  },
  {
   "cell_type": "code",
   "execution_count": null,
   "metadata": {
    "scrolled": true
   },
   "outputs": [
    {
     "name": "stdout",
     "output_type": "stream",
     "text": [
      "pygame 2.0.1 (SDL 2.0.14, Python 3.8.5)\n",
      "Hello from the pygame community. https://www.pygame.org/contribute.html\n",
      "loss is   tensor(1196.4938, grad_fn=<MseLossBackward>)\n",
      "loss is   tensor(650.5562, grad_fn=<MseLossBackward>)\n",
      "loss is   tensor(306.2759, grad_fn=<MseLossBackward>)\n",
      "loss is   tensor(217.9373, grad_fn=<MseLossBackward>)\n",
      "loss is   tensor(138.6694, grad_fn=<MseLossBackward>)\n",
      "loss is   tensor(107.2279, grad_fn=<MseLossBackward>)\n",
      "loss is   tensor(98.3483, grad_fn=<MseLossBackward>)\n",
      "loss is   tensor(4830.6235, grad_fn=<MseLossBackward>)\n"
     ]
    }
   ],
   "source": [
    "%run extracredit.py"
   ]
  },
  {
   "cell_type": "code",
   "execution_count": null,
   "metadata": {},
   "outputs": [],
   "source": [
    "%run extracredit_grade.py"
   ]
  },
  {
   "cell_type": "code",
   "execution_count": null,
   "metadata": {},
   "outputs": [],
   "source": []
  },
  {
   "cell_type": "code",
   "execution_count": null,
   "metadata": {},
   "outputs": [],
   "source": []
  },
  {
   "cell_type": "code",
   "execution_count": null,
   "metadata": {},
   "outputs": [],
   "source": []
  }
 ],
 "metadata": {
  "kernelspec": {
   "display_name": "Python 3",
   "language": "python",
   "name": "python3"
  },
  "language_info": {
   "codemirror_mode": {
    "name": "ipython",
    "version": 3
   },
   "file_extension": ".py",
   "mimetype": "text/x-python",
   "name": "python",
   "nbconvert_exporter": "python",
   "pygments_lexer": "ipython3",
   "version": "3.8.5"
  }
 },
 "nbformat": 4,
 "nbformat_minor": 4
}
