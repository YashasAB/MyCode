{
 "cells": [
  {
   "cell_type": "code",
   "execution_count": 36,
   "metadata": {},
   "outputs": [],
   "source": [
    "import argparse\n",
    "import sys\n",
    "\n",
    "import utils\n",
    "\n"
   ]
  },
  {
   "cell_type": "code",
   "execution_count": 33,
   "metadata": {},
   "outputs": [
    {
     "name": "stdout",
     "output_type": "stream",
     "text": [
      "ac\n"
     ]
    }
   ],
   "source": []
  },
  {
   "cell_type": "code",
   "execution_count": 2,
   "metadata": {},
   "outputs": [
    {
     "ename": "NameError",
     "evalue": "name 'args' is not defined",
     "output_type": "error",
     "traceback": [
      "\u001b[0;31m---------------------------------------------------------------------------\u001b[0m",
      "\u001b[0;31mNameError\u001b[0m                                 Traceback (most recent call last)",
      "\u001b[0;32m<ipython-input-2-9ffbeec1e761>\u001b[0m in \u001b[0;36m<module>\u001b[0;34m\u001b[0m\n\u001b[0;32m----> 1\u001b[0;31m \u001b[0mtrain\u001b[0m \u001b[0;34m=\u001b[0m \u001b[0mutils\u001b[0m\u001b[0;34m.\u001b[0m\u001b[0mload_dataset\u001b[0m\u001b[0;34m(\u001b[0m\u001b[0margs\u001b[0m\u001b[0;34m.\u001b[0m\u001b[0mtraining_file\u001b[0m\u001b[0;34m)\u001b[0m\u001b[0;34m\u001b[0m\u001b[0;34m\u001b[0m\u001b[0m\n\u001b[0m\u001b[1;32m      2\u001b[0m \u001b[0mtest\u001b[0m \u001b[0;34m=\u001b[0m \u001b[0mutils\u001b[0m\u001b[0;34m.\u001b[0m\u001b[0mload_dataset\u001b[0m\u001b[0;34m(\u001b[0m\u001b[0margs\u001b[0m\u001b[0;34m.\u001b[0m\u001b[0mtest_file\u001b[0m\u001b[0;34m)\u001b[0m\u001b[0;34m\u001b[0m\u001b[0;34m\u001b[0m\u001b[0m\n",
      "\u001b[0;31mNameError\u001b[0m: name 'args' is not defined"
     ]
    }
   ],
   "source": []
  },
  {
   "cell_type": "code",
   "execution_count": 1,
   "metadata": {},
   "outputs": [
    {
     "name": "stdout",
     "output_type": "stream",
     "text": [
      "Loading dataset...\n",
      "Loaded dataset\n",
      "\n",
      "Running baseline...\n",
      "Accuracy: 93.93%\n",
      "\tMultitags Accuracy: 90.29%\n",
      "\tUnseen words Accuracy: 69.70%\n",
      "\tTop K Wrong Word-Tag Predictions: [('to', {'IN': 2258, 'X': 2}), ('that', {'DET': 429, 'PRON': 304, 'ADV': 15}), ('as', {'IN': 28, 'ADV': 203}), ('more', {'ADJ': 177, 'NOUN': 13})]\n",
      "\tTop K Correct Word-Tag Predictions: [('the', {'DET': 13917}), (',', {'PERIOD': 11453}), ('.', {'PERIOD': 10100}), ('of', {'IN': 7056})]\n",
      "\n"
     ]
    }
   ],
   "source": [
    "%run mp4.py --train data/brown-training.txt --test data/brown-dev.txt --algorithm baseline"
   ]
  },
  {
   "cell_type": "code",
   "execution_count": 37,
   "metadata": {},
   "outputs": [],
   "source": [
    "x = Counter()"
   ]
  },
  {
   "cell_type": "code",
   "execution_count": null,
   "metadata": {},
   "outputs": [],
   "source": []
  },
  {
   "cell_type": "code",
   "execution_count": 3,
   "metadata": {},
   "outputs": [],
   "source": [
    "from collections import Counter\n",
    "class wcount: \n",
    "    \n",
    "    def __init__(self):\n",
    "        self.tags = Counter()\n",
    "        self.probs = {}\n",
    "    def addtag(self, tag):\n",
    "        \n",
    "        self.tags.update([tag])\n",
    "            \n",
    "    def maxtag(self):\n",
    "        x = self.tags.most_common(1)\n",
    "        return x[0][0]\n",
    "    \n",
    "    def ptype(self):\n",
    "        \n",
    "        tot = sum(self.tags.values())\n",
    "        for t in self.tags.keys():\n",
    "            self.probs[t] = self.tags[t]/tot"
   ]
  },
  {
   "cell_type": "code",
   "execution_count": 9,
   "metadata": {},
   "outputs": [
    {
     "name": "stdout",
     "output_type": "stream",
     "text": [
      "{'lol': 0.75, 'lullyl': 0.25}\n",
      "lol\n",
      "lullyl\n"
     ]
    }
   ],
   "source": [
    "a = wcount()\n",
    "a.addtag('lol')\n",
    "\n",
    "a.addtag('lol')\n",
    "a.addtag('lol')\n",
    "a.addtag('lullyl')\n",
    "\n",
    "b = wcount()\n",
    "b.addtag('lofrl')\n",
    "\n",
    "b.addtag('locccl')\n",
    "\n",
    "\n",
    "x= a.maxtag()\n",
    "\n",
    "w = 'lol'\n",
    "t = 'bb'\n",
    "\n",
    "out = []\n",
    "out.append((w,t))\n",
    "out.append((w,t))\n",
    "\n",
    "d = {}\n",
    "\n",
    "d['lol'] = a\n",
    "d['lel'] = b\n",
    "\n",
    "print(a.probs)\n",
    "\n",
    "for l in d.keys():\n",
    "    l.ptype()\n"
   ]
  },
  {
   "cell_type": "code",
   "execution_count": null,
   "metadata": {},
   "outputs": [],
   "source": []
  },
  {
   "cell_type": "code",
   "execution_count": null,
   "metadata": {},
   "outputs": [],
   "source": []
  }
 ],
 "metadata": {
  "kernelspec": {
   "display_name": "Python 3",
   "language": "python",
   "name": "python3"
  },
  "language_info": {
   "codemirror_mode": {
    "name": "ipython",
    "version": 3
   },
   "file_extension": ".py",
   "mimetype": "text/x-python",
   "name": "python",
   "nbconvert_exporter": "python",
   "pygments_lexer": "ipython3",
   "version": "3.8.5"
  }
 },
 "nbformat": 4,
 "nbformat_minor": 4
}
