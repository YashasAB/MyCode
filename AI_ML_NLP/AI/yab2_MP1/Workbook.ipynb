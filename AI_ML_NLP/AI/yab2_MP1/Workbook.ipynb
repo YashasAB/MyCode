{
 "cells": [
  {
   "cell_type": "code",
   "execution_count": null,
   "metadata": {},
   "outputs": [],
   "source": [
    "%run main.py --human data/part-1/medium\n",
    "\n"
   ]
  },
  {
   "cell_type": "code",
   "execution_count": 2,
   "metadata": {},
   "outputs": [],
   "source": [
    "from maze import maze"
   ]
  },
  {
   "cell_type": "code",
   "execution_count": 1,
   "metadata": {},
   "outputs": [
    {
     "name": "stdout",
     "output_type": "stream",
     "text": [
      "running in student mode (instructor key unavailable)\n",
      "9\n",
      "20\n",
      "69\n",
      "211\n",
      "55\n",
      "9\n",
      "0.00025200843811035156 time taken\n",
      "20\n",
      "0.00047016143798828125 time taken\n",
      "69\n",
      "0.0018138885498046875 time taken\n",
      "211\n",
      "0.004776954650878906 time taken\n",
      "55\n",
      "0.012623071670532227 time taken\n",
      "29\n",
      "0.0008881092071533203 time taken\n",
      "107\n",
      "0.0043697357177734375 time taken\n",
      "163\n",
      "0.005087137222290039 time taken\n",
      "28\n",
      "0.0015399456024169922 time taken\n",
      "0.0010852813720703125 time taken\n",
      "35\n",
      "0.002919912338256836 time taken\n",
      "0.002975940704345703 time taken\n",
      "169\n",
      "0.027137041091918945 time taken\n",
      "0.008424997329711914 time taken\n",
      "{'tests': ({'max_score': 2.0,\n",
      "            'name': \"part-1: `validate_path(_:)` for 'tiny' maze\",\n",
      "            'score': 2.0,\n",
      "            'visibility': 'visible'},\n",
      "           {'max_score': 2.0,\n",
      "            'name': \"part-1: correct path length for 'tiny' maze\",\n",
      "            'score': 2.0,\n",
      "            'visibility': 'visible'},\n",
      "           {'max_score': 2.0,\n",
      "            'name': \"part-1: `validate_path(_:)` for 'small' maze\",\n",
      "            'score': 2.0,\n",
      "            'visibility': 'visible'},\n",
      "           {'max_score': 2.0,\n",
      "            'name': \"part-1: correct path length for 'small' maze\",\n",
      "            'score': 2.0,\n",
      "            'visibility': 'visible'},\n",
      "           {'max_score': 2.0,\n",
      "            'name': \"part-1: `validate_path(_:)` for 'medium' maze\",\n",
      "            'score': 2.0,\n",
      "            'visibility': 'visible'},\n",
      "           {'max_score': 2.0,\n",
      "            'name': \"part-1: correct path length for 'medium' maze\",\n",
      "            'score': 2.0,\n",
      "            'visibility': 'visible'},\n",
      "           {'max_score': 2.0,\n",
      "            'name': \"part-1: `validate_path(_:)` for 'large' maze\",\n",
      "            'score': 2.0,\n",
      "            'visibility': 'visible'},\n",
      "           {'max_score': 2.0,\n",
      "            'name': \"part-1: correct path length for 'large' maze\",\n",
      "            'score': 2.0,\n",
      "            'visibility': 'visible'},\n",
      "           {'max_score': 2.0,\n",
      "            'name': \"part-1: `validate_path(_:)` for 'open' maze\",\n",
      "            'score': 2.0,\n",
      "            'visibility': 'visible'},\n",
      "           {'max_score': 2.0,\n",
      "            'name': \"part-1: correct path length for 'open' maze\",\n",
      "            'score': 2.0,\n",
      "            'visibility': 'visible'},\n",
      "           {'max_score': 2.0,\n",
      "            'name': \"part-2: `validate_path(_:)` for 'tiny' maze\",\n",
      "            'score': 2.0,\n",
      "            'visibility': 'visible'},\n",
      "           {'max_score': 2.0,\n",
      "            'name': \"part-2: correct path length for 'tiny' maze\",\n",
      "            'score': 2.0,\n",
      "            'visibility': 'visible'},\n",
      "           {'max_score': 2.0,\n",
      "            'name': \"part-2: `validate_path(_:)` for 'small' maze\",\n",
      "            'score': 2.0,\n",
      "            'visibility': 'visible'},\n",
      "           {'max_score': 2.0,\n",
      "            'name': \"part-2: correct path length for 'small' maze\",\n",
      "            'score': 2.0,\n",
      "            'visibility': 'visible'},\n",
      "           {'max_score': 2.0,\n",
      "            'name': \"part-2: `validate_path(_:)` for 'medium' maze\",\n",
      "            'score': 2.0,\n",
      "            'visibility': 'visible'},\n",
      "           {'max_score': 2.0,\n",
      "            'name': \"part-2: correct path length for 'medium' maze\",\n",
      "            'score': 2.0,\n",
      "            'visibility': 'visible'},\n",
      "           {'max_score': 2.0,\n",
      "            'name': \"part-2: `validate_path(_:)` for 'large' maze\",\n",
      "            'score': 2.0,\n",
      "            'visibility': 'visible'},\n",
      "           {'max_score': 2.0,\n",
      "            'name': \"part-2: correct path length for 'large' maze\",\n",
      "            'score': 2.0,\n",
      "            'visibility': 'visible'},\n",
      "           {'max_score': 2.0,\n",
      "            'name': \"part-2: `validate_path(_:)` for 'open' maze\",\n",
      "            'score': 2.0,\n",
      "            'visibility': 'visible'},\n",
      "           {'max_score': 2.0,\n",
      "            'name': \"part-2: correct path length for 'open' maze\",\n",
      "            'score': 2.0,\n",
      "            'visibility': 'visible'},\n",
      "           {'max_score': 5.0,\n",
      "            'name': \"part-3: `validate_path(_:)` for 'tiny' maze\",\n",
      "            'score': 5.0,\n",
      "            'visibility': 'visible'},\n",
      "           {'max_score': 5.0,\n",
      "            'name': \"part-3: correct path length for 'tiny' maze\",\n",
      "            'score': 0.0,\n",
      "            'visibility': 'visible'},\n",
      "           {'max_score': 5.0,\n",
      "            'name': \"part-3: `validate_path(_:)` for 'medium' maze\",\n",
      "            'score': 5.0,\n",
      "            'visibility': 'visible'},\n",
      "           {'max_score': 5.0,\n",
      "            'name': \"part-3: correct path length for 'medium' maze\",\n",
      "            'score': 5.0,\n",
      "            'visibility': 'visible'},\n",
      "           {'max_score': 5.0,\n",
      "            'name': \"part-3: `validate_path(_:)` for 'large' maze\",\n",
      "            'score': 5.0,\n",
      "            'visibility': 'visible'},\n",
      "           {'max_score': 5.0,\n",
      "            'name': \"part-3: correct path length for 'large' maze\",\n",
      "            'score': 5.0,\n",
      "            'visibility': 'visible'},\n",
      "           {'max_score': 5.0,\n",
      "            'name': \"part-4: `validate_path(_:)` for 'tiny' maze\",\n",
      "            'score': 5.0,\n",
      "            'visibility': 'visible'},\n",
      "           {'max_score': 5.0,\n",
      "            'name': \"part-4: correct path length for 'tiny' maze\",\n",
      "            'score': 0.0,\n",
      "            'visibility': 'visible'},\n",
      "           {'max_score': 5.0,\n",
      "            'name': \"part-4: `validate_path(_:)` for 'small' maze\",\n",
      "            'score': 5.0,\n",
      "            'visibility': 'visible'},\n",
      "           {'max_score': 5.0,\n",
      "            'name': \"part-4: correct path length for 'small' maze\",\n",
      "            'score': 5.0,\n",
      "            'visibility': 'visible'},\n",
      "           {'max_score': 5.0,\n",
      "            'name': \"part-4: `validate_path(_:)` for 'medium' maze\",\n",
      "            'score': 5.0,\n",
      "            'visibility': 'visible'},\n",
      "           {'max_score': 5.0,\n",
      "            'name': \"part-4: correct path length for 'medium' maze\",\n",
      "            'score': 0.0,\n",
      "            'visibility': 'visible'}),\n",
      " 'visibility': 'visible'}\n"
     ]
    }
   ],
   "source": [
    "%run grade.py"
   ]
  },
  {
   "cell_type": "code",
   "execution_count": null,
   "metadata": {},
   "outputs": [],
   "source": []
  },
  {
   "cell_type": "code",
   "execution_count": 3,
   "metadata": {},
   "outputs": [
    {
     "name": "stdout",
     "output_type": "stream",
     "text": [
      "0\n",
      "1\n"
     ]
    }
   ],
   "source": [
    "for i in range(0,2):\n",
    "    print(i)"
   ]
  },
  {
   "cell_type": "code",
   "execution_count": 1,
   "metadata": {},
   "outputs": [
    {
     "name": "stdout",
     "output_type": "stream",
     "text": [
      "pygame 2.0.1 (SDL 2.0.14, Python 3.8.5)\n",
      "Hello from the pygame community. https://www.pygame.org/contribute.html\n",
      "\n",
      "Results \n",
      "{\n",
      "    path length         : 8\n",
      "    states explored     : 15\n",
      "    total execution time: 0.00 seconds\n",
      "}\n",
      "            \n"
     ]
    }
   ],
   "source": [
    "%run main.py data/part-1/tiny --search bfs"
   ]
  },
  {
   "cell_type": "code",
   "execution_count": 20,
   "metadata": {},
   "outputs": [],
   "source": [
    "from collections import deque\n",
    "from collections import namedtuple"
   ]
  },
  {
   "cell_type": "code",
   "execution_count": 42,
   "metadata": {},
   "outputs": [],
   "source": [
    "\n",
    "d = {}\n",
    "a= (1,2)\n",
    "b=(3,5)\n",
    "lok = namedtuple('lok',['parent','dist'])\n",
    "\n",
    "x=lok((1,2),10)\n",
    "y=lok((3,5),6)\n",
    "\n",
    "\n",
    "lol= deque()\n",
    "lol.append(a)\n",
    "lol.append(b)\n"
   ]
  },
  {
   "cell_type": "code",
   "execution_count": 43,
   "metadata": {},
   "outputs": [
    {
     "name": "stdout",
     "output_type": "stream",
     "text": [
      "deque([(1, 2), (3, 5)])\n",
      "deque([(1, 2)])\n",
      "1\n"
     ]
    }
   ],
   "source": [
    "d[a]=x\n",
    "d[b]=y\n",
    "\n",
    "h=[]\n",
    "\n",
    "for p in lol:\n",
    "    heapq.heappush(h,(d[p].dist, d[p].parent))\n",
    "print(lol)    \n",
    "z=heapq.heappop(h)[1]\n",
    "lol.remove(z)\n",
    "print(lol)\n",
    "print(len(lol))"
   ]
  },
  {
   "cell_type": "code",
   "execution_count": 34,
   "metadata": {},
   "outputs": [
    {
     "name": "stdout",
     "output_type": "stream",
     "text": [
      "lok(parent=(5, 6), dist=10)\n",
      "lok(parent=(8, 9), dist=8)\n"
     ]
    }
   ],
   "source": [
    "print(d[(1,2)])\n",
    "currparent= (8,9)\n",
    "currdist =8\n",
    "if ((1,2) in d):\n",
    "    if(d[a].dist > currdist):\n",
    "        d[a]=d[a]._replace(parent= currparent)\n",
    "        d[a]=d[a]._replace(dist= currdist)\n",
    "        print(d[a])"
   ]
  },
  {
   "cell_type": "code",
   "execution_count": null,
   "metadata": {},
   "outputs": [],
   "source": [
    "#  function to update location of new route to an indice when shorter one is found\n",
    "# assume 2 can navigate to 10 with one step\n",
    "\n",
    "def updatedict([[x,y],dist], dic):\n",
    "    for v in dic:\n",
    "        if (v=="
   ]
  },
  {
   "cell_type": "code",
   "execution_count": 8,
   "metadata": {},
   "outputs": [],
   "source": [
    "import heapq"
   ]
  },
  {
   "cell_type": "code",
   "execution_count": 12,
   "metadata": {},
   "outputs": [],
   "source": [
    "h=[]\n",
    "heapq.heappush(h, (40, (3,4)))\n",
    "heapq.heappush(h, (20, (8,9)))\n",
    "heapq.heappush(h, (4, (8,10)))"
   ]
  },
  {
   "cell_type": "code",
   "execution_count": 13,
   "metadata": {},
   "outputs": [
    {
     "name": "stdout",
     "output_type": "stream",
     "text": [
      "(8, 10)\n"
     ]
    }
   ],
   "source": [
    "print(heapq.heappop(h)[1])"
   ]
  },
  {
   "cell_type": "code",
   "execution_count": 17,
   "metadata": {},
   "outputs": [
    {
     "data": {
      "text/plain": [
       "1"
      ]
     },
     "execution_count": 17,
     "metadata": {},
     "output_type": "execute_result"
    }
   ],
   "source": [
    "abs(3-2)"
   ]
  },
  {
   "cell_type": "code",
   "execution_count": 1,
   "metadata": {},
   "outputs": [
    {
     "name": "stdout",
     "output_type": "stream",
     "text": [
      "3\n"
     ]
    }
   ],
   "source": [
    "ab= [1,2,3]\n",
    "\n",
    "lol = ab.pop()\n",
    "print(lol)"
   ]
  },
  {
   "cell_type": "code",
   "execution_count": null,
   "metadata": {},
   "outputs": [
    {
     "name": "stdout",
     "output_type": "stream",
     "text": [
      "0.005012989044189453 time taken\n",
      "\n",
      "Results \n",
      "{\n",
      "    path length         : 211\n",
      "    states explored     : 547\n",
      "    total execution time: 0.01 seconds\n",
      "}\n",
      "            \n"
     ]
    }
   ],
   "source": [
    "%run main.py data/part-2/large --search astar_single"
   ]
  },
  {
   "cell_type": "code",
   "execution_count": 3,
   "metadata": {},
   "outputs": [],
   "source": [
    "import heapq"
   ]
  },
  {
   "cell_type": "code",
   "execution_count": 6,
   "metadata": {},
   "outputs": [],
   "source": []
  },
  {
   "cell_type": "code",
   "execution_count": 16,
   "metadata": {},
   "outputs": [
    {
     "data": {
      "text/plain": [
       "4"
      ]
     },
     "execution_count": 16,
     "metadata": {},
     "output_type": "execute_result"
    }
   ],
   "source": [
    "rem = [(1,1),(2,1), (1,2), (3,2)]\n",
    "findMST(rem)"
   ]
  },
  {
   "cell_type": "code",
   "execution_count": 18,
   "metadata": {},
   "outputs": [],
   "source": [
    "import heapq\n",
    "def closestwaypoint(pt,remaining):\n",
    "    h=[]\n",
    "    for r in remaining:\n",
    "        heapq.heappush(h,(abs(pt[0]-r[0])+abs(pt[1]-r[1]), r))\n",
    "    return heapq.heappop(h)[1]\n",
    "        "
   ]
  },
  {
   "cell_type": "code",
   "execution_count": 19,
   "metadata": {},
   "outputs": [
    {
     "name": "stdout",
     "output_type": "stream",
     "text": [
      "lol\n"
     ]
    },
    {
     "data": {
      "text/plain": [
       "(1, 1)"
      ]
     },
     "execution_count": 19,
     "metadata": {},
     "output_type": "execute_result"
    }
   ],
   "source": [
    "rem = [(1,1),(2,1), (1,2), (3,2)]\n",
    "if (1,2) in rem:\n",
    "    print(\"lol\")\n",
    "\n",
    "closestwaypoint((0,0),rem)"
   ]
  },
  {
   "cell_type": "code",
   "execution_count": null,
   "metadata": {},
   "outputs": [],
   "source": []
  },
  {
   "cell_type": "code",
   "execution_count": 1,
   "metadata": {},
   "outputs": [
    {
     "name": "stdout",
     "output_type": "stream",
     "text": [
      "pygame 2.0.1 (SDL 2.0.14, Python 3.8.5)\n",
      "Hello from the pygame community. https://www.pygame.org/contribute.html\n"
     ]
    },
    {
     "ename": "TypeError",
     "evalue": "unsupported operand type(s) for +: 'int' and 'tuple'",
     "output_type": "error",
     "traceback": [
      "\u001b[0;31m---------------------------------------------------------------------------\u001b[0m",
      "\u001b[0;31mTypeError\u001b[0m                                 Traceback (most recent call last)",
      "\u001b[0;32m~/Documents/spring2021/AI/yab2_MP1/main.py\u001b[0m in \u001b[0;36m<module>\u001b[0;34m\u001b[0m\n\u001b[1;32m    198\u001b[0m     \u001b[0marguments\u001b[0m   \u001b[0;34m=\u001b[0m \u001b[0mparser\u001b[0m\u001b[0;34m.\u001b[0m\u001b[0mparse_args\u001b[0m\u001b[0;34m(\u001b[0m\u001b[0;34m)\u001b[0m\u001b[0;34m\u001b[0m\u001b[0;34m\u001b[0m\u001b[0m\n\u001b[1;32m    199\u001b[0m     \u001b[0mapplication\u001b[0m \u001b[0;34m=\u001b[0m \u001b[0mApplication\u001b[0m\u001b[0;34m(\u001b[0m\u001b[0marguments\u001b[0m\u001b[0;34m.\u001b[0m\u001b[0mhuman\u001b[0m\u001b[0;34m,\u001b[0m \u001b[0marguments\u001b[0m\u001b[0;34m.\u001b[0m\u001b[0mscale\u001b[0m\u001b[0;34m,\u001b[0m \u001b[0marguments\u001b[0m\u001b[0;34m.\u001b[0m\u001b[0mfps\u001b[0m\u001b[0;34m,\u001b[0m \u001b[0marguments\u001b[0m\u001b[0;34m.\u001b[0m\u001b[0maltcolor\u001b[0m\u001b[0;34m)\u001b[0m\u001b[0;34m\u001b[0m\u001b[0;34m\u001b[0m\u001b[0m\n\u001b[0;32m--> 200\u001b[0;31m     application.run(\n\u001b[0m\u001b[1;32m    201\u001b[0m         \u001b[0mfilepath\u001b[0m    \u001b[0;34m=\u001b[0m \u001b[0marguments\u001b[0m\u001b[0;34m.\u001b[0m\u001b[0mpath\u001b[0m\u001b[0;34m,\u001b[0m\u001b[0;34m\u001b[0m\u001b[0;34m\u001b[0m\u001b[0m\n\u001b[1;32m    202\u001b[0m         \u001b[0mmode\u001b[0m        \u001b[0;34m=\u001b[0m \u001b[0marguments\u001b[0m\u001b[0;34m.\u001b[0m\u001b[0msearch\u001b[0m\u001b[0;34m,\u001b[0m\u001b[0;34m\u001b[0m\u001b[0;34m\u001b[0m\u001b[0m\n",
      "\u001b[0;32m~/Documents/spring2021/AI/yab2_MP1/main.py\u001b[0m in \u001b[0;36mrun\u001b[0;34m(self, filepath, mode, save)\u001b[0m\n\u001b[1;32m     74\u001b[0m             \u001b[0mtime_start\u001b[0m      \u001b[0;34m=\u001b[0m \u001b[0mtime\u001b[0m\u001b[0;34m.\u001b[0m\u001b[0mtime\u001b[0m\u001b[0;34m(\u001b[0m\u001b[0;34m)\u001b[0m\u001b[0;34m\u001b[0m\u001b[0;34m\u001b[0m\u001b[0m\n\u001b[1;32m     75\u001b[0m \u001b[0;34m\u001b[0m\u001b[0m\n\u001b[0;32m---> 76\u001b[0;31m             \u001b[0mpath\u001b[0m            \u001b[0;34m=\u001b[0m \u001b[0mgetattr\u001b[0m\u001b[0;34m(\u001b[0m\u001b[0msearch\u001b[0m\u001b[0;34m,\u001b[0m \u001b[0mmode\u001b[0m\u001b[0;34m)\u001b[0m\u001b[0;34m(\u001b[0m\u001b[0mself\u001b[0m\u001b[0;34m.\u001b[0m\u001b[0mmaze\u001b[0m\u001b[0;34m)\u001b[0m\u001b[0;34m\u001b[0m\u001b[0;34m\u001b[0m\u001b[0m\n\u001b[0m\u001b[1;32m     77\u001b[0m             \u001b[0mstates_explored\u001b[0m \u001b[0;34m=\u001b[0m \u001b[0mself\u001b[0m\u001b[0;34m.\u001b[0m\u001b[0mmaze\u001b[0m\u001b[0;34m.\u001b[0m\u001b[0mstates_explored\u001b[0m\u001b[0;34m\u001b[0m\u001b[0;34m\u001b[0m\u001b[0m\n\u001b[1;32m     78\u001b[0m \u001b[0;34m\u001b[0m\u001b[0m\n",
      "\u001b[0;32m~/Documents/spring2021/AI/yab2_MP1/search.py\u001b[0m in \u001b[0;36mastar_multiple\u001b[0;34m(maze)\u001b[0m\n\u001b[1;32m    348\u001b[0m \u001b[0;31m#     else:\u001b[0m\u001b[0;34m\u001b[0m\u001b[0;34m\u001b[0m\u001b[0;34m\u001b[0m\u001b[0m\n\u001b[1;32m    349\u001b[0m \u001b[0;31m#         return far\u001b[0m\u001b[0;34m\u001b[0m\u001b[0;34m\u001b[0m\u001b[0;34m\u001b[0m\u001b[0m\n\u001b[0;32m--> 350\u001b[0;31m     \u001b[0;32mreturn\u001b[0m \u001b[0mastar_final\u001b[0m\u001b[0;34m(\u001b[0m\u001b[0mmaze\u001b[0m\u001b[0;34m)\u001b[0m\u001b[0;34m\u001b[0m\u001b[0;34m\u001b[0m\u001b[0m\n\u001b[0m\u001b[1;32m    351\u001b[0m \u001b[0;34m\u001b[0m\u001b[0m\n\u001b[1;32m    352\u001b[0m \u001b[0;32mdef\u001b[0m \u001b[0mfast\u001b[0m\u001b[0;34m(\u001b[0m\u001b[0mmaze\u001b[0m\u001b[0;34m)\u001b[0m\u001b[0;34m:\u001b[0m\u001b[0;34m\u001b[0m\u001b[0;34m\u001b[0m\u001b[0m\n",
      "\u001b[0;32m~/Documents/spring2021/AI/yab2_MP1/search.py\u001b[0m in \u001b[0;36mastar_final\u001b[0;34m(maze)\u001b[0m\n\u001b[1;32m    767\u001b[0m \u001b[0;34m\u001b[0m\u001b[0m\n\u001b[1;32m    768\u001b[0m             \u001b[0;32mif\u001b[0m\u001b[0;34m(\u001b[0m\u001b[0mlen\u001b[0m\u001b[0;34m(\u001b[0m\u001b[0mobjectives\u001b[0m\u001b[0;34m)\u001b[0m\u001b[0;34m>\u001b[0m\u001b[0;36m1\u001b[0m\u001b[0;34m)\u001b[0m\u001b[0;34m:\u001b[0m\u001b[0;34m\u001b[0m\u001b[0;34m\u001b[0m\u001b[0m\n\u001b[0;32m--> 769\u001b[0;31m                 \u001b[0mfar\u001b[0m \u001b[0;34m=\u001b[0m \u001b[0mheucalc\u001b[0m\u001b[0;34m(\u001b[0m\u001b[0mkids\u001b[0m\u001b[0;34m[\u001b[0m\u001b[0mi\u001b[0m\u001b[0;34m]\u001b[0m\u001b[0;34m,\u001b[0m \u001b[0mdaddist\u001b[0m\u001b[0;34m,\u001b[0m \u001b[0mobjectives\u001b[0m\u001b[0;34m)\u001b[0m\u001b[0;34m\u001b[0m\u001b[0;34m\u001b[0m\u001b[0m\n\u001b[0m\u001b[1;32m    770\u001b[0m             \u001b[0;32melse\u001b[0m\u001b[0;34m:\u001b[0m\u001b[0;34m\u001b[0m\u001b[0;34m\u001b[0m\u001b[0m\n\u001b[1;32m    771\u001b[0m                 \u001b[0mfar\u001b[0m \u001b[0;34m=\u001b[0m \u001b[0mabs\u001b[0m\u001b[0;34m(\u001b[0m\u001b[0mobjectives\u001b[0m\u001b[0;34m[\u001b[0m\u001b[0;36m0\u001b[0m\u001b[0;34m]\u001b[0m\u001b[0;34m[\u001b[0m\u001b[0;36m0\u001b[0m\u001b[0;34m]\u001b[0m \u001b[0;34m-\u001b[0m \u001b[0mkids\u001b[0m\u001b[0;34m[\u001b[0m\u001b[0mi\u001b[0m\u001b[0;34m]\u001b[0m\u001b[0;34m[\u001b[0m\u001b[0;36m0\u001b[0m\u001b[0;34m]\u001b[0m\u001b[0;34m)\u001b[0m\u001b[0;34m+\u001b[0m\u001b[0mabs\u001b[0m\u001b[0;34m(\u001b[0m\u001b[0mobjectives\u001b[0m\u001b[0;34m[\u001b[0m\u001b[0;36m0\u001b[0m\u001b[0;34m]\u001b[0m\u001b[0;34m[\u001b[0m\u001b[0;36m1\u001b[0m\u001b[0;34m]\u001b[0m \u001b[0;34m-\u001b[0m \u001b[0mkids\u001b[0m\u001b[0;34m[\u001b[0m\u001b[0mi\u001b[0m\u001b[0;34m]\u001b[0m\u001b[0;34m[\u001b[0m\u001b[0;36m1\u001b[0m\u001b[0;34m]\u001b[0m\u001b[0;34m)\u001b[0m\u001b[0;34m\u001b[0m\u001b[0;34m\u001b[0m\u001b[0m\n",
      "\u001b[0;32m~/Documents/spring2021/AI/yab2_MP1/search.py\u001b[0m in \u001b[0;36mheucalc\u001b[0;34m(pt, distdict, remaining)\u001b[0m\n\u001b[1;32m    701\u001b[0m             \u001b[0;32melse\u001b[0m\u001b[0;34m:\u001b[0m\u001b[0;34m\u001b[0m\u001b[0;34m\u001b[0m\u001b[0m\n\u001b[1;32m    702\u001b[0m                 \u001b[0mtempmst\u001b[0m \u001b[0;34m=\u001b[0m \u001b[0mfindMST\u001b[0m\u001b[0;34m(\u001b[0m\u001b[0mtemp\u001b[0m\u001b[0;34m)\u001b[0m\u001b[0;34m\u001b[0m\u001b[0;34m\u001b[0m\u001b[0m\n\u001b[0;32m--> 703\u001b[0;31m             \u001b[0mheu\u001b[0m \u001b[0;34m=\u001b[0m \u001b[0mtempmst\u001b[0m \u001b[0;34m-\u001b[0m \u001b[0mfarthest\u001b[0m\u001b[0;34m(\u001b[0m\u001b[0mpt\u001b[0m\u001b[0;34m,\u001b[0m \u001b[0mtemp\u001b[0m\u001b[0;34m)\u001b[0m \u001b[0;34m+\u001b[0m \u001b[0mclosestwaypoint\u001b[0m\u001b[0;34m(\u001b[0m\u001b[0mpt\u001b[0m\u001b[0;34m,\u001b[0m\u001b[0mtemp\u001b[0m\u001b[0;34m)\u001b[0m\u001b[0;34m\u001b[0m\u001b[0;34m\u001b[0m\u001b[0m\n\u001b[0m\u001b[1;32m    704\u001b[0m \u001b[0;34m\u001b[0m\u001b[0m\n\u001b[1;32m    705\u001b[0m         \u001b[0;32melse\u001b[0m\u001b[0;34m:\u001b[0m\u001b[0;34m\u001b[0m\u001b[0;34m\u001b[0m\u001b[0m\n",
      "\u001b[0;31mTypeError\u001b[0m: unsupported operand type(s) for +: 'int' and 'tuple'"
     ]
    }
   ],
   "source": [
    "%run main.py data/part-3/tiny --search astar_multiple"
   ]
  },
  {
   "cell_type": "code",
   "execution_count": 2,
   "metadata": {},
   "outputs": [
    {
     "name": "stdout",
     "output_type": "stream",
     "text": [
      "[(1, 1), (8, 8), (2, 2)]\n",
      "[(3, 3), (1, 1), (8, 8), (2, 2)]\n"
     ]
    }
   ],
   "source": [
    "a=[(1,1),(8,8)]\n",
    "a.append((2,2))\n",
    "b=[(3,3)]\n",
    "print(a)\n",
    "b.extend(a)\n",
    "print(b)"
   ]
  },
  {
   "cell_type": "code",
   "execution_count": 1,
   "metadata": {},
   "outputs": [
    {
     "name": "stdout",
     "output_type": "stream",
     "text": [
      "(2, 2)\n"
     ]
    }
   ],
   "source": [
    "from collections import deque\n",
    "ab = deque()\n",
    "ab.append((2,2))\n",
    "print(ab[0])\n",
    "\n",
    "daddist={}\n",
    "daddist[(6,6)]=2\n",
    "daddist[(5,5)]=5\n",
    "daddist[(4,4)]=4\n",
    "\n",
    "rem = [(6,6), (5,5), (4,4)]"
   ]
  },
  {
   "cell_type": "code",
   "execution_count": 2,
   "metadata": {},
   "outputs": [],
   "source": [
    "import heapq\n",
    "def farthest(pt,remaining):\n",
    "    h=[]\n",
    "    for r in remaining:\n",
    "        heapq.heappush(h,(abs(pt[0]-r[0])+abs(pt[1]-r[1]), r))\n",
    "    while(len(h)>1):\n",
    "        heapq.heappop(h)\n",
    "    lol = heapq.heappop(h)[0]  \n",
    "    return lol\n",
    "\n",
    "def farwaypoint(pt, distdict, remaining):\n",
    "    near={}\n",
    "    for r in remaining:\n",
    "        objdist = abs(r[0]-pt[0])+abs(r[1]-pt[1])\n",
    "        if(objdist < distdict[r]):\n",
    "            near[r] = objdist\n",
    "    if(len(near)==0):\n",
    "        return farthest(pt, remaining)\n",
    "    else:\n",
    "        maxobj = max(near.values()) \n",
    "        print(maxobj)\n",
    "        return maxobj\n",
    "    "
   ]
  },
  {
   "cell_type": "code",
   "execution_count": 3,
   "metadata": {},
   "outputs": [
    {
     "name": "stdout",
     "output_type": "stream",
     "text": [
      "10\n"
     ]
    }
   ],
   "source": [
    "lol=farwaypoint((1,1),daddist, rem)\n",
    "lul = farthest((1,1), rem)\n",
    "print(lul)"
   ]
  },
  {
   "cell_type": "code",
   "execution_count": null,
   "metadata": {},
   "outputs": [],
   "source": []
  },
  {
   "cell_type": "code",
   "execution_count": 36,
   "metadata": {},
   "outputs": [],
   "source": [
    "ab =[1,2,3,4,5,7,8,7,9,7,8, 4, 3, 2, 0, 3,4,2,8,7,8,7,9,7,8, 6, 3,4]"
   ]
  },
  {
   "cell_type": "code",
   "execution_count": 38,
   "metadata": {},
   "outputs": [],
   "source": [
    "def editpath(path):\n",
    "    changeind=[]\n",
    "    for i in range(0,len(path)-5):\n",
    "        x = path[i]\n",
    "        if(x==path[i+2] & x==path[i+4]):\n",
    "            if(path[i+1]==path[i+5]):\n",
    "                changeind.append(i)\n",
    "                \n",
    "    if(len(changeind)==0):\n",
    "        return path\n",
    "                \n",
    "    if len(changeind)>0:\n",
    "        changed = []\n",
    "        i=0\n",
    "        while (i < len(path)):\n",
    "            if i not in changeind:\n",
    "                changed.append(path[i])\n",
    "                i=i+1\n",
    "            else:\n",
    "                changed.append(path[i])\n",
    "                changed.append(path[i+3])\n",
    "                changed.append(path[i])\n",
    "                changed.append(path[i+1])\n",
    "                changeind.remove(i)\n",
    "                i=i+6\n",
    "        return changed\n",
    "    \n",
    "   "
   ]
  },
  {
   "cell_type": "code",
   "execution_count": 39,
   "metadata": {},
   "outputs": [
    {
     "name": "stdout",
     "output_type": "stream",
     "text": [
      "[1, 2, 3, 4, 5, 7, 8, 7, 9, 7, 8, 4, 3, 2, 0, 3, 4, 2, 8, 7, 8, 7, 9, 7, 8, 6, 3, 4]\n",
      "[4, 5, 3, 2, 4, 5]\n"
     ]
    }
   ],
   "source": [
    "editpath(ab)\n",
    "print(ab)\n",
    "bc = [4,5,3,2,4,5]\n",
    "print(editpath(bc))"
   ]
  },
  {
   "cell_type": "code",
   "execution_count": 23,
   "metadata": {},
   "outputs": [
    {
     "name": "stdout",
     "output_type": "stream",
     "text": [
      "[(2, 1), (4, 4)]\n"
     ]
    }
   ],
   "source": [
    "lol=[(4,4), (2,1)]\n",
    "ss=[]\n",
    "ss.append(lol[1])\n",
    "ss.append(lol[0])\n",
    "print(ss)"
   ]
  },
  {
   "cell_type": "code",
   "execution_count": 28,
   "metadata": {},
   "outputs": [],
   "source": [
    "import heapq\n",
    "objectives= [(1, 1), (1, 13), (1, 14), (1, 15), (1, 18), (2, 1), (2, 4), (2, 7), (2, 10), (2, 13), (2, 18), (3, 6), (3, 7), (3, 8), (3, 9), (3, 10), (3, 18)]\n",
    "pt = (1,15)\n",
    "\n",
    "daddist = {(1, 1): 15, (1, 13): 3, (1, 14): 2, (1, 15): 1, (1, 18): 2, (2, 1): 16, (2, 4): 13, (2, 7): 10, (2, 10): 7, (2, 13): 4, (2, 18): 3, (3, 6): 12, (3, 7): 11, (3, 8): 10, (3, 9): 9, (3, 10): 8, (3, 18): 4}"
   ]
  },
  {
   "cell_type": "code",
   "execution_count": 29,
   "metadata": {},
   "outputs": [],
   "source": [
    "def heucalc(pt, distdict, remaining):\n",
    "    near={}\n",
    "    if(len(remaining)>1):\n",
    "        for r in remaining:\n",
    "            objdist = abs(r[0]-pt[0])+abs(r[1]-pt[1])\n",
    "            if(objdist < distdict[r]):\n",
    "                temp =[]\n",
    "                temp.extend(remaining)\n",
    "                temp.remove(r)\n",
    "                if(len(temp)>1):\n",
    "                    tempmst=findMST(temp)\n",
    "                else:\n",
    "                    tempmst = 0\n",
    "                \n",
    "                near[r] = objdist + tempmst\n",
    "        \n",
    "        if(len(near)==0):\n",
    "            return findMST(remaining)+50\n",
    "        else:\n",
    "            print(near)\n",
    "            maxobj = min(near.values()) \n",
    "            \n",
    "            return maxobj\n",
    "    else:\n",
    "        return abs(remaining[0][0]-pt[0])+abs(remaining[0][1]-pt[1])"
   ]
  },
  {
   "cell_type": "code",
   "execution_count": 30,
   "metadata": {},
   "outputs": [
    {
     "name": "stdout",
     "output_type": "stream",
     "text": [
      "{(1, 1): 37, (1, 13): 26, (1, 14): 25, (1, 15): 24, (2, 1): 39, (2, 4): 36, (2, 7): 32, (2, 10): 30, (2, 13): 27, (3, 6): 34, (3, 7): 35, (3, 8): 33, (3, 9): 32, (3, 10): 31}\n",
      "24\n"
     ]
    }
   ],
   "source": [
    "ab = heucalc(pt,daddist, objectives)\n",
    "print(ab)"
   ]
  },
  {
   "cell_type": "code",
   "execution_count": null,
   "metadata": {},
   "outputs": [],
   "source": []
  },
  {
   "cell_type": "code",
   "execution_count": 47,
   "metadata": {},
   "outputs": [],
   "source": [
    "def findMST(rema):\n",
    "    ##first compute all edges\n",
    "    remaining=[]\n",
    "    remaining.extend(rema)\n",
    "    h=[]\n",
    "    vertices = len(remaining)\n",
    "    while(len(remaining)>1):\n",
    "        edge = remaining.pop()\n",
    "        for e in remaining:\n",
    "            d = abs(e[0] - edge[0])+abs(e[1] - edge[1])\n",
    "            heapq.heappush(h, (d, [edge,e]))\n",
    "    \n",
    "    mstree = []\n",
    "    \n",
    "    cost = 0\n",
    "    x=heapq.heappop(h)\n",
    "    mstree.append(x[1])\n",
    "    cost = cost+x[0]\n",
    "    while(len(mstree[0])!= vertices):\n",
    "        \n",
    "        edge = heapq.heappop(h)\n",
    "#         print(edge)\n",
    "        x = edge[1][0]\n",
    "        y = edge[1][1]\n",
    "        c = edge[0]\n",
    "        mergey=0\n",
    "        mergex=0\n",
    "        xtree=[]\n",
    "        ytree=[]\n",
    "        discard = 0\n",
    "        for t in mstree:\n",
    "            \n",
    "            if(x in t and y not in t):     \n",
    "                xtree.extend(t) \n",
    "                mergex=1\n",
    "                \n",
    "            elif(y in t and x not in t):\n",
    "                ytree.extend(t)\n",
    "                mergey=1\n",
    "                print(\"t is = \", t, \"y is = \" ,y,\"x is = \" ,x, \"mstree = \",mstree)\n",
    "            elif(y in t and x in t):\n",
    "                discard = 1\n",
    "        if(discard!=1):\n",
    "            if(mergex ==1 and mergey == 1):\n",
    "                mstree.remove(xtree)\n",
    "                mstree.remove(ytree)\n",
    "                xtree.extend(ytree)\n",
    "                mstree.append(xtree)\n",
    "                cost = cost + c\n",
    "            elif(mergex==1 and mergey==0):\n",
    "                mstree.remove(xtree)\n",
    "                xtree.append(y)\n",
    "                mstree.append(xtree)\n",
    "                cost = cost + c\n",
    "            elif(mergex==0 and mergey ==1):\n",
    "                mstree.remove(ytree)\n",
    "                ytree.append(x)\n",
    "                mstree.append(ytree)\n",
    "           \n",
    "                cost = cost + c\n",
    "            elif(mergex==0 and mergey==0):\n",
    "                mstree.append([x,y])\n",
    "                cost = cost +c\n",
    "    print(mstree)       \n",
    "    return cost"
   ]
  },
  {
   "cell_type": "code",
   "execution_count": null,
   "metadata": {},
   "outputs": [],
   "source": []
  },
  {
   "cell_type": "code",
   "execution_count": 3,
   "metadata": {},
   "outputs": [
    {
     "name": "stdout",
     "output_type": "stream",
     "text": [
      "(-10, 'lo00l')\n"
     ]
    }
   ],
   "source": [
    "import heapq\n",
    "ab = [(1, 1), (1, 6), (6, 1), (6, 6)]\n",
    "\n",
    "\n",
    "h=[]\n",
    "heapq.heappush(h,(-5, \"lol\"))\n",
    "\n",
    "heapq.heappush(h,(-10, \"lo00l\"))\n",
    "\n",
    "heapq.heappush(h,(2, \"l88ol\"))\n",
    "\n",
    "heapq.heappush(h,(0, \"l99ol\"))\n",
    "\n",
    "b = heapq.heappop(h)\n",
    "print(b)\n"
   ]
  },
  {
   "cell_type": "code",
   "execution_count": null,
   "metadata": {},
   "outputs": [],
   "source": []
  }
 ],
 "metadata": {
  "kernelspec": {
   "display_name": "Python 3",
   "language": "python",
   "name": "python3"
  },
  "language_info": {
   "codemirror_mode": {
    "name": "ipython",
    "version": 3
   },
   "file_extension": ".py",
   "mimetype": "text/x-python",
   "name": "python",
   "nbconvert_exporter": "python",
   "pygments_lexer": "ipython3",
   "version": "3.8.5"
  }
 },
 "nbformat": 4,
 "nbformat_minor": 4
}
